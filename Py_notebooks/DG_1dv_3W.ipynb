{
 "cells": [
  {
   "cell_type": "code",
   "execution_count": 1,
   "metadata": {
    "ExecuteTime": {
     "end_time": "2024-02-01T04:36:14.473505Z",
     "start_time": "2024-02-01T04:36:13.685666Z"
    },
    "collapsed": false,
    "jupyter": {
     "outputs_hidden": false
    }
   },
   "outputs": [
    {
     "name": "stdout",
     "output_type": "stream",
     "text": [
      "/usr/bin/xcrun\n",
      "/Users/anatolii-sorokin/Documents/Projects/neuro-trafic\n",
      "Mod files: \"./h.mod\" \"./kadist.mod\" \"./kaprox.mod\" \"./kdrca1.mod\" \"./km.mod\" \"./na3n.mod\" \"./naxn.mod\"\n",
      "\n",
      " -> \u001b[32mCompiling\u001b[0m mod_func.cpp\n",
      " => \u001b[32mLINKING\u001b[0m shared library ./libnrnmech.dylib\n",
      "Successfully created arm64/special\n"
     ]
    }
   ],
   "source": [
    "%%bash\n",
    "nrnivmodl"
   ]
  },
  {
   "cell_type": "code",
   "execution_count": 2,
   "metadata": {
    "ExecuteTime": {
     "end_time": "2024-02-01T04:36:17.107428Z",
     "start_time": "2024-02-01T04:36:17.087940Z"
    },
    "collapsed": false,
    "jupyter": {
     "outputs_hidden": false
    }
   },
   "outputs": [],
   "source": [
    "# Download NEURON: http://www.neuron.yale.edu/neuron/download\n",
    "# Download PyNeuronToolbox: https://github.com/ahwillia/PyNeuron-Toolbox\n",
    "\n",
    "from neuron import h\n",
    "import numpy as np\n",
    "import math\n",
    "import pylab as plt\n",
    "import scipy.linalg\n",
    "from PyNeuronToolbox.record import ez_record,ez_convert\n",
    "#from PyNeuronToolbox import neuromorpho,morphology\n",
    "from PyNeuronToolbox.morphology import shapeplot,shapeplot_animate,load\n",
    "from mpl_toolkits.mplot3d import Axes3D\n",
    "from JSAnimation import IPython_display\n",
    "from matplotlib import animation\n",
    "from matplotlib.pyplot import cm\n",
    "%matplotlib inline\n",
    "np.random.seed(123456789)\n",
    "\n",
    "import re\n",
    "import pandas as pd\n",
    "\n",
    "DC = 10 # diffusion coeff [microns^2 s^-1]\n",
    "\n",
    "cellname = 'dgyrus'\n",
    "#cellname = 'granule'\n",
    "#neuromorpho.download('041015-vehicle1', filename=cellname+'_morph.swc')\n",
    "#cell = morphology.load(cellname+'_morph.swc',use_axon=False)\n",
    "#cell = load(cellname+'_morph.swc',use_axon=False)\n"
   ]
  },
  {
   "cell_type": "code",
   "execution_count": 3,
   "metadata": {},
   "outputs": [
    {
     "name": "stderr",
     "output_type": "stream",
     "text": [
      "2024-10-31 14:51:24,233 :: INFO :: function defined\n",
      "2024-10-31 14:51:24,246 :: INFO :: data read\n"
     ]
    }
   ],
   "source": [
    "import sushibelt\n",
    "import Edita_DG_density_10reg_1dv_model_dvonly as model\n",
    "\n",
    "import time\n",
    "tnorm = np.sum(model.target ** 2)"
   ]
  },
  {
   "cell_type": "code",
   "execution_count": 4,
   "metadata": {},
   "outputs": [
    {
     "data": {
      "text/plain": [
       "287"
      ]
     },
     "execution_count": 4,
     "metadata": {},
     "output_type": "execute_result"
    }
   ],
   "source": [
    "N=model.N\n",
    "N"
   ]
  },
  {
   "cell_type": "code",
   "execution_count": 5,
   "metadata": {},
   "outputs": [],
   "source": [
    "tdf=pd.read_csv('data/DG_seg_mapping.csv')\n",
    "abbDG=tdf['abb']\n",
    "abbT={}\n",
    "segIdx={}\n",
    "for i in range(N):\n",
    "    abbT[abbDG[i]] = 1+ abbT.get(abbDG[i],0)\n",
    "    ll=segIdx.get(abbDG[i],[])\n",
    "    ll.append(i)\n",
    "    segIdx[abbDG[i]] = ll\n"
   ]
  },
  {
   "cell_type": "code",
   "execution_count": 6,
   "metadata": {
    "collapsed": false,
    "jupyter": {
     "outputs_hidden": false
    }
   },
   "outputs": [],
   "source": [
    "from PyNeuronToolbox.morphology import dist_between,allsec_preorder\n",
    "\n",
    "def dist_to_soma(segment):\n",
    "    return dist_between(h,allsec_preorder(h)[0](0.5),segment)\n"
   ]
  },
  {
   "cell_type": "code",
   "execution_count": 7,
   "metadata": {},
   "outputs": [
    {
     "data": {
      "text/html": [
       "<div>\n",
       "<style scoped>\n",
       "    .dataframe tbody tr th:only-of-type {\n",
       "        vertical-align: middle;\n",
       "    }\n",
       "\n",
       "    .dataframe tbody tr th {\n",
       "        vertical-align: top;\n",
       "    }\n",
       "\n",
       "    .dataframe thead th {\n",
       "        text-align: right;\n",
       "    }\n",
       "</style>\n",
       "<table border=\"1\" class=\"dataframe\">\n",
       "  <thead>\n",
       "    <tr style=\"text-align: right;\">\n",
       "      <th></th>\n",
       "      <th>Unnamed: 0</th>\n",
       "      <th>N</th>\n",
       "      <th>Name</th>\n",
       "      <th>abb</th>\n",
       "      <th>DtS</th>\n",
       "    </tr>\n",
       "  </thead>\n",
       "  <tbody>\n",
       "    <tr>\n",
       "      <th>0</th>\n",
       "      <td>0</td>\n",
       "      <td>0</td>\n",
       "      <td>dgyrus_morph.soma[0]</td>\n",
       "      <td>rd1</td>\n",
       "      <td>0.000000</td>\n",
       "    </tr>\n",
       "    <tr>\n",
       "      <th>1</th>\n",
       "      <td>1</td>\n",
       "      <td>1</td>\n",
       "      <td>dgyrus_morph.dend[0]</td>\n",
       "      <td>rd1</td>\n",
       "      <td>7.512102</td>\n",
       "    </tr>\n",
       "    <tr>\n",
       "      <th>2</th>\n",
       "      <td>2</td>\n",
       "      <td>2</td>\n",
       "      <td>dgyrus_morph.dend[0]</td>\n",
       "      <td>rd1</td>\n",
       "      <td>7.512102</td>\n",
       "    </tr>\n",
       "    <tr>\n",
       "      <th>3</th>\n",
       "      <td>3</td>\n",
       "      <td>3</td>\n",
       "      <td>dgyrus_morph.dend[0]</td>\n",
       "      <td>rd1</td>\n",
       "      <td>7.512102</td>\n",
       "    </tr>\n",
       "    <tr>\n",
       "      <th>4</th>\n",
       "      <td>4</td>\n",
       "      <td>4</td>\n",
       "      <td>dgyrus_morph.dend[0]</td>\n",
       "      <td>rd1</td>\n",
       "      <td>7.512102</td>\n",
       "    </tr>\n",
       "    <tr>\n",
       "      <th>...</th>\n",
       "      <td>...</td>\n",
       "      <td>...</td>\n",
       "      <td>...</td>\n",
       "      <td>...</td>\n",
       "      <td>...</td>\n",
       "    </tr>\n",
       "    <tr>\n",
       "      <th>282</th>\n",
       "      <td>282</td>\n",
       "      <td>282</td>\n",
       "      <td>dgyrus_morph.dend[5]</td>\n",
       "      <td>rd5</td>\n",
       "      <td>91.692424</td>\n",
       "    </tr>\n",
       "    <tr>\n",
       "      <th>283</th>\n",
       "      <td>283</td>\n",
       "      <td>283</td>\n",
       "      <td>dgyrus_morph.dend[5]</td>\n",
       "      <td>rd5</td>\n",
       "      <td>91.692424</td>\n",
       "    </tr>\n",
       "    <tr>\n",
       "      <th>284</th>\n",
       "      <td>284</td>\n",
       "      <td>284</td>\n",
       "      <td>dgyrus_morph.dend[5]</td>\n",
       "      <td>rd5</td>\n",
       "      <td>91.692424</td>\n",
       "    </tr>\n",
       "    <tr>\n",
       "      <th>285</th>\n",
       "      <td>285</td>\n",
       "      <td>285</td>\n",
       "      <td>dgyrus_morph.dend[5]</td>\n",
       "      <td>rd5</td>\n",
       "      <td>91.692424</td>\n",
       "    </tr>\n",
       "    <tr>\n",
       "      <th>286</th>\n",
       "      <td>286</td>\n",
       "      <td>286</td>\n",
       "      <td>dgyrus_morph.dend[5]</td>\n",
       "      <td>rd5</td>\n",
       "      <td>91.692424</td>\n",
       "    </tr>\n",
       "  </tbody>\n",
       "</table>\n",
       "<p>287 rows × 5 columns</p>\n",
       "</div>"
      ],
      "text/plain": [
       "     Unnamed: 0    N                  Name  abb        DtS\n",
       "0             0    0  dgyrus_morph.soma[0]  rd1   0.000000\n",
       "1             1    1  dgyrus_morph.dend[0]  rd1   7.512102\n",
       "2             2    2  dgyrus_morph.dend[0]  rd1   7.512102\n",
       "3             3    3  dgyrus_morph.dend[0]  rd1   7.512102\n",
       "4             4    4  dgyrus_morph.dend[0]  rd1   7.512102\n",
       "..          ...  ...                   ...  ...        ...\n",
       "282         282  282  dgyrus_morph.dend[5]  rd5  91.692424\n",
       "283         283  283  dgyrus_morph.dend[5]  rd5  91.692424\n",
       "284         284  284  dgyrus_morph.dend[5]  rd5  91.692424\n",
       "285         285  285  dgyrus_morph.dend[5]  rd5  91.692424\n",
       "286         286  286  dgyrus_morph.dend[5]  rd5  91.692424\n",
       "\n",
       "[287 rows x 5 columns]"
      ]
     },
     "execution_count": 7,
     "metadata": {},
     "output_type": "execute_result"
    }
   ],
   "source": [
    "tdf=pd.read_csv('data/DG_seg_mapping.csv')\n",
    "tdf"
   ]
  },
  {
   "cell_type": "markdown",
   "metadata": {},
   "source": [
    "# 18 month data"
   ]
  },
  {
   "cell_type": "code",
   "execution_count": 8,
   "metadata": {},
   "outputs": [],
   "source": [
    "#expD=pd.read_csv('data/DG_intensity_values_15072024.csv')\n",
    "expD=pd.read_csv('data/DG_density_values_15072024.csv')\n",
    "bgSignal=1e-5\n",
    "cname0='D0M18'\n",
    "d0w = -1 * np.ones(N)\n",
    "for i in range(expD.shape[0]):\n",
    "    abb = expD['Abbreviation'][i]\n",
    "    sidx= segIdx[abb]\n",
    "    d0w[sidx] *= -1*expD[f\"{cname0}_MEAN\"][i]/len(sidx)\n",
    "for i in range(N):\n",
    "    if d0w[i]<0:\n",
    "        d0w[i] = bgSignal\n",
    "dinit = d0w/np.sum(d0w)\n",
    "\n",
    "cname7='D7M18'\n",
    "d7w = -1*np.ones(N)\n",
    "for i in range(expD.shape[0]):\n",
    "    abb = expD['Abbreviation'][i]\n",
    "    sidx= segIdx[abb]\n",
    "    d7w[sidx] *= -1 * expD[f\"{cname7}_MEAN\"][i]/len(sidx)\n",
    "for i in range(N):\n",
    "    if d7w[i]<0:\n",
    "        d7w[i] = bgSignal\n",
    "target = np.array(expD[f\"{cname7}_MEAN\"])/np.sum(expD[f\"{cname0}_MEAN\"]) #norm target to Day0 sum to take into accound degradation\n",
    "targSD = np.array(expD[f\"{cname7}_SD\"])/np.sum(expD[f\"{cname0}_MEAN\"]) #results to fit to\n",
    "tnorm = np.sum(target ** 2)\n",
    "day7 = 7 * 24 * 3600 # final time point\n",
    "model.target=target\n",
    "model.targSD=targSD\n",
    "model.tnorm=tnorm"
   ]
  },
  {
   "cell_type": "markdown",
   "metadata": {},
   "source": [
    "## Degradation adjusted"
   ]
  },
  {
   "cell_type": "code",
   "execution_count": 9,
   "metadata": {},
   "outputs": [],
   "source": [
    "par_dev = model.opt_par\n",
    "mProp = par_dev[2]\n",
    "dv_val = [-5.343599446612984]\n",
    "#par_dev[13:] = [\n",
    "cost = 2.633674515473845e-05\n",
    "chi2 = 2.820840080143533"
   ]
  },
  {
   "cell_type": "code",
   "execution_count": 10,
   "metadata": {},
   "outputs": [],
   "source": [
    "model.dinit=dinit\n",
    "utrace = model.calcUtrace(dv_val)\n",
    "resM, resF = sushibelt.aggregate_segments(utrace[:, -1], model.segIdx, model.expD['Abbreviation'], fun=np.sum)"
   ]
  },
  {
   "cell_type": "code",
   "execution_count": 11,
   "metadata": {},
   "outputs": [
    {
     "data": {
      "text/plain": [
       "{'F': 0.010254232013526715,\n",
       " 'Ctau': -5.638032179385583,\n",
       " 'mProp': 0.4901989246102767,\n",
       " '(1-mProp)': 0.5098010753897233,\n",
       " 'demand_rd1': 1.0346217672476097e-07,\n",
       " 'demand_rd2': 0.029242261750488406,\n",
       " 'demand_rd3': 0.01218622680694604,\n",
       " 'demand_rd4': 0.041390587450443085,\n",
       " 'demand_rd5': 0.06704294550203627,\n",
       " 'demand_rd6': 0.08976537459084287,\n",
       " 'demand_rd7': 0.1513671679744187,\n",
       " 'demand_rd8': 0.6105826545927185,\n",
       " 'demand_rd9': 0.543743857008341,\n",
       " 'demand_rd10': 0.28125287183335723,\n",
       " 'dv': 4.533154837700139e-06,\n",
       " 'T1/2': 1.7697469200294458,\n",
       " 'norm_factor': 0.5098010753897233,\n",
       " 'sum_resM': 0.27006890404998574,\n",
       " 'sum_resF': 0.08570647023721037,\n",
       " 'sum_tot': 0.3557753742871961,\n",
       " 'err': 2.6336745154738247e-05,\n",
       " 'err_norm': 0.00781890734390049,\n",
       " 'chi2': 2.820840080143543,\n",
       " 'cost': 2.633674515473845e-05,\n",
       " 'Chi2': 2.820840080143533}"
      ]
     },
     "execution_count": 11,
     "metadata": {},
     "output_type": "execute_result"
    }
   ],
   "source": [
    "{'F' : par_dev[0],\n",
    "'Ctau' : par_dev[1],\n",
    "'mProp' : par_dev[2],\n",
    "'(1-mProp)' : (1-par_dev[2]),\n",
    "'demand_rd1' : par_dev[3],\n",
    "'demand_rd2' : par_dev[4],\n",
    "'demand_rd3' : par_dev[5],\n",
    "'demand_rd4' : par_dev[6],\n",
    "'demand_rd5' : par_dev[7],\n",
    "'demand_rd6' : par_dev[8],\n",
    "'demand_rd7' : par_dev[9],\n",
    "'demand_rd8' : par_dev[10],\n",
    "'demand_rd9' : par_dev[11],\n",
    "'demand_rd10' : par_dev[12],\n",
    "'dv' : 10 ** dv_val[0],\n",
    "'T1/2': np.log(2)*7/((10 ** dv_val[0]) * day7),\n",
    "'norm_factor' : (1-mProp),\n",
    "'sum_resM' : np.sum(resM),\n",
    "'sum_resF' : np.sum(resF),\n",
    "'sum_tot' : np.sum(resF)+np.sum(resM),\n",
    "'err' : np.sum((resF/(1-mProp) - model.target) ** 2),\n",
    "'err_norm' : np.sum((resF/(1-mProp) - model.target) ** 2)/tnorm,\n",
    "'chi2' : np.sum(((resF/(1-mProp) - model.target)/model.targSD) ** 2),\n",
    "'cost' : cost,\n",
    "'Chi2' : chi2\n",
    "}"
   ]
  },
  {
   "cell_type": "code",
   "execution_count": 12,
   "metadata": {},
   "outputs": [
    {
     "data": {
      "image/png": "[encoded data removed]",
      "text/plain": [
       "<Figure size 640x480 with 1 Axes>"
      ]
     },
     "metadata": {},
     "output_type": "display_data"
    }
   ],
   "source": [
    "x=np.array(range(model.expD.shape[0]),dtype=int)\n",
    "fig, ax = plt.subplots()\n",
    "ax.plot(x,target,'o-',label=cname7)\n",
    "#ax.plot(x,resM,label='mobile DC')\n",
    "#ax.plot(x,resF,label='detached DC')\n",
    "ax.plot(x,resF/(1-mProp),label='norm detached DC')\n",
    "ax.set_xlabel('Region number')\n",
    "ax.set_ylabel('Value')\n",
    "ax.set_xticks(x,expD['Abbreviation'],rotation=90)\n",
    "# show a legend on the plot\n",
    "ax.legend()\n",
    "#plt.show()\n",
    "pos = ax.get_position()\n",
    "ax.set_position([pos.x0, pos.y0 + pos.height*0.15, pos.width , pos.height* 0.85])\n",
    "plt.title(f\"Cost = {format(np.sum((resF/(1-mProp) - target) ** 2),'.4g')}, $\\chi^2$ = {format(np.sum(((resF/(1-mProp) - target)/targSD) ** 2),'.4g')}\") \n",
    "# function to show the plot\n",
    "#plt.show()\n",
    "plt.savefig('expEdita_DG_10reg_1dv_18M_fit_density_20241031_target.png')\n",
    "plt.savefig('expEdita_DG_10reg_1dv_18M_fit_density_20241031_target.pdf')\n",
    "plt.savefig('expEdita_DG_10reg_1dv_18M_fit_density_20241031_target.svg')"
   ]
  },
  {
   "cell_type": "code",
   "execution_count": 13,
   "metadata": {},
   "outputs": [
    {
     "data": {
      "image/png": "[encoded data removed]",
      "text/plain": [
       "<Figure size 640x480 with 1 Axes>"
      ]
     },
     "metadata": {},
     "output_type": "display_data"
    }
   ],
   "source": [
    "fig, ax = plt.subplots()\n",
    "#plt.plot(x,target,label=cname7)\n",
    "ax.errorbar(x,target,targSD,label=cname7, fmt='-o')\n",
    "#plt.plot(x,resF,label='detached DC')\n",
    "ax.plot(x,resF/(1-mProp),label='detached norm DC')\n",
    "ax.set_xlabel('Region number')\n",
    "ax.set_ylabel('Value')\n",
    "ax.set_xticks(x,expD['Abbreviation'],rotation=90)\n",
    "# show a legend on the plot\n",
    "ax.legend()\n",
    "#plt.show()\n",
    "pos = ax.get_position()\n",
    "ax.set_position([pos.x0, pos.y0 + pos.height*0.15, pos.width , pos.height* 0.85])\n",
    "plt.title(f\"Cost = {format(np.sum((resF/(1-mProp) - target) ** 2),'.4g')}, $\\chi^2$ = {format(np.sum(((resF/(1-mProp) - target)/targSD) ** 2),'.4g')}\") \n",
    "# function to show the plot\n",
    "#plt.show()\n",
    "plt.savefig('expEdita_DG_10reg_1dv_18M_fit_density_20241031_target_error.png')\n",
    "plt.savefig('expEdita_DG_10reg_1dv_18M_fit_density_20241031_target_error.pdf')\n",
    "plt.savefig('expEdita_DG_10reg_1dv_18M_fit_density_20241031_target_error.svg')"
   ]
  },
  {
   "cell_type": "markdown",
   "metadata": {},
   "source": [
    "# Three weeks data"
   ]
  },
  {
   "cell_type": "code",
   "execution_count": null,
   "metadata": {},
   "outputs": [],
   "source": [
    "#expD=pd.read_csv('data/DG_intensity_values_15072024.csv')\n",
    "expD=pd.read_csv('data/DG_density_values_15072024.csv')\n",
    "bgSignal=1e-5\n",
    "\n",
    "cname0='D0W3'\n",
    "d0w = -1 * np.ones(N)\n",
    "for i in range(expD.shape[0]):\n",
    "    abb = expD['Abbreviation'][i]\n",
    "    sidx= segIdx[abb]\n",
    "    d0w[sidx] *= -1*expD[f\"{cname0}_MEAN\"][i]/len(sidx)\n",
    "for i in range(N):\n",
    "    if d0w[i]<0:\n",
    "        d0w[i] = bgSignal\n",
    "dinit = d0w/np.sum(d0w)\n",
    "\n",
    "cname7='D7W3'\n",
    "d7w = -1*np.ones(N)\n",
    "for i in range(expD.shape[0]):\n",
    "    abb = expD['Abbreviation'][i]\n",
    "    sidx= segIdx[abb]\n",
    "    d7w[sidx] *= -1 * expD[f\"{cname7}_MEAN\"][i]/len(sidx)\n",
    "for i in range(N):\n",
    "    if d7w[i]<0:\n",
    "        d7w[i] = bgSignal\n",
    "target = np.array(expD[f\"{cname7}_MEAN\"])/np.sum(expD[f\"{cname0}_MEAN\"]) #norm target to Day0 sum to take into accound degradation\n",
    "targSD = np.array(expD[f\"{cname7}_SD\"])/np.sum(expD[f\"{cname0}_MEAN\"]) #results to fit to\n",
    "tnorm = np.sum(target ** 2)\n",
    "day7 = 7 * 24 * 3600 # final time point\n"
   ]
  },
  {
   "cell_type": "markdown",
   "metadata": {},
   "source": [
    "## Degradation adjusted"
   ]
  },
  {
   "cell_type": "code",
   "execution_count": null,
   "metadata": {},
   "outputs": [],
   "source": [
    "dv_val = [-3.2573536255374993]\n",
    "cost = 7.060707498678246e-08\n",
    "chi2 = 0.00924209249590049"
   ]
  },
  {
   "cell_type": "code",
   "execution_count": null,
   "metadata": {},
   "outputs": [],
   "source": [
    "model.dinit=dinit\n",
    "utrace = model.calcUtrace(dv_val)\n",
    "resM, resF = sushibelt.aggregate_segments(utrace[:, -1], model.segIdx, model.expD['Abbreviation'], fun=np.sum)"
   ]
  },
  {
   "cell_type": "code",
   "execution_count": null,
   "metadata": {},
   "outputs": [],
   "source": [
    "model.target = np.array(expD[f\"{cname7}_MEAN\"])/np.sum(expD[f\"{cname0}_MEAN\"]) #norm target to Day0 sum to take into accound degradation\n",
    "model.targSD = np.array(expD[f\"{cname7}_SD\"])/np.sum(expD[f\"{cname0}_MEAN\"]) #results to fit to\n",
    "model.tnorm = np.sum(model.target ** 2)\n",
    "model.costFunction(dv_val)"
   ]
  },
  {
   "cell_type": "code",
   "execution_count": null,
   "metadata": {},
   "outputs": [],
   "source": [
    "{'F' : par_dev[0],\n",
    "'Ctau' : par_dev[1],\n",
    "'mProp' : par_dev[2],\n",
    "'(1-mProp)' : (1-par_dev[2]),\n",
    "'demand_rd1' : par_dev[3],\n",
    "'demand_rd2' : par_dev[4],\n",
    "'demand_rd3' : par_dev[5],\n",
    "'demand_rd4' : par_dev[6],\n",
    "'demand_rd5' : par_dev[7],\n",
    "'demand_rd6' : par_dev[8],\n",
    "'demand_rd7' : par_dev[9],\n",
    "'demand_rd8' : par_dev[10],\n",
    "'demand_rd9' : par_dev[11],\n",
    "'demand_rd10' : par_dev[12],\n",
    "'dv' : 10 ** dv_val[0],\n",
    "'T1/2': np.log(2)*7/((10 ** dv_val[0]) * day7),\n",
    "'norm_factor' : (1-mProp),\n",
    "'sum_resM' : np.sum(resM),\n",
    "'sum_resF' : np.sum(resF),\n",
    "'sum_tot' : np.sum(resF)+np.sum(resM),\n",
    "'err' : np.sum((resF/(1-mProp) - target) ** 2),\n",
    "'err_norm' : np.sum((resF/(1-mProp) - target) ** 2)/tnorm,\n",
    "'chi2' : np.sum(((resF/(1-mProp) - target)/targSD) ** 2),\n",
    "'cost' : cost,\n",
    "'Chi2' : chi2\n",
    "}"
   ]
  },
  {
   "cell_type": "code",
   "execution_count": null,
   "metadata": {},
   "outputs": [],
   "source": [
    "x=np.array(range(model.expD.shape[0]),dtype=int)\n",
    "fig, ax = plt.subplots()\n",
    "ax.plot(x,target,'o-',label=cname7)\n",
    "#ax.plot(x,resM,label='mobile DC')\n",
    "#ax.plot(x,resF,label='detached DC')\n",
    "ax.plot(x,resF/(1-mProp),label='norm detached DC')\n",
    "ax.set_xlabel('Region number')\n",
    "ax.set_ylabel('Value')\n",
    "ax.set_xticks(x,expD['Abbreviation'],rotation=90)\n",
    "# show a legend on the plot\n",
    "ax.legend()\n",
    "#plt.show()\n",
    "pos = ax.get_position()\n",
    "ax.set_position([pos.x0, pos.y0 + pos.height*0.15, pos.width , pos.height* 0.85])\n",
    "plt.title(f\"Cost = {format(np.sum((resF/(1-mProp) - target) ** 2),'.4g')}, $\\chi^2$ = {format(np.sum(((resF/(1-mProp) - target)/targSD) ** 2),'.4g')}\") \n",
    "# function to show the plot\n",
    "#plt.show()\n",
    "plt.savefig('expEdita_DG_10reg_1dv_3W_fit_density_20241931_target.png')\n",
    "plt.savefig('expEdita_DG_10reg_1dv_3W_fit_density_20241931_target.pdf')\n",
    "plt.savefig('expEdita_DG_10reg_1dv_3W_fit_density_20241931_target.svg')"
   ]
  },
  {
   "cell_type": "code",
   "execution_count": null,
   "metadata": {},
   "outputs": [],
   "source": [
    "fig, ax = plt.subplots()\n",
    "#plt.plot(x,target,label=cname7)\n",
    "ax.errorbar(x,target,targSD,label=cname7, fmt='o')\n",
    "#plt.plot(x,resF,label='detached DC')\n",
    "ax.plot(x,resF/(1-mProp),label='detached norm DC')\n",
    "ax.set_xlabel('Region number')\n",
    "ax.set_ylabel('Value')\n",
    "ax.set_xticks(x,expD['Abbreviation'],rotation=90)\n",
    "# show a legend on the plot\n",
    "ax.legend()\n",
    "#plt.show()\n",
    "pos = ax.get_position()\n",
    "ax.set_position([pos.x0, pos.y0 + pos.height*0.15, pos.width , pos.height* 0.85])\n",
    "plt.title(f\"Cost = {format(np.sum((resF/(1-mProp) - target) ** 2),'.4g')}, $\\chi^2$ = {format(np.sum(((resF/(1-mProp) - target)/targSD) ** 2),'.4g')}\") \n",
    "# function to show the plot\n",
    "#plt.show()\n",
    "plt.savefig('expEdita_DG_10reg_1dv_3W_fit_density_20241031_target_error.png')\n",
    "plt.savefig('expEdita_DG_10reg_1dv_3W_fit_density_20241031_target_error.pdf')\n",
    "plt.savefig('expEdita_DG_10reg_1dv_3W_fit_density_20241031_target_error.svg')"
   ]
  },
  {
   "cell_type": "markdown",
   "metadata": {},
   "source": [
    "# Compare dV"
   ]
  },
  {
   "cell_type": "code",
   "execution_count": null,
   "metadata": {},
   "outputs": [],
   "source": [
    "dv_3W = [-3.2573536255374993]\n",
    "dv_3M = [-5.336672864778542]\n",
    "dv_18M = [-5.343599446612984"
   ]
  },
  {
   "cell_type": "code",
   "execution_count": null,
   "metadata": {},
   "outputs": [],
   "source": [
    "{'3W': np.log(2)*7/(10 ** np.array(dv_3W) * day7), \n",
    " '3M': np.log(2)*7/(10 ** np.array(dv_3M) * day7),\n",
    " '18M': np.log(2)*7/(10 ** np.array(dv_18M) * day7)}"
   ]
  },
  {
   "cell_type": "code",
   "execution_count": null,
   "metadata": {},
   "outputs": [],
   "source": [
    "dv_1dv=-5.99942994220951\n",
    "(10 ** dv_1dv, np.log(2)*7/(10 ** dv_1dv * day7))"
   ]
  },
  {
   "cell_type": "code",
   "execution_count": null,
   "metadata": {},
   "outputs": [],
   "source": [
    "x=np.array(range(model.expD.shape[0]),dtype=int)\n",
    "fig, ax = plt.subplots()\n",
    "ax.plot(x,np.log(2)*7/(10 ** np.array(dv_3W) * day7),label='3W')\n",
    "ax.plot(x,np.log(2)*7/(10 ** np.array(dv_3M) * day7),label='3M')\n",
    "ax.plot(x,np.log(2)*7/(10 ** np.array(dv_18M) * day7),label='18M')\n",
    "ax.set_xlabel('Region number')\n",
    "ax.set_ylabel('Half-life(days)')\n",
    "ax.set_xticks(x,expD['Abbreviation'],rotation=90)\n",
    "# show a legend on the plot\n",
    "ax.legend()\n",
    "#plt.show()\n",
    "pos = ax.get_position()\n",
    "ax.set_position([pos.x0, pos.y0 + pos.height*0.15, pos.width , pos.height* 0.85])\n",
    "#plt.title(f\"Cost = {format(np.sum((resF/(1-mProp) - target) ** 2),'.4g')}, $\\chi^2$ = {format(np.sum(((resF/(1-mProp) - target)/targSD) ** 2),'.4g')}\") \n",
    "plt.title('Half-life comparison')\n",
    "# function to show the plot\n",
    "#plt.show()\n",
    "plt.savefig('expEdita_DG_10reg_1dv_halflife.png')\n",
    "plt.savefig('expEdita_DG_10reg_1dv_halflife.pdf')\n",
    "plt.savefig('expEdita_DG_10reg_10dv_halflife.svg')"
   ]
  },
  {
   "cell_type": "code",
   "execution_count": null,
   "metadata": {},
   "outputs": [],
   "source": []
  }
 ],
 "metadata": {
  "kernelspec": {
   "display_name": "Python 3 (ipykernel)",
   "language": "python",
   "name": "python3"
  },
  "language_info": {
   "codemirror_mode": {
    "name": "ipython",
    "version": 3
   },
   "file_extension": ".py",
   "mimetype": "text/x-python",
   "name": "python",
   "nbconvert_exporter": "python",
   "pygments_lexer": "ipython3",
   "version": "3.10.12"
  }
 },
 "nbformat": 4,
 "nbformat_minor": 4
}
