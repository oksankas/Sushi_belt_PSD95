{
 "cells": [
  {
   "cell_type": "code",
   "execution_count": null,
   "id": "ee35c1ac-b561-40d4-8550-27ced1c27798",
   "metadata": {},
   "outputs": [],
   "source": [
    "%%bash\n",
    "nrnivmodl"
   ]
  },
  {
   "cell_type": "code",
   "execution_count": null,
   "id": "56ced26a-7a9f-42b2-a25d-947e2b82f650",
   "metadata": {},
   "outputs": [],
   "source": [
    "# Download NEURON: http://www.neuron.yale.edu/neuron/download\n",
    "# Download PyNeuronToolbox: https://github.com/ahwillia/PyNeuron-Toolbox\n",
    "\n",
    "from neuron import h\n",
    "import numpy as np\n",
    "import math\n",
    "import pylab as plt\n",
    "import scipy.linalg\n",
    "from PyNeuronToolbox.record import ez_record,ez_convert\n",
    "#from PyNeuronToolbox import neuromorpho,morphology\n",
    "from PyNeuronToolbox.morphology import shapeplot,shapeplot_animate,load\n",
    "from mpl_toolkits.mplot3d import Axes3D\n",
    "from JSAnimation import IPython_display\n",
    "from matplotlib import animation\n",
    "from matplotlib.pyplot import cm\n",
    "import warnings\n",
    "warnings.filterwarnings('ignore', category=SyntaxWarning)\n",
    "%matplotlib inline\n",
    "np.random.seed(123456789)\n",
    "\n",
    "import re\n",
    "import pandas as pd\n",
    "\n",
    "DC = 10 # diffusion coeff [microns^2 s^-1]\n"
   ]
  },
  {
   "cell_type": "code",
   "execution_count": null,
   "id": "62ab3a0a-a031-4b48-8378-ebea31c159b6",
   "metadata": {},
   "outputs": [],
   "source": [
    "import sys\n",
    "sys.path.append('../')\n",
    "sys.path.append('../simulation/')\n",
    "\n",
    "import sushibelt\n",
    "import CA1_20reg_1dv_model as model\n",
    "import time\n",
    "N = model.N\n",
    "tnorm = np.sum(model.target ** 2)\n",
    "delta = 1e-5"
   ]
  },
  {
   "cell_type": "code",
   "execution_count": null,
   "id": "40b8fe1e-3752-4b47-a487-f6fcc8386d5e",
   "metadata": {},
   "outputs": [],
   "source": [
    "parval=pd.read_csv('../neuron-model/mprop_param.csv')\n",
    "pval=parval[[\"F\",\"Ctau\",\"mProp\",\"dvA\",\"dvB\",\"demand_CA1so_1\",\"demand_CA1so_2\",\"demand_CA1so_3\",\"demand_CA1so_4\",\"demand_CA1so_5\",\"demand_CA1sr_1\",\"demand_CA1sr_2\",\"demand_CA1sr_3\",\"demand_CA1sr_4\",\"demand_CA1sr_5\",\"demand_CA1sr_6\",\"demand_CA1sr_7\",\"demand_CA1sr_8\",\"demand_CA1sr_9\",\"demand_CA1sr_10\",\"demand_CA1slm_1\",\"demand_CA1slm_2\",\"demand_CA1slm_3\",\"demand_CA1slm_4\",\"demand_CA1slm_5\"]]\n",
    "pval"
   ]
  },
  {
   "cell_type": "code",
   "execution_count": null,
   "id": "b78a8bd9-11d3-4b8d-88a4-441f8db1c541",
   "metadata": {},
   "outputs": [],
   "source": [
    "aL=list()\n",
    "bL=list()\n",
    "dL=list()\n",
    "cL=list()\n",
    "for i in range(pval.shape[0]):\n",
    "    parr=np.array(pval.iloc[i])\n",
    "    F = parr[0]\n",
    "    Ctau = 10 ** parr[1]\n",
    "    mProp = parr[2]\n",
    "    dvA = parr[3]\n",
    "    dvB = parr[4]\n",
    "    dv = np.zeros(N)\n",
    "    utarg = delta*np.ones(N)\n",
    "    for k in range(N):\n",
    "        if model.itarg[k] > 4:\n",
    "            utarg[k] = parr[model.itarg[k]]\n",
    "            dv[k] = (10 ** dvA) + (10 ** dvB)*utarg[k]\n",
    "    utarg /= np.sum(utarg)\n",
    "    K = np.sum(utarg) / N\n",
    "    x = model.trafficking_solution(F * utarg + (1 - F) * K)\n",
    "    x=np.append(x,0)\n",
    "    a = (1 / (1 + x))\n",
    "    aM, aF = sushibelt.aggregate_segments(np.concatenate((list(a),list(a))), model.segIdx, model.expD['Abbreviation'], fun=np.sum)\n",
    "    aL.append(aM)\n",
    "    b = list((1 / (1 + x ** -1)))\n",
    "    bM, bF = sushibelt.aggregate_segments(np.concatenate((list(b),list(b))), model.segIdx, model.expD['Abbreviation'], fun=np.sum)\n",
    "    bL.append(bM)\n",
    "    dM, dF = sushibelt.aggregate_segments(np.concatenate((list(dv),list(dv))), model.segIdx, model.expD['Abbreviation'], fun=np.sum)\n",
    "    dL.append(dM)\n",
    "    c = Ctau * utarg / (F * utarg + (1 - F) * K)\n",
    "    cM, cF = sushibelt.aggregate_segments(np.concatenate((list(c),list(c))), model.segIdx, model.expD['Abbreviation'], fun=np.sum)\n",
    "    cL.append(cM)\n",
    "(len(aL),len(bL),len(cL),len(dL),len(aL[0]))"
   ]
  },
  {
   "cell_type": "code",
   "execution_count": null,
   "id": "6ea822d9-d135-4ff1-81f8-d5e0aa09796e",
   "metadata": {},
   "outputs": [],
   "source": [
    "adf = pd.DataFrame(aL,columns=model.expD['Abbreviation'],index=[pval.iloc[k,2] for k in range(pval.shape[0])])\n",
    "adf.to_csv('a_mprop.csv')\n",
    "bdf = pd.DataFrame(bL,columns=model.expD['Abbreviation'],index=[pval.iloc[k,2] for k in range(pval.shape[0])])\n",
    "bdf.to_csv('b_mprop.csv')\n",
    "cdf = pd.DataFrame(cL,columns=model.expD['Abbreviation'],index=[pval.iloc[k,2] for k in range(pval.shape[0])])\n",
    "cdf.to_csv('c_mprop.csv')\n",
    "ddf = pd.DataFrame(dL,columns=model.expD['Abbreviation'],index=[pval.iloc[k,2] for k in range(pval.shape[0])])\n",
    "ddf.to_csv('d_mprop.csv')"
   ]
  },
  {
   "cell_type": "code",
   "execution_count": null,
   "id": "279d9ac4-5f09-4b65-b45c-4a35e44d0975",
   "metadata": {},
   "outputs": [],
   "source": [
    "aL=list()\n",
    "bL=list()\n",
    "dL=list()\n",
    "cL=list()\n",
    "for i in range(pval.shape[0]):\n",
    "    parr=np.array(pval.iloc[i])\n",
    "    F = parr[0]\n",
    "    Ctau = 10 ** parr[1]\n",
    "    mProp = parr[2]\n",
    "    dvA = parr[3]\n",
    "    dvB = parr[4]\n",
    "    dv = np.zeros(N)\n",
    "    utarg = delta*np.ones(N)\n",
    "    for k in range(N):\n",
    "        if model.itarg[k] > 4:\n",
    "            utarg[k] = parr[model.itarg[k]]\n",
    "            dv[k] = (10 ** dvA) + (10 ** dvB)*utarg[k]\n",
    "    utarg /= np.sum(utarg)\n",
    "    K = np.sum(utarg) / N\n",
    "    x = model.trafficking_solution(F * utarg + (1 - F) * K)\n",
    "    x=np.append(x,0)\n",
    "    a = (1 / (1 + x))\n",
    "    aM, aF = sushibelt.aggregate_segments(np.concatenate((list(a),list(a))), model.segIdx, model.expD['Abbreviation'], fun=np.mean)\n",
    "    aL.append(aM)\n",
    "    b = list((1 / (1 + x ** -1)))\n",
    "    bM, bF = sushibelt.aggregate_segments(np.concatenate((list(b),list(b))), model.segIdx, model.expD['Abbreviation'], fun=np.mean)\n",
    "    bL.append(bM)\n",
    "    dM, dF = sushibelt.aggregate_segments(np.concatenate((list(dv),list(dv))), model.segIdx, model.expD['Abbreviation'], fun=np.mean)\n",
    "    dL.append(dM)\n",
    "    c = Ctau * utarg / (F * utarg + (1 - F) * K)\n",
    "    cM, cF = sushibelt.aggregate_segments(np.concatenate((list(c),list(c))), model.segIdx, model.expD['Abbreviation'], fun=np.mean)\n",
    "    cL.append(cM)\n",
    "(len(aL),len(bL),len(cL),len(dL),len(aL[0]))"
   ]
  },
  {
   "cell_type": "code",
   "execution_count": null,
   "id": "1c4f369f-5af5-47c4-9afd-5f8168d3ed31",
   "metadata": {},
   "outputs": [],
   "source": [
    "adf = pd.DataFrame(aL,columns=model.expD['Abbreviation'],index=[pval.iloc[k,2] for k in range(pval.shape[0])])\n",
    "adf.to_csv('a_mprop.mean.csv')\n",
    "bdf = pd.DataFrame(bL,columns=model.expD['Abbreviation'],index=[pval.iloc[k,2] for k in range(pval.shape[0])])\n",
    "bdf.to_csv('b_mprop.mean.csv')\n",
    "cdf = pd.DataFrame(cL,columns=model.expD['Abbreviation'],index=[pval.iloc[k,2] for k in range(pval.shape[0])])\n",
    "cdf.to_csv('c_mprop.mean.csv')\n",
    "ddf = pd.DataFrame(dL,columns=model.expD['Abbreviation'],index=[pval.iloc[k,2] for k in range(pval.shape[0])])\n",
    "ddf.to_csv('d_mprop.mean.csv')"
   ]
  },
  {
   "cell_type": "code",
   "execution_count": null,
   "id": "f46964d5-10aa-47b9-90c7-a9fe7f05b13b",
   "metadata": {},
   "outputs": [],
   "source": [
    "len(model.parnames)"
   ]
  },
  {
   "cell_type": "code",
   "execution_count": null,
   "id": "d45f4026-53cc-4839-93c3-dd94635245af",
   "metadata": {},
   "outputs": [],
   "source": [
    "aM, aF = sushibelt.aggregate_segments(np.concatenate((aL[0],aL[0])), model.segIdx, model.expD['Abbreviation'], fun=np.sum)"
   ]
  },
  {
   "cell_type": "code",
   "execution_count": null,
   "id": "fe9b8eaa-4515-4b46-9252-73d4f4619ce7",
   "metadata": {},
   "outputs": [],
   "source": [
    "x=np.array(range(model.expD.shape[0]),dtype=int)\n",
    "fig, ax = plt.subplots()\n",
    "ax.plot(x,aM,label='a')\n",
    "#ax.plot(x,resF/(1-mProp),label='norm detached DC')\n",
    "ax.set_xlabel('Region number')\n",
    "ax.set_ylabel('Value')\n",
    "ax.set_xticks(x,model.expD['Abbreviation'],rotation=90)\n",
    "# show a legend on the plot\n",
    "ax.legend()\n",
    "#plt.show()\n",
    "pos = ax.get_position()\n",
    "ax.set_position([pos.x0, pos.y0 + pos.height*0.15, pos.width , pos.height* 0.85])\n",
    "plt.title(\"A[0]\") \n",
    "# function to show the plot\n",
    "plt.show()\n"
   ]
  },
  {
   "cell_type": "code",
   "execution_count": null,
   "id": "e25a090d-8fc1-4ae5-8a11-cdd2a53a852a",
   "metadata": {},
   "outputs": [],
   "source": []
  }
 ],
 "metadata": {
  "kernelspec": {
   "display_name": "Python 3 (ipykernel)",
   "language": "python",
   "name": "python3"
  },
  "language_info": {
   "codemirror_mode": {
    "name": "ipython",
    "version": 3
   },
   "file_extension": ".py",
   "mimetype": "text/x-python",
   "name": "python",
   "nbconvert_exporter": "python",
   "pygments_lexer": "ipython3",
   "version": "3.13.5"
  }
 },
 "nbformat": 4,
 "nbformat_minor": 5
}
