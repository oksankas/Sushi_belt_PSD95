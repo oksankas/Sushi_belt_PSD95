{
 "cells": [
  {
   "cell_type": "code",
   "execution_count": 1,
   "metadata": {
    "ExecuteTime": {
     "end_time": "2024-02-01T04:36:14.473505Z",
     "start_time": "2024-02-01T04:36:13.685666Z"
    },
    "collapsed": false,
    "jupyter": {
     "outputs_hidden": false
    }
   },
   "outputs": [
    {
     "name": "stdout",
     "output_type": "stream",
     "text": [
      "/usr/bin/xcrun\n",
      "/Users/anatolii-sorokin/Documents/Projects/neuro-trafic\n",
      "Mod files: \"./h.mod\" \"./kadist.mod\" \"./kaprox.mod\" \"./kdrca1.mod\" \"./km.mod\" \"./na3n.mod\" \"./naxn.mod\"\n",
      "\n",
      " -> \u001b[32mCompiling\u001b[0m mod_func.cpp\n",
      " => \u001b[32mLINKING\u001b[0m shared library ./libnrnmech.dylib\n",
      " => \u001b[32mLINKING\u001b[0m executable ./special LDFLAGS are:    \n",
      "Successfully created arm64/special\n"
     ]
    }
   ],
   "source": [
    "%%bash\n",
    "nrnivmodl"
   ]
  },
  {
   "cell_type": "code",
   "execution_count": 2,
   "metadata": {
    "ExecuteTime": {
     "end_time": "2024-02-01T04:36:17.107428Z",
     "start_time": "2024-02-01T04:36:17.087940Z"
    },
    "collapsed": false,
    "jupyter": {
     "outputs_hidden": false
    }
   },
   "outputs": [
    {
     "name": "stdout",
     "output_type": "stream",
     "text": [
      "\t0 \n",
      "total # of segments (50Hz): 742   max path distance: 853.32493 \n",
      "apical 0  dend_5[0]\n",
      "apical 1  dend_5[15]\n",
      "apical 2  dend_5[14]\n",
      "apical 3  dend_5[13]\n",
      "apical 4  dend_5[12]\n",
      "apical 5  dend_5[12]\n",
      "apical 6  dend_5[12]\n",
      "apical 7  dend_5[12]\n",
      "apical 8  dend_5[12]\n",
      "apical 9  dend_5[12]\n",
      "apical 10  dend_5[12]\n",
      "apical 11  dend_5[11]\n",
      "apical 12  dend_5[11]\n",
      "apical 13  dend_5[11]\n",
      "apical 14  dend_5[10]\n",
      "apical 15  dend_5[9]\n",
      "apical 16  dend_5[8]\n",
      "apical 17  dend_5[8]\n",
      "apical 18  dend_5[8]\n",
      "apical 19  dend_5[7]\n",
      "apical 20  dend_5[6]\n",
      "apical 21  dend_5[5]\n",
      "apical 22  dend_5[5]\n",
      "apical 23  dend_5[5]\n",
      "apical 24  dend_5[5]\n",
      "apical 25  dend_5[5]\n",
      "apical 26  dend_5[5]\n",
      "apical 27  dend_5[5]\n",
      "apical 28  dend_5[4]\n",
      "apical 29  dend_5[4]\n",
      "apical 30  dend_5[4]\n",
      "apical 31  dend_5[3]\n",
      "apical 32  dend_5[2]\n",
      "apical 33  dend_5[2]\n",
      "apical 34  dend_5[2]\n",
      "apical 35  dend_5[2]\n",
      "apical 36  dend_5[2]\n",
      "apical 37  dend_5[2]\n",
      "apical 38  dend_5[2]\n",
      "apical 39  dend_5[1]\n",
      "apical 40  dend_5[1]\n",
      "apical 41  dend_5[1]\n",
      "#1\n"
     ]
    }
   ],
   "source": [
    "# Download NEURON: http://www.neuron.yale.edu/neuron/download\n",
    "# Download PyNeuronToolbox: https://github.com/ahwillia/PyNeuron-Toolbox\n",
    "\n",
    "from neuron import h\n",
    "import numpy as np\n",
    "import math\n",
    "import pylab as plt\n",
    "import scipy.linalg\n",
    "from PyNeuronToolbox.record import ez_record,ez_convert\n",
    "from PyNeuronToolbox.morphology import shapeplot,shapeplot_animate\n",
    "from mpl_toolkits.mplot3d import Axes3D\n",
    "from JSAnimation import IPython_display\n",
    "from matplotlib import animation\n",
    "from matplotlib.pyplot import cm\n",
    "%matplotlib inline\n",
    "np.random.seed(123456789)\n",
    "\n",
    "DC = 10 # diffusion coeff [microns^2 s^-1]\n",
    "\n",
    "# Load morphology and other stuff\n",
    "# --> SegLists: soma[2], dend[74], dend_5[37], apic[42], axon[1]\n",
    "# --> Files from Migliore & Migliore (2012)\n",
    "# --> CA1 pyramidal neuron\n",
    "h.load_file('stdrun.hoc')\n",
    "h.xopen('ri06.hoc')\n",
    "h.xopen('fixnseg.hoc')\n",
    "h.xopen('5a_nogui.hoc')\n",
    "h.tstop = 700.0"
   ]
  },
  {
   "cell_type": "code",
   "execution_count": 3,
   "metadata": {
    "collapsed": false,
    "jupyter": {
     "outputs_hidden": false
    }
   },
   "outputs": [],
   "source": [
    "from PyNeuronToolbox.morphology import dist_between,allsec_preorder\n",
    "\n",
    "def dist_to_soma(segment):\n",
    "    return dist_between(h,h.soma[0](0.5),segment)\n",
    "\n",
    "#seglist in pre-order\n",
    "sec_list = allsec_preorder(h)\n",
    "seg_list = []\n",
    "for sec in sec_list:\n",
    "    locs = np.linspace(0,1,sec.nseg+2)[1:-1]\n",
    "    for loc in locs:\n",
    "        seg_list.append(sec(loc))\n",
    "n = len(seg_list)\n",
    "N = n\n",
    "day7 = 7*24*3600\n"
   ]
  },
  {
   "cell_type": "code",
   "execution_count": 30,
   "metadata": {},
   "outputs": [
    {
     "data": {
      "text/plain": [
       "742"
      ]
     },
     "execution_count": 30,
     "metadata": {},
     "output_type": "execute_result"
    }
   ],
   "source": [
    "len(seg_list)"
   ]
  },
  {
   "cell_type": "code",
   "execution_count": 4,
   "metadata": {},
   "outputs": [
    {
     "name": "stdout",
     "output_type": "stream",
     "text": [
      "0: soma[0], nseg=1, L=15.166100084781647, or=0.0, hname=soma[0]\n",
      "1: soma[1], nseg=1, L=10.883900105953217, or=0.0, hname=soma[1]\n",
      "2: dend_5[0], nseg=1, L=27.29313676464808, or=0.0, hname=dend_5[0]\n",
      "3: apic[0], nseg=9, L=147.93433051396065, or=0.0, hname=apic[0]\n",
      "4: dend_5[1], nseg=3, L=57.45149110486393, or=0.0, hname=dend_5[1]\n",
      "5: apic[39], nseg=1, L=23.29171407802628, or=0.0, hname=apic[39]\n",
      "6: apic[41], nseg=3, L=34.922839435595144, or=0.0, hname=apic[41]\n",
      "7: apic[40], nseg=5, L=52.39168693889804, or=0.0, hname=apic[40]\n",
      "8: dend_5[2], nseg=1, L=21.183727600433784, or=0.0, hname=dend_5[2]\n",
      "9: apic[32], nseg=1, L=12.617619533060896, or=0.0, hname=apic[32]\n",
      "10: apic[38], nseg=13, L=208.40219120020532, or=0.0, hname=apic[38]\n",
      "11: apic[33], nseg=1, L=9.679981164937955, or=0.0, hname=apic[33]\n",
      "12: apic[37], nseg=3, L=32.69642802210867, or=0.0, hname=apic[37]\n",
      "13: apic[34], nseg=1, L=6.683028121429655, or=0.0, hname=apic[34]\n",
      "14: apic[36], nseg=5, L=58.600785345533666, or=0.0, hname=apic[36]\n",
      "15: apic[35], nseg=7, L=91.55723104292407, or=0.0, hname=apic[35]\n",
      "16: dend_5[3], nseg=1, L=7.409253797024032, or=0.0, hname=dend_5[3]\n",
      "17: apic[31], nseg=3, L=23.44734463094565, or=0.0, hname=apic[31]\n",
      "18: dend_5[4], nseg=1, L=31.145746534414798, or=0.0, hname=dend_5[4]\n",
      "19: apic[28], nseg=3, L=43.45638436191993, or=0.0, hname=apic[28]\n",
      "20: apic[30], nseg=9, L=118.62025939267723, or=0.0, hname=apic[30]\n",
      "21: apic[29], nseg=5, L=66.36675099056444, or=0.0, hname=apic[29]\n",
      "22: dend_5[5], nseg=1, L=11.652114839139228, or=0.0, hname=dend_5[5]\n",
      "23: apic[21], nseg=3, L=22.837574079766163, or=0.0, hname=apic[21]\n",
      "24: apic[27], nseg=11, L=131.54348095334652, or=0.0, hname=apic[27]\n",
      "25: apic[22], nseg=1, L=14.169996011936517, or=0.0, hname=apic[22]\n",
      "26: apic[26], nseg=7, L=118.47475910468485, or=0.0, hname=apic[26]\n",
      "27: apic[23], nseg=3, L=27.54280947186621, or=0.0, hname=apic[23]\n",
      "28: apic[25], nseg=7, L=84.11618353627499, or=0.0, hname=apic[25]\n",
      "29: apic[24], nseg=5, L=61.62917290309925, or=0.0, hname=apic[24]\n",
      "30: dend_5[6], nseg=1, L=33.768945032157355, or=0.0, hname=dend_5[6]\n",
      "31: apic[20], nseg=5, L=57.789293597939405, or=0.0, hname=apic[20]\n",
      "32: dend_5[7], nseg=1, L=7.6079051456122855, or=0.0, hname=dend_5[7]\n",
      "33: apic[19], nseg=3, L=29.69604155423376, or=0.0, hname=apic[19]\n",
      "34: dend_5[8], nseg=1, L=5.238552717127133, or=0.0, hname=dend_5[8]\n",
      "35: apic[16], nseg=1, L=21.905931024896606, or=0.0, hname=apic[16]\n",
      "36: apic[18], nseg=11, L=156.23455822733092, or=0.0, hname=apic[18]\n",
      "37: apic[17], nseg=15, L=232.25475940198416, or=0.0, hname=apic[17]\n",
      "38: dend_5[9], nseg=1, L=20.55380901132045, or=0.0, hname=dend_5[9]\n",
      "39: apic[15], nseg=11, L=194.55235954381325, or=0.0, hname=apic[15]\n",
      "40: dend_5[10], nseg=1, L=8.482690476479583, or=0.0, hname=dend_5[10]\n",
      "41: apic[14], nseg=13, L=200.50001290515107, or=0.0, hname=apic[14]\n",
      "42: dend_5[11], nseg=1, L=15.562772672118317, or=0.0, hname=dend_5[11]\n",
      "43: apic[11], nseg=5, L=90.21383820670987, or=0.0, hname=apic[11]\n",
      "44: apic[13], nseg=7, L=102.19603309764999, or=0.0, hname=apic[13]\n",
      "45: apic[12], nseg=7, L=104.14845852040462, or=0.0, hname=apic[12]\n",
      "46: dend_5[12], nseg=1, L=33.703248961620396, or=0.0, hname=dend_5[12]\n",
      "47: apic[4], nseg=3, L=27.711439560492558, or=0.0, hname=apic[4]\n",
      "48: apic[10], nseg=11, L=140.4134357262732, or=0.0, hname=apic[10]\n",
      "49: apic[5], nseg=1, L=12.327154110901793, or=0.0, hname=apic[5]\n",
      "50: apic[7], nseg=3, L=49.2025487660538, or=0.0, hname=apic[7]\n",
      "51: apic[9], nseg=3, L=20.986206256278034, or=0.0, hname=apic[9]\n",
      "52: apic[8], nseg=7, L=96.65809340699869, or=0.0, hname=apic[8]\n",
      "53: apic[6], nseg=5, L=55.82002502731508, or=0.0, hname=apic[6]\n",
      "54: dend_5[13], nseg=3, L=48.02552137233155, or=0.0, hname=dend_5[13]\n",
      "55: apic[3], nseg=11, L=174.29288618617815, or=0.0, hname=apic[3]\n",
      "56: dend_5[14], nseg=1, L=9.321102991076433, or=0.0, hname=dend_5[14]\n",
      "57: apic[2], nseg=11, L=173.41665848651886, or=0.0, hname=apic[2]\n",
      "58: dend_5[15], nseg=3, L=78.32750179521591, or=0.0, hname=dend_5[15]\n",
      "59: apic[1], nseg=3, L=43.80901797277119, or=0.0, hname=apic[1]\n",
      "60: dend_5[16], nseg=1, L=9.15226856552163, or=0.0, hname=dend_5[16]\n",
      "61: dend_5[30], nseg=5, L=105.16119641348777, or=0.0, hname=dend_5[30]\n",
      "62: dend_5[36], nseg=15, L=247.91382442716147, or=0.0, hname=dend_5[36]\n",
      "63: dend_5[31], nseg=5, L=86.71375342057928, or=0.0, hname=dend_5[31]\n",
      "64: dend_5[35], nseg=15, L=224.6862932763169, or=0.0, hname=dend_5[35]\n",
      "65: dend_5[32], nseg=5, L=74.3029305710867, or=0.0, hname=dend_5[32]\n",
      "66: dend_5[34], nseg=7, L=107.50731387855376, or=0.0, hname=dend_5[34]\n",
      "67: dend_5[33], nseg=9, L=108.62702476439665, or=0.0, hname=dend_5[33]\n",
      "68: dend_5[17], nseg=1, L=30.114842491457217, or=0.0, hname=dend_5[17]\n",
      "69: dend_5[29], nseg=3, L=38.12971987066261, or=0.0, hname=dend_5[29]\n",
      "70: dend_5[18], nseg=5, L=103.36786504125361, or=0.0, hname=dend_5[18]\n",
      "71: dend_5[24], nseg=3, L=68.18845503075642, or=0.0, hname=dend_5[24]\n",
      "72: dend_5[28], nseg=11, L=159.22354979719293, or=0.0, hname=dend_5[28]\n",
      "73: dend_5[25], nseg=3, L=24.614489436857074, or=0.0, hname=dend_5[25]\n",
      "74: dend_5[27], nseg=9, L=136.70922762029178, or=0.0, hname=dend_5[27]\n",
      "75: dend_5[26], nseg=7, L=101.9045981872074, or=0.0, hname=dend_5[26]\n",
      "76: dend_5[19], nseg=1, L=22.882873861364203, or=0.0, hname=dend_5[19]\n",
      "77: dend_5[23], nseg=3, L=40.87334016726543, or=0.0, hname=dend_5[23]\n",
      "78: dend_5[20], nseg=5, L=91.39579907726066, or=0.0, hname=dend_5[20]\n",
      "79: dend_5[22], nseg=7, L=90.47765047438548, or=0.0, hname=dend_5[22]\n",
      "80: dend_5[21], nseg=7, L=91.69848479121391, or=0.0, hname=dend_5[21]\n",
      "81: dend[59], nseg=1, L=18.528096361511285, or=0.0, hname=dend[59]\n",
      "82: dend[67], nseg=1, L=19.147491011752138, or=0.0, hname=dend[67]\n",
      "83: dend[71], nseg=1, L=6.669798333193796, or=0.0, hname=dend[71]\n",
      "84: dend[73], nseg=9, L=122.02439701258135, or=0.0, hname=dend[73]\n",
      "85: dend[72], nseg=11, L=135.40768509577978, or=0.0, hname=dend[72]\n",
      "86: dend[68], nseg=1, L=13.90670906735862, or=0.0, hname=dend[68]\n",
      "87: dend[70], nseg=9, L=108.15805918136186, or=0.0, hname=dend[70]\n",
      "88: dend[69], nseg=7, L=75.1176256439565, or=0.0, hname=dend[69]\n",
      "89: dend[60], nseg=1, L=13.897322149584113, or=0.0, hname=dend[60]\n",
      "90: dend[66], nseg=7, L=105.52767403647849, or=0.0, hname=dend[66]\n",
      "91: dend[61], nseg=1, L=16.394722929390998, or=0.0, hname=dend[61]\n",
      "92: dend[65], nseg=9, L=134.65334965278237, or=0.0, hname=dend[65]\n",
      "93: dend[62], nseg=1, L=11.988107201023208, or=0.0, hname=dend[62]\n",
      "94: dend[64], nseg=7, L=81.56352801977728, or=0.0, hname=dend[64]\n",
      "95: dend[63], nseg=7, L=95.37629931902124, or=0.0, hname=dend[63]\n",
      "96: dend[28], nseg=1, L=22.09387856318411, or=0.0, hname=dend[28]\n",
      "97: dend[30], nseg=1, L=5.101919101126361, or=0.0, hname=dend[30]\n",
      "98: dend[42], nseg=1, L=9.925000823594603, or=0.0, hname=dend[42]\n",
      "99: dend[56], nseg=1, L=18.076286807306296, or=0.0, hname=dend[56]\n",
      "100: dend[58], nseg=7, L=99.94493297910212, or=0.0, hname=dend[58]\n",
      "101: dend[57], nseg=11, L=151.87834095530886, or=0.0, hname=dend[57]\n",
      "102: dend[43], nseg=1, L=13.394122319248424, or=0.0, hname=dend[43]\n",
      "103: dend[49], nseg=1, L=13.785144652582613, or=0.0, hname=dend[49]\n",
      "104: dend[55], nseg=9, L=126.50735150205475, or=0.0, hname=dend[55]\n",
      "105: dend[50], nseg=3, L=27.712433647335942, or=0.0, hname=dend[50]\n",
      "106: dend[52], nseg=1, L=10.332579478111287, or=0.0, hname=dend[52]\n",
      "107: dend[54], nseg=7, L=87.73792380030416, or=0.0, hname=dend[54]\n",
      "108: dend[53], nseg=7, L=99.70514700504546, or=0.0, hname=dend[53]\n",
      "109: dend[51], nseg=9, L=122.86202448228845, or=0.0, hname=dend[51]\n",
      "110: dend[44], nseg=3, L=24.468613435207224, or=0.0, hname=dend[44]\n",
      "111: dend[48], nseg=3, L=23.976745568033714, or=0.0, hname=dend[48]\n",
      "112: dend[45], nseg=5, L=76.22931112206746, or=0.0, hname=dend[45]\n",
      "113: dend[47], nseg=5, L=64.82253806727671, or=0.0, hname=dend[47]\n",
      "114: dend[46], nseg=7, L=78.41178918031612, or=0.0, hname=dend[46]\n",
      "115: dend[31], nseg=3, L=35.96689357843055, or=0.0, hname=dend[31]\n",
      "116: dend[39], nseg=5, L=60.76873765387418, or=0.0, hname=dend[39]\n",
      "117: dend[41], nseg=7, L=98.28418977077575, or=0.0, hname=dend[41]\n",
      "118: dend[40], nseg=7, L=74.42262714214158, or=0.0, hname=dend[40]\n",
      "119: dend[32], nseg=1, L=9.931609554517506, or=0.0, hname=dend[32]\n",
      "120: dend[38], nseg=9, L=133.93091281323566, or=0.0, hname=dend[38]\n",
      "121: dend[33], nseg=3, L=21.333873679846864, or=0.0, hname=dend[33]\n",
      "122: dend[37], nseg=5, L=50.86253326304314, or=0.0, hname=dend[37]\n",
      "123: dend[34], nseg=3, L=24.42249904096417, or=0.0, hname=dend[34]\n",
      "124: dend[36], nseg=5, L=56.68638241769371, or=0.0, hname=dend[36]\n",
      "125: dend[35], nseg=5, L=66.0134343671509, or=0.0, hname=dend[35]\n",
      "126: dend[29], nseg=3, L=52.160192283058564, or=0.0, hname=dend[29]\n",
      "127: dend[15], nseg=3, L=44.7396985012134, or=0.0, hname=dend[15]\n",
      "128: dend[27], nseg=3, L=23.968256959832893, or=0.0, hname=dend[27]\n",
      "129: dend[16], nseg=3, L=45.59581120353547, or=0.0, hname=dend[16]\n",
      "130: dend[26], nseg=7, L=101.40271786636552, or=0.0, hname=dend[26]\n",
      "131: dend[17], nseg=1, L=15.736502966541796, or=0.0, hname=dend[17]\n",
      "132: dend[23], nseg=7, L=81.48871668587641, or=0.0, hname=dend[23]\n",
      "133: dend[25], nseg=3, L=34.782014393740916, or=0.0, hname=dend[25]\n",
      "134: dend[24], nseg=3, L=37.73567420421446, or=0.0, hname=dend[24]\n",
      "135: dend[18], nseg=3, L=23.53491534839579, or=0.0, hname=dend[18]\n",
      "136: dend[20], nseg=1, L=13.904115593000771, or=0.0, hname=dend[20]\n",
      "137: dend[22], nseg=5, L=67.28144715871233, or=0.0, hname=dend[22]\n",
      "138: dend[21], nseg=9, L=117.46093240586502, or=0.0, hname=dend[21]\n",
      "139: dend[19], nseg=9, L=116.65857768777781, or=0.0, hname=dend[19]\n",
      "140: dend[0], nseg=1, L=34.51966821983582, or=0.0, hname=dend[0]\n",
      "141: dend[14], nseg=13, L=192.4897419235111, or=0.0, hname=dend[14]\n",
      "142: dend[1], nseg=1, L=25.908706511325285, or=0.0, hname=dend[1]\n",
      "143: dend[7], nseg=1, L=16.37591788680364, or=0.0, hname=dend[7]\n",
      "144: dend[11], nseg=3, L=23.25659842322332, or=0.0, hname=dend[11]\n",
      "145: dend[13], nseg=9, L=118.59766351874077, or=0.0, hname=dend[13]\n",
      "146: dend[12], nseg=7, L=89.24157506999843, or=0.0, hname=dend[12]\n",
      "147: dend[8], nseg=7, L=102.02702238869485, or=0.0, hname=dend[8]\n",
      "148: dend[10], nseg=9, L=120.97604266392503, or=0.0, hname=dend[10]\n",
      "149: dend[9], nseg=5, L=62.692428296308954, or=0.0, hname=dend[9]\n",
      "150: dend[2], nseg=3, L=41.76552812675746, or=0.0, hname=dend[2]\n",
      "151: dend[4], nseg=3, L=48.10361158228876, or=0.0, hname=dend[4]\n",
      "152: dend[6], nseg=5, L=47.03910829258013, or=0.0, hname=dend[6]\n",
      "153: dend[5], nseg=5, L=75.2194048284857, or=0.0, hname=dend[5]\n",
      "154: dend[3], nseg=3, L=43.53402380243615, or=0.0, hname=dend[3]\n",
      "155: axon[0], nseg=5, L=97.09121768178117, or=0.0, hname=axon[0]\n"
     ]
    }
   ],
   "source": [
    "for i in range(len(sec_list)):\n",
    "    sec = sec_list[i]\n",
    "    print(f\"{i}: {sec.name()}, nseg={sec.nseg}, L={sec.L}, or={sec.orientation()}, hname={sec.hname()}\")"
   ]
  },
  {
   "cell_type": "code",
   "execution_count": 27,
   "metadata": {},
   "outputs": [
    {
     "data": {
      "text/plain": [
       "(5,\n",
       " 156,\n",
       " 742,\n",
       " [1,\n",
       "  1,\n",
       "  1,\n",
       "  9,\n",
       "  3,\n",
       "  1,\n",
       "  3,\n",
       "  5,\n",
       "  1,\n",
       "  1,\n",
       "  13,\n",
       "  1,\n",
       "  3,\n",
       "  1,\n",
       "  5,\n",
       "  7,\n",
       "  1,\n",
       "  3,\n",
       "  1,\n",
       "  3,\n",
       "  9,\n",
       "  5,\n",
       "  1,\n",
       "  3,\n",
       "  11,\n",
       "  1,\n",
       "  7,\n",
       "  3,\n",
       "  7,\n",
       "  5,\n",
       "  1,\n",
       "  5,\n",
       "  1,\n",
       "  3,\n",
       "  1,\n",
       "  1,\n",
       "  11,\n",
       "  15,\n",
       "  1,\n",
       "  11,\n",
       "  1,\n",
       "  13,\n",
       "  1,\n",
       "  5,\n",
       "  7,\n",
       "  7,\n",
       "  1,\n",
       "  3,\n",
       "  11,\n",
       "  1,\n",
       "  3,\n",
       "  3,\n",
       "  7,\n",
       "  5,\n",
       "  3,\n",
       "  11,\n",
       "  1,\n",
       "  11,\n",
       "  3,\n",
       "  3,\n",
       "  1,\n",
       "  5,\n",
       "  15,\n",
       "  5,\n",
       "  15,\n",
       "  5,\n",
       "  7,\n",
       "  9,\n",
       "  1,\n",
       "  3,\n",
       "  5,\n",
       "  3,\n",
       "  11,\n",
       "  3,\n",
       "  9,\n",
       "  7,\n",
       "  1,\n",
       "  3,\n",
       "  5,\n",
       "  7,\n",
       "  7,\n",
       "  1,\n",
       "  1,\n",
       "  1,\n",
       "  9,\n",
       "  11,\n",
       "  1,\n",
       "  9,\n",
       "  7,\n",
       "  1,\n",
       "  7,\n",
       "  1,\n",
       "  9,\n",
       "  1,\n",
       "  7,\n",
       "  7,\n",
       "  1,\n",
       "  1,\n",
       "  1,\n",
       "  1,\n",
       "  7,\n",
       "  11,\n",
       "  1,\n",
       "  1,\n",
       "  9,\n",
       "  3,\n",
       "  1,\n",
       "  7,\n",
       "  7,\n",
       "  9,\n",
       "  3,\n",
       "  3,\n",
       "  5,\n",
       "  5,\n",
       "  7,\n",
       "  3,\n",
       "  5,\n",
       "  7,\n",
       "  7,\n",
       "  1,\n",
       "  9,\n",
       "  3,\n",
       "  5,\n",
       "  3,\n",
       "  5,\n",
       "  5,\n",
       "  3,\n",
       "  3,\n",
       "  3,\n",
       "  3,\n",
       "  7,\n",
       "  1,\n",
       "  7,\n",
       "  3,\n",
       "  3,\n",
       "  3,\n",
       "  1,\n",
       "  5,\n",
       "  9,\n",
       "  9,\n",
       "  1,\n",
       "  13,\n",
       "  1,\n",
       "  1,\n",
       "  3,\n",
       "  9,\n",
       "  7,\n",
       "  7,\n",
       "  9,\n",
       "  5,\n",
       "  3,\n",
       "  3,\n",
       "  5,\n",
       "  5,\n",
       "  3,\n",
       "  5],\n",
       " 742)"
      ]
     },
     "execution_count": 27,
     "metadata": {},
     "output_type": "execute_result"
    }
   ],
   "source": [
    "(len(locs),len(sec_list),len(seg_list),[sec.nseg for sec in sec_list],np.sum([sec.nseg for sec in sec_list]))"
   ]
  },
  {
   "cell_type": "code",
   "execution_count": 26,
   "metadata": {},
   "outputs": [
    {
     "data": {
      "text/plain": [
       "(153, 735, 4.803921568627451)"
      ]
     },
     "execution_count": 26,
     "metadata": {},
     "output_type": "execute_result"
    }
   ],
   "source": [
    "import re\n",
    "ex_re=re.compile('^(dend|apic).*')\n",
    "(len([i for i in sec_list if ex_re.search(i.name()) is not None]),len([i for i in seg_list if ex_re.search(str(i)) is not None]),len([i for i in seg_list if ex_re.search(str(i)) is not None])/len([i for i in sec_list if ex_re.search(i.name()) is not None]))"
   ]
  },
  {
   "cell_type": "code",
   "execution_count": 21,
   "metadata": {},
   "outputs": [],
   "source": [
    "ex_re.search(str(seg_list[0]))\n",
    "#(str((seg_list[:5])))"
   ]
  },
  {
   "cell_type": "code",
   "execution_count": 7,
   "metadata": {},
   "outputs": [
    {
     "data": {
      "text/plain": [
       "(7.583050042390823,\n",
       " 104.674267724172,\n",
       " 97.09121768178117,\n",
       " array([0.        , 0.16666667, 0.33333333, 0.5       , 0.66666667,\n",
       "        0.83333333, 1.        ]),\n",
       " array([0.16666667, 0.33333333, 0.5       , 0.66666667, 0.83333333]))"
      ]
     },
     "execution_count": 7,
     "metadata": {},
     "output_type": "execute_result"
    }
   ],
   "source": [
    "(dist_to_soma(sec(0)),dist_to_soma(sec(1)),sec.L,np.linspace(0,1,sec.nseg+2),np.linspace(0,1,sec.nseg+2)[1:-1])"
   ]
  },
  {
   "cell_type": "code",
   "execution_count": null,
   "metadata": {},
   "outputs": [],
   "source": [
    "dts = [dist_to_soma(s) for s in seg_list]\n",
    "dts[:11]"
   ]
  },
  {
   "cell_type": "code",
   "execution_count": 24,
   "metadata": {},
   "outputs": [
    {
     "data": {
      "text/plain": [
       "['soma', 'dend_5', 'apic', 'dend', 'axon']"
      ]
     },
     "execution_count": 24,
     "metadata": {},
     "output_type": "execute_result"
    }
   ],
   "source": [
    "import re\n",
    "import pandas as pd\n",
    "p = re.compile(\"^([^\\\\[]+)\\\\[.+\")\n",
    "tps = [p.sub(\"\\\\1\",seg.sec.name()) for seg in seg_list]\n",
    "pd.Series(tps).drop_duplicates().tolist()"
   ]
  },
  {
   "cell_type": "code",
   "execution_count": null,
   "metadata": {
    "collapsed": false,
    "jupyter": {
     "outputs_hidden": false
    }
   },
   "outputs": [],
   "source": [
    "def sushi_system(a,b,c,d,l):\n",
    "    \"\"\"\n",
    "    Returns a matrix A, such that dx/dt = A*x\n",
    "    \n",
    "    N = # of compartments\n",
    "    A is (2N x 2N) matrix\n",
    "    x is (2N x 1) vector.\n",
    "      The first N elements correspond to concentrations of u (molecules in transit)\n",
    "      The second half correspond to concentrations of u-star (active molecules)\n",
    "    The trafficking rate constants along the microtubules are given by the vectors \"a\" and \"b\"\n",
    "    The rate constants for u turning into u* is given by the vector \"c\"\n",
    "    The rate constants for u* turning into u is given by the vector \"d\"\n",
    "    The rate constants for the degradation of u* is given by the vector \"l\"\n",
    "    \"\"\"\n",
    "    # number of compartments\n",
    "    N = len(l)\n",
    "    \n",
    "    ## State-space equations\n",
    "    #  dx/dt = Ax + Bu\n",
    "    A = np.zeros((2*N,2*N))\n",
    "\n",
    "    # Trafficking along belt\n",
    "    # Iterative traversal of dendritic tree in pre-order\n",
    "    i = 0\n",
    "    section = None\n",
    "    parentStack = [(None,h.soma[0])]\n",
    "    while len(parentStack)>0:\n",
    "        # Get next section to traverse\n",
    "        #  --> p is parent index, section is h.Section object\n",
    "        (p,section) = parentStack.pop()\n",
    "        \n",
    "        # Trafficking to/from parent\n",
    "        if p is not None:\n",
    "            # Out of parent, into child\n",
    "            ai = a.pop()\n",
    "            A[p,p] += -ai\n",
    "            A[i,p] += ai\n",
    "            # Into parent, out of child\n",
    "            bi = b.pop()\n",
    "            A[p,i] += bi\n",
    "            A[i,i] += -bi\n",
    "        \n",
    "        # visit all segments in compartment\n",
    "        for (j,seg) in enumerate(section):\n",
    "            # Deal with out/into rates within compartment, just tridiag matrix\n",
    "            if j>0:\n",
    "                # Out of parent, into child\n",
    "                ai = a.pop()\n",
    "                A[i-1,i-1] += -ai\n",
    "                A[i,i-1] += ai\n",
    "                # Into parent, out of child\n",
    "                bi = b.pop()\n",
    "                A[i-1,i] += bi\n",
    "                A[i,i] += -bi\n",
    "            # move onto next compartment\n",
    "            i += 1\n",
    "        \n",
    "        # now visit children in pre-order\n",
    "        child_list = list(h.SectionRef(sec=section).child)\n",
    "        if child_list is not None:\n",
    "            child_list.reverse()\n",
    "        for c_sec in child_list:\n",
    "            parentStack.append([i-1,c_sec]) # append parent index and child\n",
    "    \n",
    "    # Trafficking off the belt\n",
    "    for i in range(N):\n",
    "        A[i,i] += -c[i]\n",
    "        A[i+N,i] += c[i]\n",
    "    \n",
    "    # Reattachment to belt\n",
    "    #for i in range(N):\n",
    "    #    # reattachment\n",
    "    #    A[i, i + N] += d[i]\n",
    "    #    A[i + N, i + N] += -d[i]\n",
    "\n",
    "    # Degradation after being taken off the belt\n",
    "    for i in range(N):\n",
    "        A[i+N,i+N] = -l[i]\n",
    "    \n",
    "    return A"
   ]
  },
  {
   "cell_type": "code",
   "execution_count": null,
   "metadata": {
    "collapsed": false,
    "jupyter": {
     "outputs_hidden": false
    }
   },
   "outputs": [],
   "source": [
    "def trafficking_solution(utarg):\n",
    "    \"\"\" Solve the problem by tuning trafficking rates, like Figs 1 and 2. \"\"\"\n",
    "    x = []\n",
    "    \n",
    "    # Iterative traversal of dendritic tree in pre-order\n",
    "    i = 0\n",
    "    section = None\n",
    "    parentStack = [(None,h.soma[0])]\n",
    "    while len(parentStack)>0:\n",
    "        # Get next section to traverse\n",
    "        #  --> p is parent index, section is h.Section object\n",
    "        (p,section) = parentStack.pop()\n",
    "        \n",
    "        # Trafficking to/from parent\n",
    "        if p is not None:\n",
    "            mp = utarg[p] # concentration in parent\n",
    "            mc = utarg[i] # concentration in child\n",
    "            x.insert(0,mp/mc)\n",
    "        \n",
    "        # visit all segments in compartment\n",
    "        for (j,seg) in enumerate(section):\n",
    "            # Deal with out/into rates within compartment, just tridiag matrix\n",
    "            if j>0:\n",
    "                mp = utarg[i-1]\n",
    "                mc = utarg[i]\n",
    "                x.insert(0,mp/mc)\n",
    "                \n",
    "            # move onto next compartment\n",
    "            i += 1\n",
    "        \n",
    "        # now visit children in pre-order\n",
    "        child_list = list(h.SectionRef(sec=section).child)\n",
    "        if child_list is not None:\n",
    "            child_list.reverse()\n",
    "        for c_sec in child_list:\n",
    "            parentStack.append([i-1,c_sec]) # append parent index and child\n",
    "    \n",
    "    # return calculated guesses (flip, up/down since get_deriv pops from start)\n",
    "    return np.array(x)\n",
    "\n",
    "def get_sys_matrix(utarg,F=0.5,Ctau=1e-3,dscale=0.1,dv=1e-7):\n",
    "    # F is a mixing factor between 0 and 1\n",
    "    K = np.sum(utarg)/n\n",
    "    x = trafficking_solution(F*utarg + (1-F)*K)\n",
    "    a = (1/(1+x))\n",
    "    a = list(a)\n",
    "    b = list((1/(1+x**-1)))\n",
    "    l = list(np.ones(n)*dv)\n",
    "    c = list(Ctau*utarg/(F*utarg + (1-F)*K))\n",
    "    d = list([ci * dscale for ci in c])\n",
    "    A = sushi_system(a,b,c,d,l)\n",
    "    return A"
   ]
  },
  {
   "cell_type": "code",
   "execution_count": null,
   "metadata": {
    "collapsed": false,
    "jupyter": {
     "outputs_hidden": false
    }
   },
   "outputs": [],
   "source": [
    "# matrix exponential used to solve linear system\n",
    "from scipy.linalg import expm\n",
    "\n",
    "# initial condition, u starts only in soma and is trafficked out to dendrites\n",
    "u0 = np.zeros(2*n)\n",
    "u0[0] = 1.0  # compartment 0 is the soma"
   ]
  },
  {
   "cell_type": "code",
   "execution_count": null,
   "metadata": {
    "collapsed": false,
    "jupyter": {
     "outputs_hidden": false
    }
   },
   "outputs": [],
   "source": [
    "def solve_u(u0,w,V,Vinv,t):\n",
    "    D = np.diag(np.exp(w*t))          # diagonal matrix exponential\n",
    "    PHI = np.real(V.dot(D.dot(Vinv))) # state transition matrix\n",
    "    return PHI.dot(u0)                # calculate u(t)\n",
    "\n",
    "def sim_time(A,u0,time,nframes=10):\n",
    "    # Run a simulation (log time)\n",
    "    # --> this is a linear system; thus, matrix exponential provides exact solution\n",
    "    utrace = [u0]\n",
    "    w,V = scipy.linalg.eig(A)\n",
    "    Vinv = np.linalg.inv(V)\n",
    "    t = np.logspace(-0.5,math.log10(time),nframes)\n",
    "    for t_ in t: utrace.append(solve_u(u0,w,V,Vinv,t_))\n",
    "    return np.array(utrace).T\n",
    "\n",
    "def run_sim(A,nframes=10):\n",
    "    # Run a simulation (log time)\n",
    "    # --> this is a linear system; thus, matrix exponential provides exact solution\n",
    "    utrace = [u0]\n",
    "    t = np.logspace(-0.5,8.5,nframes)\n",
    "    w,V = scipy.linalg.eig(A)\n",
    "    Vinv = np.linalg.inv(V)\n",
    "    t = np.logspace(-0.5,8.5,nframes)\n",
    "    for t_ in t: utrace.append(solve_u(w,V,Vinv,t_))\n",
    "    return np.array(utrace).T\n",
    "\n",
    "def animate_sim(climits=[0,0.0035]):\n",
    "    u = utrace[n:,:]\n",
    "    fig = plt.figure(figsize=(8,8))\n",
    "    shapeax = plt.subplot(111, projection='3d')\n",
    "    lines = shapeplot(h,shapeax,order='pre',lw=2)\n",
    "    shapeax.view_init(elev=80,azim=-90)\n",
    "    plt.title('distribution of active/detached cargo',fontweight='bold',fontsize=14)\n",
    "    plt.axis('off')\n",
    "\n",
    "    # Hack to get a colorbar\n",
    "    # http://stackoverflow.com/questions/8342549/matplotlib-add-colorbar-to-a-sequence-of-line-plots\n",
    "    sm = plt.cm.ScalarMappable(cmap=plt.cm.cool, norm=plt.Normalize(climits[0],climits[1])) \n",
    "    #sm._A = []\n",
    "    #plt.colorbar(sm, shrink=0.5)\n",
    "    #plt.colorbar(sm)\n",
    "    plt.tight_layout()\n",
    "\n",
    "    anim_func = shapeplot_animate(u.T,lines,u.shape[1],clim=climits,cmap=cm.cool)\n",
    "    return animation.FuncAnimation(fig, anim_func, frames=u.shape[1], interval=5e2, blit=True)\n",
    "\n",
    "def snap_ss(name,clim=[0,0.0035],cmap=plt.cm.cool):\n",
    "    u = utrace[n:,:]\n",
    "    fig = plt.figure(figsize=(8,8))\n",
    "    shapeax = plt.subplot(111, projection='3d')\n",
    "    lines = shapeplot(h,shapeax,cvals=u[:,-1],clim=clim,\\\n",
    "                      cmap=cmap,order='pre',lw=2)\n",
    "    shapeax.view_init(elev=80,azim=-90)\n",
    "    plt.title('steady-state',fontweight='bold',fontsize=14)\n",
    "\n",
    "    # colorbar\n",
    "    sm = cm.ScalarMappable(cmap=cmap, norm=plt.Normalize(clim[0],clim[1])) \n",
    "    #sm = plt.cm.ScalarMappable(cmap=plt.cm.cool, norm=plt.Normalize(clim[0],clim[1])) \n",
    "    #sm._A = []\n",
    "    #plt.colorbar(sm, shrink=0.5)\n",
    "    #plt.colorbar(sm,cax=shapeax)\n",
    "    #plt.colorbar()\n",
    "    plt.tight_layout()\n",
    "    plt.axis('off')\n",
    "    #plt.savefig(name+'.svg')"
   ]
  },
  {
   "cell_type": "markdown",
   "metadata": {},
   "source": [
    "Read Experimental Data\n",
    "----"
   ]
  },
  {
   "cell_type": "code",
   "execution_count": 25,
   "metadata": {},
   "outputs": [
    {
     "data": {
      "text/plain": [
       "(0       Soma_0\n",
       " 1       Soma_0\n",
       " 2      CA1sr_1\n",
       " 3      CA1sr_1\n",
       " 4      CA1sr_2\n",
       "         ...   \n",
       " 737        NaN\n",
       " 738        NaN\n",
       " 739        NaN\n",
       " 740        NaN\n",
       " 741        NaN\n",
       " Name: abb, Length: 742, dtype: object,\n",
       " {'Soma_0': 2,\n",
       "  'CA1sr_1': 3,\n",
       "  'CA1sr_2': 6,\n",
       "  'CA1sr_3': 29,\n",
       "  'CA1sr_4': 37,\n",
       "  'CA1sr_5': 48,\n",
       "  'CA1sr_6': 44,\n",
       "  'CA1sr_7': 46,\n",
       "  'CA1sr_8': 38,\n",
       "  'CA1sr_9': 21,\n",
       "  'CA1sr_10': 9,\n",
       "  'CA1slm_1': 13,\n",
       "  'CA1slm_2': 24,\n",
       "  'CA1slm_3': 35,\n",
       "  'CA1slm_4': 29,\n",
       "  'CA1slm_5': 9,\n",
       "  'CA1so_5': 16,\n",
       "  'CA1so_4': 100,\n",
       "  'CA1so_3': 134,\n",
       "  'CA1so_2': 85,\n",
       "  'CA1so_1': 9,\n",
       "  nan: 5},\n",
       " dict_keys(['Soma_0', 'CA1sr_1', 'CA1sr_2', 'CA1sr_3', 'CA1sr_4', 'CA1sr_5', 'CA1sr_6', 'CA1sr_7', 'CA1sr_8', 'CA1sr_9', 'CA1sr_10', 'CA1slm_1', 'CA1slm_2', 'CA1slm_3', 'CA1slm_4', 'CA1slm_5', 'CA1so_5', 'CA1so_4', 'CA1so_3', 'CA1so_2', 'CA1so_1', nan]),\n",
       " {'Soma_0': 2,\n",
       "  'CA1sr_1': 3,\n",
       "  'CA1sr_2': 6,\n",
       "  'CA1sr_3': 29,\n",
       "  'CA1sr_4': 37,\n",
       "  'CA1sr_5': 48,\n",
       "  'CA1sr_6': 44,\n",
       "  'CA1sr_7': 46,\n",
       "  'CA1sr_8': 38,\n",
       "  'CA1sr_9': 21,\n",
       "  'CA1sr_10': 9,\n",
       "  'CA1slm_1': 13,\n",
       "  'CA1slm_2': 24,\n",
       "  'CA1slm_3': 35,\n",
       "  'CA1slm_4': 29,\n",
       "  'CA1slm_5': 9,\n",
       "  'CA1so_5': 16,\n",
       "  'CA1so_4': 100,\n",
       "  'CA1so_3': 134,\n",
       "  'CA1so_2': 85,\n",
       "  'CA1so_1': 9,\n",
       "  nan: 5})"
      ]
     },
     "execution_count": 25,
     "metadata": {},
     "output_type": "execute_result"
    }
   ],
   "source": [
    "tdf=pd.read_csv('data/seg_mapping.csv')\n",
    "abbCA1=tdf['abb']\n",
    "abbT={}\n",
    "segIdx={}\n",
    "for i in range(n):\n",
    "    abbT[abbCA1[i]] = 1+ abbT.get(abbCA1[i],0)\n",
    "    ll=segIdx.get(abbCA1[i],[])\n",
    "    ll.append(i)\n",
    "    segIdx[abbCA1[i]] = ll\n",
    "\n",
    "(abbCA1,abbT,segIdx.keys(),{k:len(segIdx.get(k)) for k in segIdx.keys()})"
   ]
  },
  {
   "cell_type": "code",
   "execution_count": null,
   "metadata": {},
   "outputs": [],
   "source": [
    "expD=pd.read_csv('data/CA1_gradient.csv')\n",
    "subreg = ['CA1so', 'CA1sr', 'CA1slm']\n",
    "expD"
   ]
  },
  {
   "cell_type": "code",
   "execution_count": null,
   "metadata": {},
   "outputs": [],
   "source": [
    "import sushibelt\n",
    "import time"
   ]
  },
  {
   "cell_type": "code",
   "execution_count": null,
   "metadata": {},
   "outputs": [],
   "source": [
    "utarg = np.ones(len(seg_list))\n",
    "for i in range(expD.shape[0]):\n",
    "    abb = expD['Abbreviation'][i]\n",
    "    sidx= segIdx[abb]\n",
    "    utarg[sidx] *= i\n",
    "u1 = np.concatenate((utarg,utarg))\n",
    "utrace = [u1,u1]\n",
    "utrace = np.array(utrace).T\n",
    "snap_ss(f\"segment_distribution\",clim=[0,max(utarg)],cmap=plt.cm.YlOrBr)\n",
    "max(utarg)"
   ]
  },
  {
   "cell_type": "code",
   "execution_count": null,
   "metadata": {},
   "outputs": [],
   "source": [
    "utarg = np.ones(len(seg_list))\n",
    "for i in range(expD.shape[0]):\n",
    "    abb = expD['Abbreviation'][i]\n",
    "    sidx= segIdx[abb]\n",
    "    utarg[sidx] *= [j for j in range(len(subreg)) if subreg[j]== expD['Subregion'][i]][0]\n",
    "u1 = np.concatenate((utarg,utarg))\n",
    "utrace = [u1,u1]\n",
    "utrace = np.array(utrace).T\n",
    "snap_ss(f\"subregion_distribution\",clim=[0,max(utarg)],cmap=plt.cm.YlOrBr)\n",
    "max(utarg)"
   ]
  },
  {
   "cell_type": "markdown",
   "metadata": {},
   "source": [
    "Day 0 3 weeks\n",
    "------"
   ]
  },
  {
   "cell_type": "code",
   "execution_count": null,
   "metadata": {},
   "outputs": [],
   "source": [
    "cname='D0W3'\n",
    "utarg = np.ones(len(seg_list))\n",
    "unsig = np.ones(len(seg_list))\n",
    "for i in range(expD.shape[0]):\n",
    "    abb = expD['Abbreviation'][i]\n",
    "    sidx= segIdx[abb]\n",
    "    utarg[sidx] *= expD[f\"{cname}_MEAN\"][i]/len(sidx)\n",
    "    unsig[sidx] *= len(sidx)\n",
    "    v=expD[f\"{cname}_MEAN\"][i]\n",
    "    print(f\"i={i}, abb={abb}, len(sidx)={len(sidx)}, v={v}, nv={v/len(sidx)}\")\n",
    "u1 = np.concatenate((utarg,utarg))\n",
    "un = np.concatenate((unsig,unsig))\n",
    "utrace = [u1,u1]\n",
    "utrace = np.array(utrace).T\n",
    "#snap_ss(f\"case1_{cname}_target\",clim=[0,max(utarg)],cmap=plt.cm.YlOrBr)\n",
    "max(utarg)"
   ]
  },
  {
   "cell_type": "code",
   "execution_count": null,
   "metadata": {},
   "outputs": [],
   "source": [
    "utM,utF = sushibelt.aggregate_segments(u1/np.sum(u1),segIdx,expD['Abbreviation'],fun=np.sum)\n",
    "x=np.array(range(expD.shape[0]))\n",
    "\n",
    "plt.plot(x,utM,label='utargM')\n",
    "plt.plot(x,utF,label='utargF')\n",
    "# show a legend on the plot\n",
    "plt.legend()\n"
   ]
  },
  {
   "cell_type": "code",
   "execution_count": null,
   "metadata": {},
   "outputs": [],
   "source": [
    "utM,utF = sushibelt.aggregate_segments(un/np.sum(un),segIdx,expD['Abbreviation'],fun=np.sum)\n",
    "x=np.array(range(expD.shape[0]))\n",
    "\n",
    "plt.plot(x,utM,label='utargM')\n",
    "plt.plot(x,utF,label='utargF')\n",
    "# show a legend on the plot\n",
    "plt.legend()\n"
   ]
  },
  {
   "cell_type": "code",
   "execution_count": null,
   "metadata": {},
   "outputs": [],
   "source": [
    "cname='D7W3'\n",
    "obsD = np.ones(len(seg_list))\n",
    "for i in range(expD.shape[0]):\n",
    "    abb = expD['Abbreviation'][i]\n",
    "    sidx= segIdx[abb]\n",
    "    obsD[sidx] *= expD[f\"{cname}_MEAN\"][i]/len(sidx)\n",
    "nobsD = np.array(expD[f\"{cname}_MEAN\"])/np.sum(expD[f\"{cname}_MEAN\"])\n",
    "uD = np.concatenate((obsD,obsD))\n",
    "utrace = [uD,uD]\n",
    "utrace = np.array(utrace).T\n",
    "snap_ss(f\"case1_{cname}_target\",clim=[0,max(obsD)],cmap=plt.cm.YlOrBr)\n",
    "max(obsD)"
   ]
  },
  {
   "cell_type": "code",
   "execution_count": null,
   "metadata": {},
   "outputs": [],
   "source": [
    "diF=abs(uD-u1)\n",
    "utrace = [diF,diF]\n",
    "utrace = np.array(utrace).T\n",
    "snap_ss(f\"case1_{cname}_target\",clim=[min(diF),max(diF)],cmap=plt.cm.YlOrBr)\n",
    "(min(diF),max(diF))"
   ]
  },
  {
   "cell_type": "code",
   "execution_count": null,
   "metadata": {},
   "outputs": [],
   "source": [
    "x=np.array(range(expD.shape[0]))\n",
    "plt.plot(x,expD[f\"D0W3_MEAN\"],label='D0W3')\n",
    "plt.plot(x,expD[f\"D7W3_MEAN\"],label='D7W3')\n",
    "# show a legend on the plot\n",
    "plt.legend()\n",
    " \n",
    "# function to show the plot\n",
    "plt.show()"
   ]
  },
  {
   "cell_type": "code",
   "execution_count": null,
   "metadata": {},
   "outputs": [],
   "source": [
    "plt.plot(x,expD[f\"D0W3_MEAN\"]/np.sum(expD[f\"D0W3_MEAN\"]),label='norm D0W3')\n",
    "plt.plot(x,expD[f\"D7W3_MEAN\"]/np.sum(expD[f\"D7W3_MEAN\"]),label='norm D7W3')\n",
    "# show a legend on the plot\n",
    "plt.legend()\n",
    " \n",
    "# function to show the plot\n",
    "plt.show()"
   ]
  },
  {
   "cell_type": "code",
   "execution_count": null,
   "metadata": {},
   "outputs": [],
   "source": [
    "mProp=0.25\n",
    "u0 = np.concatenate((mProp*utarg/np.sum(utarg),(1-mProp)*utarg/np.sum(utarg)))\n",
    "initM,initF = sushibelt.aggregate_segments(u0,segIdx,expD['Abbreviation'],fun=np.sum)\n",
    "x=np.array(range(expD.shape[0]))\n",
    "\n",
    "plt.plot(x,expD[f\"D0W3_MEAN\"]/np.sum(expD[f\"D0W3_MEAN\"]),label='D0W3_MEAN')\n",
    "plt.plot(x,initM,label='mobile')\n",
    "plt.plot(x,initF,label='detached')\n",
    "# show a legend on the plot\n",
    "plt.legend()\n",
    " \n",
    "# function to show the plot\n",
    "plt.show()"
   ]
  },
  {
   "cell_type": "code",
   "execution_count": null,
   "metadata": {},
   "outputs": [],
   "source": [
    "mProp=0.25\n",
    "u0 = np.concatenate((mProp*utarg/np.sum(utarg),(1-mProp)*utarg/np.sum(utarg)))\n",
    "initM,initF = sushibelt.aggregate_segments(u0,segIdx,expD['Abbreviation'],fun=np.sum)\n",
    "utM,utF = sushibelt.aggregate_segments(uD/np.sum(u1),segIdx,expD['Abbreviation'],fun=np.sum)\n",
    "x=np.array(range(expD.shape[0]))\n",
    "\n",
    "plt.plot(x,utM,label='utarg')\n",
    "plt.plot(x,initM,label='mobile')\n",
    "plt.plot(x,initF,label='detached')\n",
    "# show a legend on the plot\n",
    "plt.legend()\n",
    " \n",
    "# function to show the plot\n",
    "plt.show()"
   ]
  },
  {
   "cell_type": "code",
   "execution_count": null,
   "metadata": {},
   "outputs": [],
   "source": [
    "(mProp,np.sum(utM),np.sum(utF),np.sum(initM),np.sum(initF),np.sum(u1))"
   ]
  },
  {
   "cell_type": "markdown",
   "metadata": {},
   "source": [
    "First Case: F=0, Ctau=5e-4, dv=1e-7\n",
    "----"
   ]
  },
  {
   "cell_type": "code",
   "execution_count": null,
   "metadata": {},
   "outputs": [],
   "source": [
    "#utarg = utrace#[,0]\n",
    "utarg /= np.sum(utarg)\n",
    "F=0\n",
    "Ctau=5e-4\n",
    "dscale=0.1\n",
    "dv=1e-7\n",
    "mProp=0.25\n",
    "K = np.sum(utarg)/n\n",
    "x = trafficking_solution(F*utarg + (1-F)*K)\n",
    "a = (1/(1+x))\n",
    "a = list(a)\n",
    "b = list((1/(1+x**-1)))\n",
    "l = list(np.ones(n)*dv)\n",
    "c = list(Ctau*utarg/(F*utarg + (1-F)*K))\n",
    "d = list(np.zeros(n))\n",
    "AF1 = sushi_system(a,b,c,d,l)\n",
    "a, b, c, _ = sushibelt.set_uniform_rates(h, DC)\n",
    "A = sushi_system(a,b,c,d,l)"
   ]
  },
  {
   "cell_type": "code",
   "execution_count": null,
   "metadata": {
    "collapsed": false,
    "jupyter": {
     "outputs_hidden": false
    }
   },
   "outputs": [],
   "source": [
    "# Run simulation\n",
    "#utarg = utrace\n",
    "#utarg /= np.sum(utarg)\n",
    "u0 = np.concatenate((mProp*utarg,(1-mProp)*utarg))\n",
    "initTime=time.time()\n",
    "#Ai = get_sys_matrix(utarg,F=0,Ctau=1e-5,dscale=1.0,dv=0)\n",
    "#A = get_sys_matrix(utarg,F=0,Ctau=1e-5,dscale=0.01,dv=0)\n",
    "utrace = sim_time(A,u0,day7)\n",
    "FinalTime=time.time()-initTime\n",
    "\n",
    "# snapshot of steady-state\n",
    "#snap_ss(f\"case1_{cname}\",clim=[0,max(utrace[:,-1])],cmap=plt.cm.YlOrBr)\n",
    "\n",
    "# animation\n",
    "#animate_sim()\n",
    "print(FinalTime)"
   ]
  },
  {
   "cell_type": "code",
   "execution_count": null,
   "metadata": {},
   "outputs": [],
   "source": [
    "(np.sum(u0),np.sum(utrace))"
   ]
  },
  {
   "cell_type": "code",
   "execution_count": null,
   "metadata": {
    "collapsed": false,
    "jupyter": {
     "outputs_hidden": false
    }
   },
   "outputs": [],
   "source": [
    "# Run simulation\n",
    "#utarg = utrace\n",
    "#utarg /= np.sum(utarg)\n",
    "u0 = np.concatenate((mProp*utarg,(1-mProp)*utarg))\n",
    "initTime=time.time()\n",
    "#Ai = get_sys_matrix(utarg,F=0,Ctau=1e-5,dscale=1.0,dv=0)\n",
    "#A = get_sys_matrix(utarg,F=0,Ctau=1e-5,dscale=0.01,dv=0)\n",
    "utraceF1 = sim_time(AF1,u0,day7)\n",
    "FinalTime=time.time()-initTime\n",
    "\n",
    "# snapshot of steady-state\n",
    "snap_ss(f\"case1_{cname}\",clim=[0,max(utraceF1[:,-1])],cmap=plt.cm.YlOrBr)\n",
    "\n",
    "# animation\n",
    "#animate_sim()\n",
    "print(FinalTime)"
   ]
  },
  {
   "cell_type": "code",
   "execution_count": null,
   "metadata": {},
   "outputs": [],
   "source": [
    "(np.sum(u0),np.sum(utrace),np.sum(utraceF1))"
   ]
  },
  {
   "cell_type": "code",
   "execution_count": null,
   "metadata": {},
   "outputs": [],
   "source": [
    "resM,resF = sushibelt.aggregate_segments(utrace[:,-1],segIdx,expD['Abbreviation'],fun=np.sum)\n",
    "x=np.array(range(expD.shape[0]))\n",
    "plt.plot(x,resM,label='mobile')\n",
    "plt.plot(x,resF,label='detached')\n",
    "# show a legend on the plot\n",
    "plt.legend()\n",
    " \n",
    "# function to show the plot\n",
    "plt.show()"
   ]
  },
  {
   "cell_type": "code",
   "execution_count": null,
   "metadata": {},
   "outputs": [],
   "source": [
    "resMf1,resFf1 = sushibelt.aggregate_segments(utraceF1[:,-1],segIdx,expD['Abbreviation'],fun=np.sum)\n",
    "x=np.array(range(expD.shape[0]))\n",
    "\n",
    "plt.plot(x,resM,label='mobile DC')\n",
    "plt.plot(x,resF,label='detached DC')\n",
    "plt.plot(x,resMf1,label='mobile F1')\n",
    "plt.plot(x,resFf1,label='detached F1')\n",
    "# show a legend on the plot\n",
    "plt.legend()\n",
    " \n",
    "# function to show the plot\n",
    "plt.show()"
   ]
  },
  {
   "cell_type": "code",
   "execution_count": null,
   "metadata": {},
   "outputs": [],
   "source": [
    "abb_list=np.array(expD['Abbreviation'])\n",
    "#(len(abb_list),np.mean(expD[f\"{cname}_MEAN\"]),abb_list,segIdx)"
   ]
  },
  {
   "cell_type": "code",
   "execution_count": null,
   "metadata": {},
   "outputs": [],
   "source": [
    "cname0='D0M3'\n",
    "cname7='D7M3'\n",
    "obsD = np.ones(len(seg_list))\n",
    "resMo = np.zeros(expD.shape[0])\n",
    "resFo = np.zeros(expD.shape[0])\n",
    "for i in range(expD.shape[0]):\n",
    "    abb = expD['Abbreviation'][i]\n",
    "    sidx= segIdx[abb]\n",
    "    obsD[sidx] *= expD[f\"{cname7}_MEAN\"][i]\n",
    "nobsD = np.array(expD[f\"{cname7}_MEAN\"])/np.sum(expD[f\"{cname7}_MEAN\"])\n",
    "nobsDnn = np.array(expD[f\"{cname7}_MEAN\"])/np.sum(expD[f\"{cname0}_MEAN\"])\n",
    "target = np.array(expD[f\"{cname7}_MEAN\"])/np.sum(expD[f\"{cname0}_MEAN\"]) #results to fit to\n",
    "targSD = np.array(expD[f\"{cname7}_SD\"])/np.sum(expD[f\"{cname0}_MEAN\"]) #measurement errors\n",
    "(np.sum(target),nobsD)"
   ]
  },
  {
   "cell_type": "code",
   "execution_count": null,
   "metadata": {},
   "outputs": [],
   "source": [
    "?ax.legend"
   ]
  },
  {
   "cell_type": "code",
   "execution_count": null,
   "metadata": {},
   "outputs": [],
   "source": [
    "(resF,nobsD,np.sum((resF-nobsD)**2))"
   ]
  },
  {
   "cell_type": "code",
   "execution_count": null,
   "metadata": {},
   "outputs": [],
   "source": [
    "x=np.array(range(expD.shape[0]))\n",
    "\n",
    "plt.plot(x,nobsDnn,'o-',label=cname7)\n",
    "#plt.plot(x,nresM,label='mobile O')\n",
    "#plt.plot(x,nresF,label='detached O')\n",
    "plt.plot(x,resM,label='mobile DC')\n",
    "plt.plot(x,resF,label='detached DC')\n",
    "plt.plot(x,resMf1,label='mobile F1')\n",
    "plt.plot(x,resFf1,label='detached F1')\n",
    "# show a legend on the plot\n",
    "plt.legend()\n",
    " \n",
    "# function to show the plot\n",
    "plt.show()"
   ]
  },
  {
   "cell_type": "code",
   "execution_count": null,
   "metadata": {},
   "outputs": [],
   "source": [
    "itarg = np.ones(len(seg_list), dtype=int)\n",
    "par = [1000,0,0,0,1,2,3,4]\n",
    "for i in range(expD.shape[0]):\n",
    "    abb = expD['Abbreviation'][i]\n",
    "    sidx = segIdx[abb]\n",
    "    itarg[sidx] *= [j + 4 for j in range(len(subreg)) if subreg[j] == expD['Subregion'][i]][0]\n",
    "utarg = [par[j] for j in itarg]\n",
    "(itarg,utarg)"
   ]
  },
  {
   "cell_type": "code",
   "execution_count": null,
   "metadata": {},
   "outputs": [],
   "source": [
    "def calcUtrace(par,delta=1e-7):\n",
    "    F = par[0]\n",
    "    Ctau = 10 ** par[1]\n",
    "    dv = 10 ** par[2]\n",
    "    mProp = par[3]\n",
    "    utarg = delta*np.ones(N)\n",
    "    for k in range(N):\n",
    "        if itarg[k] > 3:\n",
    "            utarg[k] = par[itarg[k]]\n",
    "    utarg /= np.sum(utarg)\n",
    "    K = np.sum(utarg) / N\n",
    "    x = trafficking_solution(F * utarg + (1 - F) * K)\n",
    "    a = (1 / (1 + x))\n",
    "    a = list(a)\n",
    "    b = list((1 / (1 + x ** -1)))\n",
    "    l = list(np.ones(N) * dv)\n",
    "    c = list(Ctau * utarg / (F * utarg + (1 - F) * K))\n",
    "    d = list(np.zeros(N))\n",
    "    A = sushi_system(a, b, c, d, l)\n",
    "    u0 = np.concatenate((mProp * dinit, (1 - mProp) * dinit))\n",
    "    utrace = sim_time(A, u0, day7)\n",
    "    return utrace\n",
    "\n",
    "d0w = np.ones(n)\n",
    "for i in range(expD.shape[0]):\n",
    "    abb = expD['Abbreviation'][i]\n",
    "    sidx= segIdx[abb]\n",
    "    d0w[sidx] *= expD[f\"{cname0}_MEAN\"][i]/len(sidx)\n",
    "dinit = d0w/np.sum(d0w)\n",
    "#par=[0.961919484252899,-5.133858267716535,-8.0,0.31251612903225806,0.001,0.4316110587484276,0.9295395757281527]\n",
    "#par=[9.59958074e-01, -5.13385827e+00, -8.40000000e+00,  3.12516129e-01,\n",
    "#        1.00095272e-03,  4.47587470e-01,  9.64900400e-01]\n",
    "#par = [0.7319544570315621,-18.0,0.9999999999999858,0.09013312454954349,0.0010182254872917412,0.558826997851783,0.9999999999999996]\n",
    "#cost=0.22173789\n",
    "#par = [0.0,-5.928312450225743,-5.432607526718705,0.04433935470301702,0.001,0.027516497491107825,1.0]\n",
    "#cost = 0.00011137664851494792\n",
    "#par = [7.01114319640285e-11,-7.845116636109227,-5.370033238533027,0.9138982830508748,0.001,0.4710826042662421,0.9999999999999994]\n",
    "#cost = 8.913377924831686e-05\n",
    "par = [0.0,-7.358806506113698,-5.877206062417285,0.8259346892916518,0.001,0.005597295489466257,0.007967029322102446]\n",
    "cost = 0.0002469349585610918\n",
    "mProp = par[3]\n",
    "utrace = calcUtrace(par)\n",
    "resM, resF = sushibelt.aggregate_segments(utrace[:, -1], segIdx, expD['Abbreviation'], fun=np.sum)\n"
   ]
  },
  {
   "cell_type": "code",
   "execution_count": null,
   "metadata": {},
   "outputs": [],
   "source": [
    "{'F' : par[0],\n",
    "'Ctau' : 10 ** par[1],\n",
    "'l' : 10 ** par[2],\n",
    "'mProp' : par[3],\n",
    "'demand_CA1so': par[4],\n",
    "'demand_CA1sr': par[5],\n",
    "'demand_CA1slm': par[6],\n",
    "'sum_target' : np.sum(target),\n",
    "'sum_target^2' : np.sum(target ** 2),\n",
    "'sum_resM' : np.sum(resM),\n",
    "'sum_resF' : np.sum(resF),\n",
    "'sum_tot' : np.sum(resF)+np.sum(resM),\n",
    "'err' : np.sum((resF/(1-mProp) - target) ** 2),\n",
    "'err_norm' : np.sum((resF/(1-par[3]) - target) ** 2)/np.sum(target ** 2),\n",
    "'cost' : cost \n",
    "}"
   ]
  },
  {
   "cell_type": "code",
   "execution_count": null,
   "metadata": {},
   "outputs": [],
   "source": [
    "u0 = np.concatenate((mProp * dinit, (1 - mProp) * dinit))\n",
    "u0M, u0F = sushibelt.aggregate_segments(u0, segIdx, expD['Abbreviation'], fun=np.sum)\n",
    "(np.sum(dinit),np.sum(u0M),np.sum(u0F),u0M,u0F,np.sum(u0[:n]),np.sum(u0[n:]))"
   ]
  },
  {
   "cell_type": "code",
   "execution_count": null,
   "metadata": {},
   "outputs": [],
   "source": [
    "x=np.array(range(expD.shape[0]))\n",
    "\n",
    "plt.plot(x,nobsDnn,'o-',label=cname7)\n",
    "#plt.plot(x,nresM,label='mobile O')\n",
    "#plt.plot(x,nresF,label='detached O')\n",
    "plt.plot(x,resM,label='mobile DC')\n",
    "plt.plot(x,resF,label='detached DC')\n",
    "# show a legend on the plot\n",
    "plt.legend()\n",
    "plt.title(f\"Cost = {cost}\") \n",
    "# function to show the plot\n",
    "#plt.show()\n",
    "plt.savefig('bestFitEdita20240530.png')\n",
    "plt.savefig('bestFitEdita20240530.pdf')\n",
    "plt.savefig('bestFitEdita20240530.svg')\n"
   ]
  },
  {
   "cell_type": "code",
   "execution_count": null,
   "metadata": {},
   "outputs": [],
   "source": [
    "x=np.array(range(expD.shape[0]))\n",
    "fig, ax = plt.subplots()\n",
    "ax.plot(x,nobsDnn,'o-',label=cname7)\n",
    "ax.plot(x,resF/(1-mProp),label='detached norm DC')\n",
    "# show a legend on the plot\n",
    "ax.set_xlabel('Region number')\n",
    "ax.set_ylabel('Value')\n",
    "ax.set_xticks(x,expD['Abbreviation'],rotation=90)\n",
    "# show a legend on the plot\n",
    "ax.legend()\n",
    "pos = ax.get_position()\n",
    "ax.set_position([pos.x0, pos.y0 + pos.height*0.15, pos.width , pos.height* 0.85])\n",
    "#plt.title(f\"Cost = {cost}\") \n",
    "plt.title(f\"Cost = {format(cost,'.4g')}, $\\chi^2$ = {format(np.sum(((resF/(1-mProp) - target)/targSD) ** 2),'.4g')}\") \n",
    "# function to show the plot\n",
    "#plt.show()\n",
    "plt.savefig('bestFitEdita20240530.fit.png')\n",
    "plt.savefig('bestFitEdita20240530.fit.pdf')\n",
    "plt.savefig('bestFitEdita20240530.fit.svg')\n"
   ]
  },
  {
   "cell_type": "markdown",
   "metadata": {},
   "source": [
    "Day 7 3 weeks\n",
    "----"
   ]
  },
  {
   "cell_type": "code",
   "execution_count": null,
   "metadata": {},
   "outputs": [],
   "source": [
    "cname='D7W3'\n",
    "utarg = np.ones(len(seg_list))\n",
    "for i in range(expD.shape[0]):\n",
    "    abb = expD['Abbreviation'][i]\n",
    "    sidx= segIdx[abb]\n",
    "    utarg[sidx] *= expD[f\"{cname}_MEAN\"][i]\n",
    "u1 = np.concatenate((utarg,utarg))\n",
    "utrace = [u1,u1]\n",
    "utrace = np.array(utrace).T\n",
    "snap_ss(f\"case1_{cname}_target\",clim=[0,max(utarg)],cmap=plt.cm.YlOrBr)\n",
    "max(utarg)"
   ]
  },
  {
   "cell_type": "code",
   "execution_count": null,
   "metadata": {
    "collapsed": false,
    "jupyter": {
     "outputs_hidden": false
    }
   },
   "outputs": [],
   "source": [
    "utarg /= np.sum(utarg)\n",
    "\n",
    "# Run simulation\n",
    "initTime=time.time()\n",
    "A = get_sys_matrix(utarg,F=0,Ctau=1e-5,dv=1e-9)\n",
    "utrace = run_sim(A)\n",
    "FinalTime=time.time()-initTime\n",
    "\n",
    "# snapshot of steady-state\n",
    "snap_ss(f\"case1_{cname}\")\n",
    "\n",
    "# animation\n",
    "#animate_sim()\n",
    "print(FinalTime)"
   ]
  },
  {
   "cell_type": "markdown",
   "metadata": {},
   "source": [
    "Day 0 3 month\n",
    "----"
   ]
  },
  {
   "cell_type": "code",
   "execution_count": null,
   "metadata": {},
   "outputs": [],
   "source": [
    "cname='D0M3'\n",
    "utarg = np.ones(len(seg_list))\n",
    "for i in range(expD.shape[0]):\n",
    "    abb = expD['Abbreviation'][i]\n",
    "    sidx= segIdx[abb]\n",
    "    utarg[sidx] *= expD[f\"{cname}_MEAN\"][i]\n",
    "u1 = np.concatenate((utarg,utarg))\n",
    "utrace = [u1,u1]\n",
    "utrace = np.array(utrace).T\n",
    "snap_ss(f\"case1_{cname}_target\",clim=[0,max(utarg)],cmap=plt.cm.YlOrBr)\n",
    "max(utarg)"
   ]
  },
  {
   "cell_type": "code",
   "execution_count": null,
   "metadata": {
    "collapsed": false,
    "jupyter": {
     "outputs_hidden": false
    }
   },
   "outputs": [],
   "source": [
    "utarg /= np.sum(utarg)\n",
    "\n",
    "# Run simulation\n",
    "initTime=time.time()\n",
    "A = get_sys_matrix(utarg,F=0,Ctau=1e-5,dv=1e-9)\n",
    "utrace = run_sim(A)\n",
    "FinalTime=time.time()-initTime\n",
    "\n",
    "# snapshot of steady-state\n",
    "snap_ss(f\"case1_{cname}\")\n",
    "\n",
    "# animation\n",
    "#animate_sim()\n",
    "print(FinalTime)"
   ]
  },
  {
   "cell_type": "markdown",
   "metadata": {},
   "source": [
    "Day 7 3 month\n",
    "----"
   ]
  },
  {
   "cell_type": "code",
   "execution_count": null,
   "metadata": {},
   "outputs": [],
   "source": [
    "cname='D7M3'\n",
    "utarg = np.ones(len(seg_list))\n",
    "for i in range(expD.shape[0]):\n",
    "    abb = expD['Abbreviation'][i]\n",
    "    sidx= segIdx[abb]\n",
    "    utarg[sidx] *= expD[f\"{cname}_MEAN\"][i]\n",
    "u1 = np.concatenate((utarg,utarg))\n",
    "utrace = [u1,u1]\n",
    "utrace = np.array(utrace).T\n",
    "snap_ss(f\"case1_{cname}_target\",clim=[0,max(utarg)],cmap=plt.cm.YlOrBr)\n",
    "max(utarg)"
   ]
  },
  {
   "cell_type": "code",
   "execution_count": null,
   "metadata": {
    "collapsed": false,
    "jupyter": {
     "outputs_hidden": false
    }
   },
   "outputs": [],
   "source": [
    "utarg /= np.sum(utarg)\n",
    "\n",
    "# Run simulation\n",
    "initTime=time.time()\n",
    "A = get_sys_matrix(utarg,F=0,Ctau=1e-5,dv=1e-9)\n",
    "utrace = run_sim(A)\n",
    "FinalTime=time.time()-initTime\n",
    "\n",
    "# snapshot of steady-state\n",
    "snap_ss(f\"case1_{cname}\")\n",
    "\n",
    "# animation\n",
    "#animate_sim()\n",
    "print(FinalTime)"
   ]
  },
  {
   "cell_type": "markdown",
   "metadata": {},
   "source": [
    "Day 0 18 month\n",
    "----"
   ]
  },
  {
   "cell_type": "code",
   "execution_count": null,
   "metadata": {},
   "outputs": [],
   "source": [
    "cname='D0M18'\n",
    "utarg = np.ones(len(seg_list))\n",
    "for i in range(expD.shape[0]):\n",
    "    abb = expD['Abbreviation'][i]\n",
    "    sidx= segIdx[abb]\n",
    "    utarg[sidx] *= expD[f\"{cname}_MEAN\"][i]\n",
    "u1 = np.concatenate((utarg,utarg))\n",
    "utrace = [u1,u1]\n",
    "utrace = np.array(utrace).T\n",
    "snap_ss(f\"case1_{cname}_target\",clim=[0,max(utarg)],cmap=plt.cm.YlOrBr)\n",
    "max(utarg)"
   ]
  },
  {
   "cell_type": "code",
   "execution_count": null,
   "metadata": {
    "collapsed": false,
    "jupyter": {
     "outputs_hidden": false
    }
   },
   "outputs": [],
   "source": [
    "utarg /= np.sum(utarg)\n",
    "\n",
    "# Run simulation\n",
    "initTime=time.time()\n",
    "A = get_sys_matrix(utarg,F=0,Ctau=1e-5,dv=1e-9)\n",
    "utrace = run_sim(A)\n",
    "FinalTime=time.time()-initTime\n",
    "\n",
    "# snapshot of steady-state\n",
    "snap_ss(f\"case1_{cname}\")\n",
    "\n",
    "# animation\n",
    "#animate_sim()\n",
    "print(FinalTime)"
   ]
  },
  {
   "cell_type": "markdown",
   "metadata": {},
   "source": [
    "Day 7 18 month\n",
    "----"
   ]
  },
  {
   "cell_type": "code",
   "execution_count": null,
   "metadata": {},
   "outputs": [],
   "source": [
    "cname='D7M18'\n",
    "utarg = np.ones(len(seg_list))\n",
    "for i in range(expD.shape[0]):\n",
    "    abb = expD['Abbreviation'][i]\n",
    "    sidx= segIdx[abb]\n",
    "    utarg[sidx] *= expD[f\"{cname}_MEAN\"][i]\n",
    "u1 = np.concatenate((utarg,utarg))\n",
    "utrace = [u1,u1]\n",
    "utrace = np.array(utrace).T\n",
    "snap_ss(f\"case1_{cname}_target\",clim=[0,max(utarg)],cmap=plt.cm.YlOrBr)\n",
    "max(utarg)"
   ]
  },
  {
   "cell_type": "code",
   "execution_count": null,
   "metadata": {
    "collapsed": false,
    "jupyter": {
     "outputs_hidden": false
    }
   },
   "outputs": [],
   "source": [
    "utarg /= np.sum(utarg)\n",
    "\n",
    "# Run simulation\n",
    "initTime=time.time()\n",
    "A = get_sys_matrix(utarg,F=0,Ctau=1e-5,dv=1e-9)\n",
    "utrace = run_sim(A)\n",
    "FinalTime=time.time()-initTime\n",
    "\n",
    "# snapshot of steady-state\n",
    "snap_ss(f\"case1_{cname}\")\n",
    "\n",
    "# animation\n",
    "#animate_sim()\n",
    "print(FinalTime)"
   ]
  },
  {
   "cell_type": "markdown",
   "metadata": {},
   "source": [
    "Second Case: timescales not separated, proximal inputs are *greedy* and prevent distal transport\n",
    "----"
   ]
  },
  {
   "cell_type": "markdown",
   "metadata": {},
   "source": [
    "Day 0 3 weeks\n",
    "----"
   ]
  },
  {
   "cell_type": "code",
   "execution_count": null,
   "metadata": {},
   "outputs": [],
   "source": [
    "cname='D0W3'\n",
    "utarg = np.ones(len(seg_list))\n",
    "for i in range(expD.shape[0]):\n",
    "    abb = expD['Abbreviation'][i]\n",
    "    sidx= segIdx[abb]\n",
    "    utarg[sidx] *= expD[f\"{cname}_MEAN\"][i]\n",
    "u1 = np.concatenate((utarg,utarg))\n",
    "utrace = [u1,u1]\n",
    "utrace = np.array(utrace).T\n",
    "snap_ss(f\"case2_{cname}_target\",clim=[0,max(utarg)],cmap=plt.cm.YlOrBr)\n",
    "max(utarg)"
   ]
  },
  {
   "cell_type": "code",
   "execution_count": null,
   "metadata": {
    "collapsed": false,
    "jupyter": {
     "outputs_hidden": false
    }
   },
   "outputs": [],
   "source": [
    "# Run simulation\n",
    "utarg /= np.sum(utarg)\n",
    "initTime=time.time()\n",
    "A = get_sys_matrix(utarg,F=1,Ctau=1e-4,dv=1e-9)\n",
    "utrace = run_sim(A)\n",
    "FinalTime=time.time()-initTime\n",
    "\n",
    "# snapshot of steady-state\n",
    "snap_ss(f\"case2_{cname}\")\n",
    "\n",
    "# animation\n",
    "#animate_sim()\n",
    "print(FinalTime)"
   ]
  },
  {
   "cell_type": "markdown",
   "metadata": {},
   "source": [
    "Day 7 3 weeks\n",
    "----"
   ]
  },
  {
   "cell_type": "code",
   "execution_count": null,
   "metadata": {},
   "outputs": [],
   "source": [
    "cname='D7W3'\n",
    "utarg = np.ones(len(seg_list))\n",
    "for i in range(expD.shape[0]):\n",
    "    abb = expD['Abbreviation'][i]\n",
    "    sidx= segIdx[abb]\n",
    "    utarg[sidx] *= expD[f\"{cname}_MEAN\"][i]\n",
    "u1 = np.concatenate((utarg,utarg))\n",
    "utrace = [u1,u1]\n",
    "utrace = np.array(utrace).T\n",
    "snap_ss(f\"case2_{cname}_target\",clim=[0,max(utarg)],cmap=plt.cm.YlOrBr)\n",
    "max(utarg)"
   ]
  },
  {
   "cell_type": "code",
   "execution_count": null,
   "metadata": {
    "collapsed": false,
    "jupyter": {
     "outputs_hidden": false
    }
   },
   "outputs": [],
   "source": [
    "utarg /= np.sum(utarg)\n",
    "\n",
    "# Run simulation\n",
    "initTime=time.time()\n",
    "A = get_sys_matrix(utarg,F=1,Ctau=1e-4,dv=1e-9)\n",
    "utrace = run_sim(A)\n",
    "FinalTime=time.time()-initTime\n",
    "\n",
    "# snapshot of steady-state\n",
    "snap_ss(f\"case2_{cname}\")\n",
    "\n",
    "# animation\n",
    "#animate_sim()\n",
    "print(FinalTime)"
   ]
  },
  {
   "cell_type": "markdown",
   "metadata": {},
   "source": [
    "Day 0 3 month\n",
    "----"
   ]
  },
  {
   "cell_type": "code",
   "execution_count": null,
   "metadata": {},
   "outputs": [],
   "source": [
    "cname='D0M3'\n",
    "utarg = np.ones(len(seg_list))\n",
    "for i in range(expD.shape[0]):\n",
    "    abb = expD['Abbreviation'][i]\n",
    "    sidx= segIdx[abb]\n",
    "    utarg[sidx] *= expD[f\"{cname}_MEAN\"][i]\n",
    "u1 = np.concatenate((utarg,utarg))\n",
    "utrace = [u1,u1]\n",
    "utrace = np.array(utrace).T\n",
    "snap_ss(f\"case2_{cname}_target\",clim=[0,max(utarg)],cmap=plt.cm.YlOrBr)\n",
    "max(utarg)"
   ]
  },
  {
   "cell_type": "code",
   "execution_count": null,
   "metadata": {
    "collapsed": false,
    "jupyter": {
     "outputs_hidden": false
    }
   },
   "outputs": [],
   "source": [
    "utarg /= np.sum(utarg)\n",
    "\n",
    "# Run simulation\n",
    "initTime=time.time()\n",
    "A = get_sys_matrix(utarg,F=1,Ctau=1e-4,dv=1e-9)\n",
    "utrace = run_sim(A)\n",
    "FinalTime=time.time()-initTime\n",
    "\n",
    "# snapshot of steady-state\n",
    "snap_ss(f\"case2_{cname}\")\n",
    "\n",
    "# animation\n",
    "#animate_sim()\n",
    "print(FinalTime)"
   ]
  },
  {
   "cell_type": "markdown",
   "metadata": {},
   "source": [
    "Day 7 3 month\n",
    "----"
   ]
  },
  {
   "cell_type": "code",
   "execution_count": null,
   "metadata": {},
   "outputs": [],
   "source": [
    "cname='D7M3'\n",
    "utarg = np.ones(len(seg_list))\n",
    "for i in range(expD.shape[0]):\n",
    "    abb = expD['Abbreviation'][i]\n",
    "    sidx= segIdx[abb]\n",
    "    utarg[sidx] *= expD[f\"{cname}_MEAN\"][i]\n",
    "u1 = np.concatenate((utarg,utarg))\n",
    "utrace = [u1,u1]\n",
    "utrace = np.array(utrace).T\n",
    "snap_ss(f\"case2_{cname}_target\",clim=[0,max(utarg)],cmap=plt.cm.YlOrBr)\n",
    "max(utarg)"
   ]
  },
  {
   "cell_type": "code",
   "execution_count": null,
   "metadata": {
    "collapsed": false,
    "jupyter": {
     "outputs_hidden": false
    }
   },
   "outputs": [],
   "source": [
    "utarg /= np.sum(utarg)\n",
    "\n",
    "# Run simulation\n",
    "initTime=time.time()\n",
    "A = get_sys_matrix(utarg,F=1,Ctau=1e-4,dv=1e-9)\n",
    "utrace = run_sim(A)\n",
    "FinalTime=time.time()-initTime\n",
    "\n",
    "# snapshot of steady-state\n",
    "snap_ss(f\"case2_{cname}\")\n",
    "\n",
    "# animation\n",
    "#animate_sim()\n",
    "print(FinalTime)"
   ]
  },
  {
   "cell_type": "markdown",
   "metadata": {},
   "source": [
    "Day 0 18 month\n",
    "----"
   ]
  },
  {
   "cell_type": "code",
   "execution_count": null,
   "metadata": {},
   "outputs": [],
   "source": [
    "cname='D0M18'\n",
    "utarg = np.ones(len(seg_list))\n",
    "for i in range(expD.shape[0]):\n",
    "    abb = expD['Abbreviation'][i]\n",
    "    sidx= segIdx[abb]\n",
    "    utarg[sidx] *= expD[f\"{cname}_MEAN\"][i]\n",
    "u1 = np.concatenate((utarg,utarg))\n",
    "utrace = [u1,u1]\n",
    "utrace = np.array(utrace).T\n",
    "snap_ss(f\"case2_{cname}_target\",clim=[0,max(utarg)],cmap=plt.cm.YlOrBr)\n",
    "max(utarg)"
   ]
  },
  {
   "cell_type": "code",
   "execution_count": null,
   "metadata": {
    "collapsed": false,
    "jupyter": {
     "outputs_hidden": false
    }
   },
   "outputs": [],
   "source": [
    "utarg /= np.sum(utarg)\n",
    "\n",
    "# Run simulation\n",
    "initTime=time.time()\n",
    "A = get_sys_matrix(utarg,F=1,Ctau=1e-4,dv=1e-9)\n",
    "utrace = run_sim(A)\n",
    "FinalTime=time.time()-initTime\n",
    "\n",
    "# snapshot of steady-state\n",
    "snap_ss(f\"case2_{cname}\")\n",
    "\n",
    "# animation\n",
    "#animate_sim()\n",
    "print(FinalTime)"
   ]
  },
  {
   "cell_type": "markdown",
   "metadata": {},
   "source": [
    "Day 7 18 month\n",
    "----"
   ]
  },
  {
   "cell_type": "code",
   "execution_count": null,
   "metadata": {},
   "outputs": [],
   "source": [
    "cname='D7M18'\n",
    "utarg = np.ones(len(seg_list))\n",
    "for i in range(expD.shape[0]):\n",
    "    abb = expD['Abbreviation'][i]\n",
    "    sidx= segIdx[abb]\n",
    "    utarg[sidx] *= expD[f\"{cname}_MEAN\"][i]\n",
    "u1 = np.concatenate((utarg,utarg))\n",
    "utrace = [u1,u1]\n",
    "utrace = np.array(utrace).T\n",
    "snap_ss(f\"case2_{cname}_target\",clim=[0,max(utarg)],cmap=plt.cm.YlOrBr)\n",
    "max(utarg)"
   ]
  },
  {
   "cell_type": "code",
   "execution_count": null,
   "metadata": {
    "collapsed": false,
    "jupyter": {
     "outputs_hidden": false
    }
   },
   "outputs": [],
   "source": [
    "utarg /= np.sum(utarg)\n",
    "\n",
    "# Run simulation\n",
    "initTime=time.time()\n",
    "A = get_sys_matrix(utarg,F=1,Ctau=1e-4,dv=1e-9)\n",
    "utrace = run_sim(A)\n",
    "FinalTime=time.time()-initTime\n",
    "\n",
    "# snapshot of steady-state\n",
    "snap_ss(f\"case2_{cname}\")\n",
    "\n",
    "# animation\n",
    "#animate_sim()\n",
    "print(FinalTime)"
   ]
  },
  {
   "cell_type": "markdown",
   "metadata": {},
   "source": [
    "Third Case: Time scales separated, different trafficking strategy\n",
    "------"
   ]
  },
  {
   "cell_type": "markdown",
   "metadata": {},
   "source": [
    "Day 0 3 weeks\n",
    "----"
   ]
  },
  {
   "cell_type": "code",
   "execution_count": null,
   "metadata": {},
   "outputs": [],
   "source": [
    "cname='D0W3'\n",
    "utarg = np.ones(len(seg_list))\n",
    "for i in range(expD.shape[0]):\n",
    "    abb = expD['Abbreviation'][i]\n",
    "    sidx= segIdx[abb]\n",
    "    utarg[sidx] *= expD[f\"{cname}_MEAN\"][i]\n",
    "u1 = np.concatenate((utarg,utarg))\n",
    "utrace = [u1,u1]\n",
    "utrace = np.array(utrace).T\n",
    "snap_ss(f\"case3_{cname}_target\",clim=[0,max(utarg)],cmap=plt.cm.YlOrBr)\n",
    "max(utarg)"
   ]
  },
  {
   "cell_type": "code",
   "execution_count": null,
   "metadata": {
    "collapsed": false,
    "jupyter": {
     "outputs_hidden": false
    }
   },
   "outputs": [],
   "source": [
    "# Run simulation\n",
    "utarg /= np.sum(utarg)\n",
    "initTime=time.time()\n",
    "A = get_sys_matrix(utarg,F=0,Ctau=2e-4,dv=1e-9)\n",
    "utrace = run_sim(A)\n",
    "FinalTime=time.time()-initTime\n",
    "\n",
    "# snapshot of steady-state\n",
    "snap_ss(f\"case3_{cname}\")\n",
    "\n",
    "# animation\n",
    "#animate_sim()\n",
    "print(FinalTime)"
   ]
  },
  {
   "cell_type": "markdown",
   "metadata": {},
   "source": [
    "Day 7 3 weeks\n",
    "----"
   ]
  },
  {
   "cell_type": "code",
   "execution_count": null,
   "metadata": {},
   "outputs": [],
   "source": [
    "cname='D7W3'\n",
    "utarg = np.ones(len(seg_list))\n",
    "for i in range(expD.shape[0]):\n",
    "    abb = expD['Abbreviation'][i]\n",
    "    sidx= segIdx[abb]\n",
    "    utarg[sidx] *= expD[f\"{cname}_MEAN\"][i]\n",
    "u1 = np.concatenate((utarg,utarg))\n",
    "utrace = [u1,u1]\n",
    "utrace = np.array(utrace).T\n",
    "snap_ss(f\"case3_{cname}_target\",clim=[0,max(utarg)],cmap=plt.cm.YlOrBr)\n",
    "max(utarg)"
   ]
  },
  {
   "cell_type": "code",
   "execution_count": null,
   "metadata": {
    "collapsed": false,
    "jupyter": {
     "outputs_hidden": false
    }
   },
   "outputs": [],
   "source": [
    "utarg /= np.sum(utarg)\n",
    "\n",
    "# Run simulation\n",
    "initTime=time.time()\n",
    "A = get_sys_matrix(utarg,F=0,Ctau=2e-4,dv=1e-9)\n",
    "utrace = run_sim(A)\n",
    "FinalTime=time.time()-initTime\n",
    "\n",
    "# snapshot of steady-state\n",
    "snap_ss(f\"case3_{cname}\")\n",
    "\n",
    "# animation\n",
    "#animate_sim()\n",
    "print(FinalTime)"
   ]
  },
  {
   "cell_type": "markdown",
   "metadata": {},
   "source": [
    "Day 0 3 month\n",
    "----"
   ]
  },
  {
   "cell_type": "code",
   "execution_count": null,
   "metadata": {},
   "outputs": [],
   "source": [
    "cname='D0M3'\n",
    "utarg = np.ones(len(seg_list))\n",
    "for i in range(expD.shape[0]):\n",
    "    abb = expD['Abbreviation'][i]\n",
    "    sidx= segIdx[abb]\n",
    "    utarg[sidx] *= expD[f\"{cname}_MEAN\"][i]\n",
    "u1 = np.concatenate((utarg,utarg))\n",
    "utrace = [u1,u1]\n",
    "utrace = np.array(utrace).T\n",
    "snap_ss(f\"case3_{cname}_target\",clim=[0,max(utarg)],cmap=plt.cm.YlOrBr)\n",
    "max(utarg)"
   ]
  },
  {
   "cell_type": "code",
   "execution_count": null,
   "metadata": {
    "collapsed": false,
    "jupyter": {
     "outputs_hidden": false
    }
   },
   "outputs": [],
   "source": [
    "utarg /= np.sum(utarg)\n",
    "\n",
    "# Run simulation\n",
    "initTime=time.time()\n",
    "A = get_sys_matrix(utarg,F=0,Ctau=2e-4,dv=1e-9)\n",
    "utrace = run_sim(A)\n",
    "FinalTime=time.time()-initTime\n",
    "\n",
    "# snapshot of steady-state\n",
    "snap_ss(f\"case3_{cname}\")\n",
    "\n",
    "# animation\n",
    "#animate_sim()\n",
    "print(FinalTime)"
   ]
  },
  {
   "cell_type": "markdown",
   "metadata": {},
   "source": [
    "Day 7 3 month\n",
    "----"
   ]
  },
  {
   "cell_type": "code",
   "execution_count": null,
   "metadata": {},
   "outputs": [],
   "source": [
    "cname='D7M3'\n",
    "utarg = np.ones(len(seg_list))\n",
    "for i in range(expD.shape[0]):\n",
    "    abb = expD['Abbreviation'][i]\n",
    "    sidx= segIdx[abb]\n",
    "    utarg[sidx] *= expD[f\"{cname}_MEAN\"][i]\n",
    "u1 = np.concatenate((utarg,utarg))\n",
    "utrace = [u1,u1]\n",
    "utrace = np.array(utrace).T\n",
    "snap_ss(f\"case3_{cname}_target\",clim=[0,max(utarg)],cmap=plt.cm.YlOrBr)\n",
    "max(utarg)"
   ]
  },
  {
   "cell_type": "code",
   "execution_count": null,
   "metadata": {
    "collapsed": false,
    "jupyter": {
     "outputs_hidden": false
    }
   },
   "outputs": [],
   "source": [
    "utarg /= np.sum(utarg)\n",
    "\n",
    "# Run simulation\n",
    "initTime=time.time()\n",
    "A = get_sys_matrix(utarg,F=0,Ctau=2e-4,dv=1e-9)\n",
    "utrace = run_sim(A)\n",
    "FinalTime=time.time()-initTime\n",
    "\n",
    "# snapshot of steady-state\n",
    "snap_ss(f\"case3_{cname}\")\n",
    "\n",
    "# animation\n",
    "#animate_sim()\n",
    "print(FinalTime)"
   ]
  },
  {
   "cell_type": "markdown",
   "metadata": {},
   "source": [
    "Day 0 18 month\n",
    "----"
   ]
  },
  {
   "cell_type": "code",
   "execution_count": null,
   "metadata": {},
   "outputs": [],
   "source": [
    "cname='D0M18'\n",
    "utarg = np.ones(len(seg_list))\n",
    "for i in range(expD.shape[0]):\n",
    "    abb = expD['Abbreviation'][i]\n",
    "    sidx= segIdx[abb]\n",
    "    utarg[sidx] *= expD[f\"{cname}_MEAN\"][i]\n",
    "u1 = np.concatenate((utarg,utarg))\n",
    "utrace = [u1,u1]\n",
    "utrace = np.array(utrace).T\n",
    "snap_ss(f\"case3_{cname}_target\",clim=[0,max(utarg)],cmap=plt.cm.YlOrBr)\n",
    "max(utarg)"
   ]
  },
  {
   "cell_type": "code",
   "execution_count": null,
   "metadata": {
    "collapsed": false,
    "jupyter": {
     "outputs_hidden": false
    }
   },
   "outputs": [],
   "source": [
    "utarg /= np.sum(utarg)\n",
    "\n",
    "# Run simulation\n",
    "initTime=time.time()\n",
    "A = get_sys_matrix(utarg,F=0,Ctau=2e-4,dv=1e-9)\n",
    "utrace = run_sim(A)\n",
    "FinalTime=time.time()-initTime\n",
    "\n",
    "# snapshot of steady-state\n",
    "snap_ss(f\"case3_{cname}\")\n",
    "\n",
    "# animation\n",
    "#animate_sim()\n",
    "print(FinalTime)"
   ]
  },
  {
   "cell_type": "markdown",
   "metadata": {},
   "source": [
    "Day 7 18 month\n",
    "----"
   ]
  },
  {
   "cell_type": "code",
   "execution_count": null,
   "metadata": {},
   "outputs": [],
   "source": [
    "cname='D7M18'\n",
    "utarg = np.ones(len(seg_list))\n",
    "for i in range(expD.shape[0]):\n",
    "    abb = expD['Abbreviation'][i]\n",
    "    sidx= segIdx[abb]\n",
    "    utarg[sidx] *= expD[f\"{cname}_MEAN\"][i]\n",
    "u1 = np.concatenate((utarg,utarg))\n",
    "utrace = [u1,u1]\n",
    "utrace = np.array(utrace).T\n",
    "snap_ss(f\"case3_{cname}_target\",clim=[0,max(utarg)],cmap=plt.cm.YlOrBr)\n",
    "max(utarg)"
   ]
  },
  {
   "cell_type": "code",
   "execution_count": null,
   "metadata": {
    "collapsed": false,
    "jupyter": {
     "outputs_hidden": false
    }
   },
   "outputs": [],
   "source": [
    "utarg /= np.sum(utarg)\n",
    "\n",
    "# Run simulation\n",
    "initTime=time.time()\n",
    "A = get_sys_matrix(utarg,F=0,Ctau=2e-4,dv=1e-9)\n",
    "utrace = run_sim(A)\n",
    "FinalTime=time.time()-initTime\n",
    "\n",
    "# snapshot of steady-state\n",
    "snap_ss(f\"case3_{cname}\")\n",
    "\n",
    "# animation\n",
    "#animate_sim()\n",
    "print(FinalTime)"
   ]
  },
  {
   "cell_type": "code",
   "execution_count": null,
   "metadata": {},
   "outputs": [],
   "source": [
    "utrace[743:753,10]"
   ]
  },
  {
   "cell_type": "markdown",
   "metadata": {},
   "source": [
    "Third Case: protein + RNA\n",
    "----"
   ]
  },
  {
   "cell_type": "code",
   "execution_count": null,
   "metadata": {},
   "outputs": [],
   "source": [
    "initTime=time.time()\n",
    "A,u,t,excess,err = sushibelt.run_uniform_reattachment(h, 0.1, 5, 50.0, 1e-5,1e-6)\n",
    "FinalTime=time.time()-initTime\n",
    "print(FinalTime)\n",
    "#sushibelt.snapshots(h,u,t,'plots/with_reattach',cellname,view,u_cmap,us_cmap)\n",
    "#print 'excess cargo = %2.1f percent'%(excess[-1])"
   ]
  },
  {
   "cell_type": "code",
   "execution_count": null,
   "metadata": {},
   "outputs": [],
   "source": [
    "N\n",
    "utrace=u[:,:2*N]\n",
    "utrace=utrace.T"
   ]
  },
  {
   "cell_type": "code",
   "execution_count": null,
   "metadata": {},
   "outputs": [],
   "source": [
    "A.shape"
   ]
  },
  {
   "cell_type": "code",
   "execution_count": null,
   "metadata": {},
   "outputs": [],
   "source": [
    "t.shape"
   ]
  },
  {
   "cell_type": "code",
   "execution_count": null,
   "metadata": {},
   "outputs": [],
   "source": [
    "u.shape"
   ]
  },
  {
   "cell_type": "code",
   "execution_count": null,
   "metadata": {},
   "outputs": [],
   "source": [
    "nframes=50\n",
    "t = np.logspace(-0.5,8.5,nframes)\n",
    "t.shape"
   ]
  },
  {
   "cell_type": "code",
   "execution_count": null,
   "metadata": {},
   "outputs": [],
   "source": [
    "u0 = np.zeros(4*n)\n",
    "u0[0] = 1.0  # compartment 0 is the soma\n",
    "initTime=time.time()\n",
    "utrace = [u0]\n",
    "w,V = scipy.linalg.eig(A)\n",
    "Vinv = np.linalg.inv(V)\n",
    "t = np.logspace(-0.5,8.5,nframes)\n",
    "for t_ in t: utrace.append(solve_u(w,V,Vinv,t_))\n",
    "\n",
    "FinalTime=time.time()-initTime\n",
    "print(FinalTime)\n"
   ]
  },
  {
   "cell_type": "markdown",
   "metadata": {},
   "source": [
    "cvals=utrace[:,-1]\n",
    "cvals.shape"
   ]
  },
  {
   "cell_type": "code",
   "execution_count": null,
   "metadata": {},
   "outputs": [],
   "source": [
    "(1484/len(seg_list),len(seg_list))"
   ]
  },
  {
   "cell_type": "code",
   "execution_count": null,
   "metadata": {},
   "outputs": [],
   "source": [
    "t.shape"
   ]
  },
  {
   "cell_type": "code",
   "execution_count": null,
   "metadata": {},
   "outputs": [],
   "source": [
    "[d/4 for d in A.shape]"
   ]
  },
  {
   "cell_type": "code",
   "execution_count": null,
   "metadata": {},
   "outputs": [],
   "source": [
    "(1484*2,A.shape)"
   ]
  },
  {
   "cell_type": "code",
   "execution_count": null,
   "metadata": {},
   "outputs": [],
   "source": [
    "max(dts)"
   ]
  },
  {
   "cell_type": "code",
   "execution_count": null,
   "metadata": {},
   "outputs": [],
   "source": [
    "from PyNeuronToolbox.morphology import shapeplot, allsec_preorder, root_indices, shapeplot_animate\n",
    "roots = root_indices(allsec_preorder(h))\n",
    "roots"
   ]
  },
  {
   "cell_type": "code",
   "execution_count": null,
   "metadata": {},
   "outputs": [],
   "source": [
    "import pandas as pd\n",
    "fitdt = pd.read_csv('data/Distr.csv')"
   ]
  },
  {
   "cell_type": "code",
   "execution_count": null,
   "metadata": {},
   "outputs": [],
   "source": [
    "idx = []\n",
    "for i in range(n):\n",
    "    if abs(dts[i]-100)<1 :\n",
    "        idx.append(1)\n",
    "    else:\n",
    "        idx.append(0)\n",
    "sum(idx)"
   ]
  },
  {
   "cell_type": "code",
   "execution_count": null,
   "metadata": {},
   "outputs": [],
   "source": [
    "[ (i,j) for i in range(fitdt.shape[0]) for j in range(n) if abs(dts[j]-fitdt['X'][i])<1 ]"
   ]
  },
  {
   "cell_type": "code",
   "execution_count": null,
   "metadata": {},
   "outputs": [],
   "source": [
    "type(fitdt)"
   ]
  },
  {
   "cell_type": "code",
   "execution_count": null,
   "metadata": {},
   "outputs": [],
   "source": [
    "seg_idx = [(i, j) for i in range(fitdt.shape[0]) for j in range(n) if abs(dts[j] - fitdt['X'][i]) < 1]\n",
    "len(seg_idx)"
   ]
  },
  {
   "cell_type": "code",
   "execution_count": null,
   "metadata": {},
   "outputs": [],
   "source": [
    "inum=3\n",
    "ix=[ i for i in range(3*inum)]\n",
    "(ix[:inum],ix[inum:2*inum],ix[2*inum:])"
   ]
  },
  {
   "cell_type": "code",
   "execution_count": null,
   "metadata": {},
   "outputs": [],
   "source": [
    "[ max(u[:,r]) for r in range(u.shape[0])]"
   ]
  },
  {
   "cell_type": "code",
   "execution_count": null,
   "metadata": {},
   "outputs": [],
   "source": [
    "range(u.shape[1])"
   ]
  },
  {
   "cell_type": "code",
   "execution_count": null,
   "metadata": {},
   "outputs": [],
   "source": [
    "    clim=[0,0.00022]\n",
    "    uplt = u[:,n:2*n]\n",
    "    uplt = uplt.T\n",
    "    fig = plt.figure(figsize=(8,8))\n",
    "    shapeax = plt.subplot(111, projection='3d')\n",
    "    lines = shapeplot(h,shapeax,cvals=uplt[:,1],clim=clim,\\\n",
    "                      cmap=plt.cm.cool,order='pre',lw=2)\n",
    "    shapeax.view_init(elev=80,azim=-90)\n",
    "    plt.title('free RNA 1',fontweight='bold',fontsize=14)\n",
    "\n",
    "    # colorbar\n",
    "    sm = cm.ScalarMappable(cmap=plt.cm.cool, norm=plt.Normalize(clim[0],clim[1])) \n",
    "    #sm = plt.cm.ScalarMappable(cmap=plt.cm.cool, norm=plt.Normalize(clim[0],clim[1])) \n",
    "    #sm._A = []\n",
    "    #plt.colorbar(sm, shrink=0.5)\n",
    "    #plt.colorbar(sm,cax=shapeax)\n",
    "    #plt.colorbar()\n",
    "    plt.tight_layout()\n",
    "    plt.axis('off')\n"
   ]
  },
  {
   "cell_type": "code",
   "execution_count": null,
   "metadata": {},
   "outputs": [],
   "source": [
    "    clim=[0,0.00022]\n",
    "    uplt = u[:,:n]\n",
    "    uplt = uplt.T\n",
    "    fig = plt.figure(figsize=(8,8))\n",
    "    shapeax = plt.subplot(111, projection='3d')\n",
    "    lines = shapeplot(h,shapeax,cvals=uplt[:,-1],clim=clim,\\\n",
    "                      cmap=plt.cm.cool,order='pre',lw=2)\n",
    "    shapeax.view_init(elev=80,azim=-90)\n",
    "    plt.title('bounded RNA -1',fontweight='bold',fontsize=14)\n",
    "\n",
    "    # colorbar\n",
    "    sm = cm.ScalarMappable(cmap=plt.cm.cool, norm=plt.Normalize(clim[0],clim[1])) \n",
    "    #sm = plt.cm.ScalarMappable(cmap=plt.cm.cool, norm=plt.Normalize(clim[0],clim[1])) \n",
    "    #sm._A = []\n",
    "    #plt.colorbar(sm, shrink=0.5)\n",
    "    #plt.colorbar(sm,cax=shapeax)\n",
    "    #plt.colorbar()\n",
    "    plt.tight_layout()\n",
    "    plt.axis('off')\n"
   ]
  },
  {
   "cell_type": "code",
   "execution_count": null,
   "metadata": {},
   "outputs": [],
   "source": [
    "    clim=[0,0.00022]\n",
    "    uplt = u[:,2*n:3*n]\n",
    "    uplt = uplt.T\n",
    "    fig = plt.figure(figsize=(8,8))\n",
    "    shapeax = plt.subplot(111, projection='3d')\n",
    "    lines = shapeplot(h,shapeax,cvals=uplt[:,-1],clim=clim,\\\n",
    "                      cmap=plt.cm.cool,order='pre',lw=2)\n",
    "    shapeax.view_init(elev=80,azim=-90)\n",
    "    plt.title('bound protein -1',fontweight='bold',fontsize=14)\n",
    "\n",
    "    # colorbar\n",
    "    sm = cm.ScalarMappable(cmap=plt.cm.cool, norm=plt.Normalize(clim[0],clim[1])) \n",
    "    #sm = plt.cm.ScalarMappable(cmap=plt.cm.cool, norm=plt.Normalize(clim[0],clim[1])) \n",
    "    #sm._A = []\n",
    "    #plt.colorbar(sm, shrink=0.5)\n",
    "    #plt.colorbar(sm,cax=shapeax)\n",
    "    #plt.colorbar()\n",
    "    plt.tight_layout()\n",
    "    plt.axis('off')\n"
   ]
  },
  {
   "cell_type": "code",
   "execution_count": null,
   "metadata": {},
   "outputs": [],
   "source": [
    "    clim=[0,0.00022]\n",
    "    uplt = u[:,3*n:]\n",
    "    uplt = uplt.T\n",
    "    fig = plt.figure(figsize=(8,8))\n",
    "    shapeax = plt.subplot(111, projection='3d')\n",
    "    lines = shapeplot(h,shapeax,cvals=uplt[:,-1],clim=clim,\\\n",
    "                      cmap=plt.cm.cool,order='pre',lw=2)\n",
    "    shapeax.view_init(elev=80,azim=-90)\n",
    "    plt.title('free protein -1',fontweight='bold',fontsize=14)\n",
    "\n",
    "    # colorbar\n",
    "    sm = cm.ScalarMappable(cmap=plt.cm.cool, norm=plt.Normalize(clim[0],clim[1])) \n",
    "    #sm = plt.cm.ScalarMappable(cmap=plt.cm.cool, norm=plt.Normalize(clim[0],clim[1])) \n",
    "    #sm._A = []\n",
    "    #plt.colorbar(sm, shrink=0.5)\n",
    "    #plt.colorbar(sm,cax=shapeax)\n",
    "    #plt.colorbar()\n",
    "    plt.tight_layout()\n",
    "    plt.axis('off')\n"
   ]
  },
  {
   "cell_type": "code",
   "execution_count": null,
   "metadata": {},
   "outputs": [],
   "source": [
    "u0 = np.zeros(2*N+1)\n",
    "n = int(u0.shape[0]/2)\n",
    "(u0.shape,n,N)"
   ]
  },
  {
   "cell_type": "code",
   "execution_count": null,
   "metadata": {},
   "outputs": [],
   "source": [
    "bgSignal = 1e-5\n",
    "par0 = [0.8861278052764772,-5.358123919558814,0.3127455791698551,-5.7356821635860165,-17.999032750284783,0.21382364663804718,0.06074280874523973,0.04781382417616123,0.04562340830020193,1.0000000000039887e-07,0.7733439929081787,0.5543045057407645,0.1468913931288651,0.14710118884157364,0.1316203146580693,0.15499357159791044,0.17296720163305693,0.20287137824434023,0.3735878952746845,0.5243019440900127,0.043864102155039865,0.1966480252602025,0.19591970216660096,0.2755074889018492,0.9999999999999992]\n",
    "cost0 = 3.331839554992909e-11\n",
    "sec_list = allsec_preorder(h)\n",
    "seg_list = []\n",
    "for sec in sec_list:\n",
    "    locs = np.linspace(0,1,sec.nseg+2)[1:-1]\n",
    "    for loc in locs:\n",
    "        seg_list.append(sec(loc))\n",
    "N = len(seg_list)\n",
    "tdf=pd.read_csv('data/seg_mapping.csv')\n",
    "abbCA1=tdf['abb']\n",
    "abbT={}\n",
    "segIdx={}\n",
    "for i in range(N):\n",
    "    abbT[abbCA1[i]] = 1+ abbT.get(abbCA1[i],0)\n",
    "    ll=segIdx.get(abbCA1[i],[])\n",
    "    ll.append(i)\n",
    "    segIdx[abbCA1[i]] = ll\n",
    "\n",
    "expD=pd.read_csv('data/CA1_gradient.csv')\n",
    "subreg = ['CA1so', 'CA1sr', 'CA1slm']\n",
    "\n",
    "#cname='D0W3'\n",
    "cname0='D0M3'\n",
    "d0w = -1 * np.ones(N)\n",
    "for i in range(expD.shape[0]):\n",
    "    abb = expD['Abbreviation'][i]\n",
    "    sidx= segIdx[abb]\n",
    "    d0w[sidx] *= -1*expD[f\"{cname0}_MEAN\"][i]/len(sidx)\n",
    "for i in range(N):\n",
    "    if d0w[i]<0:\n",
    "        d0w[i] = bgSignal\n",
    "\n",
    "#cname='D7W3'\n",
    "cname7='D7M3'\n",
    "d7w = -1*np.ones(N)\n",
    "for i in range(expD.shape[0]):\n",
    "    abb = expD['Abbreviation'][i]\n",
    "    sidx= segIdx[abb]\n",
    "    d7w[sidx] *= -1 * expD[f\"{cname7}_MEAN\"][i]/len(sidx)\n",
    "for i in range(N):\n",
    "    if d7w[i]<0:\n",
    "        d7w[i] = bgSignal\n",
    "day7 = 7 * 24 * 3600 # final time point\n",
    "\n",
    "itarg = np.ones(N, dtype=int)\n",
    "for i in range(expD.shape[0]):\n",
    "    abb = expD['Abbreviation'][i]\n",
    "    sidx = segIdx[abb]\n",
    "    itarg[sidx] *= (i+5)\n"
   ]
  },
  {
   "cell_type": "code",
   "execution_count": null,
   "metadata": {},
   "outputs": [],
   "source": [
    "dinit = d0w/np.sum(d0w)\n",
    "target = (np.array(expD[f\"{cname0}_MEAN\"])-np.array(expD[f\"{cname7}_MEAN\"]))/np.sum(expD[f\"{cname0}_MEAN\"]) #norm target to Day0 sum to take into accound degradation\n",
    "targSD = (np.array(expD[f\"{cname0}_SD\"])+np.array(expD[f\"{cname7}_SD\"]))/np.sum(expD[f\"{cname0}_MEAN\"]) #results to fit to\n",
    "(target,targSD,expD[f\"{cname0}_SD\"],expD[f\"{cname7}_SD\"])"
   ]
  },
  {
   "cell_type": "code",
   "execution_count": null,
   "metadata": {},
   "outputs": [],
   "source": [
    "expD"
   ]
  },
  {
   "cell_type": "code",
   "execution_count": null,
   "metadata": {},
   "outputs": [],
   "source": [
    "(len(par0)*5*50*5)/3600"
   ]
  },
  {
   "cell_type": "code",
   "execution_count": null,
   "metadata": {},
   "outputs": [],
   "source": [
    "resp = np.zeros((fitdt.shape[0],u.shape[0]))\n",
    "resp.shape"
   ]
  },
  {
   "cell_type": "code",
   "execution_count": null,
   "metadata": {},
   "outputs": [],
   "source": [
    "resp = np.zeros((fitdt.shape[0],u.shape[0]))\n",
    "for i in range(seg_idx.shape[0]):\n",
    "    ii = int(seg_idx[i,0])\n",
    "    ij = int(seg_idx[i,1])\n",
    "    resp[ii] += u[:,ij].T\n",
    "resp"
   ]
  },
  {
   "cell_type": "code",
   "execution_count": null,
   "metadata": {},
   "outputs": [],
   "source": [
    "dist = (resp-fitdt['V']) ** 2\n",
    "dist"
   ]
  },
  {
   "cell_type": "code",
   "execution_count": null,
   "metadata": {},
   "outputs": [],
   "source": [
    "fitdt['V']"
   ]
  },
  {
   "cell_type": "code",
   "execution_count": null,
   "metadata": {},
   "outputs": [],
   "source": [
    "[ sum((resp[:,i] - fitdt['V']) ** 2) for i in range(resp.shape[1])]"
   ]
  },
  {
   "cell_type": "code",
   "execution_count": null,
   "metadata": {},
   "outputs": [],
   "source": []
  }
 ],
 "metadata": {
  "kernelspec": {
   "display_name": "Python 3 (ipykernel)",
   "language": "python",
   "name": "python3"
  },
  "language_info": {
   "codemirror_mode": {
    "name": "ipython",
    "version": 3
   },
   "file_extension": ".py",
   "mimetype": "text/x-python",
   "name": "python",
   "nbconvert_exporter": "python",
   "pygments_lexer": "ipython3",
   "version": "3.10.12"
  }
 },
 "nbformat": 4,
 "nbformat_minor": 4
}
