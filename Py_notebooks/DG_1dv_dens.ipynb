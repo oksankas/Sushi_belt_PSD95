{
 "cells": [
  {
   "cell_type": "code",
   "execution_count": null,
   "metadata": {
    "ExecuteTime": {
     "end_time": "2024-02-01T04:36:14.473505Z",
     "start_time": "2024-02-01T04:36:13.685666Z"
    },
    "collapsed": false,
    "jupyter": {
     "outputs_hidden": false
    }
   },
   "outputs": [],
   "source": [
    "%%bash\n",
    "nrnivmodl"
   ]
  },
  {
   "cell_type": "code",
   "execution_count": null,
   "metadata": {
    "ExecuteTime": {
     "end_time": "2024-02-01T04:36:17.107428Z",
     "start_time": "2024-02-01T04:36:17.087940Z"
    },
    "collapsed": false,
    "jupyter": {
     "outputs_hidden": false
    }
   },
   "outputs": [],
   "source": [
    "# Download NEURON: http://www.neuron.yale.edu/neuron/download\n",
    "# Download PyNeuronToolbox: https://github.com/ahwillia/PyNeuron-Toolbox\n",
    "\n",
    "from neuron import h\n",
    "import numpy as np\n",
    "import math\n",
    "import pylab as plt\n",
    "import scipy.linalg\n",
    "from PyNeuronToolbox.record import ez_record,ez_convert\n",
    "#from PyNeuronToolbox import neuromorpho,morphology\n",
    "from PyNeuronToolbox.morphology import shapeplot,shapeplot_animate,load\n",
    "from mpl_toolkits.mplot3d import Axes3D\n",
    "from JSAnimation import IPython_display\n",
    "from matplotlib import animation\n",
    "from matplotlib.pyplot import cm\n",
    "import warnings\n",
    "warnings.filterwarnings('ignore', category=SyntaxWarning)\n",
    "%matplotlib inline\n",
    "np.random.seed(123456789)\n",
    "\n",
    "import re\n",
    "import pandas as pd\n",
    "\n",
    "DC = 10 # diffusion coeff [microns^2 s^-1]\n",
    "\n",
    "cellname = 'dgyrus'\n",
    "#cellname = 'granule'\n",
    "#neuromorpho.download('041015-vehicle1', filename=cellname+'_morph.swc')\n",
    "#cell = morphology.load(cellname+'_morph.swc',use_axon=False)\n",
    "#cell = load(cellname+'_morph.swc',use_axon=False)\n"
   ]
  },
  {
   "cell_type": "code",
   "execution_count": null,
   "metadata": {},
   "outputs": [],
   "source": [
    "import sys\n",
    "sys.path.append('../')\n",
    "sys.path.append('../simulation/')\n",
    "import sushibelt\n",
    "#import DG_10reg_10dv_model as model\n",
    "import DG_10reg_1dv_model as model\n",
    "import time\n",
    "tnorm = np.sum(model.target ** 2)"
   ]
  },
  {
   "cell_type": "code",
   "execution_count": null,
   "metadata": {},
   "outputs": [],
   "source": [
    "N=model.N\n",
    "Ndim = len(model.lowb)\n",
    "(N,max(5 * Ndim, 15),151*max(5 * Ndim, 15))"
   ]
  },
  {
   "cell_type": "code",
   "execution_count": null,
   "metadata": {},
   "outputs": [],
   "source": [
    "tdf=pd.read_csv('../data/DG_seg_mapping.csv')\n",
    "abbDG=tdf['abb']\n",
    "abbT={}\n",
    "segIdx={}\n",
    "for i in range(N):\n",
    "    abbT[abbDG[i]] = 1+ abbT.get(abbDG[i],0)\n",
    "    ll=segIdx.get(abbDG[i],[])\n",
    "    ll.append(i)\n",
    "    segIdx[abbDG[i]] = ll\n"
   ]
  },
  {
   "cell_type": "code",
   "execution_count": null,
   "metadata": {
    "collapsed": false,
    "jupyter": {
     "outputs_hidden": false
    }
   },
   "outputs": [],
   "source": [
    "from PyNeuronToolbox.morphology import dist_between,allsec_preorder\n",
    "\n",
    "def dist_to_soma(segment):\n",
    "    return dist_between(h,allsec_preorder(h)[0](0.5),segment)\n",
    "\n",
    "#seglist in pre-order\n",
    "sec_list = allsec_preorder(h)\n",
    "seg_list = []\n",
    "for sec in sec_list:\n",
    "    locs = np.linspace(0,1,sec.nseg+2)[1:-1]\n",
    "    for loc in locs:\n",
    "        seg_list.append(sec(loc))\n",
    "n = len(seg_list)\n",
    "N = n"
   ]
  },
  {
   "cell_type": "code",
   "execution_count": null,
   "metadata": {},
   "outputs": [],
   "source": [
    "soma = allsec_preorder(h)[0]\n",
    "soma(0.5)"
   ]
  },
  {
   "cell_type": "code",
   "execution_count": null,
   "metadata": {},
   "outputs": [],
   "source": [
    "(N,seg_list)"
   ]
  },
  {
   "cell_type": "code",
   "execution_count": null,
   "metadata": {},
   "outputs": [],
   "source": [
    "for i in range(len(sec_list)):\n",
    "    sec = sec_list[i]\n",
    "    print(f\"{i}: {sec.name()}, nseg={sec.nseg}, propNseg={np.round(sec.L/3.7)}, L={sec.L}, or={sec.orientation()}, hname={sec.hname()}\")"
   ]
  },
  {
   "cell_type": "code",
   "execution_count": null,
   "metadata": {},
   "outputs": [],
   "source": [
    "sec_list = allsec_preorder(h)\n",
    "seg_list = []\n",
    "for sec in sec_list:\n",
    "    if sec.name() != 'dgyrus_morph.soma[0]':\n",
    "        nseg = int(np.round(sec.L/3.7))\n",
    "        locs = np.linspace(0,1,nseg+2)[1:-1]\n",
    "        for loc in locs:\n",
    "            seg_list.append(sec(loc))\n",
    "    else:\n",
    "        locs = np.linspace(0,1,3)[1:-1]\n",
    "        for loc in locs:\n",
    "            seg_list.append(sec(loc))\n",
    "n = len(seg_list)\n",
    "N = n\n",
    "N"
   ]
  },
  {
   "cell_type": "code",
   "execution_count": null,
   "metadata": {},
   "outputs": [],
   "source": [
    "(dist_to_soma(seg_list[0]),dist_to_soma(seg_list[1]),sec.L,np.linspace(0,1,sec.nseg+2),np.linspace(0,1,sec.nseg+2)[1:-1])"
   ]
  },
  {
   "cell_type": "code",
   "execution_count": null,
   "metadata": {},
   "outputs": [],
   "source": [
    "dts = [dist_to_soma(s) for s in seg_list]\n",
    "max_dts = np.max(dts) + 0.01\n",
    "dts_bounds = np.linspace(0,max_dts,11)\n",
    "(dts_bounds,dts_bounds[0],dts_bounds[1])"
   ]
  },
  {
   "cell_type": "code",
   "execution_count": null,
   "metadata": {},
   "outputs": [],
   "source": [
    "p = re.compile(\"^([^\\\\[]+)\\\\[.+\")\n",
    "tps = [p.sub(\"\\\\1\",seg.sec.name()) for seg in seg_list]\n",
    "pd.Series(tps).drop_duplicates().tolist()"
   ]
  },
  {
   "cell_type": "code",
   "execution_count": null,
   "metadata": {},
   "outputs": [],
   "source": [
    "seg_list = []\n",
    "seg_abb = []\n",
    "seg_name = []\n",
    "seg_dts = [dist_to_soma(s) for s in seg_list]\n",
    "for sec in sec_list:\n",
    "    if sec.name() != 'dgyrus_morph.soma[0]':\n",
    "        nseg = int(np.round(sec.L/3.7))\n",
    "        locs = np.linspace(0,1,nseg+2)[1:-1]\n",
    "        for loc in locs:\n",
    "            seg_list.append(sec(loc))\n",
    "            seg_name.append(sec.name())\n",
    "            ldts = dist_to_soma(sec(loc))\n",
    "            seg_dts.append(ldts)\n",
    "            for j in range(len(dts_bounds)-1):\n",
    "                print(f\"ldts={ldts},j={j},dts_bounds[j]={dts_bounds[j]} and dts_bounds[j+1]={dts_bounds[j+1]}\")\n",
    "                if ldts >= dts_bounds[j] and ldts < dts_bounds[j+1]:\n",
    "                    print(f\"\\trd{j+1},len(seg_abb)={len(seg_abb)}\")\n",
    "                    seg_abb.append(f\"rd{j+1}\")\n",
    "                    break                    \n",
    "    else:\n",
    "        locs = np.linspace(0,1,3)[1:-1]\n",
    "        for loc in locs:\n",
    "            seg_list.append(sec(loc))\n",
    "            seg_name.append(sec.name())\n",
    "            ldts = dist_to_soma(sec(loc))\n",
    "            seg_dts.append(ldts)\n",
    "            for j in range(len(dts_bounds)-1):\n",
    "                print(f\"ldts={ldts},j={j},dts_bounds[j]={dts_bounds[j]} and dts_bounds[j+1]={dts_bounds[j+1]}\")\n",
    "                if ldts >= dts_bounds[j] and ldts < dts_bounds[j+1]:\n",
    "                    print(f\"\\trd{j+1},len(seg_abb)={len(seg_abb)}\")\n",
    "                    seg_abb.append(f\"rd{j+1}\")\n",
    "                    break\n",
    "n = len(seg_list)\n",
    "N = n\n",
    "print([len(seg_abb),len(seg_name),len(seg_dts),len([i for i in range(N)])])"
   ]
  },
  {
   "cell_type": "code",
   "execution_count": null,
   "metadata": {},
   "outputs": [],
   "source": [
    "(len(seg_name),len(seg_abb),len(seg_dts),len(sec_list),seg_abb)"
   ]
  },
  {
   "cell_type": "code",
   "execution_count": null,
   "metadata": {},
   "outputs": [],
   "source": [
    "abbDG=tdf['abb']\n",
    "abbT={}\n",
    "segIdx={}\n",
    "for i in range(N):\n",
    "    abbT[abbDG[i]] = 1+ abbT.get(abbDG[i],0)\n",
    "    ll=segIdx.get(abbDG[i],[])\n",
    "    ll.append(i)\n",
    "    segIdx[abbDG[i]] = ll\n"
   ]
  },
  {
   "cell_type": "code",
   "execution_count": null,
   "metadata": {},
   "outputs": [],
   "source": [
    "#expD=pd.read_csv('../data/DG_intensity_values_15072024.csv')\n",
    "expD=pd.read_csv('../data/DG_density_values_15072024.csv')\n",
    "bgSignal=1e-5\n",
    "#cname='D0W3'\n",
    "cname0='D0M3'\n",
    "d0w = -1 * np.ones(N)\n",
    "for i in range(expD.shape[0]):\n",
    "    abb = expD['Abbreviation'][i]\n",
    "    sidx= segIdx[abb]\n",
    "    d0w[sidx] *= -1*expD[f\"{cname0}_MEAN\"][i]/len(sidx)\n",
    "for i in range(N):\n",
    "    if d0w[i]<0:\n",
    "        d0w[i] = bgSignal\n",
    "dinit = d0w/np.sum(d0w)\n",
    "\n",
    "#cname='D7W3'\n",
    "cname7='D7M3'\n",
    "d7w = -1*np.ones(N)\n",
    "for i in range(expD.shape[0]):\n",
    "    abb = expD['Abbreviation'][i]\n",
    "    sidx= segIdx[abb]\n",
    "    d7w[sidx] *= -1 * expD[f\"{cname7}_MEAN\"][i]/len(sidx)\n",
    "for i in range(N):\n",
    "    if d7w[i]<0:\n",
    "        d7w[i] = bgSignal\n",
    "target = np.array(expD[f\"{cname7}_MEAN\"])/np.sum(expD[f\"{cname0}_MEAN\"]) #norm target to Day0 sum to take into accound degradation\n",
    "targSD = np.array(expD[f\"{cname7}_SD\"])/np.sum(expD[f\"{cname0}_MEAN\"]) #results to fit to\n",
    "tnorm = np.sum(target ** 2)\n",
    "day7 = 7 * 24 * 3600 # final time point\n"
   ]
  },
  {
   "cell_type": "code",
   "execution_count": null,
   "metadata": {},
   "outputs": [],
   "source": [
    "parnames=['F','Ctau','mProp','demand_rd1','demand_rd2','demand_rd3','demand_rd4','demand_rd5','demand_rd6',\n",
    "          'demand_rd7','demand_rd8','demand_rd9','demand_rd10','dv_rd1','dv_rd2','dv_rd3','dv_rd4','dv_rd5',\n",
    "          'dv_rd6','dv_rd7','dv_rd8','dv_rd9','dv_rd10']\n",
    "lowb=np.array([0,-18,0,1.0e-07,1.0e-07,1.0e-07,1.0e-07,1.0e-07,1.0e-07,1.0e-07,1.0e-07,1.0e-07,\n",
    "               1.0e-07,-18,-18,-18,-18,-18,-18,-18,-18,-18,-18,])\n",
    "upbga=np.array([1,-1,1,1,1,1,1,1,1,1,1,1,1,1,1,1,1,1,1,1,1,1,1])\n",
    "(len(parnames),len(lowb),len(upbga),parnames[3],parnames[13])"
   ]
  },
  {
   "cell_type": "code",
   "execution_count": null,
   "metadata": {},
   "outputs": [],
   "source": [
    "len(sec_list)"
   ]
  },
  {
   "cell_type": "code",
   "execution_count": null,
   "metadata": {},
   "outputs": [],
   "source": [
    "(model.lowb[13],model.upbga[13])"
   ]
  },
  {
   "cell_type": "code",
   "execution_count": null,
   "metadata": {},
   "outputs": [],
   "source": [
    "#par =  [0.0004948517630019271,-2.901410577587942,0.49806692055122903,0.3209152647410538,0.41607574160259897,0.13475965672949675,0.19456334897464378,0.9995097181530779,0.0013403410023172134,0.00023786383238157604,0.00035606148539841663,0.00040396058440435756,0.000545230888035824,-5.320029850842932]\n",
    "#cost = 3.546758073855645e-05\n",
    "#chi2 = 42.40872728534614\n",
    "par =  [0.010254232013526715,-5.638032179385583,0.4901989246102767,1.0346217672476097e-07,0.029242261750488406,0.01218622680694604,0.041390587450443085,0.06704294550203627,0.08976537459084287,0.1513671679744187,0.6105826545927185,0.543743857008341,0.28125287183335723,-5.336672864778542]\n",
    "cost = 1.5127512266643512e-07\n",
    "chi2 = 0.2911841351618986\n",
    "mProp = par[2]\n",
    "utrace = model.calcUtrace(par)\n",
    "resM, resF = sushibelt.aggregate_segments(utrace[:, -1], model.segIdx, model.expD['Abbreviation'], fun=np.sum)\n"
   ]
  },
  {
   "cell_type": "code",
   "execution_count": null,
   "metadata": {},
   "outputs": [],
   "source": [
    "len(par)"
   ]
  },
  {
   "cell_type": "code",
   "execution_count": null,
   "metadata": {},
   "outputs": [],
   "source": [
    "{'F' : par[0],\n",
    "'Ctau' : par[1],\n",
    "'mProp' : par[2],\n",
    "'demand_rd1' : par[3],\n",
    "'demand_rd2' : par[4],\n",
    "'demand_rd3' : par[5],\n",
    "'demand_rd4' : par[6],\n",
    "'demand_rd5' : par[7],\n",
    "'demand_rd6' : par[8],\n",
    "'demand_rd7' : par[9],\n",
    "'demand_rd8' : par[10],\n",
    "'demand_rd9' : par[11],\n",
    "'demand_rd10' : par[12],\n",
    "'dv' : 10 ** par[13],\n",
    "'T1/2': np.log(2)*7/((10 ** par[13]) * day7),\n",
    "#'dv_rd1' : par[13],\n",
    "#'dv_rd2' : par[14],\n",
    "#'dv_rd3' : par[15],\n",
    "#'dv_rd4' : par[16],\n",
    "#'dv_rd5' : par[17],\n",
    "#'dv_rd6' : par[18],\n",
    "#'dv_rd7' : par[19],\n",
    "#'dv_rd8' : par[20],\n",
    "#'dv_rd9' : par[21],\n",
    "#'dv_rd10' : par[22],\n",
    "'norm_factor' : (1-mProp),\n",
    "'sum_resM' : np.sum(resM),\n",
    "'sum_resF' : np.sum(resF),\n",
    "'sum_tot' : np.sum(resF)+np.sum(resM),\n",
    "'err' : np.sum((resF/(1-mProp) - model.target) ** 2),\n",
    "'err_norm' : np.sum((resF/(1-mProp) - model.target) ** 2)/tnorm,\n",
    "'chi2' : np.sum(((resF/(1-mProp) - model.target)/model.targSD) ** 2),\n",
    "'cost' : cost,\n",
    "'Chi2' : chi2\n",
    "}"
   ]
  },
  {
   "cell_type": "code",
   "execution_count": null,
   "metadata": {},
   "outputs": [],
   "source": [
    "x=np.array(range(model.expD.shape[0]),dtype=int)\n",
    "fig, ax = plt.subplots()\n",
    "ax.plot(x,target,label='Target')\n",
    "ax.plot(x,resM,label='mobile DC')\n",
    "ax.plot(x,resF,label='detached DC')\n",
    "#ax.plot(x,resF/(1-mProp),label='norm detached DC')\n",
    "ax.set_xlabel('Region number')\n",
    "ax.set_ylabel('Value')\n",
    "ax.set_xticks(x,expD['Abbreviation'],rotation=90)\n",
    "# show a legend on the plot\n",
    "ax.legend()\n",
    "#plt.show()\n",
    "pos = ax.get_position()\n",
    "ax.set_position([pos.x0, pos.y0 + pos.height*0.15, pos.width , pos.height* 0.85])\n",
    "plt.title(f\"Cost = {format(np.sum((resF/(1-mProp) - target) ** 2),'.4g')}, $\\chi^2$ = {format(np.sum(((resF/(1-mProp) - target)/targSD) ** 2),'.4g')}\") \n",
    "# function to show the plot\n",
    "plt.show()\n",
    "#plt.savefig('bestFitCA1_20reg_1dv_soma.png')\n",
    "#plt.savefig('bestFitCA1_20reg_1dv_soma.pdf')\n",
    "#plt.savefig('bestFitCA1_20reg_1dv_soma.svg')"
   ]
  },
  {
   "cell_type": "code",
   "execution_count": null,
   "metadata": {},
   "outputs": [],
   "source": [
    "x=np.array(range(model.expD.shape[0]),dtype=int)\n",
    "fig, ax = plt.subplots()\n",
    "ax.plot(x,target,'o-',label='Target')\n",
    "#ax.plot(x,resM,label='mobile DC')\n",
    "#ax.plot(x,resF,label='detached DC')\n",
    "ax.plot(x,resF/(1-mProp),label='norm detached DC')\n",
    "ax.set_xlabel('Region number')\n",
    "ax.set_ylabel('Value')\n",
    "ax.set_xticks(x,expD['Abbreviation'],rotation=90)\n",
    "# show a legend on the plot\n",
    "ax.legend()\n",
    "#plt.show()\n",
    "pos = ax.get_position()\n",
    "ax.set_position([pos.x0, pos.y0 + pos.height*0.15, pos.width , pos.height* 0.85])\n",
    "plt.title(f\"Cost = {format(np.sum((resF/(1-mProp) - target) ** 2),'.4g')}, $\\chi^2$ = {format(np.sum(((resF/(1-mProp) - target)/targSD) ** 2),'.4g')}\") \n",
    "# function to show the plot\n",
    "plt.show()\n",
    "#plt.savefig('bestFit_DG_10reg_1dv_density.png')\n",
    "#plt.savefig('bestFit_DG_10reg_1dv_density.pdf')\n",
    "#plt.savefig('bestFit_DG_10reg_1dv_density.svg')"
   ]
  },
  {
   "cell_type": "code",
   "execution_count": null,
   "metadata": {},
   "outputs": [],
   "source": [
    "x=np.array(range(model.expD.shape[0]),dtype=int)\n",
    "fig, ax = plt.subplots()\n",
    "ax.plot(x,expD[f\"{cname0}_MEAN\"],label=cname0)\n",
    "#ax.plot(x,expD[f\"{cname7}_MEAN\"],label=cname7)\n",
    "#ax.plot(x,resM,label='mobile DC')\n",
    "ax.set_xlabel('Region number')\n",
    "ax.set_ylabel('Value')\n",
    "ax.set_xticks(x,expD['Abbreviation'],rotation=90)\n",
    "# show a legend on the plot\n",
    "ax.legend()\n",
    "#plt.show()\n",
    "pos = ax.get_position()\n",
    "ax.set_position([pos.x0, pos.y0 + pos.height*0.15, pos.width , pos.height* 0.85])\n",
    "plt.title(f\"Cost = {format(np.sum((resF/(1-mProp) - target) ** 2),'.4g')}, $\\chi^2$ = {format(np.sum(((resF/(1-mProp) - target)/targSD) ** 2),'.4g')}\") \n",
    "# function to show the plot\n",
    "plt.show()\n",
    "#plt.savefig('bestFitCA1_20reg_1dv_soma.png')\n",
    "#plt.savefig('bestFitCA1_20reg_1dv_soma.pdf')\n",
    "#plt.savefig('bestFitCA1_20reg_1dv_soma.svg')"
   ]
  },
  {
   "cell_type": "code",
   "execution_count": null,
   "metadata": {},
   "outputs": [],
   "source": [
    "x=np.array(range(model.expD.shape[0]),dtype=int)\n",
    "fig, ax = plt.subplots()\n",
    "#ax.plot(x,expD[f\"{cname0}_MEAN\"],label=cname0)\n",
    "ax.plot(x,expD[f\"{cname7}_MEAN\"],label=cname7)\n",
    "#ax.plot(x,resM,label='mobile DC')\n",
    "ax.set_xlabel('Region number')\n",
    "ax.set_ylabel('Value')\n",
    "ax.set_xticks(x,expD['Abbreviation'],rotation=90)\n",
    "# show a legend on the plot\n",
    "ax.legend()\n",
    "#plt.show()\n",
    "pos = ax.get_position()\n",
    "ax.set_position([pos.x0, pos.y0 + pos.height*0.15, pos.width , pos.height* 0.85])\n",
    "plt.title(f\"Cost = {format(np.sum((resF/(1-mProp) - target) ** 2),'.4g')}, $\\chi^2$ = {format(np.sum(((resF/(1-mProp) - target)/targSD) ** 2),'.4g')}\") \n",
    "# function to show the plot\n",
    "plt.show()\n",
    "#plt.savefig('bestFitCA1_20reg_1dv_soma.png')\n",
    "#plt.savefig('bestFitCA1_20reg_1dv_soma.pdf')\n",
    "#plt.savefig('bestFitCA1_20reg_1dv_soma.svg')"
   ]
  },
  {
   "cell_type": "code",
   "execution_count": null,
   "metadata": {},
   "outputs": [],
   "source": [
    "fig, ax = plt.subplots()\n",
    "#plt.plot(x,target,label=cname7)\n",
    "ax.errorbar(x,target,targSD,label=cname7, fmt='o')\n",
    "#plt.plot(x,resF,label='detached DC')\n",
    "ax.plot(x,resF/(1-mProp),label='detached norm DC')\n",
    "ax.set_xlabel('Region number')\n",
    "ax.set_ylabel('Value')\n",
    "ax.set_xticks(x,expD['Abbreviation'],rotation=90)\n",
    "# show a legend on the plot\n",
    "ax.legend()\n",
    "#plt.show()\n",
    "pos = ax.get_position()\n",
    "ax.set_position([pos.x0, pos.y0 + pos.height*0.15, pos.width , pos.height* 0.85])\n",
    "plt.title(f\"Cost = {format(np.sum((resF/(1-mProp) - target) ** 2),'.4g')}, $\\chi^2$ = {format(np.sum(((resF/(1-mProp) - target)/targSD) ** 2),'.4g')}\") \n",
    "# function to show the plot\n",
    "plt.show()\n",
    "#plt.savefig('bestFit_DG_10reg_1dv_density_target_error.png')\n",
    "#plt.savefig('bestFit_DG_10reg_1dv_density_target_error.pdf')\n",
    "#plt.savefig('bestFit_DG_10reg_1dv_density_target_error.svg')"
   ]
  },
  {
   "cell_type": "markdown",
   "metadata": {},
   "source": [
    "# Three weeks"
   ]
  },
  {
   "cell_type": "code",
   "execution_count": null,
   "metadata": {},
   "outputs": [],
   "source": [
    "expD=pd.read_csv('../data/DG_density_values_15072024.csv')\n",
    "bgSignal=1e-5\n",
    "\n",
    "cname0='D0W3'\n",
    "d0w = -1 * np.ones(N)\n",
    "for i in range(expD.shape[0]):\n",
    "    abb = expD['Abbreviation'][i]\n",
    "    sidx= segIdx[abb]\n",
    "    d0w[sidx] *= -1*expD[f\"{cname0}_MEAN\"][i]/len(sidx)\n",
    "for i in range(N):\n",
    "    if d0w[i]<0:\n",
    "        d0w[i] = bgSignal\n",
    "dinit = d0w/np.sum(d0w)\n",
    "\n",
    "cname7='D7W3'\n",
    "d7w = -1*np.ones(N)\n",
    "for i in range(expD.shape[0]):\n",
    "    abb = expD['Abbreviation'][i]\n",
    "    sidx= segIdx[abb]\n",
    "    d7w[sidx] *= -1 * expD[f\"{cname7}_MEAN\"][i]/len(sidx)\n",
    "for i in range(N):\n",
    "    if d7w[i]<0:\n",
    "        d7w[i] = bgSignal\n",
    "target = np.array(expD[f\"{cname7}_MEAN\"])/np.sum(expD[f\"{cname0}_MEAN\"]) #norm target to Day0 sum to take into accound degradation\n",
    "targSD = np.array(expD[f\"{cname7}_SD\"])/np.sum(expD[f\"{cname0}_MEAN\"]) #results to fit to\n",
    "tnorm = np.sum(target ** 2)\n",
    "day7 = 7 * 24 * 3600 # final time point\n"
   ]
  },
  {
   "cell_type": "code",
   "execution_count": null,
   "metadata": {},
   "outputs": [],
   "source": [
    "(expD[f\"{cname7}_MEAN\"],target,model.target)"
   ]
  },
  {
   "cell_type": "code",
   "execution_count": null,
   "metadata": {},
   "outputs": [],
   "source": [
    "model.dinit=dinit\n",
    "utrace = model.calcUtrace(par)\n",
    "resM, resF = sushibelt.aggregate_segments(utrace[:, -1], model.segIdx, model.expD['Abbreviation'], fun=np.sum)"
   ]
  },
  {
   "cell_type": "code",
   "execution_count": null,
   "metadata": {},
   "outputs": [],
   "source": [
    "{'F' : par[0],\n",
    "'Ctau' : par[1],\n",
    "'mProp' : par[2],\n",
    "'demand_rd1' : par[3],\n",
    "'demand_rd2' : par[4],\n",
    "'demand_rd3' : par[5],\n",
    "'demand_rd4' : par[6],\n",
    "'demand_rd5' : par[7],\n",
    "'demand_rd6' : par[8],\n",
    "'demand_rd7' : par[9],\n",
    "'demand_rd8' : par[10],\n",
    "'demand_rd9' : par[11],\n",
    "'demand_rd10' : par[12],\n",
    "'dv' : 10 ** par[13],\n",
    "'T1/2': np.log(2)*7/((10 ** par[13]) * day7),\n",
    "#'dv_rd1' : par[13],\n",
    "#'dv_rd2' : par[14],\n",
    "#'dv_rd3' : par[15],\n",
    "#'dv_rd4' : par[16],\n",
    "#'dv_rd5' : par[17],\n",
    "#'dv_rd6' : par[18],\n",
    "#'dv_rd7' : par[19],\n",
    "#'dv_rd8' : par[20],\n",
    "#'dv_rd9' : par[21],\n",
    "#'dv_rd10' : par[22],\n",
    "'norm_factor' : (1-mProp),\n",
    "'sum_resM' : np.sum(resM),\n",
    "'sum_resF' : np.sum(resF),\n",
    "'sum_tot' : np.sum(resF)+np.sum(resM),\n",
    "'err' : np.sum((resF/(1-mProp) - target) ** 2),\n",
    "'err_norm' : np.sum((resF/(1-mProp) - target) ** 2)/tnorm,\n",
    "'chi2' : np.sum(((resF/(1-mProp) - target)/targSD) ** 2),\n",
    "'cost' : cost,\n",
    "'Chi2' : chi2\n",
    "}"
   ]
  },
  {
   "cell_type": "code",
   "execution_count": null,
   "metadata": {},
   "outputs": [],
   "source": [
    "[par[13],10 ** par[13], np.log(2)*7/(10 ** par[13] * day7)]"
   ]
  },
  {
   "cell_type": "code",
   "execution_count": null,
   "metadata": {},
   "outputs": [],
   "source": [
    "x=np.array(range(model.expD.shape[0]),dtype=int)\n",
    "fig, ax = plt.subplots()\n",
    "ax.plot(x,target,'o-',label='Target')\n",
    "#ax.plot(x,resM,label='mobile DC')\n",
    "#ax.plot(x,resF,label='detached DC')\n",
    "ax.plot(x,resF/(1-mProp),label='norm detached DC')\n",
    "ax.set_xlabel('Region number')\n",
    "ax.set_ylabel('Value')\n",
    "ax.set_xticks(x,expD['Abbreviation'],rotation=90)\n",
    "# show a legend on the plot\n",
    "ax.legend()\n",
    "#plt.show()\n",
    "pos = ax.get_position()\n",
    "ax.set_position([pos.x0, pos.y0 + pos.height*0.15, pos.width , pos.height* 0.85])\n",
    "plt.title(f\"Cost = {format(np.sum((resF/(1-mProp) - target) ** 2),'.4g')}, $\\chi^2$ = {format(np.sum(((resF/(1-mProp) - target)/targSD) ** 2),'.4g')}\") \n",
    "# function to show the plot\n",
    "plt.show()\n",
    "#plt.savefig('bestFit_DG_10reg_1dv_density_3W_target.png')\n",
    "#plt.savefig('bestFit_DG_10reg_1dv_density_3W_target.pdf')\n",
    "#plt.savefig('bestFit_DG_10reg_1dv_density_3W_target.svg')"
   ]
  },
  {
   "cell_type": "code",
   "execution_count": null,
   "metadata": {},
   "outputs": [],
   "source": [
    "fig, ax = plt.subplots()\n",
    "#plt.plot(x,target,label=cname7)\n",
    "ax.errorbar(x,target,targSD,label=cname7, fmt='-o')\n",
    "#plt.plot(x,resF,label='detached DC')\n",
    "ax.plot(x,resF/(1-mProp),label='detached norm DC')\n",
    "ax.set_xlabel('Region number')\n",
    "ax.set_ylabel('Value')\n",
    "ax.set_xticks(x,expD['Abbreviation'],rotation=90)\n",
    "# show a legend on the plot\n",
    "ax.legend()\n",
    "#plt.show()\n",
    "pos = ax.get_position()\n",
    "ax.set_position([pos.x0, pos.y0 + pos.height*0.15, pos.width , pos.height* 0.85])\n",
    "plt.title(f\"Cost = {format(np.sum((resF/(1-mProp) - target) ** 2),'.4g')}, $\\chi^2$ = {format(np.sum(((resF/(1-mProp) - target)/targSD) ** 2),'.4g')}\") \n",
    "# function to show the plot\n",
    "plt.show()\n",
    "#plt.savefig('bestFit_DG_10reg_1dv_density_3W_target_error.png')\n",
    "#plt.savefig('bestFit_DG_10reg_1dv_density_3W_target_error.pdf')\n",
    "#plt.savefig('bestFit_DG_10reg_1dv_density_3W_target_error.svg')"
   ]
  },
  {
   "cell_type": "markdown",
   "metadata": {},
   "source": [
    "# 18 months"
   ]
  },
  {
   "cell_type": "code",
   "execution_count": null,
   "metadata": {},
   "outputs": [],
   "source": [
    "#expD=pd.read_csv('../data/DG_intensity_values_15072024.csv')\n",
    "expD=pd.read_csv('../data/DG_density_values_15072024.csv')\n",
    "bgSignal=1e-5\n",
    "cname0='D0M18'\n",
    "d0w = -1 * np.ones(N)\n",
    "for i in range(expD.shape[0]):\n",
    "    abb = expD['Abbreviation'][i]\n",
    "    sidx= segIdx[abb]\n",
    "    d0w[sidx] *= -1*expD[f\"{cname0}_MEAN\"][i]/len(sidx)\n",
    "for i in range(N):\n",
    "    if d0w[i]<0:\n",
    "        d0w[i] = bgSignal\n",
    "dinit = d0w/np.sum(d0w)\n",
    "\n",
    "cname7='D7M18'\n",
    "d7w = -1*np.ones(N)\n",
    "for i in range(expD.shape[0]):\n",
    "    abb = expD['Abbreviation'][i]\n",
    "    sidx= segIdx[abb]\n",
    "    d7w[sidx] *= -1 * expD[f\"{cname7}_MEAN\"][i]/len(sidx)\n",
    "for i in range(N):\n",
    "    if d7w[i]<0:\n",
    "        d7w[i] = bgSignal\n",
    "target = np.array(expD[f\"{cname7}_MEAN\"])/np.sum(expD[f\"{cname0}_MEAN\"]) #norm target to Day0 sum to take into accound degradation\n",
    "targSD = np.array(expD[f\"{cname7}_SD\"])/np.sum(expD[f\"{cname0}_MEAN\"]) #results to fit to\n",
    "tnorm = np.sum(target ** 2)\n",
    "day7 = 7 * 24 * 3600 # final time point\n"
   ]
  },
  {
   "cell_type": "code",
   "execution_count": null,
   "metadata": {},
   "outputs": [],
   "source": [
    "model.dinit=dinit\n",
    "utrace = model.calcUtrace(par)\n",
    "resM, resF = sushibelt.aggregate_segments(utrace[:, -1], model.segIdx, model.expD['Abbreviation'], fun=np.sum)"
   ]
  },
  {
   "cell_type": "code",
   "execution_count": null,
   "metadata": {},
   "outputs": [],
   "source": [
    "{'F' : par[0],\n",
    "'Ctau' : par[1],\n",
    "'mProp' : par[2],\n",
    "'demand_rd1' : par[3],\n",
    "'demand_rd2' : par[4],\n",
    "'demand_rd3' : par[5],\n",
    "'demand_rd4' : par[6],\n",
    "'demand_rd5' : par[7],\n",
    "'demand_rd6' : par[8],\n",
    "'demand_rd7' : par[9],\n",
    "'demand_rd8' : par[10],\n",
    "'demand_rd9' : par[11],\n",
    "'demand_rd10' : par[12],\n",
    "'dv' : 10 ** par[13],\n",
    "'T1/2': np.log(2)*7/((10 ** par[13]) * day7),\n",
    "#'dv_rd1' : par[13],\n",
    "#'dv_rd2' : par[14],\n",
    "#'dv_rd3' : par[15],\n",
    "#'dv_rd4' : par[16],\n",
    "#'dv_rd5' : par[17],\n",
    "#'dv_rd6' : par[18],\n",
    "#'dv_rd7' : par[19],\n",
    "#'dv_rd8' : par[20],\n",
    "#'dv_rd9' : par[21],\n",
    "#'dv_rd10' : par[22],\n",
    "'norm_factor' : (1-mProp),\n",
    "'sum_resM' : np.sum(resM),\n",
    "'sum_resF' : np.sum(resF),\n",
    "'sum_tot' : np.sum(resF)+np.sum(resM),\n",
    "'err' : np.sum((resF/(1-mProp) - target) ** 2),\n",
    "'err_norm' : np.sum((resF/(1-mProp) - target) ** 2)/tnorm,\n",
    "'chi2' : np.sum(((resF/(1-mProp) - target)/targSD) ** 2),\n",
    "'cost' : cost,\n",
    "'Chi2' : chi2\n",
    "}"
   ]
  },
  {
   "cell_type": "code",
   "execution_count": null,
   "metadata": {},
   "outputs": [],
   "source": [
    "x=np.array(range(model.expD.shape[0]),dtype=int)\n",
    "fig, ax = plt.subplots()\n",
    "ax.plot(x,target,'o-',label='Target')\n",
    "#ax.plot(x,resM,label='mobile DC')\n",
    "#ax.plot(x,resF,label='detached DC')\n",
    "ax.plot(x,resF/(1-mProp),label='norm detached DC')\n",
    "ax.set_xlabel('Region number')\n",
    "ax.set_ylabel('Value')\n",
    "ax.set_xticks(x,expD['Abbreviation'],rotation=90)\n",
    "# show a legend on the plot\n",
    "ax.legend()\n",
    "#plt.show()\n",
    "pos = ax.get_position()\n",
    "ax.set_position([pos.x0, pos.y0 + pos.height*0.15, pos.width , pos.height* 0.85])\n",
    "plt.title(f\"Cost = {format(np.sum((resF/(1-mProp) - target) ** 2),'.4g')}, $\\chi^2$ = {format(np.sum(((resF/(1-mProp) - target)/targSD) ** 2),'.4g')}\") \n",
    "# function to show the plot\n",
    "plt.show()\n",
    "#plt.savefig('bestFit_DG_10reg_1dv_density_18M_target.png')\n",
    "#plt.savefig('bestFit_DG_10reg_1dv_density_18M_target.pdf')\n",
    "#plt.savefig('bestFit_DG_10reg_1dv_density_18M_target.svg')"
   ]
  },
  {
   "cell_type": "code",
   "execution_count": null,
   "metadata": {},
   "outputs": [],
   "source": [
    "fig, ax = plt.subplots()\n",
    "#plt.plot(x,target,label=cname7)\n",
    "ax.errorbar(x,target,targSD,label=cname7, fmt='-o')\n",
    "#plt.plot(x,resF,label='detached DC')\n",
    "ax.plot(x,resF/(1-mProp),label='detached norm DC')\n",
    "ax.set_xlabel('Region number')\n",
    "ax.set_ylabel('Value')\n",
    "ax.set_xticks(x,expD['Abbreviation'],rotation=90)\n",
    "# show a legend on the plot\n",
    "ax.legend()\n",
    "#plt.show()\n",
    "pos = ax.get_position()\n",
    "ax.set_position([pos.x0, pos.y0 + pos.height*0.15, pos.width , pos.height* 0.85])\n",
    "plt.title(f\"Cost = {format(np.sum((resF/(1-mProp) - target) ** 2),'.4g')}, $\\chi^2$ = {format(np.sum(((resF/(1-mProp) - target)/targSD) ** 2),'.4g')}\") \n",
    "# function to show the plot\n",
    "plt.show()\n",
    "#plt.savefig('bestFit_DG_10reg_1dv_density_18M_target_error.png')\n",
    "#plt.savefig('bestFit_DG_10reg_1dv_density_18M_target_error.pdf')\n",
    "#plt.savefig('bestFit_DG_10reg_1dv_density_18M_target_error.svg')"
   ]
  },
  {
   "cell_type": "code",
   "execution_count": null,
   "metadata": {},
   "outputs": [],
   "source": []
  },
  {
   "cell_type": "code",
   "execution_count": null,
   "metadata": {},
   "outputs": [],
   "source": []
  },
  {
   "cell_type": "code",
   "execution_count": null,
   "metadata": {},
   "outputs": [],
   "source": []
  },
  {
   "cell_type": "code",
   "execution_count": null,
   "metadata": {},
   "outputs": [],
   "source": []
  },
  {
   "cell_type": "code",
   "execution_count": null,
   "metadata": {},
   "outputs": [],
   "source": []
  }
 ],
 "metadata": {
  "kernelspec": {
   "display_name": "Python 3 (ipykernel)",
   "language": "python",
   "name": "python3"
  },
  "language_info": {
   "codemirror_mode": {
    "name": "ipython",
    "version": 3
   },
   "file_extension": ".py",
   "mimetype": "text/x-python",
   "name": "python",
   "nbconvert_exporter": "python",
   "pygments_lexer": "ipython3",
   "version": "3.13.5"
  }
 },
 "nbformat": 4,
 "nbformat_minor": 4
}
