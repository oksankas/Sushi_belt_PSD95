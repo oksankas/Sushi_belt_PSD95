{
 "cells": [
  {
   "cell_type": "code",
   "execution_count": null,
   "metadata": {
    "ExecuteTime": {
     "end_time": "2024-02-01T04:36:14.473505Z",
     "start_time": "2024-02-01T04:36:13.685666Z"
    },
    "collapsed": false,
    "jupyter": {
     "outputs_hidden": false
    }
   },
   "outputs": [],
   "source": [
    "%%bash\n",
    "nrnivmodl"
   ]
  },
  {
   "cell_type": "code",
   "execution_count": null,
   "metadata": {
    "ExecuteTime": {
     "end_time": "2024-02-01T04:36:17.107428Z",
     "start_time": "2024-02-01T04:36:17.087940Z"
    },
    "collapsed": false,
    "jupyter": {
     "outputs_hidden": false
    }
   },
   "outputs": [],
   "source": [
    "# Download NEURON: http://www.neuron.yale.edu/neuron/download\n",
    "# Download PyNeuronToolbox: https://github.com/ahwillia/PyNeuron-Toolbox\n",
    "\n",
    "from neuron import h\n",
    "import numpy as np\n",
    "import math\n",
    "import pylab as plt\n",
    "import scipy.linalg\n",
    "from PyNeuronToolbox.record import ez_record,ez_convert\n",
    "from PyNeuronToolbox.morphology import shapeplot,shapeplot_animate\n",
    "from mpl_toolkits.mplot3d import Axes3D\n",
    "from JSAnimation import IPython_display\n",
    "from matplotlib import animation\n",
    "from matplotlib.pyplot import cm\n",
    "%matplotlib inline\n",
    "np.random.seed(123456789)\n",
    "\n",
    "DC = 10 # diffusion coeff [microns^2 s^-1]\n",
    "\n",
    "# Load morphology and other stuff\n",
    "# --> SegLists: soma[2], dend[74], dend_5[37], apic[42], axon[1]\n",
    "# --> Files from Migliore & Migliore (2012)\n",
    "# --> CA1 pyramidal neuron\n",
    "h.load_file('stdrun.hoc')\n",
    "h.xopen('ri06.hoc')\n",
    "h.xopen('fixnseg.hoc')\n",
    "h.xopen('5a_nogui.hoc')\n",
    "h.tstop = 700.0"
   ]
  },
  {
   "cell_type": "code",
   "execution_count": null,
   "metadata": {
    "collapsed": false,
    "jupyter": {
     "outputs_hidden": false
    }
   },
   "outputs": [],
   "source": [
    "from PyNeuronToolbox.morphology import dist_between,allsec_preorder\n",
    "\n",
    "def dist_to_soma(segment):\n",
    "    return dist_between(h,h.soma[0](0.5),segment)\n",
    "\n",
    "#seglist in pre-order\n",
    "sec_list = allsec_preorder(h)\n",
    "seg_list = []\n",
    "for sec in sec_list:\n",
    "    locs = np.linspace(0,1,sec.nseg+2)[1:-1]\n",
    "    for loc in locs:\n",
    "        seg_list.append(sec(loc))\n",
    "n = len(seg_list)\n",
    "N = n"
   ]
  },
  {
   "cell_type": "code",
   "execution_count": null,
   "metadata": {},
   "outputs": [],
   "source": [
    "for i in range(len(sec_list)):\n",
    "    sec = sec_list[i]\n",
    "    print(f\"{i}: {sec.name()}, nseg={sec.nseg}, L={sec.L}, or={sec.orientation()}, hname={sec.hname()}\")"
   ]
  },
  {
   "cell_type": "code",
   "execution_count": null,
   "metadata": {},
   "outputs": [],
   "source": [
    "import re\n",
    "import pandas as pd\n",
    "p = re.compile(\"^([^\\\\[]+)\\\\[.+\")\n",
    "tps = [p.sub(\"\\\\1\",seg.sec.name()) for seg in seg_list]\n",
    "pd.Series(tps).drop_duplicates().tolist()"
   ]
  },
  {
   "cell_type": "code",
   "execution_count": null,
   "metadata": {
    "collapsed": false,
    "jupyter": {
     "outputs_hidden": false
    }
   },
   "outputs": [],
   "source": [
    "def sushi_system(a,b,c,d,l):\n",
    "    \"\"\"\n",
    "    Returns a matrix A, such that dx/dt = A*x\n",
    "    \n",
    "    N = # of compartments\n",
    "    A is (2N x 2N) matrix\n",
    "    x is (2N x 1) vector.\n",
    "      The first N elements correspond to concentrations of u (molecules in transit)\n",
    "      The second half correspond to concentrations of u-star (active molecules)\n",
    "    The trafficking rate constants along the microtubules are given by the vectors \"a\" and \"b\"\n",
    "    The rate constants for u turning into u* is given by the vector \"c\"\n",
    "    The rate constants for u* turning into u is given by the vector \"d\"\n",
    "    The rate constants for the degradation of u* is given by the vector \"l\"\n",
    "    \"\"\"\n",
    "    # number of compartments\n",
    "    N = len(l)\n",
    "    \n",
    "    ## State-space equations\n",
    "    #  dx/dt = Ax + Bu\n",
    "    A = np.zeros((2*N,2*N))\n",
    "\n",
    "    # Trafficking along belt\n",
    "    # Iterative traversal of dendritic tree in pre-order\n",
    "    i = 0\n",
    "    section = None\n",
    "    parentStack = [(None,h.soma[0])]\n",
    "    while len(parentStack)>0:\n",
    "        # Get next section to traverse\n",
    "        #  --> p is parent index, section is h.Section object\n",
    "        (p,section) = parentStack.pop()\n",
    "        \n",
    "        # Trafficking to/from parent\n",
    "        if p is not None:\n",
    "            # Out of parent, into child\n",
    "            ai = a.pop()\n",
    "            A[p,p] += -ai\n",
    "            A[i,p] += ai\n",
    "            # Into parent, out of child\n",
    "            bi = b.pop()\n",
    "            A[p,i] += bi\n",
    "            A[i,i] += -bi\n",
    "        \n",
    "        # visit all segments in compartment\n",
    "        for (j,seg) in enumerate(section):\n",
    "            # Deal with out/into rates within compartment, just tridiag matrix\n",
    "            if j>0:\n",
    "                # Out of parent, into child\n",
    "                ai = a.pop()\n",
    "                A[i-1,i-1] += -ai\n",
    "                A[i,i-1] += ai\n",
    "                # Into parent, out of child\n",
    "                bi = b.pop()\n",
    "                A[i-1,i] += bi\n",
    "                A[i,i] += -bi\n",
    "            # move onto next compartment\n",
    "            i += 1\n",
    "        \n",
    "        # now visit children in pre-order\n",
    "        child_list = list(h.SectionRef(sec=section).child)\n",
    "        if child_list is not None:\n",
    "            child_list.reverse()\n",
    "        for c_sec in child_list:\n",
    "            parentStack.append([i-1,c_sec]) # append parent index and child\n",
    "    \n",
    "    # Trafficking off the belt\n",
    "    for i in range(N):\n",
    "        A[i,i] += -c[i]\n",
    "        A[i+N,i] += c[i]\n",
    "    \n",
    "    # Reattachment to belt\n",
    "    #for i in range(N):\n",
    "    #    # reattachment\n",
    "    #    A[i, i + N] += d[i]\n",
    "    #    A[i + N, i + N] += -d[i]\n",
    "\n",
    "    # Degradation after being taken off the belt\n",
    "    for i in range(N):\n",
    "        A[i+N,i+N] = -l[i]\n",
    "    \n",
    "    return A"
   ]
  },
  {
   "cell_type": "code",
   "execution_count": null,
   "metadata": {
    "collapsed": false,
    "jupyter": {
     "outputs_hidden": false
    }
   },
   "outputs": [],
   "source": [
    "def trafficking_solution(utarg):\n",
    "    \"\"\" Solve the problem by tuning trafficking rates, like Figs 1 and 2. \"\"\"\n",
    "    x = []\n",
    "    \n",
    "    # Iterative traversal of dendritic tree in pre-order\n",
    "    i = 0\n",
    "    section = None\n",
    "    parentStack = [(None,h.soma[0])]\n",
    "    while len(parentStack)>0:\n",
    "        # Get next section to traverse\n",
    "        #  --> p is parent index, section is h.Section object\n",
    "        (p,section) = parentStack.pop()\n",
    "        \n",
    "        # Trafficking to/from parent\n",
    "        if p is not None:\n",
    "            mp = utarg[p] # concentration in parent\n",
    "            mc = utarg[i] # concentration in child\n",
    "            x.insert(0,mp/mc)\n",
    "        \n",
    "        # visit all segments in compartment\n",
    "        for (j,seg) in enumerate(section):\n",
    "            # Deal with out/into rates within compartment, just tridiag matrix\n",
    "            if j>0:\n",
    "                mp = utarg[i-1]\n",
    "                mc = utarg[i]\n",
    "                x.insert(0,mp/mc)\n",
    "                \n",
    "            # move onto next compartment\n",
    "            i += 1\n",
    "        \n",
    "        # now visit children in pre-order\n",
    "        child_list = list(h.SectionRef(sec=section).child)\n",
    "        if child_list is not None:\n",
    "            child_list.reverse()\n",
    "        for c_sec in child_list:\n",
    "            parentStack.append([i-1,c_sec]) # append parent index and child\n",
    "    \n",
    "    # return calculated guesses (flip, up/down since get_deriv pops from start)\n",
    "    return np.array(x)\n",
    "\n",
    "def get_sys_matrix(utarg,F=0.5,Ctau=1e-3,dscale=0.1,dv=1e-7):\n",
    "    # F is a mixing factor between 0 and 1\n",
    "    K = np.sum(utarg)/n\n",
    "    x = trafficking_solution(F*utarg + (1-F)*K)\n",
    "    a = (1/(1+x))\n",
    "    a = list(a)\n",
    "    b = list((1/(1+x**-1)))\n",
    "    l = list(np.ones(n)*dv)\n",
    "    c = list(Ctau*utarg/(F*utarg + (1-F)*K))\n",
    "    d = list([ci * dscale for ci in c])\n",
    "    A = sushi_system(a,b,c,d,l)\n",
    "    return A"
   ]
  },
  {
   "cell_type": "code",
   "execution_count": null,
   "metadata": {
    "collapsed": false,
    "jupyter": {
     "outputs_hidden": false
    }
   },
   "outputs": [],
   "source": [
    "# matrix exponential used to solve linear system\n",
    "from scipy.linalg import expm\n",
    "\n",
    "# initial condition, u starts only in soma and is trafficked out to dendrites\n",
    "u0 = np.zeros(2*n)\n",
    "u0[0] = 1.0  # compartment 0 is the soma"
   ]
  },
  {
   "cell_type": "code",
   "execution_count": null,
   "metadata": {
    "collapsed": false,
    "jupyter": {
     "outputs_hidden": false
    }
   },
   "outputs": [],
   "source": [
    "def solve_u(u0,w,V,Vinv,t):\n",
    "    D = np.diag(np.exp(w*t))          # diagonal matrix exponential\n",
    "    PHI = np.real(V.dot(D.dot(Vinv))) # state transition matrix\n",
    "    return PHI.dot(u0)                # calculate u(t)\n",
    "\n",
    "def sim_time(A,u0,time,nframes=10):\n",
    "    # Run a simulation (log time)\n",
    "    # --> this is a linear system; thus, matrix exponential provides exact solution\n",
    "    utrace = [u0]\n",
    "    w,V = scipy.linalg.eig(A)\n",
    "    Vinv = np.linalg.inv(V)\n",
    "    t = np.logspace(-0.5,math.log10(time),nframes)\n",
    "    for t_ in t: utrace.append(solve_u(u0,w,V,Vinv,t_))\n",
    "    return np.array(utrace).T\n",
    "\n",
    "def run_sim(A,nframes=10):\n",
    "    # Run a simulation (log time)\n",
    "    # --> this is a linear system; thus, matrix exponential provides exact solution\n",
    "    utrace = [u0]\n",
    "    t = np.logspace(-0.5,8.5,nframes)\n",
    "    w,V = scipy.linalg.eig(A)\n",
    "    Vinv = np.linalg.inv(V)\n",
    "    t = np.logspace(-0.5,8.5,nframes)\n",
    "    for t_ in t: utrace.append(solve_u(w,V,Vinv,t_))\n",
    "    return np.array(utrace).T\n",
    "\n",
    "def animate_sim(climits=[0,0.0035]):\n",
    "    u = utrace[n:,:]\n",
    "    fig = plt.figure(figsize=(8,8))\n",
    "    shapeax = plt.subplot(111, projection='3d')\n",
    "    lines = shapeplot(h,shapeax,order='pre',lw=2)\n",
    "    shapeax.view_init(elev=80,azim=-90)\n",
    "    plt.title('distribution of active/detached cargo',fontweight='bold',fontsize=14)\n",
    "    plt.axis('off')\n",
    "\n",
    "    # Hack to get a colorbar\n",
    "    # http://stackoverflow.com/questions/8342549/matplotlib-add-colorbar-to-a-sequence-of-line-plots\n",
    "    sm = plt.cm.ScalarMappable(cmap=plt.cm.cool, norm=plt.Normalize(climits[0],climits[1])) \n",
    "    #sm._A = []\n",
    "    #plt.colorbar(sm, shrink=0.5)\n",
    "    #plt.colorbar(sm)\n",
    "    plt.tight_layout()\n",
    "\n",
    "    anim_func = shapeplot_animate(u.T,lines,u.shape[1],clim=climits,cmap=cm.cool)\n",
    "    return animation.FuncAnimation(fig, anim_func, frames=u.shape[1], interval=5e2, blit=True)\n",
    "\n",
    "def snap_ss(name,clim=[0,0.0035],cmap=plt.cm.cool):\n",
    "    u = utrace[n:,:]\n",
    "    fig = plt.figure(figsize=(8,8))\n",
    "    shapeax = plt.subplot(111, projection='3d')\n",
    "    lines = shapeplot(h,shapeax,cvals=u[:,-1],clim=clim,\\\n",
    "                      cmap=cmap,order='pre',lw=2)\n",
    "    shapeax.view_init(elev=80,azim=-90)\n",
    "    plt.title('steady-state',fontweight='bold',fontsize=14)\n",
    "\n",
    "    # colorbar\n",
    "    sm = cm.ScalarMappable(cmap=cmap, norm=plt.Normalize(clim[0],clim[1])) \n",
    "    #sm = plt.cm.ScalarMappable(cmap=plt.cm.cool, norm=plt.Normalize(clim[0],clim[1])) \n",
    "    #sm._A = []\n",
    "    #plt.colorbar(sm, shrink=0.5)\n",
    "    #plt.colorbar(sm,cax=shapeax)\n",
    "    #plt.colorbar()\n",
    "    plt.tight_layout()\n",
    "    plt.axis('off')\n",
    "    #plt.savefig(name+'.svg')"
   ]
  },
  {
   "cell_type": "markdown",
   "metadata": {},
   "source": [
    "Read Experimental Data\n",
    "----"
   ]
  },
  {
   "cell_type": "code",
   "execution_count": null,
   "metadata": {},
   "outputs": [],
   "source": [
    "tdf=pd.read_csv('data/seg_mapping.csv')\n",
    "abbCA1=tdf['abb']\n",
    "abbT={}\n",
    "segIdx={}\n",
    "for i in range(n):\n",
    "    abbT[abbCA1[i]] = 1+ abbT.get(abbCA1[i],0)\n",
    "    ll=segIdx.get(abbCA1[i],[])\n",
    "    ll.append(i)\n",
    "    segIdx[abbCA1[i]] = ll\n",
    "\n",
    "(abbCA1,abbT,segIdx.keys(),{k:len(segIdx.get(k)) for k in segIdx.keys()})"
   ]
  },
  {
   "cell_type": "code",
   "execution_count": null,
   "metadata": {},
   "outputs": [],
   "source": [
    "expD=pd.read_csv('data/CA1_gradient.csv')\n",
    "subreg = ['CA1so', 'CA1sr', 'CA1slm']\n",
    "expD"
   ]
  },
  {
   "cell_type": "code",
   "execution_count": null,
   "metadata": {},
   "outputs": [],
   "source": [
    "import sushibelt\n",
    "import time"
   ]
  },
  {
   "cell_type": "code",
   "execution_count": null,
   "metadata": {},
   "outputs": [],
   "source": [
    "utarg = np.ones(len(seg_list))\n",
    "for i in range(expD.shape[0]):\n",
    "    abb = expD['Abbreviation'][i]\n",
    "    sidx= segIdx[abb]\n",
    "    utarg[sidx] *= i\n",
    "u1 = np.concatenate((utarg,utarg))\n",
    "utrace = [u1,u1]\n",
    "utrace = np.array(utrace).T\n",
    "snap_ss(f\"segment_distribution\",clim=[0,max(utarg)],cmap=plt.cm.YlOrBr)\n",
    "max(utarg)"
   ]
  },
  {
   "cell_type": "code",
   "execution_count": null,
   "metadata": {},
   "outputs": [],
   "source": [
    "utarg = np.ones(len(seg_list))\n",
    "for i in range(expD.shape[0]):\n",
    "    abb = expD['Abbreviation'][i]\n",
    "    sidx= segIdx[abb]\n",
    "    utarg[sidx] *= [j for j in range(len(subreg)) if subreg[j]== expD['Subregion'][i]][0]\n",
    "u1 = np.concatenate((utarg,utarg))\n",
    "utrace = [u1,u1]\n",
    "utrace = np.array(utrace).T\n",
    "snap_ss(f\"subregion_distribution\",clim=[0,max(utarg)],cmap=plt.cm.YlOrBr)\n",
    "max(utarg)"
   ]
  },
  {
   "cell_type": "code",
   "execution_count": null,
   "metadata": {},
   "outputs": [],
   "source": [
    "parnames=['F','Ctau','dv','mProp','demand_CA1so','demand_CA1sr','demand_CA1slm']\n",
    "lowb=np.array([0, -18, -18, 1e-3, 1e-3, 1e-3, 1e-3])\n",
    "upbga=np.array([1, -1, -1, 1, 1, 1, 1])\n",
    "numPar=len(parnames)\n"
   ]
  },
  {
   "cell_type": "code",
   "execution_count": null,
   "metadata": {},
   "outputs": [],
   "source": [
    "pn='dv'\n",
    "pidx=[i for i in range(len(parnames)) if parnames[i]==pn][0]\n",
    "bidx= [i for i in range(numPar) if i != pidx]\n",
    "clowb=lowb[bidx]\n",
    "(pn,pidx,bidx,clowb)"
   ]
  },
  {
   "cell_type": "markdown",
   "metadata": {},
   "source": [
    "Day 0 3 weeks\n",
    "------"
   ]
  },
  {
   "cell_type": "code",
   "execution_count": null,
   "metadata": {},
   "outputs": [],
   "source": [
    "cname='D0M3'\n",
    "utarg = np.ones(len(seg_list))\n",
    "unsig = np.ones(len(seg_list))\n",
    "for i in range(expD.shape[0]):\n",
    "    abb = expD['Abbreviation'][i]\n",
    "    sidx= segIdx[abb]\n",
    "    utarg[sidx] *= expD[f\"{cname}_MEAN\"][i]/len(sidx)\n",
    "    unsig[sidx] *= len(sidx)\n",
    "    v=expD[f\"{cname}_MEAN\"][i]\n",
    "    print(f\"i={i}, abb={abb}, len(sidx)={len(sidx)}, v={v}, nv={v/len(sidx)}\")\n",
    "u1 = np.concatenate((utarg,utarg))\n",
    "un = np.concatenate((unsig,unsig))\n",
    "utrace = [u1,u1]\n",
    "utrace = np.array(utrace).T\n",
    "#snap_ss(f\"case1_{cname}_target\",clim=[0,max(utarg)],cmap=plt.cm.YlOrBr)\n",
    "max(utarg)"
   ]
  },
  {
   "cell_type": "code",
   "execution_count": null,
   "metadata": {},
   "outputs": [],
   "source": [
    "utM,utF = sushibelt.aggregate_segments(u1/np.sum(u1),segIdx,expD['Abbreviation'],fun=np.sum)\n",
    "x=np.array(range(expD.shape[0]))\n",
    "\n",
    "plt.plot(x,utM,label='utargM')\n",
    "plt.plot(x,utF,label='utargF')\n",
    "# show a legend on the plot\n",
    "plt.legend()\n"
   ]
  },
  {
   "cell_type": "code",
   "execution_count": null,
   "metadata": {},
   "outputs": [],
   "source": [
    "utM,utF = sushibelt.aggregate_segments(un/np.sum(un),segIdx,expD['Abbreviation'],fun=np.sum)\n",
    "x=np.array(range(expD.shape[0]))\n",
    "\n",
    "plt.plot(x,utM,label='utargM')\n",
    "plt.plot(x,utF,label='utargF')\n",
    "# show a legend on the plot\n",
    "plt.legend()\n"
   ]
  },
  {
   "cell_type": "code",
   "execution_count": null,
   "metadata": {},
   "outputs": [],
   "source": [
    "cname='D7M3'\n",
    "obsD = np.ones(len(seg_list))\n",
    "for i in range(expD.shape[0]):\n",
    "    abb = expD['Abbreviation'][i]\n",
    "    sidx= segIdx[abb]\n",
    "    obsD[sidx] *= expD[f\"{cname}_MEAN\"][i]/len(sidx)\n",
    "nobsD = np.array(expD[f\"{cname}_MEAN\"])/np.sum(expD[f\"{cname}_MEAN\"])\n",
    "uD = np.concatenate((obsD,obsD))\n",
    "utrace = [uD,uD]\n",
    "utrace = np.array(utrace).T\n",
    "snap_ss(f\"case1_{cname}_target\",clim=[0,max(obsD)],cmap=plt.cm.YlOrBr)\n",
    "max(obsD)"
   ]
  },
  {
   "cell_type": "code",
   "execution_count": null,
   "metadata": {},
   "outputs": [],
   "source": [
    "diF=abs(uD-u1)\n",
    "utrace = [diF,diF]\n",
    "utrace = np.array(utrace).T\n",
    "snap_ss(f\"case1_{cname}_target\",clim=[min(diF),max(diF)],cmap=plt.cm.YlOrBr)\n",
    "(min(diF),max(diF))"
   ]
  },
  {
   "cell_type": "code",
   "execution_count": null,
   "metadata": {},
   "outputs": [],
   "source": [
    "x=np.array(range(expD.shape[0]))\n",
    "plt.plot(x,expD[f\"D0M3_MEAN\"],label='D0M3')\n",
    "plt.plot(x,expD[f\"D7M3_MEAN\"],label='D7M3')\n",
    "# show a legend on the plot\n",
    "plt.legend()\n",
    " \n",
    "# function to show the plot\n",
    "plt.show()"
   ]
  },
  {
   "cell_type": "code",
   "execution_count": null,
   "metadata": {},
   "outputs": [],
   "source": [
    "plt.plot(x,expD[f\"D0W3_MEAN\"]/np.sum(expD[f\"D0M3_MEAN\"]),label='norm D0M3')\n",
    "plt.plot(x,expD[f\"D7W3_MEAN\"]/np.sum(expD[f\"D7M3_MEAN\"]),label='norm D7M3')\n",
    "# show a legend on the plot\n",
    "plt.legend()\n",
    " \n",
    "# function to show the plot\n",
    "plt.show()"
   ]
  },
  {
   "cell_type": "code",
   "execution_count": null,
   "metadata": {},
   "outputs": [],
   "source": [
    "mProp=0.25\n",
    "u0 = np.concatenate((mProp*utarg/np.sum(utarg),(1-mProp)*utarg/np.sum(utarg)))\n",
    "initM,initF = sushibelt.aggregate_segments(u0,segIdx,expD['Abbreviation'],fun=np.sum)\n",
    "x=np.array(range(expD.shape[0]))\n",
    "\n",
    "plt.plot(x,expD[f\"D0M3_MEAN\"]/np.sum(expD[f\"D0M3_MEAN\"]),label='D0M3_MEAN')\n",
    "plt.plot(x,initM,label='mobile')\n",
    "plt.plot(x,initF,label='detached')\n",
    "# show a legend on the plot\n",
    "plt.legend()\n",
    " \n",
    "# function to show the plot\n",
    "plt.show()"
   ]
  },
  {
   "cell_type": "code",
   "execution_count": null,
   "metadata": {},
   "outputs": [],
   "source": [
    "mProp=0.25\n",
    "u0 = np.concatenate((mProp*utarg/np.sum(utarg),(1-mProp)*utarg/np.sum(utarg)))\n",
    "initM,initF = sushibelt.aggregate_segments(u0,segIdx,expD['Abbreviation'],fun=np.sum)\n",
    "utM,utF = sushibelt.aggregate_segments(uD/np.sum(u1),segIdx,expD['Abbreviation'],fun=np.sum)\n",
    "x=np.array(range(expD.shape[0]))\n",
    "\n",
    "plt.plot(x,utM,label='utarg')\n",
    "plt.plot(x,initM,label='mobile')\n",
    "plt.plot(x,initF,label='detached')\n",
    "# show a legend on the plot\n",
    "plt.legend()\n",
    " \n",
    "# function to show the plot\n",
    "plt.show()"
   ]
  },
  {
   "cell_type": "code",
   "execution_count": null,
   "metadata": {},
   "outputs": [],
   "source": [
    "(mProp,np.sum(utM),np.sum(utF),np.sum(initM),np.sum(initF),np.sum(u1))"
   ]
  },
  {
   "cell_type": "code",
   "execution_count": null,
   "metadata": {},
   "outputs": [],
   "source": [
    "abb_list=np.array(expD['Abbreviation'])\n",
    "(len(abb_list),np.mean(expD[f\"{cname}_MEAN\"]),abb_list,segIdx)"
   ]
  },
  {
   "cell_type": "code",
   "execution_count": null,
   "metadata": {},
   "outputs": [],
   "source": [
    "cname0='D0M3'\n",
    "cname7='D7M3'\n",
    "obsD = np.ones(len(seg_list))\n",
    "resMo = np.zeros(expD.shape[0])\n",
    "resFo = np.zeros(expD.shape[0])\n",
    "for i in range(expD.shape[0]):\n",
    "    abb = expD['Abbreviation'][i]\n",
    "    sidx= segIdx[abb]\n",
    "    obsD[sidx] *= expD[f\"{cname7}_MEAN\"][i]\n",
    "nobsD = np.array(expD[f\"{cname7}_MEAN\"])/np.sum(expD[f\"{cname7}_MEAN\"])\n",
    "nobsDnn = np.array(expD[f\"{cname7}_MEAN\"])/np.sum(expD[f\"{cname0}_MEAN\"])\n",
    "target = np.array(expD[f\"{cname7}_MEAN\"])/np.sum(expD[f\"{cname0}_MEAN\"]) #results to fit to\n",
    "targSD = np.array(expD[f\"{cname7}_SD\"])/np.sum(expD[f\"{cname0}_MEAN\"]) #results to fit to\n",
    "(np.sum(target),nobsD)"
   ]
  },
  {
   "cell_type": "code",
   "execution_count": null,
   "metadata": {},
   "outputs": [],
   "source": [
    "itarg = np.ones(len(seg_list), dtype=int)\n",
    "par = [1000,0,0,0,1,2,3,4]\n",
    "for i in range(expD.shape[0]):\n",
    "    abb = expD['Abbreviation'][i]\n",
    "    sidx = segIdx[abb]\n",
    "    itarg[sidx] *= [j + 4 for j in range(len(subreg)) if subreg[j] == expD['Subregion'][i]][0]\n",
    "utarg = [par[j] for j in itarg]\n",
    "(itarg,utarg)"
   ]
  },
  {
   "cell_type": "code",
   "execution_count": null,
   "metadata": {},
   "outputs": [],
   "source": [
    "bgSignal = 1e-5\n",
    "day7 = 7 * 24 * 3600 # final time point\n",
    "\n",
    "def calcUtrace(par,delta=1e-7):\n",
    "    F = par[0]\n",
    "    Ctau = 10 ** par[1]\n",
    "    dv = 10 ** par[2]\n",
    "    mProp = par[3]\n",
    "    utarg = delta*np.ones(N)\n",
    "    for k in range(N):\n",
    "        if itarg[k] > 3:\n",
    "            utarg[k] = par[itarg[k]]\n",
    "    utarg /= np.sum(utarg)\n",
    "    K = np.sum(utarg) / N\n",
    "    x = trafficking_solution(F * utarg + (1 - F) * K)\n",
    "    a = (1 / (1 + x))\n",
    "    a = list(a)\n",
    "    b = list((1 / (1 + x ** -1)))\n",
    "    l = list(np.ones(N) * dv)\n",
    "    c = list(Ctau * utarg / (F * utarg + (1 - F) * K))\n",
    "    d = list(np.zeros(N))\n",
    "    A = sushi_system(a, b, c, d, l)\n",
    "    u0 = np.concatenate((mProp * dinit, (1 - mProp) * dinit))\n",
    "    utrace = sim_time(A, u0, day7)\n",
    "    return utrace\n",
    "\n",
    "d0w = np.ones(n)\n",
    "for i in range(expD.shape[0]):\n",
    "    abb = expD['Abbreviation'][i]\n",
    "    sidx= segIdx[abb]\n",
    "    d0w[sidx] *= expD[f\"{cname0}_MEAN\"][i]/len(sidx)\n",
    "dinit = d0w/np.sum(d0w)\n",
    "#par=[0.961919484252899,-5.133858267716535,-8.0,0.31251612903225806,0.001,0.4316110587484276,0.9295395757281527]\n",
    "#par=[9.59958074e-01, -5.13385827e+00, -8.40000000e+00,  3.12516129e-01,\n",
    "#        1.00095272e-03,  4.47587470e-01,  9.64900400e-01]\n",
    "#par = [0.7319544570315621,-18.0,0.9999999999999858,0.09013312454954349,0.0010182254872917412,0.558826997851783,0.9999999999999996]\n",
    "#cost=0.22173789\n",
    "#par = [0.0,-5.928312450225743,-5.432607526718705,0.04433935470301702,0.001,0.027516497491107825,1.0]\n",
    "#cost = 0.00011137664851494792\n",
    "#par = [7.01114319640285e-11,-7.845116636109227,-5.370033238533027,0.9138982830508748,0.001,0.4710826042662421,0.9999999999999994]\n",
    "#cost = 8.913377924831686e-05\n",
    "#par = [0.0,-7.358806506113698,-5.877206062417285,0.8259346892916518,0.001,0.005597295489466257,0.007967029322102446]\n",
    "#cost = 0.0002469349585610918\n",
    "par = [0.00000000e+00, -1.80000000e+01, -5.94573834e+00, 9.99999900e-01, 1.00000000e+00, 2.37088274e-01, 1.00606567e-03]\n",
    "cost = 53.77\n",
    "mProp = par[3]\n",
    "utrace = calcUtrace(par)\n",
    "resM, resF = sushibelt.aggregate_segments(utrace[:, -1], segIdx, expD['Abbreviation'], fun=np.sum)\n"
   ]
  },
  {
   "cell_type": "code",
   "execution_count": null,
   "metadata": {},
   "outputs": [],
   "source": [
    "{'F' : par[0],\n",
    "'Ctau' : 10 ** par[1],\n",
    "'l' : 10 ** par[2],\n",
    "'mProp' : par[3],\n",
    "'demand_CA1so': par[4],\n",
    "'demand_CA1sr': par[5],\n",
    "'demand_CA1slm': par[6],\n",
    "'sum_target' : np.sum(target),\n",
    "'sum_target^2' : np.sum(target ** 2),\n",
    "'sum_resM' : np.sum(resM),\n",
    "'sum_resF' : np.sum(resF),\n",
    "'sum_tot' : np.sum(resF)+np.sum(resM),\n",
    "'err' : np.sum((resF/(1-mProp) - target) ** 2),\n",
    "'err_norm' : np.sum((resF/(1-par[3]) - target) ** 2)/np.sum(target ** 2),\n",
    "'chi2' : np.sum(((resF/(1-mProp) - target)/targSD) ** 2),\n",
    "'cost' : cost \n",
    "}"
   ]
  },
  {
   "cell_type": "code",
   "execution_count": null,
   "metadata": {},
   "outputs": [],
   "source": [
    "u0 = np.concatenate((mProp * dinit, (1 - mProp) * dinit))\n",
    "u0M, u0F = sushibelt.aggregate_segments(u0, segIdx, expD['Abbreviation'], fun=np.sum)\n",
    "(np.sum(dinit),np.sum(u0M),np.sum(u0F),u0M,u0F,np.sum(u0[:n]),np.sum(u0[n:]))"
   ]
  },
  {
   "cell_type": "code",
   "execution_count": null,
   "metadata": {},
   "outputs": [],
   "source": [
    "x=np.array(range(expD.shape[0]))\n",
    "\n",
    "plt.plot(x,nobsDnn,label='Target')\n",
    "#plt.plot(x,nresM,label='mobile O')\n",
    "#plt.plot(x,nresF,label='detached O')\n",
    "plt.plot(x,resM,label='mobile DC')\n",
    "plt.plot(x,resF,label='detached DC')\n",
    "# show a legend on the plot\n",
    "plt.legend()\n",
    "plt.title(f\"Cost = {cost}\") \n",
    "# function to show the plot\n",
    "plt.show()\n",
    "#plt.savefig('bestFitEdita20240530.png')\n",
    "#plt.savefig('bestFitEdita20240530.pdf')\n",
    "#plt.savefig('bestFitEdita20240530.svg')\n"
   ]
  },
  {
   "cell_type": "code",
   "execution_count": null,
   "metadata": {},
   "outputs": [],
   "source": [
    "x=np.array(range(expD.shape[0]))\n",
    "\n",
    "plt.plot(x,nobsDnn,label='Target')\n",
    "#plt.plot(x,nresM,label='mobile O')\n",
    "#plt.plot(x,nresF,label='detached O')\n",
    "#plt.plot(x,resM,label='mobile DC')\n",
    "plt.plot(x,resF/(1-mProp),label='detached norm DC')\n",
    "# show a legend on the plot\n",
    "plt.legend()\n",
    "plt.title(f\"Cost = {cost}\") \n",
    "# function to show the plot\n",
    "plt.show()\n",
    "#plt.savefig('bestFitEdita20240530.fit.png')\n",
    "#plt.savefig('bestFitEdita20240530.fit.pdf')\n",
    "#plt.savefig('bestFitEdita20240530.fit.svg')\n"
   ]
  },
  {
   "cell_type": "markdown",
   "metadata": {},
   "source": [
    "# Identifiability plot"
   ]
  },
  {
   "cell_type": "code",
   "execution_count": null,
   "metadata": {},
   "outputs": [],
   "source": [
    "identD=pd.read_csv('Edita_ident.csv')\n",
    "parnames=['F','Ctau','dv','mProp','demand_CA1so','demand_CA1sr','demand_CA1slm']\n",
    "Nvals = 4 #10\n",
    "numPar=len(parnames)\n",
    "chi95 = 3.841459\n",
    "numPar"
   ]
  },
  {
   "cell_type": "code",
   "execution_count": null,
   "metadata": {},
   "outputs": [],
   "source": [
    "identD"
   ]
  },
  {
   "cell_type": "code",
   "execution_count": null,
   "metadata": {},
   "outputs": [],
   "source": [
    "k = 0\n",
    "pn = parnames[k]\n",
    "idx = [jj for jj in range(identD.shape[0]) if identD['ParamName'][jj] == pn]\n",
    "(pn,idx)\n",
    "plt.plot(identD['ParamVal'][idx],identD['Cost'][idx])\n",
    "plt.scatter(identD['ParamVal'][idx],identD['Cost'][idx])\n",
    "plt.axhline(y = chi95 + min(identD['Cost'][idx]), color = 'r', linestyle = 'dashed') \n",
    "plt.xlabel(pn)\n",
    "plt.ylabel('Cost')"
   ]
  },
  {
   "cell_type": "code",
   "execution_count": null,
   "metadata": {},
   "outputs": [],
   "source": [
    "for k in range(numPar):\n",
    "    pn = parnames[k]\n",
    "    idx = [jj for jj in range(identD.shape[0]) if identD['ParamName'][jj] == pn]\n",
    "    plt.plot(identD['ParamVal'][idx],identD['Cost'][idx])\n",
    "    plt.scatter(identD['ParamVal'][idx],identD['Cost'][idx])\n",
    "    plt.axhline(y = chi95 + min(identD['Cost'][idx]), color = 'r', linestyle = 'dashed') \n",
    "    plt.xlabel(pn)\n",
    "    plt.ylabel('Cost')\n",
    "    plt.title('Likelihood Profile')\n",
    "    plt.savefig(f'Edita_identifiability_{pn}_202406161015.png')\n",
    "    plt.savefig(f'Edita_identifiability_{pn}_202406161015.pdf')\n",
    "    plt.savefig(f'Edita_identifiability_{pn}_202406161015.svg')\n",
    "    plt.close()"
   ]
  },
  {
   "cell_type": "code",
   "execution_count": null,
   "metadata": {},
   "outputs": [],
   "source": [
    "fig, axes = plt.subplots(4, 2, figsize=(16, 20))\n",
    "\n",
    "k = 0\n",
    "for i in range(4):\n",
    "    for j in range(2):\n",
    "        if k < numPar:\n",
    "            pn = parnames[k]\n",
    "            idx = [jj for jj in range(identD.shape[0]) if identD['ParamName'][jj] == pn]\n",
    "            (pn,idx)\n",
    "            axes[i,j].plot(identD['ParamVal'][idx],identD['Cost'][idx])\n",
    "            axes[i,j].scatter(identD['ParamVal'][idx],identD['Cost'][idx])\n",
    "            axes[i,j].axhline(y = chi95 + min(identD['Cost'][idx]), color = 'r', linestyle = 'dashed') \n",
    "            axes[i,j].set_xlabel(pn)\n",
    "            #axes[i,j].set_ylabel('Cost')\n",
    "            if j == 0 :\n",
    "                axes[i,j].set_ylabel('Cost')\n",
    "            k += 1\n",
    "#plt.show()\n",
    "plt.savefig('Edita_identifiability_202406161015.png')\n",
    "plt.savefig('Edita_identifiability_202406161015.pdf')\n",
    "plt.savefig('Edita_identifiability_202406161015.svg')\n"
   ]
  },
  {
   "cell_type": "markdown",
   "metadata": {},
   "source": [
    "Day 7 3 weeks\n",
    "----"
   ]
  },
  {
   "cell_type": "code",
   "execution_count": null,
   "metadata": {},
   "outputs": [],
   "source": [
    "cname='D7W3'\n",
    "utarg = np.ones(len(seg_list))\n",
    "for i in range(expD.shape[0]):\n",
    "    abb = expD['Abbreviation'][i]\n",
    "    sidx= segIdx[abb]\n",
    "    utarg[sidx] *= expD[f\"{cname}_MEAN\"][i]\n",
    "u1 = np.concatenate((utarg,utarg))\n",
    "utrace = [u1,u1]\n",
    "utrace = np.array(utrace).T\n",
    "snap_ss(f\"case1_{cname}_target\",clim=[0,max(utarg)],cmap=plt.cm.YlOrBr)\n",
    "max(utarg)"
   ]
  },
  {
   "cell_type": "code",
   "execution_count": null,
   "metadata": {
    "collapsed": false,
    "jupyter": {
     "outputs_hidden": false
    }
   },
   "outputs": [],
   "source": [
    "utarg /= np.sum(utarg)\n",
    "\n",
    "# Run simulation\n",
    "initTime=time.time()\n",
    "A = get_sys_matrix(utarg,F=0,Ctau=1e-5,dv=1e-9)\n",
    "utrace = run_sim(A)\n",
    "FinalTime=time.time()-initTime\n",
    "\n",
    "# snapshot of steady-state\n",
    "snap_ss(f\"case1_{cname}\")\n",
    "\n",
    "# animation\n",
    "#animate_sim()\n",
    "print(FinalTime)"
   ]
  },
  {
   "cell_type": "markdown",
   "metadata": {},
   "source": [
    "Day 0 3 month\n",
    "----"
   ]
  },
  {
   "cell_type": "code",
   "execution_count": null,
   "metadata": {},
   "outputs": [],
   "source": [
    "cname='D0M3'\n",
    "utarg = np.ones(len(seg_list))\n",
    "for i in range(expD.shape[0]):\n",
    "    abb = expD['Abbreviation'][i]\n",
    "    sidx= segIdx[abb]\n",
    "    utarg[sidx] *= expD[f\"{cname}_MEAN\"][i]\n",
    "u1 = np.concatenate((utarg,utarg))\n",
    "utrace = [u1,u1]\n",
    "utrace = np.array(utrace).T\n",
    "snap_ss(f\"case1_{cname}_target\",clim=[0,max(utarg)],cmap=plt.cm.YlOrBr)\n",
    "max(utarg)"
   ]
  },
  {
   "cell_type": "code",
   "execution_count": null,
   "metadata": {
    "collapsed": false,
    "jupyter": {
     "outputs_hidden": false
    }
   },
   "outputs": [],
   "source": [
    "utarg /= np.sum(utarg)\n",
    "\n",
    "# Run simulation\n",
    "initTime=time.time()\n",
    "A = get_sys_matrix(utarg,F=0,Ctau=1e-5,dv=1e-9)\n",
    "utrace = run_sim(A)\n",
    "FinalTime=time.time()-initTime\n",
    "\n",
    "# snapshot of steady-state\n",
    "snap_ss(f\"case1_{cname}\")\n",
    "\n",
    "# animation\n",
    "#animate_sim()\n",
    "print(FinalTime)"
   ]
  },
  {
   "cell_type": "markdown",
   "metadata": {},
   "source": [
    "Day 7 3 month\n",
    "----"
   ]
  },
  {
   "cell_type": "code",
   "execution_count": null,
   "metadata": {},
   "outputs": [],
   "source": [
    "cname='D7M3'\n",
    "utarg = np.ones(len(seg_list))\n",
    "for i in range(expD.shape[0]):\n",
    "    abb = expD['Abbreviation'][i]\n",
    "    sidx= segIdx[abb]\n",
    "    utarg[sidx] *= expD[f\"{cname}_MEAN\"][i]\n",
    "u1 = np.concatenate((utarg,utarg))\n",
    "utrace = [u1,u1]\n",
    "utrace = np.array(utrace).T\n",
    "snap_ss(f\"case1_{cname}_target\",clim=[0,max(utarg)],cmap=plt.cm.YlOrBr)\n",
    "max(utarg)"
   ]
  },
  {
   "cell_type": "code",
   "execution_count": null,
   "metadata": {
    "collapsed": false,
    "jupyter": {
     "outputs_hidden": false
    }
   },
   "outputs": [],
   "source": [
    "utarg /= np.sum(utarg)\n",
    "\n",
    "# Run simulation\n",
    "initTime=time.time()\n",
    "A = get_sys_matrix(utarg,F=0,Ctau=1e-5,dv=1e-9)\n",
    "utrace = run_sim(A)\n",
    "FinalTime=time.time()-initTime\n",
    "\n",
    "# snapshot of steady-state\n",
    "snap_ss(f\"case1_{cname}\")\n",
    "\n",
    "# animation\n",
    "#animate_sim()\n",
    "print(FinalTime)"
   ]
  },
  {
   "cell_type": "markdown",
   "metadata": {},
   "source": [
    "Day 0 18 month\n",
    "----"
   ]
  },
  {
   "cell_type": "code",
   "execution_count": null,
   "metadata": {},
   "outputs": [],
   "source": [
    "cname='D0M18'\n",
    "utarg = np.ones(len(seg_list))\n",
    "for i in range(expD.shape[0]):\n",
    "    abb = expD['Abbreviation'][i]\n",
    "    sidx= segIdx[abb]\n",
    "    utarg[sidx] *= expD[f\"{cname}_MEAN\"][i]\n",
    "u1 = np.concatenate((utarg,utarg))\n",
    "utrace = [u1,u1]\n",
    "utrace = np.array(utrace).T\n",
    "snap_ss(f\"case1_{cname}_target\",clim=[0,max(utarg)],cmap=plt.cm.YlOrBr)\n",
    "max(utarg)"
   ]
  },
  {
   "cell_type": "code",
   "execution_count": null,
   "metadata": {
    "collapsed": false,
    "jupyter": {
     "outputs_hidden": false
    }
   },
   "outputs": [],
   "source": [
    "utarg /= np.sum(utarg)\n",
    "\n",
    "# Run simulation\n",
    "initTime=time.time()\n",
    "A = get_sys_matrix(utarg,F=0,Ctau=1e-5,dv=1e-9)\n",
    "utrace = run_sim(A)\n",
    "FinalTime=time.time()-initTime\n",
    "\n",
    "# snapshot of steady-state\n",
    "snap_ss(f\"case1_{cname}\")\n",
    "\n",
    "# animation\n",
    "#animate_sim()\n",
    "print(FinalTime)"
   ]
  },
  {
   "cell_type": "markdown",
   "metadata": {},
   "source": [
    "Day 7 18 month\n",
    "----"
   ]
  },
  {
   "cell_type": "code",
   "execution_count": null,
   "metadata": {},
   "outputs": [],
   "source": [
    "cname='D7M18'\n",
    "utarg = np.ones(len(seg_list))\n",
    "for i in range(expD.shape[0]):\n",
    "    abb = expD['Abbreviation'][i]\n",
    "    sidx= segIdx[abb]\n",
    "    utarg[sidx] *= expD[f\"{cname}_MEAN\"][i]\n",
    "u1 = np.concatenate((utarg,utarg))\n",
    "utrace = [u1,u1]\n",
    "utrace = np.array(utrace).T\n",
    "snap_ss(f\"case1_{cname}_target\",clim=[0,max(utarg)],cmap=plt.cm.YlOrBr)\n",
    "max(utarg)"
   ]
  },
  {
   "cell_type": "code",
   "execution_count": null,
   "metadata": {
    "collapsed": false,
    "jupyter": {
     "outputs_hidden": false
    }
   },
   "outputs": [],
   "source": [
    "utarg /= np.sum(utarg)\n",
    "\n",
    "# Run simulation\n",
    "initTime=time.time()\n",
    "A = get_sys_matrix(utarg,F=0,Ctau=1e-5,dv=1e-9)\n",
    "utrace = run_sim(A)\n",
    "FinalTime=time.time()-initTime\n",
    "\n",
    "# snapshot of steady-state\n",
    "snap_ss(f\"case1_{cname}\")\n",
    "\n",
    "# animation\n",
    "#animate_sim()\n",
    "print(FinalTime)"
   ]
  },
  {
   "cell_type": "markdown",
   "metadata": {},
   "source": [
    "Second Case: timescales not separated, proximal inputs are *greedy* and prevent distal transport\n",
    "----"
   ]
  },
  {
   "cell_type": "markdown",
   "metadata": {},
   "source": [
    "Day 0 3 weeks\n",
    "----"
   ]
  },
  {
   "cell_type": "code",
   "execution_count": null,
   "metadata": {},
   "outputs": [],
   "source": [
    "cname='D0W3'\n",
    "utarg = np.ones(len(seg_list))\n",
    "for i in range(expD.shape[0]):\n",
    "    abb = expD['Abbreviation'][i]\n",
    "    sidx= segIdx[abb]\n",
    "    utarg[sidx] *= expD[f\"{cname}_MEAN\"][i]\n",
    "u1 = np.concatenate((utarg,utarg))\n",
    "utrace = [u1,u1]\n",
    "utrace = np.array(utrace).T\n",
    "snap_ss(f\"case2_{cname}_target\",clim=[0,max(utarg)],cmap=plt.cm.YlOrBr)\n",
    "max(utarg)"
   ]
  },
  {
   "cell_type": "code",
   "execution_count": null,
   "metadata": {
    "collapsed": false,
    "jupyter": {
     "outputs_hidden": false
    }
   },
   "outputs": [],
   "source": [
    "# Run simulation\n",
    "utarg /= np.sum(utarg)\n",
    "initTime=time.time()\n",
    "A = get_sys_matrix(utarg,F=1,Ctau=1e-4,dv=1e-9)\n",
    "utrace = run_sim(A)\n",
    "FinalTime=time.time()-initTime\n",
    "\n",
    "# snapshot of steady-state\n",
    "snap_ss(f\"case2_{cname}\")\n",
    "\n",
    "# animation\n",
    "#animate_sim()\n",
    "print(FinalTime)"
   ]
  },
  {
   "cell_type": "markdown",
   "metadata": {},
   "source": [
    "Day 7 3 weeks\n",
    "----"
   ]
  },
  {
   "cell_type": "code",
   "execution_count": null,
   "metadata": {},
   "outputs": [],
   "source": [
    "cname='D7W3'\n",
    "utarg = np.ones(len(seg_list))\n",
    "for i in range(expD.shape[0]):\n",
    "    abb = expD['Abbreviation'][i]\n",
    "    sidx= segIdx[abb]\n",
    "    utarg[sidx] *= expD[f\"{cname}_MEAN\"][i]\n",
    "u1 = np.concatenate((utarg,utarg))\n",
    "utrace = [u1,u1]\n",
    "utrace = np.array(utrace).T\n",
    "snap_ss(f\"case2_{cname}_target\",clim=[0,max(utarg)],cmap=plt.cm.YlOrBr)\n",
    "max(utarg)"
   ]
  },
  {
   "cell_type": "code",
   "execution_count": null,
   "metadata": {
    "collapsed": false,
    "jupyter": {
     "outputs_hidden": false
    }
   },
   "outputs": [],
   "source": [
    "utarg /= np.sum(utarg)\n",
    "\n",
    "# Run simulation\n",
    "initTime=time.time()\n",
    "A = get_sys_matrix(utarg,F=1,Ctau=1e-4,dv=1e-9)\n",
    "utrace = run_sim(A)\n",
    "FinalTime=time.time()-initTime\n",
    "\n",
    "# snapshot of steady-state\n",
    "snap_ss(f\"case2_{cname}\")\n",
    "\n",
    "# animation\n",
    "#animate_sim()\n",
    "print(FinalTime)"
   ]
  },
  {
   "cell_type": "markdown",
   "metadata": {},
   "source": [
    "Day 0 3 month\n",
    "----"
   ]
  },
  {
   "cell_type": "code",
   "execution_count": null,
   "metadata": {},
   "outputs": [],
   "source": [
    "cname='D0M3'\n",
    "utarg = np.ones(len(seg_list))\n",
    "for i in range(expD.shape[0]):\n",
    "    abb = expD['Abbreviation'][i]\n",
    "    sidx= segIdx[abb]\n",
    "    utarg[sidx] *= expD[f\"{cname}_MEAN\"][i]\n",
    "u1 = np.concatenate((utarg,utarg))\n",
    "utrace = [u1,u1]\n",
    "utrace = np.array(utrace).T\n",
    "snap_ss(f\"case2_{cname}_target\",clim=[0,max(utarg)],cmap=plt.cm.YlOrBr)\n",
    "max(utarg)"
   ]
  },
  {
   "cell_type": "code",
   "execution_count": null,
   "metadata": {
    "collapsed": false,
    "jupyter": {
     "outputs_hidden": false
    }
   },
   "outputs": [],
   "source": [
    "utarg /= np.sum(utarg)\n",
    "\n",
    "# Run simulation\n",
    "initTime=time.time()\n",
    "A = get_sys_matrix(utarg,F=1,Ctau=1e-4,dv=1e-9)\n",
    "utrace = run_sim(A)\n",
    "FinalTime=time.time()-initTime\n",
    "\n",
    "# snapshot of steady-state\n",
    "snap_ss(f\"case2_{cname}\")\n",
    "\n",
    "# animation\n",
    "#animate_sim()\n",
    "print(FinalTime)"
   ]
  },
  {
   "cell_type": "markdown",
   "metadata": {},
   "source": [
    "Day 7 3 month\n",
    "----"
   ]
  },
  {
   "cell_type": "code",
   "execution_count": null,
   "metadata": {},
   "outputs": [],
   "source": [
    "cname='D7M3'\n",
    "utarg = np.ones(len(seg_list))\n",
    "for i in range(expD.shape[0]):\n",
    "    abb = expD['Abbreviation'][i]\n",
    "    sidx= segIdx[abb]\n",
    "    utarg[sidx] *= expD[f\"{cname}_MEAN\"][i]\n",
    "u1 = np.concatenate((utarg,utarg))\n",
    "utrace = [u1,u1]\n",
    "utrace = np.array(utrace).T\n",
    "snap_ss(f\"case2_{cname}_target\",clim=[0,max(utarg)],cmap=plt.cm.YlOrBr)\n",
    "max(utarg)"
   ]
  },
  {
   "cell_type": "code",
   "execution_count": null,
   "metadata": {
    "collapsed": false,
    "jupyter": {
     "outputs_hidden": false
    }
   },
   "outputs": [],
   "source": [
    "utarg /= np.sum(utarg)\n",
    "\n",
    "# Run simulation\n",
    "initTime=time.time()\n",
    "A = get_sys_matrix(utarg,F=1,Ctau=1e-4,dv=1e-9)\n",
    "utrace = run_sim(A)\n",
    "FinalTime=time.time()-initTime\n",
    "\n",
    "# snapshot of steady-state\n",
    "snap_ss(f\"case2_{cname}\")\n",
    "\n",
    "# animation\n",
    "#animate_sim()\n",
    "print(FinalTime)"
   ]
  },
  {
   "cell_type": "markdown",
   "metadata": {},
   "source": [
    "Day 0 18 month\n",
    "----"
   ]
  },
  {
   "cell_type": "code",
   "execution_count": null,
   "metadata": {},
   "outputs": [],
   "source": [
    "cname='D0M18'\n",
    "utarg = np.ones(len(seg_list))\n",
    "for i in range(expD.shape[0]):\n",
    "    abb = expD['Abbreviation'][i]\n",
    "    sidx= segIdx[abb]\n",
    "    utarg[sidx] *= expD[f\"{cname}_MEAN\"][i]\n",
    "u1 = np.concatenate((utarg,utarg))\n",
    "utrace = [u1,u1]\n",
    "utrace = np.array(utrace).T\n",
    "snap_ss(f\"case2_{cname}_target\",clim=[0,max(utarg)],cmap=plt.cm.YlOrBr)\n",
    "max(utarg)"
   ]
  },
  {
   "cell_type": "code",
   "execution_count": null,
   "metadata": {
    "collapsed": false,
    "jupyter": {
     "outputs_hidden": false
    }
   },
   "outputs": [],
   "source": [
    "utarg /= np.sum(utarg)\n",
    "\n",
    "# Run simulation\n",
    "initTime=time.time()\n",
    "A = get_sys_matrix(utarg,F=1,Ctau=1e-4,dv=1e-9)\n",
    "utrace = run_sim(A)\n",
    "FinalTime=time.time()-initTime\n",
    "\n",
    "# snapshot of steady-state\n",
    "snap_ss(f\"case2_{cname}\")\n",
    "\n",
    "# animation\n",
    "#animate_sim()\n",
    "print(FinalTime)"
   ]
  },
  {
   "cell_type": "markdown",
   "metadata": {},
   "source": [
    "Day 7 18 month\n",
    "----"
   ]
  },
  {
   "cell_type": "code",
   "execution_count": null,
   "metadata": {},
   "outputs": [],
   "source": [
    "cname='D7M18'\n",
    "utarg = np.ones(len(seg_list))\n",
    "for i in range(expD.shape[0]):\n",
    "    abb = expD['Abbreviation'][i]\n",
    "    sidx= segIdx[abb]\n",
    "    utarg[sidx] *= expD[f\"{cname}_MEAN\"][i]\n",
    "u1 = np.concatenate((utarg,utarg))\n",
    "utrace = [u1,u1]\n",
    "utrace = np.array(utrace).T\n",
    "snap_ss(f\"case2_{cname}_target\",clim=[0,max(utarg)],cmap=plt.cm.YlOrBr)\n",
    "max(utarg)"
   ]
  },
  {
   "cell_type": "code",
   "execution_count": null,
   "metadata": {
    "collapsed": false,
    "jupyter": {
     "outputs_hidden": false
    }
   },
   "outputs": [],
   "source": [
    "utarg /= np.sum(utarg)\n",
    "\n",
    "# Run simulation\n",
    "initTime=time.time()\n",
    "A = get_sys_matrix(utarg,F=1,Ctau=1e-4,dv=1e-9)\n",
    "utrace = run_sim(A)\n",
    "FinalTime=time.time()-initTime\n",
    "\n",
    "# snapshot of steady-state\n",
    "snap_ss(f\"case2_{cname}\")\n",
    "\n",
    "# animation\n",
    "#animate_sim()\n",
    "print(FinalTime)"
   ]
  },
  {
   "cell_type": "markdown",
   "metadata": {},
   "source": [
    "Third Case: Time scales separated, different trafficking strategy\n",
    "------"
   ]
  },
  {
   "cell_type": "markdown",
   "metadata": {},
   "source": [
    "Day 0 3 weeks\n",
    "----"
   ]
  },
  {
   "cell_type": "code",
   "execution_count": null,
   "metadata": {},
   "outputs": [],
   "source": [
    "cname='D0W3'\n",
    "utarg = np.ones(len(seg_list))\n",
    "for i in range(expD.shape[0]):\n",
    "    abb = expD['Abbreviation'][i]\n",
    "    sidx= segIdx[abb]\n",
    "    utarg[sidx] *= expD[f\"{cname}_MEAN\"][i]\n",
    "u1 = np.concatenate((utarg,utarg))\n",
    "utrace = [u1,u1]\n",
    "utrace = np.array(utrace).T\n",
    "snap_ss(f\"case3_{cname}_target\",clim=[0,max(utarg)],cmap=plt.cm.YlOrBr)\n",
    "max(utarg)"
   ]
  },
  {
   "cell_type": "code",
   "execution_count": null,
   "metadata": {
    "collapsed": false,
    "jupyter": {
     "outputs_hidden": false
    }
   },
   "outputs": [],
   "source": [
    "# Run simulation\n",
    "utarg /= np.sum(utarg)\n",
    "initTime=time.time()\n",
    "A = get_sys_matrix(utarg,F=0,Ctau=2e-4,dv=1e-9)\n",
    "utrace = run_sim(A)\n",
    "FinalTime=time.time()-initTime\n",
    "\n",
    "# snapshot of steady-state\n",
    "snap_ss(f\"case3_{cname}\")\n",
    "\n",
    "# animation\n",
    "#animate_sim()\n",
    "print(FinalTime)"
   ]
  },
  {
   "cell_type": "markdown",
   "metadata": {},
   "source": [
    "Day 7 3 weeks\n",
    "----"
   ]
  },
  {
   "cell_type": "code",
   "execution_count": null,
   "metadata": {},
   "outputs": [],
   "source": [
    "cname='D7W3'\n",
    "utarg = np.ones(len(seg_list))\n",
    "for i in range(expD.shape[0]):\n",
    "    abb = expD['Abbreviation'][i]\n",
    "    sidx= segIdx[abb]\n",
    "    utarg[sidx] *= expD[f\"{cname}_MEAN\"][i]\n",
    "u1 = np.concatenate((utarg,utarg))\n",
    "utrace = [u1,u1]\n",
    "utrace = np.array(utrace).T\n",
    "snap_ss(f\"case3_{cname}_target\",clim=[0,max(utarg)],cmap=plt.cm.YlOrBr)\n",
    "max(utarg)"
   ]
  },
  {
   "cell_type": "code",
   "execution_count": null,
   "metadata": {
    "collapsed": false,
    "jupyter": {
     "outputs_hidden": false
    }
   },
   "outputs": [],
   "source": [
    "utarg /= np.sum(utarg)\n",
    "\n",
    "# Run simulation\n",
    "initTime=time.time()\n",
    "A = get_sys_matrix(utarg,F=0,Ctau=2e-4,dv=1e-9)\n",
    "utrace = run_sim(A)\n",
    "FinalTime=time.time()-initTime\n",
    "\n",
    "# snapshot of steady-state\n",
    "snap_ss(f\"case3_{cname}\")\n",
    "\n",
    "# animation\n",
    "#animate_sim()\n",
    "print(FinalTime)"
   ]
  },
  {
   "cell_type": "markdown",
   "metadata": {},
   "source": [
    "Day 0 3 month\n",
    "----"
   ]
  },
  {
   "cell_type": "code",
   "execution_count": null,
   "metadata": {},
   "outputs": [],
   "source": [
    "cname='D0M3'\n",
    "utarg = np.ones(len(seg_list))\n",
    "for i in range(expD.shape[0]):\n",
    "    abb = expD['Abbreviation'][i]\n",
    "    sidx= segIdx[abb]\n",
    "    utarg[sidx] *= expD[f\"{cname}_MEAN\"][i]\n",
    "u1 = np.concatenate((utarg,utarg))\n",
    "utrace = [u1,u1]\n",
    "utrace = np.array(utrace).T\n",
    "snap_ss(f\"case3_{cname}_target\",clim=[0,max(utarg)],cmap=plt.cm.YlOrBr)\n",
    "max(utarg)"
   ]
  },
  {
   "cell_type": "code",
   "execution_count": null,
   "metadata": {
    "collapsed": false,
    "jupyter": {
     "outputs_hidden": false
    }
   },
   "outputs": [],
   "source": [
    "utarg /= np.sum(utarg)\n",
    "\n",
    "# Run simulation\n",
    "initTime=time.time()\n",
    "A = get_sys_matrix(utarg,F=0,Ctau=2e-4,dv=1e-9)\n",
    "utrace = run_sim(A)\n",
    "FinalTime=time.time()-initTime\n",
    "\n",
    "# snapshot of steady-state\n",
    "snap_ss(f\"case3_{cname}\")\n",
    "\n",
    "# animation\n",
    "#animate_sim()\n",
    "print(FinalTime)"
   ]
  },
  {
   "cell_type": "markdown",
   "metadata": {},
   "source": [
    "Day 7 3 month\n",
    "----"
   ]
  },
  {
   "cell_type": "code",
   "execution_count": null,
   "metadata": {},
   "outputs": [],
   "source": [
    "cname='D7M3'\n",
    "utarg = np.ones(len(seg_list))\n",
    "for i in range(expD.shape[0]):\n",
    "    abb = expD['Abbreviation'][i]\n",
    "    sidx= segIdx[abb]\n",
    "    utarg[sidx] *= expD[f\"{cname}_MEAN\"][i]\n",
    "u1 = np.concatenate((utarg,utarg))\n",
    "utrace = [u1,u1]\n",
    "utrace = np.array(utrace).T\n",
    "snap_ss(f\"case3_{cname}_target\",clim=[0,max(utarg)],cmap=plt.cm.YlOrBr)\n",
    "max(utarg)"
   ]
  },
  {
   "cell_type": "code",
   "execution_count": null,
   "metadata": {
    "collapsed": false,
    "jupyter": {
     "outputs_hidden": false
    }
   },
   "outputs": [],
   "source": [
    "utarg /= np.sum(utarg)\n",
    "\n",
    "# Run simulation\n",
    "initTime=time.time()\n",
    "A = get_sys_matrix(utarg,F=0,Ctau=2e-4,dv=1e-9)\n",
    "utrace = run_sim(A)\n",
    "FinalTime=time.time()-initTime\n",
    "\n",
    "# snapshot of steady-state\n",
    "snap_ss(f\"case3_{cname}\")\n",
    "\n",
    "# animation\n",
    "#animate_sim()\n",
    "print(FinalTime)"
   ]
  },
  {
   "cell_type": "markdown",
   "metadata": {},
   "source": [
    "Day 0 18 month\n",
    "----"
   ]
  },
  {
   "cell_type": "code",
   "execution_count": null,
   "metadata": {},
   "outputs": [],
   "source": [
    "cname='D0M18'\n",
    "utarg = np.ones(len(seg_list))\n",
    "for i in range(expD.shape[0]):\n",
    "    abb = expD['Abbreviation'][i]\n",
    "    sidx= segIdx[abb]\n",
    "    utarg[sidx] *= expD[f\"{cname}_MEAN\"][i]\n",
    "u1 = np.concatenate((utarg,utarg))\n",
    "utrace = [u1,u1]\n",
    "utrace = np.array(utrace).T\n",
    "snap_ss(f\"case3_{cname}_target\",clim=[0,max(utarg)],cmap=plt.cm.YlOrBr)\n",
    "max(utarg)"
   ]
  },
  {
   "cell_type": "code",
   "execution_count": null,
   "metadata": {
    "collapsed": false,
    "jupyter": {
     "outputs_hidden": false
    }
   },
   "outputs": [],
   "source": [
    "utarg /= np.sum(utarg)\n",
    "\n",
    "# Run simulation\n",
    "initTime=time.time()\n",
    "A = get_sys_matrix(utarg,F=0,Ctau=2e-4,dv=1e-9)\n",
    "utrace = run_sim(A)\n",
    "FinalTime=time.time()-initTime\n",
    "\n",
    "# snapshot of steady-state\n",
    "snap_ss(f\"case3_{cname}\")\n",
    "\n",
    "# animation\n",
    "#animate_sim()\n",
    "print(FinalTime)"
   ]
  },
  {
   "cell_type": "markdown",
   "metadata": {},
   "source": [
    "Day 7 18 month\n",
    "----"
   ]
  },
  {
   "cell_type": "code",
   "execution_count": null,
   "metadata": {},
   "outputs": [],
   "source": [
    "cname='D7M18'\n",
    "utarg = np.ones(len(seg_list))\n",
    "for i in range(expD.shape[0]):\n",
    "    abb = expD['Abbreviation'][i]\n",
    "    sidx= segIdx[abb]\n",
    "    utarg[sidx] *= expD[f\"{cname}_MEAN\"][i]\n",
    "u1 = np.concatenate((utarg,utarg))\n",
    "utrace = [u1,u1]\n",
    "utrace = np.array(utrace).T\n",
    "snap_ss(f\"case3_{cname}_target\",clim=[0,max(utarg)],cmap=plt.cm.YlOrBr)\n",
    "max(utarg)"
   ]
  },
  {
   "cell_type": "code",
   "execution_count": null,
   "metadata": {
    "collapsed": false,
    "jupyter": {
     "outputs_hidden": false
    }
   },
   "outputs": [],
   "source": [
    "utarg /= np.sum(utarg)\n",
    "\n",
    "# Run simulation\n",
    "initTime=time.time()\n",
    "A = get_sys_matrix(utarg,F=0,Ctau=2e-4,dv=1e-9)\n",
    "utrace = run_sim(A)\n",
    "FinalTime=time.time()-initTime\n",
    "\n",
    "# snapshot of steady-state\n",
    "snap_ss(f\"case3_{cname}\")\n",
    "\n",
    "# animation\n",
    "#animate_sim()\n",
    "print(FinalTime)"
   ]
  },
  {
   "cell_type": "code",
   "execution_count": null,
   "metadata": {},
   "outputs": [],
   "source": [
    "utrace[743:753,10]"
   ]
  },
  {
   "cell_type": "markdown",
   "metadata": {},
   "source": [
    "Third Case: protein + RNA\n",
    "----"
   ]
  },
  {
   "cell_type": "code",
   "execution_count": null,
   "metadata": {},
   "outputs": [],
   "source": [
    "initTime=time.time()\n",
    "A,u,t,excess,err = sushibelt.run_uniform_reattachment(h, 0.1, 5, 50.0, 1e-5,1e-6)\n",
    "FinalTime=time.time()-initTime\n",
    "print(FinalTime)\n",
    "#sushibelt.snapshots(h,u,t,'plots/with_reattach',cellname,view,u_cmap,us_cmap)\n",
    "#print 'excess cargo = %2.1f percent'%(excess[-1])"
   ]
  },
  {
   "cell_type": "code",
   "execution_count": null,
   "metadata": {},
   "outputs": [],
   "source": [
    "N\n",
    "utrace=u[:,:2*N]\n",
    "utrace=utrace.T"
   ]
  },
  {
   "cell_type": "code",
   "execution_count": null,
   "metadata": {},
   "outputs": [],
   "source": [
    "A.shape"
   ]
  },
  {
   "cell_type": "code",
   "execution_count": null,
   "metadata": {},
   "outputs": [],
   "source": [
    "t.shape"
   ]
  },
  {
   "cell_type": "code",
   "execution_count": null,
   "metadata": {},
   "outputs": [],
   "source": [
    "u.shape"
   ]
  },
  {
   "cell_type": "code",
   "execution_count": null,
   "metadata": {},
   "outputs": [],
   "source": [
    "nframes=50\n",
    "t = np.logspace(-0.5,8.5,nframes)\n",
    "t.shape"
   ]
  },
  {
   "cell_type": "code",
   "execution_count": null,
   "metadata": {},
   "outputs": [],
   "source": [
    "u0 = np.zeros(4*n)\n",
    "u0[0] = 1.0  # compartment 0 is the soma\n",
    "initTime=time.time()\n",
    "utrace = [u0]\n",
    "w,V = scipy.linalg.eig(A)\n",
    "Vinv = np.linalg.inv(V)\n",
    "t = np.logspace(-0.5,8.5,nframes)\n",
    "for t_ in t: utrace.append(solve_u(w,V,Vinv,t_))\n",
    "\n",
    "FinalTime=time.time()-initTime\n",
    "print(FinalTime)\n"
   ]
  },
  {
   "cell_type": "markdown",
   "metadata": {},
   "source": [
    "cvals=utrace[:,-1]\n",
    "cvals.shape"
   ]
  },
  {
   "cell_type": "code",
   "execution_count": null,
   "metadata": {},
   "outputs": [],
   "source": [
    "(1484/len(seg_list),len(seg_list))"
   ]
  },
  {
   "cell_type": "code",
   "execution_count": null,
   "metadata": {},
   "outputs": [],
   "source": [
    "t.shape"
   ]
  },
  {
   "cell_type": "code",
   "execution_count": null,
   "metadata": {},
   "outputs": [],
   "source": [
    "[d/4 for d in A.shape]"
   ]
  },
  {
   "cell_type": "code",
   "execution_count": null,
   "metadata": {},
   "outputs": [],
   "source": [
    "(1484*2,A.shape)"
   ]
  },
  {
   "cell_type": "code",
   "execution_count": null,
   "metadata": {},
   "outputs": [],
   "source": [
    "max(dts)"
   ]
  },
  {
   "cell_type": "code",
   "execution_count": null,
   "metadata": {},
   "outputs": [],
   "source": [
    "from PyNeuronToolbox.morphology import shapeplot, allsec_preorder, root_indices, shapeplot_animate\n",
    "roots = root_indices(allsec_preorder(h))\n",
    "roots"
   ]
  },
  {
   "cell_type": "code",
   "execution_count": null,
   "metadata": {},
   "outputs": [],
   "source": [
    "import pandas as pd\n",
    "fitdt = pd.read_csv('data/Distr.csv')"
   ]
  },
  {
   "cell_type": "code",
   "execution_count": null,
   "metadata": {},
   "outputs": [],
   "source": [
    "idx = []\n",
    "for i in range(n):\n",
    "    if abs(dts[i]-100)<1 :\n",
    "        idx.append(1)\n",
    "    else:\n",
    "        idx.append(0)\n",
    "sum(idx)"
   ]
  },
  {
   "cell_type": "code",
   "execution_count": null,
   "metadata": {},
   "outputs": [],
   "source": [
    "[ (i,j) for i in range(fitdt.shape[0]) for j in range(n) if abs(dts[j]-fitdt['X'][i])<1 ]"
   ]
  },
  {
   "cell_type": "code",
   "execution_count": null,
   "metadata": {},
   "outputs": [],
   "source": [
    "type(fitdt)"
   ]
  },
  {
   "cell_type": "code",
   "execution_count": null,
   "metadata": {},
   "outputs": [],
   "source": [
    "seg_idx = [(i, j) for i in range(fitdt.shape[0]) for j in range(n) if abs(dts[j] - fitdt['X'][i]) < 1]\n",
    "len(seg_idx)"
   ]
  },
  {
   "cell_type": "code",
   "execution_count": null,
   "metadata": {},
   "outputs": [],
   "source": [
    "inum=3\n",
    "ix=[ i for i in range(3*inum)]\n",
    "(ix[:inum],ix[inum:2*inum],ix[2*inum:])"
   ]
  },
  {
   "cell_type": "code",
   "execution_count": null,
   "metadata": {},
   "outputs": [],
   "source": [
    "[ max(u[:,r]) for r in range(u.shape[0])]"
   ]
  },
  {
   "cell_type": "code",
   "execution_count": null,
   "metadata": {},
   "outputs": [],
   "source": [
    "range(u.shape[1])"
   ]
  },
  {
   "cell_type": "code",
   "execution_count": null,
   "metadata": {},
   "outputs": [],
   "source": [
    "    clim=[0,0.00022]\n",
    "    uplt = u[:,n:2*n]\n",
    "    uplt = uplt.T\n",
    "    fig = plt.figure(figsize=(8,8))\n",
    "    shapeax = plt.subplot(111, projection='3d')\n",
    "    lines = shapeplot(h,shapeax,cvals=uplt[:,1],clim=clim,\\\n",
    "                      cmap=plt.cm.cool,order='pre',lw=2)\n",
    "    shapeax.view_init(elev=80,azim=-90)\n",
    "    plt.title('free RNA 1',fontweight='bold',fontsize=14)\n",
    "\n",
    "    # colorbar\n",
    "    sm = cm.ScalarMappable(cmap=plt.cm.cool, norm=plt.Normalize(clim[0],clim[1])) \n",
    "    #sm = plt.cm.ScalarMappable(cmap=plt.cm.cool, norm=plt.Normalize(clim[0],clim[1])) \n",
    "    #sm._A = []\n",
    "    #plt.colorbar(sm, shrink=0.5)\n",
    "    #plt.colorbar(sm,cax=shapeax)\n",
    "    #plt.colorbar()\n",
    "    plt.tight_layout()\n",
    "    plt.axis('off')\n"
   ]
  },
  {
   "cell_type": "code",
   "execution_count": null,
   "metadata": {},
   "outputs": [],
   "source": [
    "    clim=[0,0.00022]\n",
    "    uplt = u[:,:n]\n",
    "    uplt = uplt.T\n",
    "    fig = plt.figure(figsize=(8,8))\n",
    "    shapeax = plt.subplot(111, projection='3d')\n",
    "    lines = shapeplot(h,shapeax,cvals=uplt[:,-1],clim=clim,\\\n",
    "                      cmap=plt.cm.cool,order='pre',lw=2)\n",
    "    shapeax.view_init(elev=80,azim=-90)\n",
    "    plt.title('bounded RNA -1',fontweight='bold',fontsize=14)\n",
    "\n",
    "    # colorbar\n",
    "    sm = cm.ScalarMappable(cmap=plt.cm.cool, norm=plt.Normalize(clim[0],clim[1])) \n",
    "    #sm = plt.cm.ScalarMappable(cmap=plt.cm.cool, norm=plt.Normalize(clim[0],clim[1])) \n",
    "    #sm._A = []\n",
    "    #plt.colorbar(sm, shrink=0.5)\n",
    "    #plt.colorbar(sm,cax=shapeax)\n",
    "    #plt.colorbar()\n",
    "    plt.tight_layout()\n",
    "    plt.axis('off')\n"
   ]
  },
  {
   "cell_type": "code",
   "execution_count": null,
   "metadata": {},
   "outputs": [],
   "source": [
    "    clim=[0,0.00022]\n",
    "    uplt = u[:,2*n:3*n]\n",
    "    uplt = uplt.T\n",
    "    fig = plt.figure(figsize=(8,8))\n",
    "    shapeax = plt.subplot(111, projection='3d')\n",
    "    lines = shapeplot(h,shapeax,cvals=uplt[:,-1],clim=clim,\\\n",
    "                      cmap=plt.cm.cool,order='pre',lw=2)\n",
    "    shapeax.view_init(elev=80,azim=-90)\n",
    "    plt.title('bound protein -1',fontweight='bold',fontsize=14)\n",
    "\n",
    "    # colorbar\n",
    "    sm = cm.ScalarMappable(cmap=plt.cm.cool, norm=plt.Normalize(clim[0],clim[1])) \n",
    "    #sm = plt.cm.ScalarMappable(cmap=plt.cm.cool, norm=plt.Normalize(clim[0],clim[1])) \n",
    "    #sm._A = []\n",
    "    #plt.colorbar(sm, shrink=0.5)\n",
    "    #plt.colorbar(sm,cax=shapeax)\n",
    "    #plt.colorbar()\n",
    "    plt.tight_layout()\n",
    "    plt.axis('off')\n"
   ]
  },
  {
   "cell_type": "code",
   "execution_count": null,
   "metadata": {},
   "outputs": [],
   "source": [
    "    clim=[0,0.00022]\n",
    "    uplt = u[:,3*n:]\n",
    "    uplt = uplt.T\n",
    "    fig = plt.figure(figsize=(8,8))\n",
    "    shapeax = plt.subplot(111, projection='3d')\n",
    "    lines = shapeplot(h,shapeax,cvals=uplt[:,-1],clim=clim,\\\n",
    "                      cmap=plt.cm.cool,order='pre',lw=2)\n",
    "    shapeax.view_init(elev=80,azim=-90)\n",
    "    plt.title('free protein -1',fontweight='bold',fontsize=14)\n",
    "\n",
    "    # colorbar\n",
    "    sm = cm.ScalarMappable(cmap=plt.cm.cool, norm=plt.Normalize(clim[0],clim[1])) \n",
    "    #sm = plt.cm.ScalarMappable(cmap=plt.cm.cool, norm=plt.Normalize(clim[0],clim[1])) \n",
    "    #sm._A = []\n",
    "    #plt.colorbar(sm, shrink=0.5)\n",
    "    #plt.colorbar(sm,cax=shapeax)\n",
    "    #plt.colorbar()\n",
    "    plt.tight_layout()\n",
    "    plt.axis('off')\n"
   ]
  },
  {
   "cell_type": "code",
   "execution_count": null,
   "metadata": {},
   "outputs": [],
   "source": []
  },
  {
   "cell_type": "code",
   "execution_count": null,
   "metadata": {},
   "outputs": [],
   "source": [
    "(ss.volume(),ss.x)"
   ]
  },
  {
   "cell_type": "code",
   "execution_count": null,
   "metadata": {},
   "outputs": [],
   "source": [
    "seg_list[419].volume()"
   ]
  },
  {
   "cell_type": "code",
   "execution_count": null,
   "metadata": {},
   "outputs": [],
   "source": [
    "seg_idx = [(i, j,seg_list[j].volume()) for i in range(fitdt.shape[0]) for j in range(n) if abs(dts[j] - fitdt['X'][i]) < 1]\n",
    "seg_idx = np.array(seg_idx)\n",
    "seg_idx"
   ]
  },
  {
   "cell_type": "code",
   "execution_count": null,
   "metadata": {},
   "outputs": [],
   "source": [
    "u.shape"
   ]
  },
  {
   "cell_type": "code",
   "execution_count": null,
   "metadata": {},
   "outputs": [],
   "source": [
    "resp = np.zeros((fitdt.shape[0],u.shape[0]))\n",
    "resp.shape"
   ]
  },
  {
   "cell_type": "code",
   "execution_count": null,
   "metadata": {},
   "outputs": [],
   "source": [
    "resp = np.zeros((fitdt.shape[0],u.shape[0]))\n",
    "for i in range(seg_idx.shape[0]):\n",
    "    ii = int(seg_idx[i,0])\n",
    "    ij = int(seg_idx[i,1])\n",
    "    resp[ii] += u[:,ij].T\n",
    "resp"
   ]
  },
  {
   "cell_type": "code",
   "execution_count": null,
   "metadata": {},
   "outputs": [],
   "source": [
    "dist = (resp-fitdt['V']) ** 2\n",
    "dist"
   ]
  },
  {
   "cell_type": "code",
   "execution_count": null,
   "metadata": {},
   "outputs": [],
   "source": [
    "fitdt['V']"
   ]
  },
  {
   "cell_type": "code",
   "execution_count": null,
   "metadata": {},
   "outputs": [],
   "source": [
    "[ sum((resp[:,i] - fitdt['V']) ** 2) for i in range(resp.shape[1])]"
   ]
  },
  {
   "cell_type": "code",
   "execution_count": null,
   "metadata": {},
   "outputs": [],
   "source": []
  }
 ],
 "metadata": {
  "kernelspec": {
   "display_name": "Python 3 (ipykernel)",
   "language": "python",
   "name": "python3"
  },
  "language_info": {
   "codemirror_mode": {
    "name": "ipython",
    "version": 3
   },
   "file_extension": ".py",
   "mimetype": "text/x-python",
   "name": "python",
   "nbconvert_exporter": "python",
   "pygments_lexer": "ipython3",
   "version": "3.10.12"
  }
 },
 "nbformat": 4,
 "nbformat_minor": 4
}
