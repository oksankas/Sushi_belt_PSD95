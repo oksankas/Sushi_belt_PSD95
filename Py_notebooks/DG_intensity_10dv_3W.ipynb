{
 "cells": [
  {
   "cell_type": "code",
   "execution_count": null,
   "metadata": {
    "ExecuteTime": {
     "end_time": "2024-02-01T04:36:14.473505Z",
     "start_time": "2024-02-01T04:36:13.685666Z"
    },
    "collapsed": false,
    "jupyter": {
     "outputs_hidden": false
    }
   },
   "outputs": [],
   "source": [
    "%%bash\n",
    "nrnivmodl"
   ]
  },
  {
   "cell_type": "code",
   "execution_count": null,
   "metadata": {
    "ExecuteTime": {
     "end_time": "2024-02-01T04:36:17.107428Z",
     "start_time": "2024-02-01T04:36:17.087940Z"
    },
    "collapsed": false,
    "jupyter": {
     "outputs_hidden": false
    }
   },
   "outputs": [],
   "source": [
    "# Download NEURON: http://www.neuron.yale.edu/neuron/download\n",
    "# Download PyNeuronToolbox: https://github.com/ahwillia/PyNeuron-Toolbox\n",
    "\n",
    "from neuron import h\n",
    "import numpy as np\n",
    "import math\n",
    "import pylab as plt\n",
    "import scipy.linalg\n",
    "from PyNeuronToolbox.record import ez_record,ez_convert\n",
    "#from PyNeuronToolbox import neuromorpho,morphology\n",
    "from PyNeuronToolbox.morphology import shapeplot,shapeplot_animate,load\n",
    "from mpl_toolkits.mplot3d import Axes3D\n",
    "from JSAnimation import IPython_display\n",
    "from matplotlib import animation\n",
    "from matplotlib.pyplot import cm\n",
    "import warnings\n",
    "warnings.filterwarnings('ignore', category=SyntaxWarning)\n",
    "%matplotlib inline\n",
    "np.random.seed(123456789)\n",
    "\n",
    "import re\n",
    "import pandas as pd\n",
    "\n",
    "DC = 10 # diffusion coeff [microns^2 s^-1]\n",
    "\n",
    "cellname = 'dgyrus'\n",
    "#cellname = 'granule'\n",
    "#neuromorpho.download('041015-vehicle1', filename=cellname+'_morph.swc')\n",
    "#cell = morphology.load(cellname+'_morph.swc',use_axon=False)\n",
    "#cell = load(cellname+'_morph.swc',use_axon=False)\n"
   ]
  },
  {
   "cell_type": "code",
   "execution_count": null,
   "metadata": {},
   "outputs": [],
   "source": [
    "import sys\n",
    "sys.path.append('../')\n",
    "sys.path.append('../simulation/')\n",
    "\n",
    "import sushibelt\n",
    "#import DG_10reg_10dv_model as model\n",
    "import DG_intensity_10reg_10dv_model_dvonly as model\n",
    "import time\n",
    "tnorm = np.sum(model.target ** 2)"
   ]
  },
  {
   "cell_type": "code",
   "execution_count": null,
   "metadata": {},
   "outputs": [],
   "source": [
    "N=model.N\n",
    "N"
   ]
  },
  {
   "cell_type": "code",
   "execution_count": null,
   "metadata": {},
   "outputs": [],
   "source": [
    "tdf=pd.read_csv('../data/DG_seg_mapping.csv')\n",
    "abbDG=tdf['abb']\n",
    "abbT={}\n",
    "segIdx={}\n",
    "for i in range(N):\n",
    "    abbT[abbDG[i]] = 1+ abbT.get(abbDG[i],0)\n",
    "    ll=segIdx.get(abbDG[i],[])\n",
    "    ll.append(i)\n",
    "    segIdx[abbDG[i]] = ll\n"
   ]
  },
  {
   "cell_type": "code",
   "execution_count": null,
   "metadata": {
    "collapsed": false,
    "jupyter": {
     "outputs_hidden": false
    }
   },
   "outputs": [],
   "source": [
    "from PyNeuronToolbox.morphology import dist_between,allsec_preorder\n",
    "\n",
    "def dist_to_soma(segment):\n",
    "    return dist_between(h,allsec_preorder(h)[0](0.5),segment)\n"
   ]
  },
  {
   "cell_type": "code",
   "execution_count": null,
   "metadata": {},
   "outputs": [],
   "source": [
    "tdf=pd.read_csv('../data/DG_seg_mapping.csv')\n",
    "tdf"
   ]
  },
  {
   "cell_type": "code",
   "execution_count": null,
   "metadata": {},
   "outputs": [],
   "source": [
    "expD=pd.read_csv('../data/DG_intensity_values_15072024.csv')\n",
    "#expD=pd.read_csv('../data/DG_density_values_15072024.csv')\n",
    "bgSignal=1e-5\n",
    "#cname='D0W3'\n",
    "cname0='D0M3'\n",
    "d0w = -1 * np.ones(N)\n",
    "for i in range(expD.shape[0]):\n",
    "    abb = expD['Abbreviation'][i]\n",
    "    sidx= segIdx[abb]\n",
    "    d0w[sidx] *= -1*expD[f\"{cname0}_MEAN\"][i]/len(sidx)\n",
    "for i in range(N):\n",
    "    if d0w[i]<0:\n",
    "        d0w[i] = bgSignal\n",
    "dinit = d0w/np.sum(d0w)\n",
    "\n",
    "#cname='D7W3'\n",
    "cname7='D7M3'\n",
    "d7w = -1*np.ones(N)\n",
    "for i in range(expD.shape[0]):\n",
    "    abb = expD['Abbreviation'][i]\n",
    "    sidx= segIdx[abb]\n",
    "    d7w[sidx] *= -1 * expD[f\"{cname7}_MEAN\"][i]/len(sidx)\n",
    "for i in range(N):\n",
    "    if d7w[i]<0:\n",
    "        d7w[i] = bgSignal\n",
    "target = np.array(expD[f\"{cname7}_MEAN\"])/np.sum(expD[f\"{cname0}_MEAN\"]) #norm target to Day0 sum to take into accound degradation\n",
    "targSD = np.array(expD[f\"{cname7}_SD\"])/np.sum(expD[f\"{cname0}_MEAN\"]) #results to fit to\n",
    "tnorm = np.sum(target ** 2)\n",
    "day7 = 7 * 24 * 3600 # final time point\n"
   ]
  },
  {
   "cell_type": "code",
   "execution_count": null,
   "metadata": {},
   "outputs": [],
   "source": [
    "(len(d0w),expD.shape,len(sidx),i,N,model.N)"
   ]
  },
  {
   "cell_type": "code",
   "execution_count": null,
   "metadata": {},
   "outputs": [],
   "source": [
    "#par = [0.8855702481960549,-17.6142146256606,0.12385432691434908,0.9642855946085199,0.5389253732509337,\n",
    "#       0.272527645830006,0.9129387693392707,0.1297446952024372,0.6107997917511535,1e-07,0.9890938472884612,\n",
    "#       0.24488136124301582,0.014607108124724532,-10.154176543644859,-11.575055132626284,-6.057936626299734,\n",
    "#       -6.053467113877346,-6.0477171882104965,-6.028631654679405,-6.036945094549408,-5.999154504640609,\n",
    "#       -6.00544599147668,-6.0530817424270875]\n",
    "#cost = 0.0027400475307714973\n",
    "#chi2=1184.7252031040346\n",
    "#par = [0.8001576414106837,-8.83311346686456,0.9568695929329514,0.0020138669780257502,0.025377383988998158,0.029948781242701755,\n",
    "#       0.9999999999999751,0.08896057016913292,0.0004002113170755411,0.014562289941884115,1.0523901851122988e-07,\n",
    "#       1.0846600291496056e-07,0.9598262098965911,-6.028288531411434]\n",
    "#cost = 2.283246533053875e-05\n",
    "#chi2 = 8.532544224511733\n",
    "#par = [0.0001347573108234385,-7.134175640871103,0.16358340428275822,0.9535886836265206,0.9392082944358957,0.588591654675706,\n",
    "#       0.9999999999998962,0.761066612409874,0.012928172225454351,0.3308015862956901,1.742438941388552e-07,\n",
    "#       1.397577721676662e-07,0.9832677483391569,-6.028282727752732]\n",
    "#cost = 2.283438654048628e-05\n",
    "#chi2 = 8.534658143069766\n",
    "#par = [0.0,-17.641758850550943,0.9899980591588442,0.24988968936615671,1.0062994989967052e-07,1e-07,0.06556921170168392,1.0016863619144738e-07,1.0000000000227276e-07,0.00458126556189493,0.0001394007972908521,1e-07,0.999999999999629,-6.063004369056134,-6.070974912176686,-6.057936625641295,-6.053467103903037,-6.04771719102088,-6.0286316572292815,-6.036945095832321,-5.99915450387148,-6.005445989961027,-6.053081737997973]\n",
    "#cost = 7.174089042842454e-32\n",
    "#chi2 = 1.9756083405305166e-26\n",
    "par = [0.0,-17.999999996898115,0.8295867669028679,0.9342243392617688,1e-07,0.7436969370578205,0.18090861212130477,0.03669676565420942,1.9005438889792946e-07,0.9971821327488072,0.5857165290933648,0.0004747792235872804,0.0013503241539911826,-6.063004369333619,-6.070974912176688,-6.057936625629171,-6.053467104093608,-6.047717191020574,-6.0286316572292815,-6.036945095837185,-5.999154503867313,-6.005445989961025,-6.053081740925833]\n",
    "opt_par = [0.0,-17.999999996898115,0.8295867669028679,0.9342243392617688,1e-07,0.7436969370578205,0.18090861212130477,0.03669676565420942,1.9005438889792946e-07,0.9971821327488072,0.5857165290933648,0.0004747792235872804,0.0013503241539911826,-6.063004369333619,-6.070974912176688,-6.057936625629171,-6.053467104093608,-6.047717191020574,-6.0286316572292815,-6.036945095837185,-5.999154503867313,-6.005445989961025,-6.053081740925833]\n",
    "opt_cost = 4.2659348268177274e-32\n",
    "opt_chi2 = 7.480760559285713e-27\n",
    "dv_3M = np.array(opt_par[13:])\n",
    "mProp = par[2]\n",
    "#utrace = model.calcUtrace(par)\n",
    "#resM, resF = sushibelt.aggregate_segments(utrace[:, -1], model.segIdx, model.expD['Abbreviation'], fun=np.sum)\n"
   ]
  },
  {
   "cell_type": "markdown",
   "metadata": {},
   "source": [
    "# Three weeks data"
   ]
  },
  {
   "cell_type": "code",
   "execution_count": null,
   "metadata": {},
   "outputs": [],
   "source": [
    "expD=pd.read_csv('../data/DG_intensity_values_15072024.csv')\n",
    "#expD=pd.read_csv('../data/DG_density_values_15072024.csv')\n",
    "bgSignal=1e-5\n",
    "\n",
    "cname0='D0W3'\n",
    "d0w = -1 * np.ones(N)\n",
    "for i in range(expD.shape[0]):\n",
    "    abb = expD['Abbreviation'][i]\n",
    "    sidx= segIdx[abb]\n",
    "    d0w[sidx] *= -1*expD[f\"{cname0}_MEAN\"][i]/len(sidx)\n",
    "for i in range(N):\n",
    "    if d0w[i]<0:\n",
    "        d0w[i] = bgSignal\n",
    "dinit = d0w/np.sum(d0w)\n",
    "\n",
    "cname7='D7W3'\n",
    "d7w = -1*np.ones(N)\n",
    "for i in range(expD.shape[0]):\n",
    "    abb = expD['Abbreviation'][i]\n",
    "    sidx= segIdx[abb]\n",
    "    d7w[sidx] *= -1 * expD[f\"{cname7}_MEAN\"][i]/len(sidx)\n",
    "for i in range(N):\n",
    "    if d7w[i]<0:\n",
    "        d7w[i] = bgSignal\n",
    "target = np.array(expD[f\"{cname7}_MEAN\"])/np.sum(expD[f\"{cname0}_MEAN\"]) #norm target to Day0 sum to take into accound degradation\n",
    "targSD = np.array(expD[f\"{cname7}_SD\"])/np.sum(expD[f\"{cname0}_MEAN\"]) #results to fit to\n",
    "tnorm = np.sum(target ** 2)\n",
    "day7 = 7 * 24 * 3600 # final time point\n"
   ]
  },
  {
   "cell_type": "markdown",
   "metadata": {},
   "source": [
    "## Degradation adjusted"
   ]
  },
  {
   "cell_type": "code",
   "execution_count": null,
   "metadata": {},
   "outputs": [],
   "source": [
    "par_dev = par.copy()\n",
    "dv_val = [-5.580144532301052,-5.5781967777843064,-5.570496339683887,-5.541375187527024,-5.548472091595386,-5.550371840396057,-5.53587848227836,-5.597927147313467,-5.675746216451767,-5.824379863716256]\n",
    "dv_3W = np.array(dv_val)\n",
    "cost = 4.345699381284275e-07\n",
    "chi2 = 0.0011986582766421354"
   ]
  },
  {
   "cell_type": "code",
   "execution_count": null,
   "metadata": {},
   "outputs": [],
   "source": [
    "model.dinit=dinit\n",
    "utrace = model.calcUtrace(dv_val)\n",
    "resM, resF = sushibelt.aggregate_segments(utrace[:, -1], model.segIdx, model.expD['Abbreviation'], fun=np.sum)"
   ]
  },
  {
   "cell_type": "code",
   "execution_count": null,
   "metadata": {},
   "outputs": [],
   "source": [
    "model.target = np.array(expD[f\"{cname7}_MEAN\"])/np.sum(expD[f\"{cname0}_MEAN\"]) #norm target to Day0 sum to take into accound degradation\n",
    "model.targSD = np.array(expD[f\"{cname7}_SD\"])/np.sum(expD[f\"{cname0}_MEAN\"]) #results to fit to\n",
    "model.tnorm = np.sum(model.target ** 2)\n",
    "model.costFunction(dv_val)"
   ]
  },
  {
   "cell_type": "code",
   "execution_count": null,
   "metadata": {},
   "outputs": [],
   "source": [
    "{'F' : par_dev[0],\n",
    "'Ctau' : par_dev[1],\n",
    "'mProp' : par_dev[2],\n",
    "'(1-mProp)' : (1-par_dev[2]),\n",
    "'demand_rd1' : par_dev[3],\n",
    "'demand_rd2' : par_dev[4],\n",
    "'demand_rd3' : par_dev[5],\n",
    "'demand_rd4' : par_dev[6],\n",
    "'demand_rd5' : par_dev[7],\n",
    "'demand_rd6' : par_dev[8],\n",
    "'demand_rd7' : par_dev[9],\n",
    "'demand_rd8' : par_dev[10],\n",
    "'demand_rd9' : par_dev[11],\n",
    "'demand_rd10' : par_dev[12],\n",
    "#'dv' : par[13],\n",
    "'dv_rd1' : dv_val[0],\n",
    "'dv_rd2' : dv_val[1],\n",
    "'dv_rd3' : dv_val[2],\n",
    "'dv_rd4' : dv_val[3],\n",
    "'dv_rd5' : dv_val[4],\n",
    "'dv_rd6' : dv_val[5],\n",
    "'dv_rd7' : dv_val[6],\n",
    "'dv_rd8' : dv_val[7],\n",
    "'dv_rd9' : dv_val[8],\n",
    "'dv_rd10' : dv_val[9],\n",
    "'norm_factor' : (1-mProp),\n",
    "'sum_resM' : np.sum(resM),\n",
    "'sum_resF' : np.sum(resF),\n",
    "'sum_tot' : np.sum(resF)+np.sum(resM),\n",
    "'err' : np.sum((resF/(1-mProp) - target) ** 2),\n",
    "'err_norm' : np.sum((resF/(1-mProp) - target) ** 2)/tnorm,\n",
    "'chi2' : np.sum(((resF/(1-mProp) - target)/targSD) ** 2),\n",
    "'cost' : cost,\n",
    "'Chi2' : chi2\n",
    "}"
   ]
  },
  {
   "cell_type": "code",
   "execution_count": null,
   "metadata": {},
   "outputs": [],
   "source": [
    "x=np.array(range(model.expD.shape[0]),dtype=int)\n",
    "fig, ax = plt.subplots()\n",
    "ax.plot(x,target,label='Target')\n",
    "#ax.plot(x,resM,label='mobile DC')\n",
    "ax.plot(x,resF,label='detached DC')\n",
    "ax.plot(x,resF/(1-mProp),label='norm detached DC')\n",
    "ax.set_xlabel('Region number')\n",
    "ax.set_ylabel('Value')\n",
    "ax.set_xticks(x,expD['Abbreviation'],rotation=90)\n",
    "# show a legend on the plot\n",
    "ax.legend()\n",
    "#plt.show()\n",
    "pos = ax.get_position()\n",
    "ax.set_position([pos.x0, pos.y0 + pos.height*0.15, pos.width , pos.height* 0.85])\n",
    "plt.title(f\"Cost = {format(np.sum((resF/(1-mProp) - target) ** 2),'.4g')}, $\\chi^2$ = {format(np.sum(((resF/(1-mProp) - target)/targSD) ** 2),'.4g')}\") \n",
    "# function to show the plot\n",
    "plt.show()\n",
    "#plt.savefig('expDG_10reg_10dv_3W_dv_intensity_target.png')\n",
    "#plt.savefig('expDG_10reg_10dv_3W_dv_intensity_target.pdf')\n",
    "#plt.savefig('expDG_10reg_10dv_3W_dv_intensity_target.svg')"
   ]
  },
  {
   "cell_type": "code",
   "execution_count": null,
   "metadata": {},
   "outputs": [],
   "source": [
    "#plt.plot(x,target,label=cname7)\n",
    "plt.errorbar(x,target,targSD,label=cname7, fmt='-o')\n",
    "#plt.plot(x,resF,label='detached DC')\n",
    "plt.plot(x,resF/(1-mProp),label='detached norm DC')\n",
    "plt.ylabel('Value')\n",
    "plt.xlabel('Region number')\n",
    "# show a legend on the plot\n",
    "plt.legend()\n",
    "plt.title(f\"Cost = {format(np.sum((resF/(1-mProp) - target) ** 2),'.4g')}, $\\chi^2$ = {format(np.sum(((resF/(1-mProp) - target)/targSD) ** 2),'.4g')}\") \n",
    "# function to show the plot\n",
    "plt.show()\n",
    "#plt.savefig('expDG_10reg_10dv_3W_dv_intensity_target_error.png')\n",
    "#plt.savefig('expDG_10reg_10dv_3W_dv_intensity_target_error.pdf')\n",
    "#plt.savefig('expDG_10reg_10dv_3W_dv_intensity_target_error.svg')"
   ]
  },
  {
   "cell_type": "markdown",
   "metadata": {},
   "source": [
    "# 18 month data"
   ]
  },
  {
   "cell_type": "code",
   "execution_count": null,
   "metadata": {},
   "outputs": [],
   "source": [
    "expD=pd.read_csv('../data/DG_intensity_values_15072024.csv')\n",
    "#expD=pd.read_csv('../data/DG_density_values_15072024.csv')\n",
    "bgSignal=1e-5\n",
    "cname0='D0M18'\n",
    "d0w = -1 * np.ones(N)\n",
    "for i in range(expD.shape[0]):\n",
    "    abb = expD['Abbreviation'][i]\n",
    "    sidx= segIdx[abb]\n",
    "    d0w[sidx] *= -1*expD[f\"{cname0}_MEAN\"][i]/len(sidx)\n",
    "for i in range(N):\n",
    "    if d0w[i]<0:\n",
    "        d0w[i] = bgSignal\n",
    "dinit = d0w/np.sum(d0w)\n",
    "\n",
    "cname7='D7M18'\n",
    "d7w = -1*np.ones(N)\n",
    "for i in range(expD.shape[0]):\n",
    "    abb = expD['Abbreviation'][i]\n",
    "    sidx= segIdx[abb]\n",
    "    d7w[sidx] *= -1 * expD[f\"{cname7}_MEAN\"][i]/len(sidx)\n",
    "for i in range(N):\n",
    "    if d7w[i]<0:\n",
    "        d7w[i] = bgSignal\n",
    "target = np.array(expD[f\"{cname7}_MEAN\"])/np.sum(expD[f\"{cname0}_MEAN\"]) #norm target to Day0 sum to take into accound degradation\n",
    "targSD = np.array(expD[f\"{cname7}_SD\"])/np.sum(expD[f\"{cname0}_MEAN\"]) #results to fit to\n",
    "tnorm = np.sum(target ** 2)\n",
    "day7 = 7 * 24 * 3600 # final time point\n",
    "model.target=target\n",
    "model.targSD=targSD\n",
    "model.tnorm=tnorm"
   ]
  },
  {
   "cell_type": "markdown",
   "metadata": {},
   "source": [
    "## Degradation adjusted"
   ]
  },
  {
   "cell_type": "code",
   "execution_count": null,
   "metadata": {},
   "outputs": [],
   "source": [
    "par_dev = par.copy()\n",
    "dv_val = [-6.065899818591827,-6.043776755867498,-6.052062253128584,-6.063207876305187,-6.0529615522823015,-6.060900289340932,-6.023641831345007,-5.9822075421541285,-5.984436746450736,-6.012401617312046]\n",
    "dv_18M = np.array(dv_val)\n",
    "#par_dev[13:] = [\n",
    "cost = 1.3165035905099785e-06\n",
    "chi2 = 0.6903653965796307"
   ]
  },
  {
   "cell_type": "code",
   "execution_count": null,
   "metadata": {},
   "outputs": [],
   "source": [
    "model.dinit=dinit\n",
    "utrace = model.calcUtrace(dv_val)\n",
    "resM, resF = sushibelt.aggregate_segments(utrace[:, -1], model.segIdx, model.expD['Abbreviation'], fun=np.sum)"
   ]
  },
  {
   "cell_type": "code",
   "execution_count": null,
   "metadata": {},
   "outputs": [],
   "source": [
    "{'F' : par_dev[0],\n",
    "'Ctau' : par_dev[1],\n",
    "'mProp' : par_dev[2],\n",
    "'(1-mProp)' : (1-par_dev[2]),\n",
    "'demand_rd1' : par_dev[3],\n",
    "'demand_rd2' : par_dev[4],\n",
    "'demand_rd3' : par_dev[5],\n",
    "'demand_rd4' : par_dev[6],\n",
    "'demand_rd5' : par_dev[7],\n",
    "'demand_rd6' : par_dev[8],\n",
    "'demand_rd7' : par_dev[9],\n",
    "'demand_rd8' : par_dev[10],\n",
    "'demand_rd9' : par_dev[11],\n",
    "'demand_rd10' : par_dev[12],\n",
    "#'dv' : par[13],\n",
    "'dv_rd1' : dv_val[0],\n",
    "'dv_rd2' : dv_val[1],\n",
    "'dv_rd3' : dv_val[2],\n",
    "'dv_rd4' : dv_val[3],\n",
    "'dv_rd5' : dv_val[4],\n",
    "'dv_rd6' : dv_val[5],\n",
    "'dv_rd7' : dv_val[6],\n",
    "'dv_rd8' : dv_val[7],\n",
    "'dv_rd9' : dv_val[8],\n",
    "'dv_rd10' : dv_val[9],\n",
    "'norm_factor' : (1-mProp),\n",
    "'sum_resM' : np.sum(resM),\n",
    "'sum_resF' : np.sum(resF),\n",
    "'sum_tot' : np.sum(resF)+np.sum(resM),\n",
    "'err' : np.sum((resF/(1-mProp) - model.target) ** 2),\n",
    "'err_norm' : np.sum((resF/(1-mProp) - model.target) ** 2)/tnorm,\n",
    "'chi2' : np.sum(((resF/(1-mProp) - model.target)/model.targSD) ** 2),\n",
    "'cost' : cost,\n",
    "'Chi2' : chi2\n",
    "}"
   ]
  },
  {
   "cell_type": "code",
   "execution_count": null,
   "metadata": {},
   "outputs": [],
   "source": [
    "x=np.array(range(model.expD.shape[0]),dtype=int)\n",
    "fig, ax = plt.subplots()\n",
    "ax.plot(x,target,label='Target')\n",
    "#ax.plot(x,resM,label='mobile DC')\n",
    "ax.plot(x,resF,label='detached DC')\n",
    "ax.plot(x,resF/(1-mProp),label='norm detached DC')\n",
    "ax.set_xlabel('Region number')\n",
    "ax.set_ylabel('Value')\n",
    "ax.set_xticks(x,expD['Abbreviation'],rotation=90)\n",
    "# show a legend on the plot\n",
    "ax.legend()\n",
    "#plt.show()\n",
    "pos = ax.get_position()\n",
    "ax.set_position([pos.x0, pos.y0 + pos.height*0.15, pos.width , pos.height* 0.85])\n",
    "plt.title(f\"Cost = {format(np.sum((resF/(1-mProp) - target) ** 2),'.4g')}, $\\chi^2$ = {format(np.sum(((resF/(1-mProp) - target)/targSD) ** 2),'.4g')}\") \n",
    "# function to show the plot\n",
    "plt.show()\n",
    "#plt.savefig('expDG_10reg_10dv_18M_dv_intensity_target.png')\n",
    "#plt.savefig('expDG_10reg_10dv_18M_dv_intensity_target.pdf')\n",
    "#plt.savefig('expDG_10reg_10dv_18M_dv_intensity_target.svg')"
   ]
  },
  {
   "cell_type": "code",
   "execution_count": null,
   "metadata": {},
   "outputs": [],
   "source": [
    "#plt.plot(x,target,label=cname7)\n",
    "plt.errorbar(x,target,targSD,label=cname7, fmt='-o')\n",
    "#plt.plot(x,resF,label='detached DC')\n",
    "plt.plot(x,resF/(1-mProp),label='detached norm DC')\n",
    "plt.ylabel('Value')\n",
    "plt.xlabel('Region number')\n",
    "# show a legend on the plot\n",
    "plt.legend()\n",
    "plt.title(f\"Cost = {format(np.sum((resF/(1-mProp) - target) ** 2),'.4g')}, $\\chi^2$ = {format(np.sum(((resF/(1-mProp) - target)/targSD) ** 2),'.4g')}\") \n",
    "# function to show the plot\n",
    "plt.show()\n",
    "#plt.savefig('expDG_10reg_10dv_18M_dv_intensity_target_error.png')\n",
    "#plt.savefig('expDG_10reg_10dv_18M_dv_intensity_target_error.pdf')\n",
    "#plt.savefig('expDG_10reg_10dv_18M_dv_intensity_target_error.svg')"
   ]
  },
  {
   "cell_type": "markdown",
   "metadata": {},
   "source": [
    "# Compare dV"
   ]
  },
  {
   "cell_type": "code",
   "execution_count": null,
   "metadata": {},
   "outputs": [],
   "source": [
    "{'3W': np.log(2)*7/(10 ** np.array(dv_3W) * day7), \n",
    " '3M': np.log(2)*7/(10 ** np.array(dv_3M) * day7),\n",
    " '18M': np.log(2)*7/(10 ** np.array(dv_18M) * day7)}"
   ]
  },
  {
   "cell_type": "code",
   "execution_count": null,
   "metadata": {},
   "outputs": [],
   "source": [
    "{'3W': np.mean(np.log(2)*7/(10 ** np.array(dv_3W) * day7)), \n",
    " '3M': np.mean(np.log(2)*7/(10 ** np.array(dv_3M) * day7)),\n",
    " '18M': np.mean(np.log(2)*7/(10 ** np.array(dv_18M) * day7))}"
   ]
  },
  {
   "cell_type": "code",
   "execution_count": null,
   "metadata": {},
   "outputs": [],
   "source": [
    "x=np.array(range(model.expD.shape[0]),dtype=int)\n",
    "fig, ax = plt.subplots()\n",
    "ax.plot(x,np.log(2)*7/(10 ** np.array(dv_3W) * day7),label='3W')\n",
    "ax.plot(x,np.log(2)*7/(10 ** np.array(dv_3M) * day7),label='3M')\n",
    "ax.plot(x,np.log(2)*7/(10 ** np.array(dv_18M) * day7),label='18M')\n",
    "ax.set_xlabel('Region number')\n",
    "ax.set_ylabel('Half-life(days)')\n",
    "ax.set_xticks(x,expD['Abbreviation'],rotation=90)\n",
    "# show a legend on the plot\n",
    "ax.legend()\n",
    "#plt.show()\n",
    "pos = ax.get_position()\n",
    "ax.set_position([pos.x0, pos.y0 + pos.height*0.15, pos.width , pos.height* 0.85])\n",
    "#plt.title(f\"Cost = {format(np.sum((resF/(1-mProp) - target) ** 2),'.4g')}, $\\chi^2$ = {format(np.sum(((resF/(1-mProp) - target)/targSD) ** 2),'.4g')}\") \n",
    "plt.title('Half-life comparison')\n",
    "# function to show the plot\n",
    "plt.show()\n",
    "#plt.savefig('expDG_intensity_10reg_10dv_halflife.png')\n",
    "#plt.savefig('expDG_intensity_10reg_10dv_halflife.pdf')\n",
    "#plt.savefig('expDG_intensity_10reg_10dv_halflife.svg')"
   ]
  },
  {
   "cell_type": "code",
   "execution_count": null,
   "metadata": {},
   "outputs": [],
   "source": []
  }
 ],
 "metadata": {
  "kernelspec": {
   "display_name": "Python 3 (ipykernel)",
   "language": "python",
   "name": "python3"
  },
  "language_info": {
   "codemirror_mode": {
    "name": "ipython",
    "version": 3
   },
   "file_extension": ".py",
   "mimetype": "text/x-python",
   "name": "python",
   "nbconvert_exporter": "python",
   "pygments_lexer": "ipython3",
   "version": "3.13.5"
  }
 },
 "nbformat": 4,
 "nbformat_minor": 4
}
