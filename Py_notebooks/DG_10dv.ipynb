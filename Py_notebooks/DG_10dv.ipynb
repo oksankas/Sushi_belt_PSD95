{
 "cells": [
  {
   "cell_type": "code",
   "execution_count": null,
   "metadata": {
    "ExecuteTime": {
     "end_time": "2024-02-01T04:36:14.473505Z",
     "start_time": "2024-02-01T04:36:13.685666Z"
    },
    "collapsed": false,
    "jupyter": {
     "outputs_hidden": false
    }
   },
   "outputs": [],
   "source": [
    "%%bash\n",
    "nrnivmodl"
   ]
  },
  {
   "cell_type": "code",
   "execution_count": null,
   "metadata": {
    "ExecuteTime": {
     "end_time": "2024-02-01T04:36:17.107428Z",
     "start_time": "2024-02-01T04:36:17.087940Z"
    },
    "collapsed": false,
    "jupyter": {
     "outputs_hidden": false
    }
   },
   "outputs": [],
   "source": [
    "# Download NEURON: http://www.neuron.yale.edu/neuron/download\n",
    "# Download PyNeuronToolbox: https://github.com/ahwillia/PyNeuron-Toolbox\n",
    "\n",
    "from neuron import h\n",
    "import numpy as np\n",
    "import math\n",
    "import pylab as plt\n",
    "import scipy.linalg\n",
    "from PyNeuronToolbox.record import ez_record,ez_convert\n",
    "#from PyNeuronToolbox import neuromorpho,morphology\n",
    "from PyNeuronToolbox.morphology import shapeplot,shapeplot_animate,load\n",
    "from mpl_toolkits.mplot3d import Axes3D\n",
    "from JSAnimation import IPython_display\n",
    "from matplotlib import animation\n",
    "from matplotlib.pyplot import cm\n",
    "import warnings\n",
    "warnings.filterwarnings('ignore', category=SyntaxWarning)\n",
    "%matplotlib inline\n",
    "np.random.seed(123456789)\n",
    "\n",
    "import re\n",
    "import pandas as pd\n",
    "\n",
    "DC = 10 # diffusion coeff [microns^2 s^-1]\n",
    "\n",
    "cellname = 'dgyrus'\n",
    "#cellname = 'granule'\n",
    "#neuromorpho.download('041015-vehicle1', filename=cellname+'_morph.swc')\n",
    "#cell = morphology.load(cellname+'_morph.swc',use_axon=False)\n",
    "#cell = load(cellname+'_morph.swc',use_axon=False)\n"
   ]
  },
  {
   "cell_type": "code",
   "execution_count": null,
   "metadata": {},
   "outputs": [],
   "source": [
    "import sys\n",
    "sys.path.append('../')\n",
    "sys.path.append('../simulation/')\n",
    "\n",
    "import sushibelt\n",
    "import DG_10reg_10dv_model as model\n",
    "import time\n",
    "tnorm = np.sum(model.target ** 2)"
   ]
  },
  {
   "cell_type": "code",
   "execution_count": null,
   "metadata": {},
   "outputs": [],
   "source": [
    "N=model.N"
   ]
  },
  {
   "cell_type": "code",
   "execution_count": null,
   "metadata": {},
   "outputs": [],
   "source": [
    "tdf=pd.read_csv('../data/DG_seg_mapping.csv')\n",
    "abbDG=tdf['abb']\n",
    "abbT={}\n",
    "segIdx={}\n",
    "for i in range(N):\n",
    "    abbT[abbDG[i]] = 1+ abbT.get(abbDG[i],0)\n",
    "    ll=segIdx.get(abbDG[i],[])\n",
    "    ll.append(i)\n",
    "    segIdx[abbDG[i]] = ll\n"
   ]
  },
  {
   "cell_type": "code",
   "execution_count": null,
   "metadata": {
    "collapsed": false,
    "jupyter": {
     "outputs_hidden": false
    }
   },
   "outputs": [],
   "source": [
    "from PyNeuronToolbox.morphology import dist_between,allsec_preorder\n",
    "\n",
    "def dist_to_soma(segment):\n",
    "    return dist_between(h,allsec_preorder(h)[0](0.5),segment)\n",
    "\n",
    "#seglist in pre-order\n",
    "sec_list = allsec_preorder(h)\n",
    "seg_list = []\n",
    "for sec in sec_list:\n",
    "    locs = np.linspace(0,1,sec.nseg+2)[1:-1]\n",
    "    for loc in locs:\n",
    "        seg_list.append(sec(loc))\n",
    "n = len(seg_list)\n",
    "N = n"
   ]
  },
  {
   "cell_type": "code",
   "execution_count": null,
   "metadata": {},
   "outputs": [],
   "source": [
    "soma = allsec_preorder(h)[0]\n",
    "soma(0.5)"
   ]
  },
  {
   "cell_type": "code",
   "execution_count": null,
   "metadata": {},
   "outputs": [],
   "source": [
    "(N,seg_list)"
   ]
  },
  {
   "cell_type": "code",
   "execution_count": null,
   "metadata": {},
   "outputs": [],
   "source": [
    "for i in range(len(sec_list)):\n",
    "    sec = sec_list[i]\n",
    "    print(f\"{i}: {sec.name()}, nseg={sec.nseg}, propNseg={np.round(sec.L/3.7)}, L={sec.L}, or={sec.orientation()}, hname={sec.hname()}\")"
   ]
  },
  {
   "cell_type": "code",
   "execution_count": null,
   "metadata": {},
   "outputs": [],
   "source": [
    "sec_list = allsec_preorder(h)\n",
    "seg_list = []\n",
    "for sec in sec_list:\n",
    "    if sec.name() != 'dgyrus_morph.soma[0]':\n",
    "        nseg = int(np.round(sec.L/3.7))\n",
    "        locs = np.linspace(0,1,nseg+2)[1:-1]\n",
    "        for loc in locs:\n",
    "            seg_list.append(sec(loc))\n",
    "    else:\n",
    "        locs = np.linspace(0,1,3)[1:-1]\n",
    "        for loc in locs:\n",
    "            seg_list.append(sec(loc))\n",
    "n = len(seg_list)\n",
    "N = n\n",
    "N"
   ]
  },
  {
   "cell_type": "code",
   "execution_count": null,
   "metadata": {},
   "outputs": [],
   "source": [
    "(dist_to_soma(seg_list[0]),dist_to_soma(seg_list[1]),sec.L,np.linspace(0,1,sec.nseg+2),np.linspace(0,1,sec.nseg+2)[1:-1])"
   ]
  },
  {
   "cell_type": "code",
   "execution_count": null,
   "metadata": {},
   "outputs": [],
   "source": [
    "dts = [dist_to_soma(s) for s in seg_list]\n",
    "max_dts = np.max(dts) + 0.01\n",
    "dts_bounds = np.linspace(0,max_dts,11)\n",
    "(dts_bounds,dts_bounds[0],dts_bounds[1])"
   ]
  },
  {
   "cell_type": "code",
   "execution_count": null,
   "metadata": {},
   "outputs": [],
   "source": [
    "p = re.compile(\"^([^\\\\[]+)\\\\[.+\")\n",
    "tps = [p.sub(\"\\\\1\",seg.sec.name()) for seg in seg_list]\n",
    "pd.Series(tps).drop_duplicates().tolist()"
   ]
  },
  {
   "cell_type": "code",
   "execution_count": null,
   "metadata": {},
   "outputs": [],
   "source": [
    "seg_list = []\n",
    "seg_abb = []\n",
    "seg_name = []\n",
    "seg_dts = [dist_to_soma(s) for s in seg_list]\n",
    "for sec in sec_list:\n",
    "    if sec.name() != 'dgyrus_morph.soma[0]':\n",
    "        nseg = int(np.round(sec.L/3.7))\n",
    "        locs = np.linspace(0,1,nseg+2)[1:-1]\n",
    "        for loc in locs:\n",
    "            seg_list.append(sec(loc))\n",
    "            seg_name.append(sec.name())\n",
    "            ldts = dist_to_soma(sec(loc))\n",
    "            seg_dts.append(ldts)\n",
    "            for j in range(len(dts_bounds)-1):\n",
    "                print(f\"ldts={ldts},j={j},dts_bounds[j]={dts_bounds[j]} and dts_bounds[j+1]={dts_bounds[j+1]}\")\n",
    "                if ldts >= dts_bounds[j] and ldts < dts_bounds[j+1]:\n",
    "                    print(f\"\\trd{j+1},len(seg_abb)={len(seg_abb)}\")\n",
    "                    seg_abb.append(f\"rd{j+1}\")\n",
    "                    break                    \n",
    "    else:\n",
    "        locs = np.linspace(0,1,3)[1:-1]\n",
    "        for loc in locs:\n",
    "            seg_list.append(sec(loc))\n",
    "            seg_name.append(sec.name())\n",
    "            ldts = dist_to_soma(sec(loc))\n",
    "            seg_dts.append(ldts)\n",
    "            for j in range(len(dts_bounds)-1):\n",
    "                print(f\"ldts={ldts},j={j},dts_bounds[j]={dts_bounds[j]} and dts_bounds[j+1]={dts_bounds[j+1]}\")\n",
    "                if ldts >= dts_bounds[j] and ldts < dts_bounds[j+1]:\n",
    "                    print(f\"\\trd{j+1},len(seg_abb)={len(seg_abb)}\")\n",
    "                    seg_abb.append(f\"rd{j+1}\")\n",
    "                    break\n",
    "n = len(seg_list)\n",
    "N = n\n",
    "print([len(seg_abb),len(seg_name),len(seg_dts),len([i for i in range(N)])])"
   ]
  },
  {
   "cell_type": "code",
   "execution_count": null,
   "metadata": {},
   "outputs": [],
   "source": [
    "(len(seg_name),len(seg_abb),len(seg_dts),len(sec_list),seg_abb)"
   ]
  },
  {
   "cell_type": "code",
   "execution_count": null,
   "metadata": {},
   "outputs": [],
   "source": [
    "tdf=pd.read_csv('../data/DG_seg_mapping.csv')\n",
    "tdf"
   ]
  },
  {
   "cell_type": "code",
   "execution_count": null,
   "metadata": {},
   "outputs": [],
   "source": [
    "(N,tdf.shape,len(seg_list))"
   ]
  },
  {
   "cell_type": "code",
   "execution_count": null,
   "metadata": {},
   "outputs": [],
   "source": [
    "abbDG=tdf['abb']\n",
    "abbT={}\n",
    "segIdx={}\n",
    "for i in range(N):\n",
    "    abbT[abbDG[i]] = 1+ abbT.get(abbDG[i],0)\n",
    "    ll=segIdx.get(abbDG[i],[])\n",
    "    ll.append(i)\n",
    "    segIdx[abbDG[i]] = ll\n"
   ]
  },
  {
   "cell_type": "code",
   "execution_count": null,
   "metadata": {},
   "outputs": [],
   "source": [
    "#expD=pd.read_csv('../data/DG_intensity_values_15072024.csv')\n",
    "expD=pd.read_csv('../data/DG_density_values_15072024.csv')\n",
    "bgSignal=1e-5\n",
    "#cname='D0W3'\n",
    "cname0='D0M3'\n",
    "d0w = -1 * np.ones(N)\n",
    "for i in range(expD.shape[0]):\n",
    "    abb = expD['Abbreviation'][i]\n",
    "    sidx= segIdx[abb]\n",
    "    d0w[sidx] *= -1*expD[f\"{cname0}_MEAN\"][i]/len(sidx)\n",
    "for i in range(N):\n",
    "    if d0w[i]<0:\n",
    "        d0w[i] = bgSignal\n",
    "dinit = d0w/np.sum(d0w)\n",
    "\n",
    "#cname='D7W3'\n",
    "cname7='D7M3'\n",
    "d7w = -1*np.ones(N)\n",
    "for i in range(expD.shape[0]):\n",
    "    abb = expD['Abbreviation'][i]\n",
    "    sidx= segIdx[abb]\n",
    "    d7w[sidx] *= -1 * expD[f\"{cname7}_MEAN\"][i]/len(sidx)\n",
    "for i in range(N):\n",
    "    if d7w[i]<0:\n",
    "        d7w[i] = bgSignal\n",
    "target = np.array(expD[f\"{cname7}_MEAN\"])/np.sum(expD[f\"{cname0}_MEAN\"]) #norm target to Day0 sum to take into accound degradation\n",
    "targSD = np.array(expD[f\"{cname7}_SD\"])/np.sum(expD[f\"{cname0}_MEAN\"]) #results to fit to\n",
    "tnorm = np.sum(target ** 2)\n",
    "day7 = 7 * 24 * 3600 # final time point\n"
   ]
  },
  {
   "cell_type": "code",
   "execution_count": null,
   "metadata": {},
   "outputs": [],
   "source": [
    "expD"
   ]
  },
  {
   "cell_type": "code",
   "execution_count": null,
   "metadata": {},
   "outputs": [],
   "source": [
    "parnames=['F','Ctau','mProp','demand_rd1','demand_rd2','demand_rd3','demand_rd4','demand_rd5','demand_rd6',\n",
    "          'demand_rd7','demand_rd8','demand_rd9','demand_rd10','dv_rd1','dv_rd2','dv_rd3','dv_rd4','dv_rd5',\n",
    "          'dv_rd6','dv_rd7','dv_rd8','dv_rd9','dv_rd10']\n",
    "lowb=np.array([0,-18,0,1.0e-07,1.0e-07,1.0e-07,1.0e-07,1.0e-07,1.0e-07,1.0e-07,1.0e-07,1.0e-07,\n",
    "               1.0e-07,-18,-18,-18,-18,-18,-18,-18,-18,-18,-18,])\n",
    "upbga=np.array([1,-1,1,1,1,1,1,1,1,1,1,1,1,1,1,1,1,1,1,1,1,1,1])\n",
    "(len(parnames),len(lowb),len(upbga),parnames[3],parnames[13])"
   ]
  },
  {
   "cell_type": "code",
   "execution_count": null,
   "metadata": {},
   "outputs": [],
   "source": [
    "len(parnames)*21"
   ]
  },
  {
   "cell_type": "code",
   "execution_count": null,
   "metadata": {},
   "outputs": [],
   "source": [
    "dv = np.zeros(N)\n",
    "utarg = np.ones(N)\n",
    "for k in range(N):\n",
    "    if model.itarg[k] > 2:\n",
    "        utarg[k] = lowb[model.itarg[k]]\n",
    "        dv[k] = (10 ** lowb[model.itarg[k]+10])\n",
    "(dv,utarg)"
   ]
  },
  {
   "cell_type": "code",
   "execution_count": null,
   "metadata": {},
   "outputs": [],
   "source": [
    "(model.lowb[13],model.upbga[13])"
   ]
  },
  {
   "cell_type": "code",
   "execution_count": null,
   "metadata": {},
   "outputs": [],
   "source": [
    "#par = [0.8855702481960549,-17.6142146256606,0.12385432691434908,0.9642855946085199,0.5389253732509337,\n",
    "#       0.272527645830006,0.9129387693392707,0.1297446952024372,0.6107997917511535,1e-07,0.9890938472884612,\n",
    "#       0.24488136124301582,0.014607108124724532,-10.154176543644859,-11.575055132626284,-6.057936626299734,\n",
    "#       -6.053467113877346,-6.0477171882104965,-6.028631654679405,-6.036945094549408,-5.999154504640609,\n",
    "#       -6.00544599147668,-6.0530817424270875]\n",
    "#cost = 0.0027400475307714973\n",
    "#chi2=1184.7252031040346\n",
    "#par = [0.8001576414106837,-8.83311346686456,0.9568695929329514,0.0020138669780257502,0.025377383988998158,0.029948781242701755,\n",
    "#       0.9999999999999751,0.08896057016913292,0.0004002113170755411,0.014562289941884115,1.0523901851122988e-07,\n",
    "#       1.0846600291496056e-07,0.9598262098965911,-6.028288531411434]\n",
    "#cost = 2.283246533053875e-05\n",
    "#chi2 = 8.532544224511733\n",
    "#par = [0.0001347573108234385,-7.134175640871103,0.16358340428275822,0.9535886836265206,0.9392082944358957,0.588591654675706,\n",
    "#       0.9999999999998962,0.761066612409874,0.012928172225454351,0.3308015862956901,1.742438941388552e-07,\n",
    "#       1.397577721676662e-07,0.9832677483391569,-6.028282727752732]\n",
    "#cost = 2.283438654048628e-05\n",
    "#chi2 = 8.534658143069766\n",
    "#par = [0.0,-17.641758850550943,0.9899980591588442,0.24988968936615671,1.0062994989967052e-07,1e-07,0.06556921170168392,1.0016863619144738e-07,1.0000000000227276e-07,0.00458126556189493,0.0001394007972908521,1e-07,0.999999999999629,-6.063004369056134,-6.070974912176686,-6.057936625641295,-6.053467103903037,-6.04771719102088,-6.0286316572292815,-6.036945095832321,-5.99915450387148,-6.005445989961027,-6.053081737997973]\n",
    "#cost = 7.174089042842454e-32\n",
    "#chi2 = 1.9756083405305166e-26\n",
    "par =     [0.38045811693782183,-17.999999996173983,0.9829776349705306,0.8327241060440842,0.6817423197421232,1e-07,0.001178352727833331,0.001981887509234548,0.0005868862578329533,0.9999999999872324,0.0227100824137138,0.0012922112255617517,0.6751030453233307,-5.324402793151426,-5.404319648247094,-5.413636141175232,-5.456588887637485,-5.501488091825545,-5.5319379474387596,-5.586166243439893,-5.602787801258852,-5.61233822499455,-5.629706487668917]\n",
    "opt_par = [0.38045811693782183,-17.999999996173983,0.9829776349705306,0.8327241060440842,0.6817423197421232,1e-07,0.001178352727833331,0.001981887509234548,0.0005868862578329533,0.9999999999872324,0.0227100824137138,0.0012922112255617517,0.6751030453233307,-5.324402793151426,-5.404319648247094,-5.413636141175232,-5.456588887637485,-5.501488091825545,-5.5319379474387596,-5.586166243439893,-5.602787801258852,-5.61233822499455,-5.629706487668917]\n",
    "cost = 1.8904206110375962e-32\n",
    "chi2 = 2.144032235335936e-26\n",
    "mProp = par[2]\n",
    "utrace = model.calcUtrace(par)\n",
    "resM, resF = sushibelt.aggregate_segments(utrace[:, -1], model.segIdx, model.expD['Abbreviation'], fun=np.sum)\n"
   ]
  },
  {
   "cell_type": "code",
   "execution_count": null,
   "metadata": {},
   "outputs": [],
   "source": [
    "{'F' : par[0],\n",
    "'Ctau' : par[1],\n",
    "'mProp' : par[2],\n",
    "'(1-mProp)' : (1-par[2]),\n",
    "'demand_rd1' : par[3],\n",
    "'demand_rd2' : par[4],\n",
    "'demand_rd3' : par[5],\n",
    "'demand_rd4' : par[6],\n",
    "'demand_rd5' : par[7],\n",
    "'demand_rd6' : par[8],\n",
    "'demand_rd7' : par[9],\n",
    "'demand_rd8' : par[10],\n",
    "'demand_rd9' : par[11],\n",
    "'demand_rd10' : par[12],\n",
    "#'dv' : par[13],\n",
    "'dv_rd1' : 10 ** par[13],\n",
    "'dv_rd2' : 10 ** par[14],\n",
    "'dv_rd3' : 10 ** par[15],\n",
    "'dv_rd4' : 10 ** par[16],\n",
    "'dv_rd5' : 10 ** par[17],\n",
    "'dv_rd6' : 10 ** par[18],\n",
    "'dv_rd7' : 10 ** par[19],\n",
    "'dv_rd8' : 10 ** par[20],\n",
    "'dv_rd9' : 10 ** par[21],\n",
    "'dv_rd10' : 10 ** par[22],\n",
    "'norm_factor' : (1-mProp),\n",
    "'sum_resM' : np.sum(resM),\n",
    "'sum_resF' : np.sum(resF),\n",
    "'sum_tot' : np.sum(resF)+np.sum(resM),\n",
    "'err' : np.sum((resF/(1-mProp) - model.target) ** 2),\n",
    "'err_norm' : np.sum((resF/(1-mProp) - model.target) ** 2)/tnorm,\n",
    "'chi2' : np.sum(((resF/(1-mProp) - model.target)/model.targSD) ** 2),\n",
    "'cost' : cost,\n",
    "'Chi2' : chi2\n",
    "}"
   ]
  },
  {
   "cell_type": "code",
   "execution_count": null,
   "metadata": {},
   "outputs": [],
   "source": [
    "(n,len(dv),len(utarg))"
   ]
  },
  {
   "cell_type": "code",
   "execution_count": null,
   "metadata": {},
   "outputs": [],
   "source": [
    "F = par[0]\n",
    "Ctau = 10 ** par[1]\n",
    "mProp = par[2]\n",
    "dv = np.zeros(n)\n",
    "utarg = bgSignal*np.ones(n)\n",
    "for k in range(n):\n",
    "    if model.itarg[k] > 2:\n",
    "        dv[k] = (10 ** par[model.itarg[k]+10])\n",
    "        utarg[k] = par[model.itarg[k]]\n",
    "    else:\n",
    "        dv[k] = np.nan\n",
    "        utarg[k] = np.nan\n",
    "#utarg /= np.sum(utarg)\n",
    "bfit, afit = np.polyfit(utarg, np.array(dv), deg=1)\n",
    "xseq = np.linspace(min(utarg), max(utarg), num=100)\n",
    "#plt.scatter(utarg,dv)\n",
    "fig, ax = plt.subplots(figsize = (9, 9))\n",
    "ax.scatter(utarg, dv)\n",
    "ax.plot(xseq, afit + bfit * xseq, color=\"k\", lw=2.5)\n",
    "pos = ax.get_position()\n",
    "#ax.text(pos.x0, pos.y0 + pos.height, f'LR equation: $Y = {round(afit*1e6,3)}'+'\\\\ 10^{-6}'+f' + {round(bfit*1e6,3)}'+'\\\\ 10^{-6}\\\\ X$', fontsize=10)\n",
    "ax.text(0.2,1.85e-6, f'LR equation: $Y = {round(afit*1e6,3)}'+'\\\\ 10^{-6}'+f' + {round(bfit*1e6,3)}'+'\\\\ 10^{-6}\\\\ X$', fontsize=10)\n",
    "plt.xlabel('Demand value')\n",
    "plt.ylabel('Degradation rate')\n",
    "plt.show()\n",
    "#plt.savefig('DG_experiment_density_10dv_degradation_fit.png')\n",
    "#plt.savefig('DG_experiment_density_10dv_degradation_fit.pdf')\n",
    "#plt.savefig('DG_experiment_density_10dv_degradation_fit.svg')\n"
   ]
  },
  {
   "cell_type": "code",
   "execution_count": null,
   "metadata": {},
   "outputs": [],
   "source": [
    "x=np.array(range(model.expD.shape[0]),dtype=int)\n",
    "fig, ax = plt.subplots()\n",
    "ax.plot(x,target,label='Target')\n",
    "ax.plot(x,resM,label='mobile DC')\n",
    "ax.plot(x,resF,label='detached DC')\n",
    "#ax.plot(x,resF/(1-mProp),label='norm detached DC')\n",
    "ax.set_xlabel('Region number')\n",
    "ax.set_ylabel('Value')\n",
    "ax.set_xticks(x,expD['Abbreviation'],rotation=90)\n",
    "# show a legend on the plot\n",
    "ax.legend()\n",
    "#plt.show()\n",
    "pos = ax.get_position()\n",
    "ax.set_position([pos.x0, pos.y0 + pos.height*0.15, pos.width , pos.height* 0.85])\n",
    "plt.title(f\"Cost = {format(np.sum((resF/(1-mProp) - target) ** 2),'.4g')}, $\\chi^2$ = {format(np.sum(((resF/(1-mProp) - target)/targSD) ** 2),'.4g')}\") \n",
    "# function to show the plot\n",
    "plt.show()\n",
    "#plt.savefig('bestFitCA1_20reg_1dv_soma.png')\n",
    "#plt.savefig('bestFitCA1_20reg_1dv_soma.pdf')\n",
    "#plt.savefig('bestFitCA1_20reg_1dv_soma.svg')"
   ]
  },
  {
   "cell_type": "code",
   "execution_count": null,
   "metadata": {},
   "outputs": [],
   "source": [
    "x=np.array(range(model.expD.shape[0]),dtype=int)\n",
    "fig, ax = plt.subplots()\n",
    "ax.plot(x,target,label='Target')\n",
    "#ax.plot(x,resM,label='mobile DC')\n",
    "#ax.plot(x,resF,label='detached DC')\n",
    "ax.plot(x,resF/(1-mProp),label='norm detached DC')\n",
    "ax.set_xlabel('Region number')\n",
    "ax.set_ylabel('Value')\n",
    "ax.set_xticks(x,expD['Abbreviation'],rotation=90)\n",
    "# show a legend on the plot\n",
    "ax.legend()\n",
    "#plt.show()\n",
    "pos = ax.get_position()\n",
    "ax.set_position([pos.x0, pos.y0 + pos.height*0.15, pos.width , pos.height* 0.85])\n",
    "plt.title(f\"Cost = {format(np.sum((resF/(1-mProp) - target) ** 2),'.4g')}, $\\chi^2$ = {format(np.sum(((resF/(1-mProp) - target)/targSD) ** 2),'.4g')}\") \n",
    "# function to show the plot\n",
    "plt.show()\n",
    "#plt.savefig('bestFit_DG_10reg_1dv_F08.png')\n",
    "#plt.savefig('bestFit_DG_10reg_1dv_F08.pdf')\n",
    "#plt.savefig('bestFit_DG_10reg_1dv_F08.svg')"
   ]
  },
  {
   "cell_type": "code",
   "execution_count": null,
   "metadata": {},
   "outputs": [],
   "source": [
    "x=np.array(range(model.expD.shape[0]),dtype=int)\n",
    "fig, ax = plt.subplots()\n",
    "ax.plot(x,expD[f\"{cname0}_MEAN\"],label=cname0)\n",
    "#ax.plot(x,expD[f\"{cname7}_MEAN\"],label=cname7)\n",
    "#ax.plot(x,resM,label='mobile DC')\n",
    "ax.set_xlabel('Region number')\n",
    "ax.set_ylabel('Value')\n",
    "ax.set_xticks(x,expD['Abbreviation'],rotation=90)\n",
    "# show a legend on the plot\n",
    "ax.legend()\n",
    "#plt.show()\n",
    "pos = ax.get_position()\n",
    "ax.set_position([pos.x0, pos.y0 + pos.height*0.15, pos.width , pos.height* 0.85])\n",
    "plt.title(f\"Cost = {format(np.sum((resF/(1-mProp) - target) ** 2),'.4g')}, $\\chi^2$ = {format(np.sum(((resF/(1-mProp) - target)/targSD) ** 2),'.4g')}\") \n",
    "# function to show the plot\n",
    "plt.show()\n",
    "#plt.savefig('bestFitCA1_20reg_1dv_soma.png')\n",
    "#plt.savefig('bestFitCA1_20reg_1dv_soma.pdf')\n",
    "#plt.savefig('bestFitCA1_20reg_1dv_soma.svg')"
   ]
  },
  {
   "cell_type": "code",
   "execution_count": null,
   "metadata": {},
   "outputs": [],
   "source": [
    "#plt.plot(x,target,label=cname7)\n",
    "plt.errorbar(x,target,targSD,label=cname7, fmt='-o')\n",
    "#plt.plot(x,resF,label='detached DC')\n",
    "plt.plot(x,resF/(1-mProp),label='detached norm DC')\n",
    "plt.ylabel('Value')\n",
    "plt.xlabel('Region number')\n",
    "# show a legend on the plot\n",
    "plt.legend()\n",
    "plt.title(f\"Cost = {format(np.sum((resF/(1-mProp) - target) ** 2),'.4g')}, $\\chi^2$ = {format(np.sum(((resF/(1-mProp) - target)/targSD) ** 2),'.4g')}\") \n",
    "# function to show the plot\n",
    "plt.show()\n",
    "#plt.savefig('expDG_10reg_10dv_3W_target_error.png')\n",
    "#plt.savefig('expDG_10reg_10dv_3W_target_error.pdf')\n",
    "#plt.savefig('expDG_10reg_10dv_3W_target_error.svg')"
   ]
  },
  {
   "cell_type": "code",
   "execution_count": null,
   "metadata": {},
   "outputs": [],
   "source": [
    "x=np.array(range(model.expD.shape[0]),dtype=int)\n",
    "fig, ax = plt.subplots()\n",
    "#ax.plot(x,expD[f\"{cname0}_MEAN\"],label=cname0)\n",
    "ax.plot(x,expD[f\"{cname7}_MEAN\"],label=cname7)\n",
    "#ax.plot(x,resM,label='mobile DC')\n",
    "ax.set_xlabel('Region number')\n",
    "ax.set_ylabel('Value')\n",
    "ax.set_xticks(x,expD['Abbreviation'],rotation=90)\n",
    "# show a legend on the plot\n",
    "ax.legend()\n",
    "#plt.show()\n",
    "pos = ax.get_position()\n",
    "ax.set_position([pos.x0, pos.y0 + pos.height*0.15, pos.width , pos.height* 0.85])\n",
    "plt.title(f\"Cost = {format(np.sum((resF/(1-mProp) - target) ** 2),'.4g')}, $\\chi^2$ = {format(np.sum(((resF/(1-mProp) - target)/targSD) ** 2),'.4g')}\") \n",
    "# function to show the plot\n",
    "plt.show()\n",
    "#plt.savefig('bestFitCA1_20reg_1dv_soma.png')\n",
    "#plt.savefig('bestFitCA1_20reg_1dv_soma.pdf')\n",
    "#plt.savefig('bestFitCA1_20reg_1dv_soma.svg')"
   ]
  },
  {
   "cell_type": "markdown",
   "metadata": {},
   "source": [
    "# Three weeks data"
   ]
  },
  {
   "cell_type": "code",
   "execution_count": null,
   "metadata": {},
   "outputs": [],
   "source": [
    "expD=pd.read_csv('../data/DG_density_values_15072024.csv')\n",
    "bgSignal=1e-5\n",
    "\n",
    "cname0='D0W3'\n",
    "d0w = -1 * np.ones(N)\n",
    "for i in range(expD.shape[0]):\n",
    "    abb = expD['Abbreviation'][i]\n",
    "    sidx= segIdx[abb]\n",
    "    d0w[sidx] *= -1*expD[f\"{cname0}_MEAN\"][i]/len(sidx)\n",
    "for i in range(N):\n",
    "    if d0w[i]<0:\n",
    "        d0w[i] = bgSignal\n",
    "dinit = d0w/np.sum(d0w)\n",
    "\n",
    "cname7='D7W3'\n",
    "d7w = -1*np.ones(N)\n",
    "for i in range(expD.shape[0]):\n",
    "    abb = expD['Abbreviation'][i]\n",
    "    sidx= segIdx[abb]\n",
    "    d7w[sidx] *= -1 * expD[f\"{cname7}_MEAN\"][i]/len(sidx)\n",
    "for i in range(N):\n",
    "    if d7w[i]<0:\n",
    "        d7w[i] = bgSignal\n",
    "target = np.array(expD[f\"{cname7}_MEAN\"])/np.sum(expD[f\"{cname0}_MEAN\"]) #norm target to Day0 sum to take into accound degradation\n",
    "targSD = np.array(expD[f\"{cname7}_SD\"])/np.sum(expD[f\"{cname0}_MEAN\"]) #results to fit to\n",
    "tnorm = np.sum(target ** 2)\n",
    "day7 = 7 * 24 * 3600 # final time point\n"
   ]
  },
  {
   "cell_type": "code",
   "execution_count": null,
   "metadata": {},
   "outputs": [],
   "source": [
    "model.dinit=dinit\n",
    "utrace = model.calcUtrace(par)\n",
    "resM, resF = sushibelt.aggregate_segments(utrace[:, -1], model.segIdx, model.expD['Abbreviation'], fun=np.sum)"
   ]
  },
  {
   "cell_type": "code",
   "execution_count": null,
   "metadata": {},
   "outputs": [],
   "source": [
    "{'F' : par[0],\n",
    "'Ctau' : par[1],\n",
    "'mProp' : par[2],\n",
    "'(1-mProp)' : (1-par[2]),\n",
    "'demand_rd1' : par[3],\n",
    "'demand_rd2' : par[4],\n",
    "'demand_rd3' : par[5],\n",
    "'demand_rd4' : par[6],\n",
    "'demand_rd5' : par[7],\n",
    "'demand_rd6' : par[8],\n",
    "'demand_rd7' : par[9],\n",
    "'demand_rd8' : par[10],\n",
    "'demand_rd9' : par[11],\n",
    "'demand_rd10' : par[12],\n",
    "#'dv' : par[13],\n",
    "'dv_rd1' : par[13],\n",
    "'dv_rd2' : par[14],\n",
    "'dv_rd3' : par[15],\n",
    "'dv_rd4' : par[16],\n",
    "'dv_rd5' : par[17],\n",
    "'dv_rd6' : par[18],\n",
    "'dv_rd7' : par[19],\n",
    "'dv_rd8' : par[20],\n",
    "'dv_rd9' : par[21],\n",
    "'dv_rd10' : par[22],\n",
    "'norm_factor' : (1-mProp),\n",
    "'sum_resM' : np.sum(resM),\n",
    "'sum_resF' : np.sum(resF),\n",
    "'sum_tot' : np.sum(resF)+np.sum(resM),\n",
    "'err' : np.sum((resF/(1-mProp) - target) ** 2),\n",
    "'err_norm' : np.sum((resF/(1-mProp) - target) ** 2)/tnorm,\n",
    "'chi2' : np.sum(((resF/(1-mProp) - target)/targSD) ** 2),\n",
    "'cost' : cost,\n",
    "'Chi2' : chi2\n",
    "}"
   ]
  },
  {
   "cell_type": "code",
   "execution_count": null,
   "metadata": {},
   "outputs": [],
   "source": [
    "x=np.array(range(model.expD.shape[0]),dtype=int)\n",
    "fig, ax = plt.subplots()\n",
    "ax.plot(x,target,label='Target')\n",
    "#ax.plot(x,resM,label='mobile DC')\n",
    "ax.plot(x,resF,label='detached DC')\n",
    "ax.plot(x,resF/(1-mProp),label='norm detached DC')\n",
    "ax.set_xlabel('Region number')\n",
    "ax.set_ylabel('Value')\n",
    "ax.set_xticks(x,expD['Abbreviation'],rotation=90)\n",
    "# show a legend on the plot\n",
    "ax.legend()\n",
    "#plt.show()\n",
    "pos = ax.get_position()\n",
    "ax.set_position([pos.x0, pos.y0 + pos.height*0.15, pos.width , pos.height* 0.85])\n",
    "plt.title(f\"Cost = {format(np.sum((resF/(1-mProp) - target) ** 2),'.4g')}, $\\chi^2$ = {format(np.sum(((resF/(1-mProp) - target)/targSD) ** 2),'.4g')}\") \n",
    "# function to show the plot\n",
    "plt.show()\n",
    "#plt.savefig('expDG_10reg_10dv_3W_density_target.png')\n",
    "#plt.savefig('expDG_10reg_10dv_3W_density_target.pdf')\n",
    "#plt.savefig('expDG_10reg_10dv_3W_density_target.svg')"
   ]
  },
  {
   "cell_type": "code",
   "execution_count": null,
   "metadata": {},
   "outputs": [],
   "source": [
    "#plt.plot(x,target,label=cname7)\n",
    "plt.errorbar(x,target,targSD,label=cname7, fmt='-o')\n",
    "#plt.plot(x,resF,label='detached DC')\n",
    "plt.plot(x,resF/(1-mProp),label='detached norm DC')\n",
    "plt.ylabel('Value')\n",
    "plt.xlabel('Region number')\n",
    "# show a legend on the plot\n",
    "plt.legend()\n",
    "plt.title(f\"Cost = {format(np.sum((resF/(1-mProp) - target) ** 2),'.4g')}, $\\chi^2$ = {format(np.sum(((resF/(1-mProp) - target)/targSD) ** 2),'.4g')}\") \n",
    "# function to show the plot\n",
    "plt.show()\n",
    "#plt.savefig('expDG_10reg_10dv_3W_density_target_error.png')\n",
    "#plt.savefig('expDG_10reg_10dv_3W_density_target_error.pdf')\n",
    "#plt.savefig('expDG_10reg_10dv_3W_density_target_error.svg')"
   ]
  },
  {
   "cell_type": "code",
   "execution_count": null,
   "metadata": {},
   "outputs": [],
   "source": [
    "#plt.plot(x,target,label=cname7)\n",
    "plt.errorbar(x,target,targSD,label=cname7, fmt='-o')\n",
    "plt.plot(x,resF,label='detached DC')\n",
    "#plt.plot(x,resF/(1-mProp),label='detached norm DC')\n",
    "plt.ylabel('Value')\n",
    "plt.xlabel('Region number')\n",
    "# show a legend on the plot\n",
    "plt.legend()\n",
    "plt.title(f\"Cost = {format(np.sum((resF/(1-mProp) - target) ** 2),'.4g')}, $\\chi^2$ = {format(np.sum(((resF/(1-mProp) - target)/targSD) ** 2),'.4g')}\") \n",
    "# function to show the plot\n",
    "plt.show()\n",
    "#plt.savefig('expDG_10reg_10dv_3W_density_target_error.png')\n",
    "#plt.savefig('expDG_10reg_10dv_3W_density_target_error.pdf')\n",
    "#plt.savefig('expDG_10reg_10dv_3W_density_target_error.svg')"
   ]
  },
  {
   "cell_type": "markdown",
   "metadata": {},
   "source": [
    "## Degradation adjusted"
   ]
  },
  {
   "cell_type": "code",
   "execution_count": null,
   "metadata": {},
   "outputs": [],
   "source": [
    "par_dev = par.copy()\n",
    "dv_val = [-2.372770811153945,-1.2890811921179512,-4.893397765300463,-1.23886467075058,0.9970473115280463,-0.4719839734855036,0.9999889207762749,-5.58412402098368,-5.812258408904807,-6.486561845484665]\n",
    "par_dev[13:] = [-2.372770811153945,-1.2890811921179512,-4.893397765300463,-1.23886467075058,0.9970473115280463,-0.4719839734855036,0.9999889207762749,-5.58412402098368,-5.812258408904807,-6.486561845484665]\n",
    "cost = 1.3329819218418034e-14\n",
    "chi2 = 1.5470576015145376e-08"
   ]
  },
  {
   "cell_type": "code",
   "execution_count": null,
   "metadata": {},
   "outputs": [],
   "source": [
    "model.dinit=dinit\n",
    "utrace = model.calcUtrace(par_dev)\n",
    "resM, resF = sushibelt.aggregate_segments(utrace[:, -1], model.segIdx, model.expD['Abbreviation'], fun=np.sum)"
   ]
  },
  {
   "cell_type": "code",
   "execution_count": null,
   "metadata": {},
   "outputs": [],
   "source": [
    "{'F' : par_dev[0],\n",
    "'Ctau' : par_dev[1],\n",
    "'mProp' : par_dev[2],\n",
    "'(1-mProp)' : (1-par_dev[2]),\n",
    "'demand_rd1' : par_dev[3],\n",
    "'demand_rd2' : par_dev[4],\n",
    "'demand_rd3' : par_dev[5],\n",
    "'demand_rd4' : par_dev[6],\n",
    "'demand_rd5' : par_dev[7],\n",
    "'demand_rd6' : par_dev[8],\n",
    "'demand_rd7' : par_dev[9],\n",
    "'demand_rd8' : par_dev[10],\n",
    "'demand_rd9' : par_dev[11],\n",
    "'demand_rd10' : par_dev[12],\n",
    "#'dv' : par[13],\n",
    "'dv_rd1' : par_dev[13],\n",
    "'dv_rd2' : par_dev[14],\n",
    "'dv_rd3' : par_dev[15],\n",
    "'dv_rd4' : par_dev[16],\n",
    "'dv_rd5' : par_dev[17],\n",
    "'dv_rd6' : par_dev[18],\n",
    "'dv_rd7' : par_dev[19],\n",
    "'dv_rd8' : par_dev[20],\n",
    "'dv_rd9' : par_dev[21],\n",
    "'dv_rd10' : par_dev[22],\n",
    "'norm_factor' : (1-mProp),\n",
    "'sum_resM' : np.sum(resM),\n",
    "'sum_resF' : np.sum(resF),\n",
    "'sum_tot' : np.sum(resF)+np.sum(resM),\n",
    "'err' : np.sum((resF/(1-mProp) - target) ** 2),\n",
    "'err_norm' : np.sum((resF/(1-mProp) - target) ** 2)/tnorm,\n",
    "'chi2' : np.sum(((resF/(1-mProp) - target)/targSD) ** 2),\n",
    "'cost' : cost,\n",
    "'Chi2' : chi2\n",
    "}"
   ]
  },
  {
   "cell_type": "code",
   "execution_count": null,
   "metadata": {},
   "outputs": [],
   "source": [
    "x=np.array(range(model.expD.shape[0]),dtype=int)\n",
    "fig, ax = plt.subplots()\n",
    "ax.plot(x,target,label='Target')\n",
    "#ax.plot(x,resM,label='mobile DC')\n",
    "ax.plot(x,resF,label='detached DC')\n",
    "ax.plot(x,resF/(1-mProp),label='norm detached DC')\n",
    "ax.set_xlabel('Region number')\n",
    "ax.set_ylabel('Value')\n",
    "ax.set_xticks(x,expD['Abbreviation'],rotation=90)\n",
    "# show a legend on the plot\n",
    "ax.legend()\n",
    "#plt.show()\n",
    "pos = ax.get_position()\n",
    "ax.set_position([pos.x0, pos.y0 + pos.height*0.15, pos.width , pos.height* 0.85])\n",
    "plt.title(f\"Cost = {format(np.sum((resF/(1-mProp) - target) ** 2),'.4g')}, $\\chi^2$ = {format(np.sum(((resF/(1-mProp) - target)/targSD) ** 2),'.4g')}\") \n",
    "# function to show the plot\n",
    "plt.show()\n",
    "#plt.savefig('expDG_10reg_10dv_3W_dv_density_target.png')\n",
    "#plt.savefig('expDG_10reg_10dv_3W_dv_density_target.pdf')\n",
    "#plt.savefig('expDG_10reg_10dv_3W_dv_density_target.svg')"
   ]
  },
  {
   "cell_type": "code",
   "execution_count": null,
   "metadata": {},
   "outputs": [],
   "source": [
    "#plt.plot(x,target,label=cname7)\n",
    "plt.errorbar(x,target,targSD,label=cname7, fmt='-o')\n",
    "#plt.plot(x,resF,label='detached DC')\n",
    "plt.plot(x,resF/(1-mProp),label='detached norm DC')\n",
    "plt.ylabel('Value')\n",
    "plt.xlabel('Region number')\n",
    "# show a legend on the plot\n",
    "plt.legend()\n",
    "plt.title(f\"Cost = {format(np.sum((resF/(1-mProp) - target) ** 2),'.4g')}, $\\chi^2$ = {format(np.sum(((resF/(1-mProp) - target)/targSD) ** 2),'.4g')}\") \n",
    "# function to show the plot\n",
    "plt.show()\n",
    "#plt.savefig('expDG_10reg_10dv_3W_dv_density_target_error.png')\n",
    "#plt.savefig('expDG_10reg_10dv_3W_dv_density_target_error.pdf')\n",
    "#plt.savefig('expDG_10reg_10dv_3W_dv_density_target_error.svg')"
   ]
  },
  {
   "cell_type": "code",
   "execution_count": null,
   "metadata": {},
   "outputs": [],
   "source": [
    "import DG_10reg_10dv_model_dvonly as model3W\n",
    "model3W.dinit=dinit\n",
    "utrace = model3W.calcUtrace(dv_val)\n",
    "resM, resF = sushibelt.aggregate_segments(utrace[:, -1], model.segIdx, model.expD['Abbreviation'], fun=np.sum)"
   ]
  },
  {
   "cell_type": "code",
   "execution_count": null,
   "metadata": {},
   "outputs": [],
   "source": [
    "{'F' : par_dev[0],\n",
    "'Ctau' : par_dev[1],\n",
    "'mProp' : par_dev[2],\n",
    "'(1-mProp)' : (1-par_dev[2]),\n",
    "'demand_rd1' : par_dev[3],\n",
    "'demand_rd2' : par_dev[4],\n",
    "'demand_rd3' : par_dev[5],\n",
    "'demand_rd4' : par_dev[6],\n",
    "'demand_rd5' : par_dev[7],\n",
    "'demand_rd6' : par_dev[8],\n",
    "'demand_rd7' : par_dev[9],\n",
    "'demand_rd8' : par_dev[10],\n",
    "'demand_rd9' : par_dev[11],\n",
    "'demand_rd10' : par_dev[12],\n",
    "#'dv' : par[13],\n",
    "'dv_rd1' : par_dev[13],\n",
    "'dv_rd2' : par_dev[14],\n",
    "'dv_rd3' : par_dev[15],\n",
    "'dv_rd4' : par_dev[16],\n",
    "'dv_rd5' : par_dev[17],\n",
    "'dv_rd6' : par_dev[18],\n",
    "'dv_rd7' : par_dev[19],\n",
    "'dv_rd8' : par_dev[20],\n",
    "'dv_rd9' : par_dev[21],\n",
    "'dv_rd10' : par_dev[22],\n",
    "'norm_factor' : (1-mProp),\n",
    "'sum_resM' : np.sum(resM),\n",
    "'sum_resF' : np.sum(resF),\n",
    "'sum_tot' : np.sum(resF)+np.sum(resM),\n",
    "'err' : np.sum((resF/(1-mProp) - target) ** 2),\n",
    "'err_norm' : np.sum((resF/(1-mProp) - target) ** 2)/tnorm,\n",
    "'chi2' : np.sum(((resF/(1-mProp) - target)/targSD) ** 2),\n",
    "'cost' : cost,\n",
    "'Chi2' : chi2\n",
    "}"
   ]
  },
  {
   "cell_type": "markdown",
   "metadata": {},
   "source": [
    "# 18 month data"
   ]
  },
  {
   "cell_type": "code",
   "execution_count": null,
   "metadata": {},
   "outputs": [],
   "source": [
    "#expD=pd.read_csv('../data/DG_intensity_values_15072024.csv')\n",
    "expD=pd.read_csv('../data/DG_density_values_15072024.csv')\n",
    "bgSignal=1e-5\n",
    "cname0='D0M18'\n",
    "d0w = -1 * np.ones(N)\n",
    "for i in range(expD.shape[0]):\n",
    "    abb = expD['Abbreviation'][i]\n",
    "    sidx= segIdx[abb]\n",
    "    d0w[sidx] *= -1*expD[f\"{cname0}_MEAN\"][i]/len(sidx)\n",
    "for i in range(N):\n",
    "    if d0w[i]<0:\n",
    "        d0w[i] = bgSignal\n",
    "dinit = d0w/np.sum(d0w)\n",
    "\n",
    "cname7='D7M18'\n",
    "d7w = -1*np.ones(N)\n",
    "for i in range(expD.shape[0]):\n",
    "    abb = expD['Abbreviation'][i]\n",
    "    sidx= segIdx[abb]\n",
    "    d7w[sidx] *= -1 * expD[f\"{cname7}_MEAN\"][i]/len(sidx)\n",
    "for i in range(N):\n",
    "    if d7w[i]<0:\n",
    "        d7w[i] = bgSignal\n",
    "target = np.array(expD[f\"{cname7}_MEAN\"])/np.sum(expD[f\"{cname0}_MEAN\"]) #norm target to Day0 sum to take into accound degradation\n",
    "targSD = np.array(expD[f\"{cname7}_SD\"])/np.sum(expD[f\"{cname0}_MEAN\"]) #results to fit to\n",
    "tnorm = np.sum(target ** 2)\n",
    "day7 = 7 * 24 * 3600 # final time point\n"
   ]
  },
  {
   "cell_type": "code",
   "execution_count": null,
   "metadata": {},
   "outputs": [],
   "source": [
    "model.dinit=dinit\n",
    "utrace = model.calcUtrace(par)\n",
    "resM, resF = sushibelt.aggregate_segments(utrace[:, -1], model.segIdx, model.expD['Abbreviation'], fun=np.sum)"
   ]
  },
  {
   "cell_type": "code",
   "execution_count": null,
   "metadata": {},
   "outputs": [],
   "source": [
    "{'F' : par[0],\n",
    "'Ctau' : par[1],\n",
    "'mProp' : par[2],\n",
    "'demand_rd1' : par[3],\n",
    "'demand_rd2' : par[4],\n",
    "'demand_rd3' : par[5],\n",
    "'demand_rd4' : par[6],\n",
    "'demand_rd5' : par[7],\n",
    "'demand_rd6' : par[8],\n",
    "'demand_rd7' : par[9],\n",
    "'demand_rd8' : par[10],\n",
    "'demand_rd9' : par[11],\n",
    "'demand_rd10' : par[12],\n",
    "'dv' : par[13],\n",
    "#'dv_rd1' : par[13],\n",
    "#'dv_rd2' : par[14],\n",
    "#'dv_rd3' : par[15],\n",
    "#'dv_rd4' : par[16],\n",
    "#'dv_rd5' : par[17],\n",
    "#'dv_rd6' : par[18],\n",
    "#'dv_rd7' : par[19],\n",
    "#'dv_rd8' : par[20],\n",
    "#'dv_rd9' : par[21],\n",
    "#'dv_rd10' : par[22],\n",
    "'norm_factor' : (1-mProp),\n",
    "'sum_resM' : np.sum(resM),\n",
    "'sum_resF' : np.sum(resF),\n",
    "'sum_tot' : np.sum(resF)+np.sum(resM),\n",
    "'err' : np.sum((resF/(1-mProp) - target) ** 2),\n",
    "'err_norm' : np.sum((resF/(1-mProp) - target) ** 2)/tnorm,\n",
    "'chi2' : np.sum(((resF/(1-mProp) - target)/targSD) ** 2),\n",
    "'cost' : cost,\n",
    "'Chi2' : chi2\n",
    "}"
   ]
  },
  {
   "cell_type": "code",
   "execution_count": null,
   "metadata": {},
   "outputs": [],
   "source": [
    "x=np.array(range(model.expD.shape[0]),dtype=int)\n",
    "fig, ax = plt.subplots()\n",
    "ax.plot(x,target,label='Target')\n",
    "#ax.plot(x,resM,label='mobile DC')\n",
    "ax.plot(x,resF,label='detached DC')\n",
    "ax.plot(x,resF/(1-mProp),label='norm detached DC')\n",
    "#ax.plot(x,resF/(1-mProp),label='norm detached DC')\n",
    "ax.set_xlabel('Region number')\n",
    "ax.set_ylabel('Value')\n",
    "ax.set_xticks(x,expD['Abbreviation'],rotation=90)\n",
    "# show a legend on the plot\n",
    "ax.legend()\n",
    "#plt.show()\n",
    "pos = ax.get_position()\n",
    "ax.set_position([pos.x0, pos.y0 + pos.height*0.15, pos.width , pos.height* 0.85])\n",
    "plt.title(f\"Cost = {format(np.sum((resF/(1-mProp) - target) ** 2),'.4g')}, $\\chi^2$ = {format(np.sum(((resF/(1-mProp) - target)/targSD) ** 2),'.4g')}\") \n",
    "# function to show the plot\n",
    "plt.show()\n",
    "#plt.savefig('expDG_10reg_10dv_18M_density_target.png')\n",
    "#plt.savefig('expDG_10reg_10dv_18M_density_target.pdf')\n",
    "#plt.savefig('expDG_10reg_10dv_18M_density_target.svg')"
   ]
  },
  {
   "cell_type": "code",
   "execution_count": null,
   "metadata": {},
   "outputs": [],
   "source": [
    "#plt.plot(x,target,label=cname7)\n",
    "plt.errorbar(x,target,targSD,label=cname7, fmt='-o')\n",
    "#plt.plot(x,resF,label='detached DC')\n",
    "plt.plot(x,resF/(1-mProp),label='detached norm DC')\n",
    "plt.ylabel('Value')\n",
    "plt.xlabel('Region number')\n",
    "# show a legend on the plot\n",
    "plt.legend()\n",
    "plt.title(f\"Cost = {format(np.sum((resF/(1-mProp) - target) ** 2),'.4g')}, $\\chi^2$ = {format(np.sum(((resF/(1-mProp) - target)/targSD) ** 2),'.4g')}\") \n",
    "# function to show the plot\n",
    "plt.show()\n",
    "#plt.savefig('expDG_10reg_10dv_18M_density_target_error.png')\n",
    "#plt.savefig('expDG_10reg_10dv_18M_density_target_error.pdf')\n",
    "#plt.savefig('expDG_10reg_10dv_18M_density_target_error.svg')\n"
   ]
  },
  {
   "cell_type": "code",
   "execution_count": null,
   "metadata": {},
   "outputs": [],
   "source": [
    "iM, iF = sushibelt.aggregate_segments(np.concatenate((list(model.dinit),list(model.dinit))), model.segIdx, model.expD['Abbreviation'], fun=np.sum)\n",
    "plt.plot(x,iM,label='dinit')\n",
    "plt.plot(x,expD[f\"{cname0}_MEAN\"]/np.sum(expD[f\"{cname0}_MEAN\"]),label=f\"{cname0}\")\n",
    "plt.ylabel('Value')\n",
    "plt.xlabel('Region number')\n",
    "# show a legend on the plot\n",
    "plt.legend()\n",
    "plt.title(\"dinit\") \n",
    "# function to show the plot\n",
    "plt.show()\n"
   ]
  },
  {
   "cell_type": "markdown",
   "metadata": {},
   "source": [
    "## Degradation adjusted"
   ]
  },
  {
   "cell_type": "code",
   "execution_count": null,
   "metadata": {},
   "outputs": [],
   "source": [
    "par_dev = par.copy()\n",
    "#par_dev[13:] = [\n",
    "cost = 1.3329819218418034e-14\n",
    "chi2 = 1.5470576015145376e-08"
   ]
  },
  {
   "cell_type": "code",
   "execution_count": null,
   "metadata": {},
   "outputs": [],
   "source": [
    "model.dinit=dinit\n",
    "utrace = model.calcUtrace(par_dev)\n",
    "resM, resF = sushibelt.aggregate_segments(utrace[:, -1], model.segIdx, model.expD['Abbreviation'], fun=np.sum)"
   ]
  },
  {
   "cell_type": "code",
   "execution_count": null,
   "metadata": {},
   "outputs": [],
   "source": [
    "{'F' : par_dev[0],\n",
    "'Ctau' : par_dev[1],\n",
    "'mProp' : par_dev[2],\n",
    "'(1-mProp)' : (1-par_dev[2]),\n",
    "'demand_rd1' : par_dev[3],\n",
    "'demand_rd2' : par_dev[4],\n",
    "'demand_rd3' : par_dev[5],\n",
    "'demand_rd4' : par_dev[6],\n",
    "'demand_rd5' : par_dev[7],\n",
    "'demand_rd6' : par_dev[8],\n",
    "'demand_rd7' : par_dev[9],\n",
    "'demand_rd8' : par_dev[10],\n",
    "'demand_rd9' : par_dev[11],\n",
    "'demand_rd10' : par_dev[12],\n",
    "#'dv' : par[13],\n",
    "'dv_rd1' : par_dev[13],\n",
    "'dv_rd2' : par_dev[14],\n",
    "'dv_rd3' : par_dev[15],\n",
    "'dv_rd4' : par_dev[16],\n",
    "'dv_rd5' : par_dev[17],\n",
    "'dv_rd6' : par_dev[18],\n",
    "'dv_rd7' : par_dev[19],\n",
    "'dv_rd8' : par_dev[20],\n",
    "'dv_rd9' : par_dev[21],\n",
    "'dv_rd10' : par_dev[22],\n",
    "'norm_factor' : (1-mProp),\n",
    "'sum_resM' : np.sum(resM),\n",
    "'sum_resF' : np.sum(resF),\n",
    "'sum_tot' : np.sum(resF)+np.sum(resM),\n",
    "'err' : np.sum((resF/(1-mProp) - model.target) ** 2),\n",
    "'err_norm' : np.sum((resF/(1-mProp) - model.target) ** 2)/tnorm,\n",
    "'chi2' : np.sum(((resF/(1-mProp) - model.target)/model.targSD) ** 2),\n",
    "'cost' : cost,\n",
    "'Chi2' : chi2\n",
    "}"
   ]
  },
  {
   "cell_type": "code",
   "execution_count": null,
   "metadata": {},
   "outputs": [],
   "source": [
    "x=np.array(range(model.expD.shape[0]),dtype=int)\n",
    "fig, ax = plt.subplots()\n",
    "ax.plot(x,target,label='Target')\n",
    "#ax.plot(x,resM,label='mobile DC')\n",
    "ax.plot(x,resF,label='detached DC')\n",
    "ax.plot(x,resF/(1-mProp),label='norm detached DC')\n",
    "ax.set_xlabel('Region number')\n",
    "ax.set_ylabel('Value')\n",
    "ax.set_xticks(x,expD['Abbreviation'],rotation=90)\n",
    "# show a legend on the plot\n",
    "ax.legend()\n",
    "#plt.show()\n",
    "pos = ax.get_position()\n",
    "ax.set_position([pos.x0, pos.y0 + pos.height*0.15, pos.width , pos.height* 0.85])\n",
    "plt.title(f\"Cost = {format(np.sum((resF/(1-mProp) - target) ** 2),'.4g')}, $\\chi^2$ = {format(np.sum(((resF/(1-mProp) - target)/targSD) ** 2),'.4g')}\") \n",
    "# function to show the plot\n",
    "plt.show()\n",
    "#plt.savefig('expDG_10reg_10dv_3W_dv_density_target.png')\n",
    "#plt.savefig('expDG_10reg_10dv_3W_dv_density_target.pdf')\n",
    "#plt.savefig('expDG_10reg_10dv_3W_dv_density_target.svg')"
   ]
  },
  {
   "cell_type": "code",
   "execution_count": null,
   "metadata": {},
   "outputs": [],
   "source": [
    "#plt.plot(x,target,label=cname7)\n",
    "plt.errorbar(x,target,targSD,label=cname7, fmt='-o')\n",
    "#plt.plot(x,resF,label='detached DC')\n",
    "plt.plot(x,resF/(1-mProp),label='detached norm DC')\n",
    "plt.ylabel('Value')\n",
    "plt.xlabel('Region number')\n",
    "# show a legend on the plot\n",
    "plt.legend()\n",
    "plt.title(f\"Cost = {format(np.sum((resF/(1-mProp) - target) ** 2),'.4g')}, $\\chi^2$ = {format(np.sum(((resF/(1-mProp) - target)/targSD) ** 2),'.4g')}\") \n",
    "# function to show the plot\n",
    "plt.show()\n",
    "#plt.savefig('expDG_10reg_10dv_3W_dv_density_target_error.png')\n",
    "#plt.savefig('expDG_10reg_10dv_3W_dv_density_target_error.pdf')\n",
    "#plt.savefig('expDG_10reg_10dv_3W_dv_density_target_error.svg')"
   ]
  },
  {
   "cell_type": "code",
   "execution_count": null,
   "metadata": {},
   "outputs": [],
   "source": []
  },
  {
   "cell_type": "code",
   "execution_count": null,
   "metadata": {},
   "outputs": [],
   "source": []
  }
 ],
 "metadata": {
  "kernelspec": {
   "display_name": "Python 3 (ipykernel)",
   "language": "python",
   "name": "python3"
  },
  "language_info": {
   "codemirror_mode": {
    "name": "ipython",
    "version": 3
   },
   "file_extension": ".py",
   "mimetype": "text/x-python",
   "name": "python",
   "nbconvert_exporter": "python",
   "pygments_lexer": "ipython3",
   "version": "3.13.5"
  }
 },
 "nbformat": 4,
 "nbformat_minor": 4
}
