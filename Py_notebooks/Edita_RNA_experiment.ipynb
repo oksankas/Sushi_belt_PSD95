{
 "cells": [
  {
   "cell_type": "code",
   "execution_count": null,
   "metadata": {
    "ExecuteTime": {
     "end_time": "2024-02-01T04:36:14.473505Z",
     "start_time": "2024-02-01T04:36:13.685666Z"
    },
    "collapsed": false,
    "jupyter": {
     "outputs_hidden": false
    }
   },
   "outputs": [],
   "source": [
    "%%bash\n",
    "nrnivmodl"
   ]
  },
  {
   "cell_type": "code",
   "execution_count": null,
   "metadata": {
    "ExecuteTime": {
     "end_time": "2024-02-01T04:36:17.107428Z",
     "start_time": "2024-02-01T04:36:17.087940Z"
    },
    "collapsed": false,
    "jupyter": {
     "outputs_hidden": false
    }
   },
   "outputs": [],
   "source": [
    "# Download NEURON: http://www.neuron.yale.edu/neuron/download\n",
    "# Download PyNeuronToolbox: https://github.com/ahwillia/PyNeuron-Toolbox\n",
    "\n",
    "from neuron import h\n",
    "import numpy as np\n",
    "import math\n",
    "import pylab as plt\n",
    "import scipy.linalg\n",
    "from PyNeuronToolbox.record import ez_record,ez_convert\n",
    "from PyNeuronToolbox.morphology import shapeplot,shapeplot_animate\n",
    "from mpl_toolkits.mplot3d import Axes3D\n",
    "from JSAnimation import IPython_display\n",
    "from matplotlib import animation\n",
    "from matplotlib.pyplot import cm\n",
    "%matplotlib inline\n",
    "np.random.seed(123456789)\n",
    "\n",
    "DC = 10 # diffusion coeff [microns^2 s^-1]\n",
    "\n",
    "# Load morphology and other stuff\n",
    "# --> SegLists: soma[2], dend[74], dend_5[37], apic[42], axon[1]\n",
    "# --> Files from Migliore & Migliore (2012)\n",
    "# --> CA1 pyramidal neuron\n",
    "h.load_file('stdrun.hoc')\n",
    "h.xopen('ri06.hoc')\n",
    "h.xopen('fixnseg.hoc')\n",
    "h.xopen('5a_nogui.hoc')\n",
    "h.tstop = 700.0"
   ]
  },
  {
   "cell_type": "code",
   "execution_count": null,
   "metadata": {
    "collapsed": false,
    "jupyter": {
     "outputs_hidden": false
    }
   },
   "outputs": [],
   "source": [
    "from PyNeuronToolbox.morphology import dist_between,allsec_preorder\n",
    "\n",
    "def dist_to_soma(segment):\n",
    "    return dist_between(h,h.soma[0](0.5),segment)\n",
    "\n",
    "#seglist in pre-order\n",
    "sec_list = allsec_preorder(h)\n",
    "seg_list = []\n",
    "for sec in sec_list:\n",
    "    locs = np.linspace(0,1,sec.nseg+2)[1:-1]\n",
    "    for loc in locs:\n",
    "        seg_list.append(sec(loc))\n",
    "N = len(seg_list)"
   ]
  },
  {
   "cell_type": "code",
   "execution_count": null,
   "metadata": {},
   "outputs": [],
   "source": [
    "for i in range(len(sec_list)):\n",
    "    sec = sec_list[i]\n",
    "    print(f\"{i}: {sec.name()}, nseg={sec.nseg}, L={sec.L}, or={sec.orientation()}, hname={sec.hname()}\")"
   ]
  },
  {
   "cell_type": "code",
   "execution_count": null,
   "metadata": {},
   "outputs": [],
   "source": [
    "import re\n",
    "import pandas as pd\n",
    "p = re.compile(\"^([^\\\\[]+)\\\\[.+\")\n",
    "tps = [p.sub(\"\\\\1\",seg.sec.name()) for seg in seg_list]\n",
    "pd.Series(tps).drop_duplicates().tolist()"
   ]
  },
  {
   "cell_type": "code",
   "execution_count": null,
   "metadata": {
    "collapsed": false,
    "jupyter": {
     "outputs_hidden": false
    }
   },
   "outputs": [],
   "source": [
    "# matrix exponential used to solve linear system\n",
    "from scipy.linalg import expm\n",
    "\n",
    "# initial condition, u starts only in soma and is trafficked out to dendrites\n",
    "u0 = np.zeros(4*N+1)\n",
    "u0[4*N] = 1.0  # compartment 0 is the soma"
   ]
  },
  {
   "cell_type": "code",
   "execution_count": null,
   "metadata": {
    "collapsed": false,
    "jupyter": {
     "outputs_hidden": false
    }
   },
   "outputs": [],
   "source": [
    "def trafficking_solution(utarg):\n",
    "    \"\"\" Solve the problem by tuning trafficking rates, like Figs 1 and 2. \"\"\"\n",
    "    x = []\n",
    "    \n",
    "    # Iterative traversal of dendritic tree in pre-order\n",
    "    i = 0\n",
    "    section = None\n",
    "    parentStack = [(None,h.soma[0])]\n",
    "    while len(parentStack)>0:\n",
    "        # Get next section to traverse\n",
    "        #  --> p is parent index, section is h.Section object\n",
    "        (p,section) = parentStack.pop()\n",
    "        \n",
    "        # Trafficking to/from parent\n",
    "        if p is not None:\n",
    "            mp = utarg[p] # concentration in parent\n",
    "            mc = utarg[i] # concentration in child\n",
    "            x.insert(0,mp/mc)\n",
    "        \n",
    "        # visit all segments in compartment\n",
    "        for (j,seg) in enumerate(section):\n",
    "            # Deal with out/into rates within compartment, just tridiag matrix\n",
    "            if j>0:\n",
    "                mp = utarg[i-1]\n",
    "                mc = utarg[i]\n",
    "                x.insert(0,mp/mc)\n",
    "                \n",
    "            # move onto next compartment\n",
    "            i += 1\n",
    "        \n",
    "        # now visit children in pre-order\n",
    "        child_list = list(h.SectionRef(sec=section).child)\n",
    "        if child_list is not None:\n",
    "            child_list.reverse()\n",
    "        for c_sec in child_list:\n",
    "            parentStack.append([i-1,c_sec]) # append parent index and child\n",
    "    \n",
    "    # return calculated guesses (flip, up/down since get_deriv pops from start)\n",
    "    return np.array(x)\n",
    "\n",
    "def animate_sim(climits=[0,0.0035]):\n",
    "    u = utrace[n:,:]\n",
    "    fig = plt.figure(figsize=(8,8))\n",
    "    shapeax = plt.subplot(111, projection='3d')\n",
    "    lines = shapeplot(h,shapeax,order='pre',lw=2)\n",
    "    shapeax.view_init(elev=80,azim=-90)\n",
    "    plt.title('distribution of active/detached cargo',fontweight='bold',fontsize=14)\n",
    "    plt.axis('off')\n",
    "\n",
    "    # Hack to get a colorbar\n",
    "    # http://stackoverflow.com/questions/8342549/matplotlib-add-colorbar-to-a-sequence-of-line-plots\n",
    "    sm = plt.cm.ScalarMappable(cmap=plt.cm.cool, norm=plt.Normalize(climits[0],climits[1])) \n",
    "    #sm._A = []\n",
    "    #plt.colorbar(sm, shrink=0.5)\n",
    "    #plt.colorbar(sm)\n",
    "    plt.tight_layout()\n",
    "\n",
    "    anim_func = shapeplot_animate(u.T,lines,u.shape[1],clim=climits,cmap=cm.cool)\n",
    "    return animation.FuncAnimation(fig, anim_func, frames=u.shape[1], interval=5e2, blit=True)\n",
    "\n",
    "def snap_ss(name,clim=[0,0.0035],cmap=plt.cm.cool):\n",
    "    u = utrace[n:,:]\n",
    "    fig = plt.figure(figsize=(8,8))\n",
    "    shapeax = plt.subplot(111, projection='3d')\n",
    "    lines = shapeplot(h,shapeax,cvals=u[:,-1],clim=clim,\\\n",
    "                      cmap=cmap,order='pre',lw=2)\n",
    "    shapeax.view_init(elev=80,azim=-90)\n",
    "    plt.title('steady-state',fontweight='bold',fontsize=14)\n",
    "\n",
    "    # colorbar\n",
    "    sm = cm.ScalarMappable(cmap=cmap, norm=plt.Normalize(clim[0],clim[1])) \n",
    "    #sm = plt.cm.ScalarMappable(cmap=plt.cm.cool, norm=plt.Normalize(clim[0],clim[1])) \n",
    "    #sm._A = []\n",
    "    #plt.colorbar(sm, shrink=0.5)\n",
    "    #plt.colorbar(sm,cax=shapeax)\n",
    "    #plt.colorbar()\n",
    "    plt.tight_layout()\n",
    "    plt.axis('off')\n",
    "    #plt.savefig(name+'.svg')"
   ]
  },
  {
   "cell_type": "markdown",
   "metadata": {},
   "source": [
    "Read Experimental Data\n",
    "----"
   ]
  },
  {
   "cell_type": "code",
   "execution_count": null,
   "metadata": {},
   "outputs": [],
   "source": [
    "tdf=pd.read_csv('data/seg_mapping.csv')\n",
    "abbCA1=tdf['abb']\n",
    "abbT={}\n",
    "segIdx={}\n",
    "for i in range(N):\n",
    "    abbT[abbCA1[i]] = 1+ abbT.get(abbCA1[i],0)\n",
    "    ll=segIdx.get(abbCA1[i],[])\n",
    "    ll.append(i)\n",
    "    segIdx[abbCA1[i]] = ll\n",
    "\n",
    "(abbCA1,abbT,segIdx.keys(),{k:len(segIdx.get(k)) for k in segIdx.keys()})"
   ]
  },
  {
   "cell_type": "code",
   "execution_count": null,
   "metadata": {},
   "outputs": [],
   "source": [
    "sec=seg_list[0]\n",
    "sec.sec.name()"
   ]
  },
  {
   "cell_type": "code",
   "execution_count": null,
   "metadata": {},
   "outputs": [],
   "source": [
    "sname=[]\n",
    "hname=[]\n",
    "for i in range(len(seg_list)):\n",
    "    sec = seg_list[i].sec\n",
    "    sname.append(sec.name())\n",
    "    hname.append(sec.hname())\n",
    "#(sname,hname)"
   ]
  },
  {
   "cell_type": "code",
   "execution_count": null,
   "metadata": {},
   "outputs": [],
   "source": [
    "ks=[i for i in segIdx.keys()]\n",
    "for i in segIdx[ks[0]]:\n",
    "    sec = seg_list[i].sec\n",
    "    print(f\"{i}: {sec.name()}, nseg={sec.nseg}, L={sec.L}, or={sec.orientation()}, hname={sec.hname()}\")"
   ]
  },
  {
   "cell_type": "code",
   "execution_count": null,
   "metadata": {},
   "outputs": [],
   "source": [
    "expD=pd.read_csv('data/CA1_gradient.csv')\n",
    "subreg = ['CA1so', 'CA1sr', 'CA1slm']\n",
    "expD"
   ]
  },
  {
   "cell_type": "code",
   "execution_count": null,
   "metadata": {},
   "outputs": [],
   "source": [
    "import sushibelt\n",
    "import time"
   ]
  },
  {
   "cell_type": "markdown",
   "metadata": {},
   "source": [
    "Prepare protein parameters\n",
    "------"
   ]
  },
  {
   "cell_type": "code",
   "execution_count": null,
   "metadata": {},
   "outputs": [],
   "source": [
    "lowb=np.array([0,-18,0,-18,-18,1.0e-07,1.0e-07,1.0e-07,1.0e-07,1.0e-07,1.0e-07,1.0e-07,1.0e-07,1.0e-07,1.0e-07,1.0e-07,1.0e-07,1.0e-07,1.0e-07,1.0e-07,1.0e-07,1.0e-07,1.0e-07,1.0e-07,1.0e-07])\n",
    "upbga=np.array([1,-1,1,1,1,1,1,1,1,1,1,1,1,1,1,1,1,1,1,1,1,1,1,1,1])\n",
    "Ndim=len(lowb)\n",
    "(Ndim,len(lowb),len(upbga))"
   ]
  },
  {
   "cell_type": "code",
   "execution_count": null,
   "metadata": {},
   "outputs": [],
   "source": [
    "bgSignal = 1e-5\n",
    "cname0='D0M3'\n",
    "d0w = -1 * np.ones(N)\n",
    "for i in range(expD.shape[0]):\n",
    "    abb = expD['Abbreviation'][i]\n",
    "    sidx= segIdx[abb]\n",
    "    d0w[sidx] *= -1*expD[f\"{cname0}_MEAN\"][i]/len(sidx)\n",
    "for i in range(N):\n",
    "    if d0w[i]<0:\n",
    "        d0w[i] = bgSignal\n",
    "dinit = d0w/np.sum(d0w)\n",
    "\n",
    "cname7='D7M3'\n",
    "d7w = -1*np.ones(N)\n",
    "for i in range(expD.shape[0]):\n",
    "    abb = expD['Abbreviation'][i]\n",
    "    sidx= segIdx[abb]\n",
    "    d7w[sidx] *= -1 * expD[f\"{cname7}_MEAN\"][i]/len(sidx)\n",
    "for i in range(N):\n",
    "    if d7w[i]<0:\n",
    "        d7w[i] = bgSignal\n",
    "target = np.array(expD[f\"{cname7}_MEAN\"])/np.sum(expD[f\"{cname0}_MEAN\"]) #norm target to Day0 sum to take into accound degradation\n",
    "tnorm = np.sum(target ** 2)\n",
    "day7 = 7 * 24 * 3600 # final time point\n",
    "\n",
    "itarg = np.ones(N, dtype=int)\n",
    "for i in range(expD.shape[0]):\n",
    "    abb = expD['Abbreviation'][i]\n",
    "    sidx = segIdx[abb]\n",
    "    itarg[sidx] *= (i+5)\n",
    "tstart=1e10"
   ]
  },
  {
   "cell_type": "code",
   "execution_count": null,
   "metadata": {},
   "outputs": [],
   "source": [
    "prDemand = [0.01385481065982917,-6.226265838840085,0.6709771115511489,-17.995913305482574,\n",
    "            -16.696101588995024,0.21868548101204954,0.06211405206769383,0.048882353452234434,\n",
    "            0.046632773486508856,1.9401449712242143e-06,0.7864443640945032,0.5632548318074286,\n",
    "            0.14915702983161863,0.1491589398028194,0.13322800132469398,0.15668388533325328,\n",
    "            0.17435550169553826,0.20436446923690443,0.37541096611836217,0.5260391371129066,\n",
    "            0.043995168941356404,0.1970021740399707,0.19622524557390722,0.2758337024352678,0.9999999999613025]\n",
    "def calcProtDemand(par,delta=bgSignal):\n",
    "    F = par[0]\n",
    "    Ctau = 10 ** par[1]\n",
    "    mProp = par[2]\n",
    "    dvA = par[3]\n",
    "    dvB = par[4]\n",
    "    dv = np.zeros(N)\n",
    "    utarg = delta*np.ones(N)\n",
    "    for k in range(N):\n",
    "        if itarg[k] > 4:\n",
    "            utarg[k] = par[itarg[k]]\n",
    "            dv[k] = (10 ** dvA) + (10 ** dvB)*utarg[k]\n",
    "    utarg /= np.sum(utarg)\n",
    "    K = np.sum(utarg) / N\n",
    "    x = trafficking_solution(F * utarg + (1 - F) * K)\n",
    "    a = (1 / (1 + x))\n",
    "    a = list(a)\n",
    "    b = list((1 / (1 + x ** -1)))\n",
    "    l = list(dv)\n",
    "    c = list(Ctau * utarg / (F * utarg + (1 - F) * K))\n",
    "    d = list(np.zeros(N))\n",
    "    return a,b,c,d,l\n",
    "\n",
    "ar,br,cr,dr,lr = calcProtDemand(prDemand)\n",
    "a0=ar[0]\n",
    "ar[0]=-1\n",
    "ap,bp,cp,dp,lp = calcProtDemand(prDemand)\n",
    "(a0,ar[0],ap[0],min(ap),max(ap),min(cp),max(cp),ar)"
   ]
  },
  {
   "cell_type": "code",
   "execution_count": null,
   "metadata": {},
   "outputs": [],
   "source": [
    "ar_b,br_b,cr_b,dr_b,_ = calcProtDemand(prDemand)\n",
    "ap_b,bp_b,cp_b,dp_b,lp_b = calcProtDemand(prDemand)\n",
    "\n",
    "def calcUtrace(par,delta=bgSignal,tstart=1e10):\n",
    "    # Soma RNA traffick rates\n",
    "    ar=ar_b.copy()\n",
    "    br = br_b.copy()\n",
    "    ar[0] = par[0] # Soma $a_r^s$\n",
    "    ar[1] = par[0]\n",
    "    br[0] = par[1] # Soma $b_r^s$\n",
    "    br[1] = par[1]\n",
    "    # Soma protein traffick rates\n",
    "    ap=ap_b.copy()\n",
    "    bp = bp_b.copy()\n",
    "    ap[0] = par[2] # Soma $a_p^s$\n",
    "    ap[1] = par[2]\n",
    "    bp[0] = par[3] # Soma $b_p^s$\n",
    "    bp[1] = par[3]\n",
    "    # Soma protein degradation rate\n",
    "    lp = lp_b.copy()\n",
    "    lp[0] = 10 ** par[4] # Soma $l_p^s$\n",
    "    lp[1] = 10 ** par[4] # Soma $l_p^s$\n",
    "    # Transcription rate\n",
    "    tr = 10 ** par[6]\n",
    "    # Soma RNA reattachment\n",
    "    dr = dr_b.copy()\n",
    "    dr[0] = 10 ** par[8] # Soma $d_r^s$\n",
    "    dr[1] = 10 ** par[8]\n",
    "    # Soma protein reattachment\n",
    "    dp = dp_b.copy()\n",
    "    dp[0] = 10 ** par[9] # Soma $d_p^s$\n",
    "    dp[1] = 10 ** par[9]\n",
    "    # Soma protein detachment\n",
    "    cp = cp_b.copy()\n",
    "    cp[0] = 10 ** par[11] # Soma $c_p^s$\n",
    "    cp[1] = 10 ** par[11]\n",
    "    # RNA detachment\n",
    "    cr = np.array(cr_b) * (10 ** par[12]) # Neurophil $f_{C_{\\tau}} = \\frac{C_{\\tau R}}{C_{\\tau p}}$\n",
    "    cr[0] = 10 ** par[10] # Soma $c_r^s$\n",
    "    cr[1] = 10 ** par[10]\n",
    "    cr = list(cr)\n",
    "    # RNA degradation\n",
    "    lr = np.ones(N) * (10 ** par[13]) # Neurophil $l_r^n$\n",
    "    lr[0] = 10 ** par[5] # Soma $l_r^s$\n",
    "    lr[1] = 10 ** par[5]\n",
    "    lr = list(lr)\n",
    "    # RNA translation\n",
    "    tp = np.ones(N) * (10 ** par[14]) # Neurophil $t_p^n$\n",
    "    tp[0] = 10 ** par[7] # Soma $t_p^s$\n",
    "    tp[1] = 10 ** par[7]\n",
    "    tp = list(tp)\n",
    "\n",
    "\n",
    "    A = sushibelt.full_sushi_system(h, ar, br, cr, dr, tr, lr, ap, bp, cp, dp, tp, lp)\n",
    "    #utrace,times = sushibelt.run_sim(h,A, npools=4,tmax=1.5,t0=tstart)\n",
    "    return A #utrace.T\n",
    "\n",
    "\n",
    "#par=np.array([3.5,0.5,3.5,0.5,-3,-7,-17,-20,-3,-7,-7,-7,1,-3,-7])\n",
    "#par=np.array([0.5,0.5,0.5,0.5,-7,-7,-7,-7,-7,-7,-7,-7,1,-7,-7])\n",
    "#par=np.array([4.0695723120091705,3.568821832094272,7.053845644866796,4.502649571353622,-9.324359618255054,-2.386911740624622,-7.017734821782558,-3.0028671244619307,-10.817587667246043,-11.666338462476672,-12.634096453636001,-8.215004440801879,-2.838167162844918,-7.5223755286280936,-18.0])\n",
    "#cost=0.13059573830533733\n",
    "#par=np.array([3.8228119351305088,3.877316301781682,6.61582368075308,4.220631924267806,-12.045381187498002,-2.724365509588319,-6.836501415824419,-3.1782498934472763,-13.391736840458972,-12.478317625089288,-10.860388478250565,-12.909323496429513,2.2565625387966524,-10.131398093615665,-17.97635689289944])\n",
    "#ost=0.13034024969907756\n",
    "#par=np.array([10,0.77708539,10,10,-7.166462208,-3.982176228,-6.374426734,-6.532612216,-9.273667623,-8.898544869,-5.892605138,-12.2193624,1.825640701,-18,-8.214616697])\n",
    "#cost=0.101752713\n",
    "par=np.array([1.6619156996432725e-05,10.0,50.0,4.787174316875313e-06,1.0,-10.050044051211568,1.0,-18.0,-18.0,1.0,-7.41535470425319,-18.0,2.162283411836916,-26.720975974032726,-12.563329062591443])\n",
    "cost=0.10175969646368606\n",
    "initTime=time.time()\n",
    "A = calcUtrace(par)\n",
    "#utraceR = calcUtrace(par,tstart=day7)\n",
    "#utraceR = sushibelt.run_sim(h,A, npools=4, t0 = 0.3,dt = 5)\n",
    "utrace,times = sushibelt.run_sim(h,A, npools=4,tmax=1.5,t0=tstart)\n",
    "FinalTime=time.time()-initTime\n",
    "print(FinalTime)\n"
   ]
  },
  {
   "cell_type": "code",
   "execution_count": null,
   "metadata": {},
   "outputs": [],
   "source": [
    "len(par)"
   ]
  },
  {
   "cell_type": "code",
   "execution_count": null,
   "metadata": {},
   "outputs": [],
   "source": [
    "intD=pd.read_csv('data/CA1_Day0_intensity.csv')\n",
    "subreg = ['CA1so', 'CA1sr', 'CA1slm']\n",
    "intD"
   ]
  },
  {
   "cell_type": "code",
   "execution_count": null,
   "metadata": {},
   "outputs": [],
   "source": [
    "target = np.array(intD[\"mean_intensity\"])/np.sum(intD[\"mean_intensity\"]) #norm target to Day0 sum to take into accound degradation\n",
    "tnorm = np.sum(target ** 2)\n",
    "utrace=utrace.T\n",
    "resM, resF = sushibelt.aggregate_segments(utrace[2*N:, -1], segIdx, expD['Abbreviation'], fun=np.sum)\n",
    "cost_0=np.sum((resF - target) ** 2)/tnorm\n",
    "(cost_0,tnorm,np.sum((resF - target) ** 2))"
   ]
  },
  {
   "cell_type": "code",
   "execution_count": null,
   "metadata": {},
   "outputs": [],
   "source": [
    "{\n",
    "'Soma $a_r^s$' : par[0],\n",
    "'Soma $b_r^s$' : par[1],\n",
    "'Soma $a_p^s$' : par[2],\n",
    "'Soma $b_p^s$' : par[3],\n",
    "'Soma $l_p^s$' : 10 ** par[4],\n",
    "'Soma $l_r^s$' : 10 ** par[5],\n",
    "'Soma $t_r$' : 10 ** par[6],\n",
    "'Soma $t_p^s$' : 10 ** par[7],\n",
    "'Soma $d_r^s$' : 10 ** par[8],\n",
    "'Soma $d_p^s$' : 10 ** par[9],\n",
    "'Soma $c_r^s$' : 10 ** par[10],\n",
    "'Soma $c_p^s$' : 10 ** par[11],\n",
    "'Neurophil $f_{C_{\\tau}}$' : 10 ** par[12],\n",
    "'Neurophil $l_r^n$' : 10 ** par[13],\n",
    "'Neurophil $t_p^n$' : 10 ** par[14],\n",
    "'sum_resM' : np.sum(resM),\n",
    "'sum_resF' : np.sum(resF),\n",
    "'sum_tot' : np.sum(resF)+np.sum(resM),\n",
    "'err' : np.sum((resF - target) ** 2),\n",
    "'err_norm' : np.sum((resF - target) ** 2)/tnorm,\n",
    "'cost' : cost\n",
    "\n",
    "}"
   ]
  },
  {
   "cell_type": "code",
   "execution_count": null,
   "metadata": {},
   "outputs": [],
   "source": [
    "x=np.array(range(expD.shape[0]),dtype=int)\n",
    "cname='D7W3'\n",
    "\n",
    "plt.plot(x,target,label='Target')\n",
    "#plt.plot(x,nresM,label='mobile O')\n",
    "#plt.plot(x,nresF,label='detached O')\n",
    "plt.plot(x,resM,label='mobile DC')\n",
    "plt.plot(x,resF,label='detached DC')\n",
    "plt.ylabel('Value')\n",
    "plt.xlabel('Region number')\n",
    "# show a legend on the plot\n",
    "plt.legend()\n",
    "plt.title(f\"Cost = {cost}\") \n",
    "# function to show the plot\n",
    "#plt.show()\n",
    "plt.savefig('bestFitEdita_RNA_202405101710.png')\n",
    "plt.savefig('bestFitEdita_RNA_202405101710.pdf')\n",
    "plt.savefig('bestFitEdita_RNA_202405101710.svg')\n"
   ]
  },
  {
   "cell_type": "code",
   "execution_count": null,
   "metadata": {},
   "outputs": [],
   "source": [
    "tstart=1e10\n",
    "initTime=time.time()\n",
    "utraceF,timesF = sushibelt.run_sim(h,A, npools=4,tmax=1.5,t0=tstart)\n",
    "FinalTime=time.time()-initTime\n",
    "print(FinalTime)\n",
    "utraceF=utraceF.T"
   ]
  },
  {
   "cell_type": "code",
   "execution_count": null,
   "metadata": {},
   "outputs": [],
   "source": [
    "utracePd=pd.DataFrame(utraceF)\n",
    "utracePd1=pd.DataFrame(utraceF[:N,:])\n",
    "utracePd2=pd.DataFrame(utraceF[N:2*N,:])\n",
    "utracePd3=pd.DataFrame(utraceF[2*N:3*N,:])\n",
    "utracePd4=pd.DataFrame(utraceF[3*N:4*N,:])\n",
    "(utraceF.shape,tms.shape,N,N*4,utracePd.describe(),utracePd1.describe(),utracePd2.describe(),utracePd3.describe(),utracePd4.describe())"
   ]
  },
  {
   "cell_type": "code",
   "execution_count": null,
   "metadata": {},
   "outputs": [],
   "source": [
    "(len(utraceR),utraceR[1],day7,utraceR[1]/day7)"
   ]
  },
  {
   "cell_type": "code",
   "execution_count": null,
   "metadata": {},
   "outputs": [],
   "source": [
    "tms=utraceR[1]\n",
    "utraceR = utraceR[0].T\n",
    "utracePd=pd.DataFrame(utraceR)\n",
    "utracePd1=pd.DataFrame(utraceR[:N,:])\n",
    "utracePd2=pd.DataFrame(utraceR[N:2*N,:])\n",
    "utracePd3=pd.DataFrame(utraceR[2*N:3*N,:])\n",
    "utracePd4=pd.DataFrame(utraceR[3*N:4*N,:])\n",
    "(utraceR.shape,tms.shape,N,N*4,utracePd.describe(),utracePd1.describe(),utracePd2.describe(),utracePd3.describe(),utracePd4.describe())"
   ]
  },
  {
   "cell_type": "code",
   "execution_count": null,
   "metadata": {},
   "outputs": [],
   "source": [
    "(tms,tms/day7,utraceR[:2,:],utraceR[N:N+2,:],utraceR[2*N:2*N+2,:],utraceR[3*N:3*N+2,:],utraceR[4*N:N*4+2,:])"
   ]
  },
  {
   "cell_type": "code",
   "execution_count": null,
   "metadata": {},
   "outputs": [],
   "source": [
    "((0,[(i,A[0,i]) for i in range(A.shape[1]) if A[0,i] != 0]),\n",
    " (N,[(i,A[N,i]) for i in range(A.shape[1]) if A[N,i] != 0]),\n",
    " (2*N,[(i,A[2*N,i]) for i in range(A.shape[1]) if A[2*N,i] != 0]),\n",
    " (3*N,[(i,A[3*N,i]) for i in range(A.shape[1]) if A[3*N,i] != 0]),\n",
    "(4*N,[(i,A[4*N,i]) for i in range(A.shape[1]) if A[4*N,i] != 0]))"
   ]
  },
  {
   "cell_type": "code",
   "execution_count": null,
   "metadata": {},
   "outputs": [],
   "source": [
    "(4*N,[(i,A[i,4*N]) for i in range(A.shape[0]) if A[i,4*N] != 0])"
   ]
  },
  {
   "cell_type": "code",
   "execution_count": null,
   "metadata": {},
   "outputs": [],
   "source": [
    "(utraceR.shape,N,N*4)\n",
    "x=np.array(range(N),dtype=int)\n",
    "\n",
    "plt.plot(x,utraceR[:N,-1],label='1')\n",
    "plt.plot(x,utraceR[N:2*N,-1],label='2')\n",
    "plt.plot(x,utraceR[2*N:3*N,-1],label='3')\n",
    "plt.plot(x,utraceR[3*N:4*N,-1],label='4')\n",
    "plt.show()"
   ]
  },
  {
   "cell_type": "code",
   "execution_count": null,
   "metadata": {},
   "outputs": [],
   "source": [
    "resM, resF = sushibelt.aggregate_segments(utraceR[2*N:4*N, -1], segIdx, expD['Abbreviation'], fun=np.sum)\n",
    "x=np.array(range(expD.shape[0]),dtype=int)\n",
    "\n",
    "#plt.plot(x,target,label=cname)\n",
    "#plt.plot(x,nresM,label='mobile O')\n",
    "#plt.plot(x,nresF,label='detached O')\n",
    "plt.plot(x,resM,label='mobile Protein')\n",
    "plt.plot(x,resF,label='detached Protein')\n",
    "plt.ylabel('Value')\n",
    "plt.xlabel('Region number')\n",
    "# show a legend on the plot\n",
    "plt.legend()\n",
    "#plt.title(f\"Cost = {cost}\") \n",
    "# function to show the plot\n",
    "plt.show()\n"
   ]
  },
  {
   "cell_type": "code",
   "execution_count": null,
   "metadata": {},
   "outputs": [],
   "source": [
    "resM, resF = sushibelt.aggregate_segments(utraceR[:2*N, -1], segIdx, expD['Abbreviation'], fun=np.sum)\n",
    "x=np.array(range(expD.shape[0]),dtype=int)\n",
    "\n",
    "#plt.plot(x,target,label=cname)\n",
    "#plt.plot(x,nresM,label='mobile O')\n",
    "#plt.plot(x,nresF,label='detached O')\n",
    "plt.plot(x,resM,label='mobile RNA')\n",
    "plt.plot(x,resF,label='detached RNA')\n",
    "plt.ylabel('Value')\n",
    "plt.xlabel('Region number')\n",
    "# show a legend on the plot\n",
    "plt.legend()\n",
    "#plt.title(f\"Cost = {cost}\") \n",
    "# function to show the plot\n",
    "plt.show()\n"
   ]
  },
  {
   "cell_type": "code",
   "execution_count": null,
   "metadata": {},
   "outputs": [],
   "source": [
    "t.shape"
   ]
  },
  {
   "cell_type": "code",
   "execution_count": null,
   "metadata": {},
   "outputs": [],
   "source": [
    "u.shape"
   ]
  },
  {
   "cell_type": "code",
   "execution_count": null,
   "metadata": {},
   "outputs": [],
   "source": [
    "nframes=50\n",
    "t = np.logspace(-0.5,8.5,nframes)\n",
    "t.shape"
   ]
  },
  {
   "cell_type": "code",
   "execution_count": null,
   "metadata": {},
   "outputs": [],
   "source": [
    "u0 = np.zeros(4*n)\n",
    "u0[0] = 1.0  # compartment 0 is the soma\n",
    "initTime=time.time()\n",
    "utrace = [u0]\n",
    "w,V = scipy.linalg.eig(A)\n",
    "Vinv = np.linalg.inv(V)\n",
    "t = np.logspace(-0.5,8.5,nframes)\n",
    "for t_ in t: utrace.append(solve_u(w,V,Vinv,t_))\n",
    "\n",
    "FinalTime=time.time()-initTime\n",
    "print(FinalTime)\n"
   ]
  },
  {
   "cell_type": "markdown",
   "metadata": {},
   "source": [
    "cvals=utrace[:,-1]\n",
    "cvals.shape"
   ]
  },
  {
   "cell_type": "code",
   "execution_count": null,
   "metadata": {},
   "outputs": [],
   "source": [
    "(1484/len(seg_list),len(seg_list))"
   ]
  },
  {
   "cell_type": "code",
   "execution_count": null,
   "metadata": {},
   "outputs": [],
   "source": [
    "t.shape"
   ]
  },
  {
   "cell_type": "code",
   "execution_count": null,
   "metadata": {},
   "outputs": [],
   "source": [
    "[d/4 for d in A.shape]"
   ]
  },
  {
   "cell_type": "code",
   "execution_count": null,
   "metadata": {},
   "outputs": [],
   "source": [
    "(1484*2,A.shape)"
   ]
  },
  {
   "cell_type": "code",
   "execution_count": null,
   "metadata": {},
   "outputs": [],
   "source": [
    "max(dts)"
   ]
  },
  {
   "cell_type": "code",
   "execution_count": null,
   "metadata": {},
   "outputs": [],
   "source": [
    "from PyNeuronToolbox.morphology import shapeplot, allsec_preorder, root_indices, shapeplot_animate\n",
    "roots = root_indices(allsec_preorder(h))\n",
    "roots"
   ]
  },
  {
   "cell_type": "code",
   "execution_count": null,
   "metadata": {},
   "outputs": [],
   "source": [
    "import pandas as pd\n",
    "fitdt = pd.read_csv('data/Distr.csv')"
   ]
  },
  {
   "cell_type": "code",
   "execution_count": null,
   "metadata": {},
   "outputs": [],
   "source": [
    "idx = []\n",
    "for i in range(n):\n",
    "    if abs(dts[i]-100)<1 :\n",
    "        idx.append(1)\n",
    "    else:\n",
    "        idx.append(0)\n",
    "sum(idx)"
   ]
  },
  {
   "cell_type": "code",
   "execution_count": null,
   "metadata": {},
   "outputs": [],
   "source": [
    "[ (i,j) for i in range(fitdt.shape[0]) for j in range(n) if abs(dts[j]-fitdt['X'][i])<1 ]"
   ]
  },
  {
   "cell_type": "code",
   "execution_count": null,
   "metadata": {},
   "outputs": [],
   "source": [
    "type(fitdt)"
   ]
  },
  {
   "cell_type": "code",
   "execution_count": null,
   "metadata": {},
   "outputs": [],
   "source": [
    "seg_idx = [(i, j) for i in range(fitdt.shape[0]) for j in range(n) if abs(dts[j] - fitdt['X'][i]) < 1]\n",
    "len(seg_idx)"
   ]
  },
  {
   "cell_type": "code",
   "execution_count": null,
   "metadata": {},
   "outputs": [],
   "source": [
    "inum=3\n",
    "ix=[ i for i in range(3*inum)]\n",
    "(ix[:inum],ix[inum:2*inum],ix[2*inum:])"
   ]
  },
  {
   "cell_type": "code",
   "execution_count": null,
   "metadata": {},
   "outputs": [],
   "source": [
    "[ max(u[:,r]) for r in range(u.shape[0])]"
   ]
  },
  {
   "cell_type": "code",
   "execution_count": null,
   "metadata": {},
   "outputs": [],
   "source": [
    "range(u.shape[1])"
   ]
  },
  {
   "cell_type": "code",
   "execution_count": null,
   "metadata": {},
   "outputs": [],
   "source": [
    "    clim=[0,0.00022]\n",
    "    uplt = u[:,n:2*n]\n",
    "    uplt = uplt.T\n",
    "    fig = plt.figure(figsize=(8,8))\n",
    "    shapeax = plt.subplot(111, projection='3d')\n",
    "    lines = shapeplot(h,shapeax,cvals=uplt[:,1],clim=clim,\\\n",
    "                      cmap=plt.cm.cool,order='pre',lw=2)\n",
    "    shapeax.view_init(elev=80,azim=-90)\n",
    "    plt.title('free RNA 1',fontweight='bold',fontsize=14)\n",
    "\n",
    "    # colorbar\n",
    "    sm = cm.ScalarMappable(cmap=plt.cm.cool, norm=plt.Normalize(clim[0],clim[1])) \n",
    "    #sm = plt.cm.ScalarMappable(cmap=plt.cm.cool, norm=plt.Normalize(clim[0],clim[1])) \n",
    "    #sm._A = []\n",
    "    #plt.colorbar(sm, shrink=0.5)\n",
    "    #plt.colorbar(sm,cax=shapeax)\n",
    "    #plt.colorbar()\n",
    "    plt.tight_layout()\n",
    "    plt.axis('off')\n"
   ]
  },
  {
   "cell_type": "code",
   "execution_count": null,
   "metadata": {},
   "outputs": [],
   "source": [
    "    clim=[0,0.00022]\n",
    "    uplt = u[:,:n]\n",
    "    uplt = uplt.T\n",
    "    fig = plt.figure(figsize=(8,8))\n",
    "    shapeax = plt.subplot(111, projection='3d')\n",
    "    lines = shapeplot(h,shapeax,cvals=uplt[:,-1],clim=clim,\\\n",
    "                      cmap=plt.cm.cool,order='pre',lw=2)\n",
    "    shapeax.view_init(elev=80,azim=-90)\n",
    "    plt.title('bounded RNA -1',fontweight='bold',fontsize=14)\n",
    "\n",
    "    # colorbar\n",
    "    sm = cm.ScalarMappable(cmap=plt.cm.cool, norm=plt.Normalize(clim[0],clim[1])) \n",
    "    #sm = plt.cm.ScalarMappable(cmap=plt.cm.cool, norm=plt.Normalize(clim[0],clim[1])) \n",
    "    #sm._A = []\n",
    "    #plt.colorbar(sm, shrink=0.5)\n",
    "    #plt.colorbar(sm,cax=shapeax)\n",
    "    #plt.colorbar()\n",
    "    plt.tight_layout()\n",
    "    plt.axis('off')\n"
   ]
  },
  {
   "cell_type": "code",
   "execution_count": null,
   "metadata": {},
   "outputs": [],
   "source": [
    "    clim=[0,0.00022]\n",
    "    uplt = u[:,2*n:3*n]\n",
    "    uplt = uplt.T\n",
    "    fig = plt.figure(figsize=(8,8))\n",
    "    shapeax = plt.subplot(111, projection='3d')\n",
    "    lines = shapeplot(h,shapeax,cvals=uplt[:,-1],clim=clim,\\\n",
    "                      cmap=plt.cm.cool,order='pre',lw=2)\n",
    "    shapeax.view_init(elev=80,azim=-90)\n",
    "    plt.title('bound protein -1',fontweight='bold',fontsize=14)\n",
    "\n",
    "    # colorbar\n",
    "    sm = cm.ScalarMappable(cmap=plt.cm.cool, norm=plt.Normalize(clim[0],clim[1])) \n",
    "    #sm = plt.cm.ScalarMappable(cmap=plt.cm.cool, norm=plt.Normalize(clim[0],clim[1])) \n",
    "    #sm._A = []\n",
    "    #plt.colorbar(sm, shrink=0.5)\n",
    "    #plt.colorbar(sm,cax=shapeax)\n",
    "    #plt.colorbar()\n",
    "    plt.tight_layout()\n",
    "    plt.axis('off')\n"
   ]
  },
  {
   "cell_type": "code",
   "execution_count": null,
   "metadata": {},
   "outputs": [],
   "source": [
    "    clim=[0,0.00022]\n",
    "    uplt = u[:,3*n:]\n",
    "    uplt = uplt.T\n",
    "    fig = plt.figure(figsize=(8,8))\n",
    "    shapeax = plt.subplot(111, projection='3d')\n",
    "    lines = shapeplot(h,shapeax,cvals=uplt[:,-1],clim=clim,\\\n",
    "                      cmap=plt.cm.cool,order='pre',lw=2)\n",
    "    shapeax.view_init(elev=80,azim=-90)\n",
    "    plt.title('free protein -1',fontweight='bold',fontsize=14)\n",
    "\n",
    "    # colorbar\n",
    "    sm = cm.ScalarMappable(cmap=plt.cm.cool, norm=plt.Normalize(clim[0],clim[1])) \n",
    "    #sm = plt.cm.ScalarMappable(cmap=plt.cm.cool, norm=plt.Normalize(clim[0],clim[1])) \n",
    "    #sm._A = []\n",
    "    #plt.colorbar(sm, shrink=0.5)\n",
    "    #plt.colorbar(sm,cax=shapeax)\n",
    "    #plt.colorbar()\n",
    "    plt.tight_layout()\n",
    "    plt.axis('off')\n"
   ]
  },
  {
   "cell_type": "code",
   "execution_count": null,
   "metadata": {},
   "outputs": [],
   "source": []
  },
  {
   "cell_type": "code",
   "execution_count": null,
   "metadata": {},
   "outputs": [],
   "source": [
    "(ss.volume(),ss.x)"
   ]
  },
  {
   "cell_type": "code",
   "execution_count": null,
   "metadata": {},
   "outputs": [],
   "source": [
    "seg_list[419].volume()"
   ]
  },
  {
   "cell_type": "code",
   "execution_count": null,
   "metadata": {},
   "outputs": [],
   "source": [
    "seg_idx = [(i, j,seg_list[j].volume()) for i in range(fitdt.shape[0]) for j in range(n) if abs(dts[j] - fitdt['X'][i]) < 1]\n",
    "seg_idx = np.array(seg_idx)\n",
    "seg_idx"
   ]
  },
  {
   "cell_type": "code",
   "execution_count": null,
   "metadata": {},
   "outputs": [],
   "source": [
    "u.shape"
   ]
  },
  {
   "cell_type": "code",
   "execution_count": null,
   "metadata": {},
   "outputs": [],
   "source": [
    "resp = np.zeros((fitdt.shape[0],u.shape[0]))\n",
    "resp.shape"
   ]
  },
  {
   "cell_type": "code",
   "execution_count": null,
   "metadata": {},
   "outputs": [],
   "source": [
    "resp = np.zeros((fitdt.shape[0],u.shape[0]))\n",
    "for i in range(seg_idx.shape[0]):\n",
    "    ii = int(seg_idx[i,0])\n",
    "    ij = int(seg_idx[i,1])\n",
    "    resp[ii] += u[:,ij].T\n",
    "resp"
   ]
  },
  {
   "cell_type": "code",
   "execution_count": null,
   "metadata": {},
   "outputs": [],
   "source": [
    "dist = (resp-fitdt['V']) ** 2\n",
    "dist"
   ]
  },
  {
   "cell_type": "code",
   "execution_count": null,
   "metadata": {},
   "outputs": [],
   "source": [
    "fitdt['V']"
   ]
  },
  {
   "cell_type": "code",
   "execution_count": null,
   "metadata": {},
   "outputs": [],
   "source": [
    "[ sum((resp[:,i] - fitdt['V']) ** 2) for i in range(resp.shape[1])]"
   ]
  },
  {
   "cell_type": "code",
   "execution_count": null,
   "metadata": {},
   "outputs": [],
   "source": [
    "import os\n",
    "?os.path.isfile"
   ]
  },
  {
   "cell_type": "code",
   "execution_count": null,
   "metadata": {},
   "outputs": [],
   "source": []
  }
 ],
 "metadata": {
  "kernelspec": {
   "display_name": "Python 3 (ipykernel)",
   "language": "python",
   "name": "python3"
  },
  "language_info": {
   "codemirror_mode": {
    "name": "ipython",
    "version": 3
   },
   "file_extension": ".py",
   "mimetype": "text/x-python",
   "name": "python",
   "nbconvert_exporter": "python",
   "pygments_lexer": "ipython3",
   "version": "3.10.12"
  }
 },
 "nbformat": 4,
 "nbformat_minor": 4
}
