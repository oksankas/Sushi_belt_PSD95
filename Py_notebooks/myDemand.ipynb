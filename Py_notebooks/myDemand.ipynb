{
 "cells": [
  {
   "cell_type": "code",
   "execution_count": null,
   "metadata": {
    "ExecuteTime": {
     "end_time": "2024-02-01T04:36:14.473505Z",
     "start_time": "2024-02-01T04:36:13.685666Z"
    },
    "collapsed": false,
    "jupyter": {
     "outputs_hidden": false
    }
   },
   "outputs": [],
   "source": [
    "%%bash\n",
    "nrnivmodl"
   ]
  },
  {
   "cell_type": "code",
   "execution_count": null,
   "metadata": {
    "ExecuteTime": {
     "end_time": "2024-02-01T04:36:17.107428Z",
     "start_time": "2024-02-01T04:36:17.087940Z"
    },
    "collapsed": false,
    "jupyter": {
     "outputs_hidden": false
    }
   },
   "outputs": [],
   "source": [
    "# Download NEURON: http://www.neuron.yale.edu/neuron/download\n",
    "# Download PyNeuronToolbox: https://github.com/ahwillia/PyNeuron-Toolbox\n",
    "\n",
    "from neuron import h\n",
    "import numpy as np\n",
    "import pylab as plt\n",
    "import scipy.linalg\n",
    "from PyNeuronToolbox.record import ez_record,ez_convert\n",
    "from PyNeuronToolbox.morphology import shapeplot,shapeplot_animate\n",
    "from mpl_toolkits.mplot3d import Axes3D\n",
    "from JSAnimation import IPython_display\n",
    "from matplotlib import animation\n",
    "from matplotlib.pyplot import cm\n",
    "%matplotlib inline\n",
    "np.random.seed(123456789)\n",
    "\n",
    "# Load morphology and other stuff\n",
    "# --> SegLists: soma[2], dend[74], dend_5[37], apic[42], axon[1]\n",
    "# --> Files from Migliore & Migliore (2012)\n",
    "# --> CA1 pyramidal neuron\n",
    "h.load_file('stdrun.hoc')\n",
    "h.xopen('ri06.hoc')\n",
    "h.xopen('fixnseg.hoc')\n",
    "h.xopen('5a_nogui.hoc')\n",
    "h.tstop = 700.0"
   ]
  },
  {
   "cell_type": "code",
   "execution_count": null,
   "metadata": {
    "collapsed": false,
    "jupyter": {
     "outputs_hidden": false
    }
   },
   "outputs": [],
   "source": [
    "from PyNeuronToolbox.morphology import dist_between,allsec_preorder\n",
    "\n",
    "def dist_to_soma(segment):\n",
    "    return dist_between(h,h.soma[0](0.5),segment)\n",
    "\n",
    "#seglist in pre-order\n",
    "sec_list = allsec_preorder(h)\n",
    "seg_list = []\n",
    "for sec in sec_list:\n",
    "    locs = np.linspace(0,1,sec.nseg+2)[1:-1]\n",
    "    for loc in locs:\n",
    "        seg_list.append(sec(loc))\n",
    "n = len(seg_list)"
   ]
  },
  {
   "cell_type": "code",
   "execution_count": null,
   "metadata": {},
   "outputs": [],
   "source": [
    "for i in range(len(sec_list)):\n",
    "    sec = sec_list[i]\n",
    "    print(f\"{i}: {sec.name()}, nseg={sec.nseg}, L={sec.L}, or={sec.orientation()}, hname={sec.hname()}\")"
   ]
  },
  {
   "cell_type": "code",
   "execution_count": null,
   "metadata": {},
   "outputs": [],
   "source": [
    "(dist_to_soma(sec(0)),dist_to_soma(sec(1)),sec.L,np.linspace(0,1,sec.nseg+2),np.linspace(0,1,sec.nseg+2)[1:-1])"
   ]
  },
  {
   "cell_type": "code",
   "execution_count": null,
   "metadata": {},
   "outputs": [],
   "source": [
    "dts = [dist_to_soma(s) for s in seg_list]\n",
    "dts[:11]"
   ]
  },
  {
   "cell_type": "code",
   "execution_count": null,
   "metadata": {},
   "outputs": [],
   "source": [
    "import re\n",
    "import pandas as pd\n",
    "p = re.compile(\"^([^\\\\[]+)\\\\[.+\")\n",
    "tps = [p.sub(\"\\\\1\",seg.sec.name()) for seg in seg_list]\n",
    "pd.Series(tps).drop_duplicates().tolist()"
   ]
  },
  {
   "cell_type": "code",
   "execution_count": null,
   "metadata": {},
   "outputs": [],
   "source": [
    "seg = seg_list[0]\n",
    "(seg.node_index(),seg.x,seg.sec)"
   ]
  },
  {
   "cell_type": "code",
   "execution_count": null,
   "metadata": {},
   "outputs": [],
   "source": [
    "(n,min(dts),max(dts))"
   ]
  },
  {
   "cell_type": "code",
   "execution_count": null,
   "metadata": {
    "collapsed": false,
    "jupyter": {
     "outputs_hidden": false
    }
   },
   "outputs": [],
   "source": [
    "def sushi_system(a,b,c,d):\n",
    "    \"\"\"\n",
    "    Returns a matrix A, such that dx/dt = A*x\n",
    "    \n",
    "    N = # of compartments\n",
    "    A is (2N x 2N) matrix\n",
    "    x is (2N x 1) vector.\n",
    "      The first N elements correspond to concentrations of u (molecules in transit)\n",
    "      The second half correspond to concentrations of u-star (active molecules)\n",
    "    The trafficking rate constants along the microtubules are given by the vectors \"a\" and \"b\"\n",
    "    The rate constants for u turning into u* is given by the vector \"c\"\n",
    "    The rate constants for the degradation of u* is given by the vector \"d\"\n",
    "    \"\"\"\n",
    "    # number of compartments\n",
    "    N = len(d)\n",
    "    \n",
    "    ## State-space equations\n",
    "    #  dx/dt = Ax + Bu\n",
    "    A = np.zeros((2*N,2*N))\n",
    "\n",
    "    # Trafficking along belt\n",
    "    # Iterative traversal of dendritic tree in pre-order\n",
    "    i = 0\n",
    "    section = None\n",
    "    parentStack = [(None,h.soma[0])]\n",
    "    while len(parentStack)>0:\n",
    "        # Get next section to traverse\n",
    "        #  --> p is parent index, section is h.Section object\n",
    "        (p,section) = parentStack.pop()\n",
    "        \n",
    "        # Trafficking to/from parent\n",
    "        if p is not None:\n",
    "            # Out of parent, into child\n",
    "            ai = a.pop()\n",
    "            A[p,p] += -ai\n",
    "            A[i,p] += ai\n",
    "            # Into parent, out of child\n",
    "            bi = b.pop()\n",
    "            A[p,i] += bi\n",
    "            A[i,i] += -bi\n",
    "        \n",
    "        # visit all segments in compartment\n",
    "        for (j,seg) in enumerate(section):\n",
    "            # Deal with out/into rates within compartment, just tridiag matrix\n",
    "            if j>0:\n",
    "                # Out of parent, into child\n",
    "                ai = a.pop()\n",
    "                A[i-1,i-1] += -ai\n",
    "                A[i,i-1] += ai\n",
    "                # Into parent, out of child\n",
    "                bi = b.pop()\n",
    "                A[i-1,i] += bi\n",
    "                A[i,i] += -bi\n",
    "            # move onto next compartment\n",
    "            i += 1\n",
    "        \n",
    "        # now visit children in pre-order\n",
    "        child_list = list(h.SectionRef(sec=section).child)\n",
    "        if child_list is not None:\n",
    "            child_list.reverse()\n",
    "        for c_sec in child_list:\n",
    "            parentStack.append([i-1,c_sec]) # append parent index and child\n",
    "    \n",
    "    # Trafficking off the belt\n",
    "    for i in range(N):\n",
    "        A[i,i] += -c[i]\n",
    "        A[i+N,i] += c[i]\n",
    "\n",
    "    # Degradation after being taken off the belt\n",
    "    for i in range(N):\n",
    "        A[i+N,i+N] = -d[i]\n",
    "    \n",
    "    return A"
   ]
  },
  {
   "cell_type": "code",
   "execution_count": null,
   "metadata": {
    "collapsed": false,
    "jupyter": {
     "outputs_hidden": false
    }
   },
   "outputs": [],
   "source": [
    "def trafficking_solution(utarg):\n",
    "    \"\"\" Solve the problem by tuning trafficking rates, like Figs 1 and 2. \"\"\"\n",
    "    x = []\n",
    "    \n",
    "    # Iterative traversal of dendritic tree in pre-order\n",
    "    i = 0\n",
    "    section = None\n",
    "    parentStack = [(None,h.soma[0])]\n",
    "    while len(parentStack)>0:\n",
    "        # Get next section to traverse\n",
    "        #  --> p is parent index, section is h.Section object\n",
    "        (p,section) = parentStack.pop()\n",
    "        \n",
    "        # Trafficking to/from parent\n",
    "        if p is not None:\n",
    "            mp = utarg[p] # concentration in parent\n",
    "            mc = utarg[i] # concentration in child\n",
    "            x.insert(0,mp/mc)\n",
    "        \n",
    "        # visit all segments in compartment\n",
    "        for (j,seg) in enumerate(section):\n",
    "            # Deal with out/into rates within compartment, just tridiag matrix\n",
    "            if j>0:\n",
    "                mp = utarg[i-1]\n",
    "                mc = utarg[i]\n",
    "                x.insert(0,mp/mc)\n",
    "                \n",
    "            # move onto next compartment\n",
    "            i += 1\n",
    "        \n",
    "        # now visit children in pre-order\n",
    "        child_list = list(h.SectionRef(sec=section).child)\n",
    "        if child_list is not None:\n",
    "            child_list.reverse()\n",
    "        for c_sec in child_list:\n",
    "            parentStack.append([i-1,c_sec]) # append parent index and child\n",
    "    \n",
    "    # return calculated guesses (flip, up/down since get_deriv pops from start)\n",
    "    return np.array(x)\n",
    "\n",
    "def get_sys_matrix(utarg,F=0.5,Ctau=1e-3,dv=1e-7):\n",
    "    # F is a mixing factor between 0 and 1\n",
    "    K = np.sum(utarg)/n\n",
    "    x = trafficking_solution(F*utarg + (1-F)*K)\n",
    "    a = (1/(1+x))\n",
    "    a = list(a)\n",
    "    b = list((1/(1+x**-1)))\n",
    "    d = list(np.ones(n)*dv)\n",
    "    c = list(Ctau*utarg/(F*utarg + (1-F)*K))\n",
    "    A = sushi_system(a,b,c,d)\n",
    "    return A"
   ]
  },
  {
   "cell_type": "code",
   "execution_count": null,
   "metadata": {
    "collapsed": false,
    "jupyter": {
     "outputs_hidden": false
    }
   },
   "outputs": [],
   "source": [
    "# matrix exponential used to solve linear system\n",
    "from scipy.linalg import expm\n",
    "\n",
    "# initial condition, u starts only in soma and is trafficked out to dendrites\n",
    "u0 = np.zeros(2*n)\n",
    "u0[0] = 1.0  # compartment 0 is the soma"
   ]
  },
  {
   "cell_type": "code",
   "execution_count": null,
   "metadata": {},
   "outputs": [],
   "source": [
    "import sushibelt\n",
    "import time"
   ]
  },
  {
   "cell_type": "code",
   "execution_count": null,
   "metadata": {},
   "outputs": [],
   "source": [
    "a, b, c, _ = sushibelt.set_uniform_rates(h, 10)\n",
    "(a,b,c)"
   ]
  },
  {
   "cell_type": "code",
   "execution_count": null,
   "metadata": {},
   "outputs": [],
   "source": [
    "utarg = np.ones(len(seg_list))\n",
    "utarg[260:393] *= 10\n",
    "utarg[393:] *= 0.1 # no trafficking to basal dend\n",
    "utarg /= np.sum(utarg)\n",
    "F=0.5\n",
    "Ctau=1e-3\n",
    "dv=1e-7\n",
    "K = np.sum(utarg)/n\n",
    "x = trafficking_solution(F*utarg + (1-F)*K)\n",
    "a = (1/(1+x))\n",
    "a = list(a)\n",
    "b = list((1/(1+x**-1)))\n",
    "d = list(np.ones(n)*dv)\n",
    "c = list(Ctau*utarg/(F*utarg + (1-F)*K))\n",
    "A = sushi_system(a,b,c,d)\n",
    "(x.shape, A.shape[0]/2)"
   ]
  },
  {
   "cell_type": "code",
   "execution_count": null,
   "metadata": {},
   "outputs": [],
   "source": [
    "N = len(d)\n",
    "An = np.zeros((2*N,2*N))\n",
    "(N, len(a),len(b),len(c),An.shape,x.shape, (1/(1+x)).shape)"
   ]
  },
  {
   "cell_type": "code",
   "execution_count": null,
   "metadata": {},
   "outputs": [],
   "source": [
    "a = (1/(1+x))\n",
    "a = list(a)\n",
    "aZ = []\n",
    "(len(a),a.pop(),len(a),a.pop())"
   ]
  },
  {
   "cell_type": "code",
   "execution_count": null,
   "metadata": {
    "collapsed": false,
    "jupyter": {
     "outputs_hidden": false
    }
   },
   "outputs": [],
   "source": [
    "def solve_u(w,V,Vinv,t):\n",
    "    D = np.diag(np.exp(w*t))          # diagonal matrix exponential\n",
    "    PHI = np.real(V.dot(D.dot(Vinv))) # state transition matrix\n",
    "    return PHI.dot(u0)                # calculate u(t)\n",
    "\n",
    "def run_sim(A,nframes=10):\n",
    "    # Run a simulation (log time)\n",
    "    # --> this is a linear system; thus, matrix exponential provides exact solution\n",
    "    utrace = [u0]\n",
    "    t = np.logspace(-0.5,8.5,nframes)\n",
    "    w,V = scipy.linalg.eig(A)\n",
    "    Vinv = np.linalg.inv(V)\n",
    "    t = np.logspace(-0.5,8.5,nframes)\n",
    "    for t_ in t: utrace.append(solve_u(w,V,Vinv,t_))\n",
    "    return np.array(utrace).T\n",
    "\n",
    "def animate_sim(climits=[0,0.0035]):\n",
    "    u = utrace[n:,:]\n",
    "    fig = plt.figure(figsize=(8,8))\n",
    "    shapeax = plt.subplot(111, projection='3d')\n",
    "    lines = shapeplot(h,shapeax,order='pre',lw=2)\n",
    "    shapeax.view_init(elev=80,azim=-90)\n",
    "    plt.title('distribution of active/detached cargo',fontweight='bold',fontsize=14)\n",
    "    plt.axis('off')\n",
    "\n",
    "    # Hack to get a colorbar\n",
    "    # http://stackoverflow.com/questions/8342549/matplotlib-add-colorbar-to-a-sequence-of-line-plots\n",
    "    sm = plt.cm.ScalarMappable(cmap=plt.cm.cool, norm=plt.Normalize(climits[0],climits[1])) \n",
    "    #sm._A = []\n",
    "    #plt.colorbar(sm, shrink=0.5)\n",
    "    #plt.colorbar(sm)\n",
    "    plt.tight_layout()\n",
    "\n",
    "    anim_func = shapeplot_animate(u.T,lines,u.shape[1],clim=climits,cmap=cm.cool)\n",
    "    return animation.FuncAnimation(fig, anim_func, frames=u.shape[1], interval=5e2, blit=True)\n",
    "\n",
    "def snap_ss(name,clim=[0,0.0035],cmap=plt.cm.cool):\n",
    "    u = utrace[n:,:]\n",
    "    fig = plt.figure(figsize=(8,8))\n",
    "    shapeax = plt.subplot(111, projection='3d')\n",
    "    lines = shapeplot(h,shapeax,cvals=u[:,-1],clim=clim,\\\n",
    "                      cmap=cmap,order='pre',lw=2)\n",
    "    shapeax.view_init(elev=80,azim=-90)\n",
    "    plt.title('steady-state',fontweight='bold',fontsize=14)\n",
    "\n",
    "    # colorbar\n",
    "    sm = cm.ScalarMappable(cmap=cmap, norm=plt.Normalize(clim[0],clim[1])) \n",
    "    #sm = plt.cm.ScalarMappable(cmap=plt.cm.cool, norm=plt.Normalize(clim[0],clim[1])) \n",
    "    #sm._A = []\n",
    "    #plt.colorbar(sm, shrink=0.5)\n",
    "    #plt.colorbar(sm,cax=shapeax)\n",
    "    #plt.colorbar()\n",
    "    plt.tight_layout()\n",
    "    plt.axis('off')\n",
    "    plt.savefig(name+'.svg')"
   ]
  },
  {
   "cell_type": "markdown",
   "metadata": {},
   "source": [
    "# DLG4"
   ]
  },
  {
   "cell_type": "code",
   "execution_count": null,
   "metadata": {},
   "outputs": [],
   "source": [
    "thalfDLG4=\n",
    "lp=math.log(2)/("
   ]
  },
  {
   "cell_type": "code",
   "execution_count": null,
   "metadata": {},
   "outputs": [],
   "source": [
    "[int(i / 37) for i in range(n)]"
   ]
  },
  {
   "cell_type": "code",
   "execution_count": null,
   "metadata": {},
   "outputs": [],
   "source": [
    "utrace = [u0]\n",
    "clr = [int(i / 37) for i in range(n)]\n",
    "utrace.append(np.array(clr+clr))\n",
    "utrace = np.array(utrace).T\n",
    "utrace.shape"
   ]
  },
  {
   "cell_type": "code",
   "execution_count": null,
   "metadata": {},
   "outputs": [],
   "source": [
    "fig, ax = plt.subplots()\n",
    "ax.scatter(dts,clr)\n",
    "ax.set_xlabel('Distance to soma')\n",
    "ax.set_ylabel('Segment group')"
   ]
  },
  {
   "cell_type": "markdown",
   "metadata": {},
   "source": [
    "Read Experimental Data\n",
    "----"
   ]
  },
  {
   "cell_type": "code",
   "execution_count": null,
   "metadata": {},
   "outputs": [],
   "source": [
    "tdf=pd.read_csv('seg_mapping.csv')\n",
    "abbCA1=tdf['abb']\n",
    "abbT={}\n",
    "segIdx={}\n",
    "for i in range(n):\n",
    "    abbT[abbCA1[i]] = 1+ abbT.get(abbCA1[i],0)\n",
    "    ll=segIdx.get(abbCA1[i],[])\n",
    "    ll.append(i)\n",
    "    segIdx[abbCA1[i]] = ll\n",
    "\n",
    "(abbCA1,abbT,segIdx.keys(),{k:len(segIdx.get(k)) for k in segIdx.keys()})"
   ]
  },
  {
   "cell_type": "code",
   "execution_count": null,
   "metadata": {},
   "outputs": [],
   "source": [
    "expD=pd.read_csv('data/CA1_gradient.csv')\n",
    "expD"
   ]
  },
  {
   "cell_type": "code",
   "execution_count": null,
   "metadata": {},
   "outputs": [],
   "source": [
    "sm = plt.cm.ScalarMappable(cmap=plt.cm.YlOrBr_r, norm=plt.Normalize(0,20)) \n",
    "#plt.colorbar(sm)\n",
    "fig, ax = plt.subplots(figsize=(1, 4))\n",
    "# vmin, vmax =  np.nanmin(A), np.nanmax(A)\n",
    "cbar = fig.colorbar(sm, ax)\n",
    "plt.tight_layout()\n",
    "plt.show()"
   ]
  },
  {
   "cell_type": "code",
   "execution_count": null,
   "metadata": {},
   "outputs": [],
   "source": [
    "sm = plt.cm.ScalarMappable(cmap=plt.cm.YlOrBr, norm=plt.Normalize(0,20)) \n",
    "#plt.colorbar(sm)\n",
    "fig, ax = plt.subplots(figsize=(1, 4))\n",
    "# vmin, vmax =  np.nanmin(A), np.nanmax(A)\n",
    "cbar = fig.colorbar(sm, ax)\n",
    "plt.tight_layout()\n",
    "plt.show()"
   ]
  },
  {
   "cell_type": "markdown",
   "metadata": {},
   "source": [
    "First Case: timescales separated ($c_i$ small), little interference/competition\n",
    "-----\n",
    "Day 0 3 weeks\n",
    "----"
   ]
  },
  {
   "cell_type": "code",
   "execution_count": null,
   "metadata": {},
   "outputs": [],
   "source": [
    "cname='D0W3'\n",
    "utarg = np.ones(len(seg_list))\n",
    "for i in range(expD.shape[0]):\n",
    "    abb = expD['Abbreviation'][i]\n",
    "    sidx= segIdx[abb]\n",
    "    utarg[sidx] *= expD[f\"{cname}_MEAN\"][i]\n",
    "u1 = np.concatenate((utarg,utarg))\n",
    "utrace = [u1,u1]\n",
    "utrace = np.array(utrace).T\n",
    "snap_ss(f\"case1_{cname}_target\",clim=[0,max(utarg)],cmap=plt.cm.YlOrBr)\n",
    "max(utarg)"
   ]
  },
  {
   "cell_type": "code",
   "execution_count": null,
   "metadata": {
    "collapsed": false,
    "jupyter": {
     "outputs_hidden": false
    }
   },
   "outputs": [],
   "source": [
    "# Run simulation\n",
    "utarg /= np.sum(utarg)\n",
    "initTime=time.time()\n",
    "A = get_sys_matrix(utarg,F=0,Ctau=1e-5,dv=0)\n",
    "utrace = run_sim(A)\n",
    "FinalTime=time.time()-initTime\n",
    "\n",
    "# snapshot of steady-state\n",
    "snap_ss(f\"case1_{cname}\")\n",
    "\n",
    "# animation\n",
    "#animate_sim()\n",
    "print(FinalTime)"
   ]
  },
  {
   "cell_type": "markdown",
   "metadata": {},
   "source": [
    "Day 7 3 weeks\n",
    "----"
   ]
  },
  {
   "cell_type": "code",
   "execution_count": null,
   "metadata": {},
   "outputs": [],
   "source": [
    "cname='D7W3'\n",
    "utarg = np.ones(len(seg_list))\n",
    "for i in range(expD.shape[0]):\n",
    "    abb = expD['Abbreviation'][i]\n",
    "    sidx= segIdx[abb]\n",
    "    utarg[sidx] *= expD[f\"{cname}_MEAN\"][i]\n",
    "u1 = np.concatenate((utarg,utarg))\n",
    "utrace = [u1,u1]\n",
    "utrace = np.array(utrace).T\n",
    "snap_ss(f\"case1_{cname}_target\",clim=[0,max(utarg)],cmap=plt.cm.YlOrBr)\n",
    "max(utarg)"
   ]
  },
  {
   "cell_type": "code",
   "execution_count": null,
   "metadata": {
    "collapsed": false,
    "jupyter": {
     "outputs_hidden": false
    }
   },
   "outputs": [],
   "source": [
    "utarg /= np.sum(utarg)\n",
    "\n",
    "# Run simulation\n",
    "initTime=time.time()\n",
    "A = get_sys_matrix(utarg,F=0,Ctau=1e-5,dv=1e-9)\n",
    "utrace = run_sim(A)\n",
    "FinalTime=time.time()-initTime\n",
    "\n",
    "# snapshot of steady-state\n",
    "snap_ss(f\"case1_{cname}\")\n",
    "\n",
    "# animation\n",
    "#animate_sim()\n",
    "print(FinalTime)"
   ]
  },
  {
   "cell_type": "markdown",
   "metadata": {},
   "source": [
    "Day 0 3 month\n",
    "----"
   ]
  },
  {
   "cell_type": "code",
   "execution_count": null,
   "metadata": {},
   "outputs": [],
   "source": [
    "cname='D0M3'\n",
    "utarg = np.ones(len(seg_list))\n",
    "for i in range(expD.shape[0]):\n",
    "    abb = expD['Abbreviation'][i]\n",
    "    sidx= segIdx[abb]\n",
    "    utarg[sidx] *= expD[f\"{cname}_MEAN\"][i]\n",
    "u1 = np.concatenate((utarg,utarg))\n",
    "utrace = [u1,u1]\n",
    "utrace = np.array(utrace).T\n",
    "snap_ss(f\"case1_{cname}_target\",clim=[0,max(utarg)],cmap=plt.cm.YlOrBr)\n",
    "max(utarg)"
   ]
  },
  {
   "cell_type": "code",
   "execution_count": null,
   "metadata": {
    "collapsed": false,
    "jupyter": {
     "outputs_hidden": false
    }
   },
   "outputs": [],
   "source": [
    "utarg /= np.sum(utarg)\n",
    "\n",
    "# Run simulation\n",
    "initTime=time.time()\n",
    "A = get_sys_matrix(utarg,F=0,Ctau=1e-5,dv=1e-9)\n",
    "utrace = run_sim(A)\n",
    "FinalTime=time.time()-initTime\n",
    "\n",
    "# snapshot of steady-state\n",
    "snap_ss(f\"case1_{cname}\")\n",
    "\n",
    "# animation\n",
    "#animate_sim()\n",
    "print(FinalTime)"
   ]
  },
  {
   "cell_type": "markdown",
   "metadata": {},
   "source": [
    "Day 7 3 month\n",
    "----"
   ]
  },
  {
   "cell_type": "code",
   "execution_count": null,
   "metadata": {},
   "outputs": [],
   "source": [
    "cname='D7M3'\n",
    "utarg = np.ones(len(seg_list))\n",
    "for i in range(expD.shape[0]):\n",
    "    abb = expD['Abbreviation'][i]\n",
    "    sidx= segIdx[abb]\n",
    "    utarg[sidx] *= expD[f\"{cname}_MEAN\"][i]\n",
    "u1 = np.concatenate((utarg,utarg))\n",
    "utrace = [u1,u1]\n",
    "utrace = np.array(utrace).T\n",
    "snap_ss(f\"case1_{cname}_target\",clim=[0,max(utarg)],cmap=plt.cm.YlOrBr)\n",
    "max(utarg)"
   ]
  },
  {
   "cell_type": "code",
   "execution_count": null,
   "metadata": {
    "collapsed": false,
    "jupyter": {
     "outputs_hidden": false
    }
   },
   "outputs": [],
   "source": [
    "utarg /= np.sum(utarg)\n",
    "\n",
    "# Run simulation\n",
    "initTime=time.time()\n",
    "A = get_sys_matrix(utarg,F=0,Ctau=1e-5,dv=1e-9)\n",
    "utrace = run_sim(A)\n",
    "FinalTime=time.time()-initTime\n",
    "\n",
    "# snapshot of steady-state\n",
    "snap_ss(f\"case1_{cname}\")\n",
    "\n",
    "# animation\n",
    "#animate_sim()\n",
    "print(FinalTime)"
   ]
  },
  {
   "cell_type": "markdown",
   "metadata": {},
   "source": [
    "Day 0 18 month\n",
    "----"
   ]
  },
  {
   "cell_type": "code",
   "execution_count": null,
   "metadata": {},
   "outputs": [],
   "source": [
    "cname='D0M18'\n",
    "utarg = np.ones(len(seg_list))\n",
    "for i in range(expD.shape[0]):\n",
    "    abb = expD['Abbreviation'][i]\n",
    "    sidx= segIdx[abb]\n",
    "    utarg[sidx] *= expD[f\"{cname}_MEAN\"][i]\n",
    "u1 = np.concatenate((utarg,utarg))\n",
    "utrace = [u1,u1]\n",
    "utrace = np.array(utrace).T\n",
    "snap_ss(f\"case1_{cname}_target\",clim=[0,max(utarg)],cmap=plt.cm.YlOrBr)\n",
    "max(utarg)"
   ]
  },
  {
   "cell_type": "code",
   "execution_count": null,
   "metadata": {
    "collapsed": false,
    "jupyter": {
     "outputs_hidden": false
    }
   },
   "outputs": [],
   "source": [
    "utarg /= np.sum(utarg)\n",
    "\n",
    "# Run simulation\n",
    "initTime=time.time()\n",
    "A = get_sys_matrix(utarg,F=0,Ctau=1e-5,dv=1e-9)\n",
    "utrace = run_sim(A)\n",
    "FinalTime=time.time()-initTime\n",
    "\n",
    "# snapshot of steady-state\n",
    "snap_ss(f\"case1_{cname}\")\n",
    "\n",
    "# animation\n",
    "#animate_sim()\n",
    "print(FinalTime)"
   ]
  },
  {
   "cell_type": "markdown",
   "metadata": {},
   "source": [
    "Day 7 18 month\n",
    "----"
   ]
  },
  {
   "cell_type": "code",
   "execution_count": null,
   "metadata": {},
   "outputs": [],
   "source": [
    "cname='D7M18'\n",
    "utarg = np.ones(len(seg_list))\n",
    "for i in range(expD.shape[0]):\n",
    "    abb = expD['Abbreviation'][i]\n",
    "    sidx= segIdx[abb]\n",
    "    utarg[sidx] *= expD[f\"{cname}_MEAN\"][i]\n",
    "u1 = np.concatenate((utarg,utarg))\n",
    "utrace = [u1,u1]\n",
    "utrace = np.array(utrace).T\n",
    "snap_ss(f\"case1_{cname}_target\",clim=[0,max(utarg)],cmap=plt.cm.YlOrBr)\n",
    "max(utarg)"
   ]
  },
  {
   "cell_type": "code",
   "execution_count": null,
   "metadata": {
    "collapsed": false,
    "jupyter": {
     "outputs_hidden": false
    }
   },
   "outputs": [],
   "source": [
    "utarg /= np.sum(utarg)\n",
    "\n",
    "# Run simulation\n",
    "initTime=time.time()\n",
    "A = get_sys_matrix(utarg,F=0,Ctau=1e-5,dv=1e-9)\n",
    "utrace = run_sim(A)\n",
    "FinalTime=time.time()-initTime\n",
    "\n",
    "# snapshot of steady-state\n",
    "snap_ss(f\"case1_{cname}\")\n",
    "\n",
    "# animation\n",
    "#animate_sim()\n",
    "print(FinalTime)"
   ]
  },
  {
   "cell_type": "markdown",
   "metadata": {},
   "source": [
    "Second Case: timescales not separated, proximal inputs are *greedy* and prevent distal transport\n",
    "----"
   ]
  },
  {
   "cell_type": "markdown",
   "metadata": {},
   "source": [
    "Day 0 3 weeks\n",
    "----"
   ]
  },
  {
   "cell_type": "code",
   "execution_count": null,
   "metadata": {},
   "outputs": [],
   "source": [
    "cname='D0W3'\n",
    "utarg = np.ones(len(seg_list))\n",
    "for i in range(expD.shape[0]):\n",
    "    abb = expD['Abbreviation'][i]\n",
    "    sidx= segIdx[abb]\n",
    "    utarg[sidx] *= expD[f\"{cname}_MEAN\"][i]\n",
    "u1 = np.concatenate((utarg,utarg))\n",
    "utrace = [u1,u1]\n",
    "utrace = np.array(utrace).T\n",
    "snap_ss(f\"case2_{cname}_target\",clim=[0,max(utarg)],cmap=plt.cm.YlOrBr)\n",
    "max(utarg)"
   ]
  },
  {
   "cell_type": "code",
   "execution_count": null,
   "metadata": {
    "collapsed": false,
    "jupyter": {
     "outputs_hidden": false
    }
   },
   "outputs": [],
   "source": [
    "# Run simulation\n",
    "utarg /= np.sum(utarg)\n",
    "initTime=time.time()\n",
    "A = get_sys_matrix(utarg,F=1,Ctau=1e-4,dv=1e-9)\n",
    "utrace = run_sim(A)\n",
    "FinalTime=time.time()-initTime\n",
    "\n",
    "# snapshot of steady-state\n",
    "snap_ss(f\"case2_{cname}\")\n",
    "\n",
    "# animation\n",
    "#animate_sim()\n",
    "print(FinalTime)"
   ]
  },
  {
   "cell_type": "markdown",
   "metadata": {},
   "source": [
    "Day 7 3 weeks\n",
    "----"
   ]
  },
  {
   "cell_type": "code",
   "execution_count": null,
   "metadata": {},
   "outputs": [],
   "source": [
    "cname='D7W3'\n",
    "utarg = np.ones(len(seg_list))\n",
    "for i in range(expD.shape[0]):\n",
    "    abb = expD['Abbreviation'][i]\n",
    "    sidx= segIdx[abb]\n",
    "    utarg[sidx] *= expD[f\"{cname}_MEAN\"][i]\n",
    "u1 = np.concatenate((utarg,utarg))\n",
    "utrace = [u1,u1]\n",
    "utrace = np.array(utrace).T\n",
    "snap_ss(f\"case2_{cname}_target\",clim=[0,max(utarg)],cmap=plt.cm.YlOrBr)\n",
    "max(utarg)"
   ]
  },
  {
   "cell_type": "code",
   "execution_count": null,
   "metadata": {
    "collapsed": false,
    "jupyter": {
     "outputs_hidden": false
    }
   },
   "outputs": [],
   "source": [
    "utarg /= np.sum(utarg)\n",
    "\n",
    "# Run simulation\n",
    "initTime=time.time()\n",
    "A = get_sys_matrix(utarg,F=1,Ctau=1e-4,dv=1e-9)\n",
    "utrace = run_sim(A)\n",
    "FinalTime=time.time()-initTime\n",
    "\n",
    "# snapshot of steady-state\n",
    "snap_ss(f\"case2_{cname}\")\n",
    "\n",
    "# animation\n",
    "#animate_sim()\n",
    "print(FinalTime)"
   ]
  },
  {
   "cell_type": "markdown",
   "metadata": {},
   "source": [
    "Day 0 3 month\n",
    "----"
   ]
  },
  {
   "cell_type": "code",
   "execution_count": null,
   "metadata": {},
   "outputs": [],
   "source": [
    "cname='D0M3'\n",
    "utarg = np.ones(len(seg_list))\n",
    "for i in range(expD.shape[0]):\n",
    "    abb = expD['Abbreviation'][i]\n",
    "    sidx= segIdx[abb]\n",
    "    utarg[sidx] *= expD[f\"{cname}_MEAN\"][i]\n",
    "u1 = np.concatenate((utarg,utarg))\n",
    "utrace = [u1,u1]\n",
    "utrace = np.array(utrace).T\n",
    "snap_ss(f\"case2_{cname}_target\",clim=[0,max(utarg)],cmap=plt.cm.YlOrBr)\n",
    "max(utarg)"
   ]
  },
  {
   "cell_type": "code",
   "execution_count": null,
   "metadata": {
    "collapsed": false,
    "jupyter": {
     "outputs_hidden": false
    }
   },
   "outputs": [],
   "source": [
    "utarg /= np.sum(utarg)\n",
    "\n",
    "# Run simulation\n",
    "initTime=time.time()\n",
    "A = get_sys_matrix(utarg,F=1,Ctau=1e-4,dv=1e-9)\n",
    "utrace = run_sim(A)\n",
    "FinalTime=time.time()-initTime\n",
    "\n",
    "# snapshot of steady-state\n",
    "snap_ss(f\"case2_{cname}\")\n",
    "\n",
    "# animation\n",
    "#animate_sim()\n",
    "print(FinalTime)"
   ]
  },
  {
   "cell_type": "markdown",
   "metadata": {},
   "source": [
    "Day 7 3 month\n",
    "----"
   ]
  },
  {
   "cell_type": "code",
   "execution_count": null,
   "metadata": {},
   "outputs": [],
   "source": [
    "cname='D7M3'\n",
    "utarg = np.ones(len(seg_list))\n",
    "for i in range(expD.shape[0]):\n",
    "    abb = expD['Abbreviation'][i]\n",
    "    sidx= segIdx[abb]\n",
    "    utarg[sidx] *= expD[f\"{cname}_MEAN\"][i]\n",
    "u1 = np.concatenate((utarg,utarg))\n",
    "utrace = [u1,u1]\n",
    "utrace = np.array(utrace).T\n",
    "snap_ss(f\"case2_{cname}_target\",clim=[0,max(utarg)],cmap=plt.cm.YlOrBr)\n",
    "max(utarg)"
   ]
  },
  {
   "cell_type": "code",
   "execution_count": null,
   "metadata": {
    "collapsed": false,
    "jupyter": {
     "outputs_hidden": false
    }
   },
   "outputs": [],
   "source": [
    "utarg /= np.sum(utarg)\n",
    "\n",
    "# Run simulation\n",
    "initTime=time.time()\n",
    "A = get_sys_matrix(utarg,F=1,Ctau=1e-4,dv=1e-9)\n",
    "utrace = run_sim(A)\n",
    "FinalTime=time.time()-initTime\n",
    "\n",
    "# snapshot of steady-state\n",
    "snap_ss(f\"case2_{cname}\")\n",
    "\n",
    "# animation\n",
    "#animate_sim()\n",
    "print(FinalTime)"
   ]
  },
  {
   "cell_type": "markdown",
   "metadata": {},
   "source": [
    "Day 0 18 month\n",
    "----"
   ]
  },
  {
   "cell_type": "code",
   "execution_count": null,
   "metadata": {},
   "outputs": [],
   "source": [
    "cname='D0M18'\n",
    "utarg = np.ones(len(seg_list))\n",
    "for i in range(expD.shape[0]):\n",
    "    abb = expD['Abbreviation'][i]\n",
    "    sidx= segIdx[abb]\n",
    "    utarg[sidx] *= expD[f\"{cname}_MEAN\"][i]\n",
    "u1 = np.concatenate((utarg,utarg))\n",
    "utrace = [u1,u1]\n",
    "utrace = np.array(utrace).T\n",
    "snap_ss(f\"case2_{cname}_target\",clim=[0,max(utarg)],cmap=plt.cm.YlOrBr)\n",
    "max(utarg)"
   ]
  },
  {
   "cell_type": "code",
   "execution_count": null,
   "metadata": {
    "collapsed": false,
    "jupyter": {
     "outputs_hidden": false
    }
   },
   "outputs": [],
   "source": [
    "utarg /= np.sum(utarg)\n",
    "\n",
    "# Run simulation\n",
    "initTime=time.time()\n",
    "A = get_sys_matrix(utarg,F=1,Ctau=1e-4,dv=1e-9)\n",
    "utrace = run_sim(A)\n",
    "FinalTime=time.time()-initTime\n",
    "\n",
    "# snapshot of steady-state\n",
    "snap_ss(f\"case2_{cname}\")\n",
    "\n",
    "# animation\n",
    "#animate_sim()\n",
    "print(FinalTime)"
   ]
  },
  {
   "cell_type": "markdown",
   "metadata": {},
   "source": [
    "Day 7 18 month\n",
    "----"
   ]
  },
  {
   "cell_type": "code",
   "execution_count": null,
   "metadata": {},
   "outputs": [],
   "source": [
    "cname='D7M18'\n",
    "utarg = np.ones(len(seg_list))\n",
    "for i in range(expD.shape[0]):\n",
    "    abb = expD['Abbreviation'][i]\n",
    "    sidx= segIdx[abb]\n",
    "    utarg[sidx] *= expD[f\"{cname}_MEAN\"][i]\n",
    "u1 = np.concatenate((utarg,utarg))\n",
    "utrace = [u1,u1]\n",
    "utrace = np.array(utrace).T\n",
    "snap_ss(f\"case2_{cname}_target\",clim=[0,max(utarg)],cmap=plt.cm.YlOrBr)\n",
    "max(utarg)"
   ]
  },
  {
   "cell_type": "code",
   "execution_count": null,
   "metadata": {
    "collapsed": false,
    "jupyter": {
     "outputs_hidden": false
    }
   },
   "outputs": [],
   "source": [
    "utarg /= np.sum(utarg)\n",
    "\n",
    "# Run simulation\n",
    "initTime=time.time()\n",
    "A = get_sys_matrix(utarg,F=1,Ctau=1e-4,dv=1e-9)\n",
    "utrace = run_sim(A)\n",
    "FinalTime=time.time()-initTime\n",
    "\n",
    "# snapshot of steady-state\n",
    "snap_ss(f\"case2_{cname}\")\n",
    "\n",
    "# animation\n",
    "#animate_sim()\n",
    "print(FinalTime)"
   ]
  },
  {
   "cell_type": "markdown",
   "metadata": {},
   "source": [
    "Third Case: Time scales separated, different trafficking strategy\n",
    "------"
   ]
  },
  {
   "cell_type": "markdown",
   "metadata": {},
   "source": [
    "Day 0 3 weeks\n",
    "----"
   ]
  },
  {
   "cell_type": "code",
   "execution_count": null,
   "metadata": {},
   "outputs": [],
   "source": [
    "cname='D0W3'\n",
    "utarg = np.ones(len(seg_list))\n",
    "for i in range(expD.shape[0]):\n",
    "    abb = expD['Abbreviation'][i]\n",
    "    sidx= segIdx[abb]\n",
    "    utarg[sidx] *= expD[f\"{cname}_MEAN\"][i]\n",
    "u1 = np.concatenate((utarg,utarg))\n",
    "utrace = [u1,u1]\n",
    "utrace = np.array(utrace).T\n",
    "snap_ss(f\"case3_{cname}_target\",clim=[0,max(utarg)],cmap=plt.cm.YlOrBr)\n",
    "max(utarg)"
   ]
  },
  {
   "cell_type": "code",
   "execution_count": null,
   "metadata": {
    "collapsed": false,
    "jupyter": {
     "outputs_hidden": false
    }
   },
   "outputs": [],
   "source": [
    "# Run simulation\n",
    "utarg /= np.sum(utarg)\n",
    "initTime=time.time()\n",
    "A = get_sys_matrix(utarg,F=0,Ctau=2e-4,dv=1e-9)\n",
    "utrace = run_sim(A)\n",
    "FinalTime=time.time()-initTime\n",
    "\n",
    "# snapshot of steady-state\n",
    "snap_ss(f\"case3_{cname}\")\n",
    "\n",
    "# animation\n",
    "#animate_sim()\n",
    "print(FinalTime)"
   ]
  },
  {
   "cell_type": "markdown",
   "metadata": {},
   "source": [
    "Day 7 3 weeks\n",
    "----"
   ]
  },
  {
   "cell_type": "code",
   "execution_count": null,
   "metadata": {},
   "outputs": [],
   "source": [
    "cname='D7W3'\n",
    "utarg = np.ones(len(seg_list))\n",
    "for i in range(expD.shape[0]):\n",
    "    abb = expD['Abbreviation'][i]\n",
    "    sidx= segIdx[abb]\n",
    "    utarg[sidx] *= expD[f\"{cname}_MEAN\"][i]\n",
    "u1 = np.concatenate((utarg,utarg))\n",
    "utrace = [u1,u1]\n",
    "utrace = np.array(utrace).T\n",
    "snap_ss(f\"case3_{cname}_target\",clim=[0,max(utarg)],cmap=plt.cm.YlOrBr)\n",
    "max(utarg)"
   ]
  },
  {
   "cell_type": "code",
   "execution_count": null,
   "metadata": {
    "collapsed": false,
    "jupyter": {
     "outputs_hidden": false
    }
   },
   "outputs": [],
   "source": [
    "utarg /= np.sum(utarg)\n",
    "\n",
    "# Run simulation\n",
    "initTime=time.time()\n",
    "A = get_sys_matrix(utarg,F=0,Ctau=2e-4,dv=1e-9)\n",
    "utrace = run_sim(A)\n",
    "FinalTime=time.time()-initTime\n",
    "\n",
    "# snapshot of steady-state\n",
    "snap_ss(f\"case3_{cname}\")\n",
    "\n",
    "# animation\n",
    "#animate_sim()\n",
    "print(FinalTime)"
   ]
  },
  {
   "cell_type": "markdown",
   "metadata": {},
   "source": [
    "Day 0 3 month\n",
    "----"
   ]
  },
  {
   "cell_type": "code",
   "execution_count": null,
   "metadata": {},
   "outputs": [],
   "source": [
    "cname='D0M3'\n",
    "utarg = np.ones(len(seg_list))\n",
    "for i in range(expD.shape[0]):\n",
    "    abb = expD['Abbreviation'][i]\n",
    "    sidx= segIdx[abb]\n",
    "    utarg[sidx] *= expD[f\"{cname}_MEAN\"][i]\n",
    "u1 = np.concatenate((utarg,utarg))\n",
    "utrace = [u1,u1]\n",
    "utrace = np.array(utrace).T\n",
    "snap_ss(f\"case3_{cname}_target\",clim=[0,max(utarg)],cmap=plt.cm.YlOrBr)\n",
    "max(utarg)"
   ]
  },
  {
   "cell_type": "code",
   "execution_count": null,
   "metadata": {
    "collapsed": false,
    "jupyter": {
     "outputs_hidden": false
    }
   },
   "outputs": [],
   "source": [
    "utarg /= np.sum(utarg)\n",
    "\n",
    "# Run simulation\n",
    "initTime=time.time()\n",
    "A = get_sys_matrix(utarg,F=0,Ctau=2e-4,dv=1e-9)\n",
    "utrace = run_sim(A)\n",
    "FinalTime=time.time()-initTime\n",
    "\n",
    "# snapshot of steady-state\n",
    "snap_ss(f\"case3_{cname}\")\n",
    "\n",
    "# animation\n",
    "#animate_sim()\n",
    "print(FinalTime)"
   ]
  },
  {
   "cell_type": "markdown",
   "metadata": {},
   "source": [
    "Day 7 3 month\n",
    "----"
   ]
  },
  {
   "cell_type": "code",
   "execution_count": null,
   "metadata": {},
   "outputs": [],
   "source": [
    "cname='D7M3'\n",
    "utarg = np.ones(len(seg_list))\n",
    "for i in range(expD.shape[0]):\n",
    "    abb = expD['Abbreviation'][i]\n",
    "    sidx= segIdx[abb]\n",
    "    utarg[sidx] *= expD[f\"{cname}_MEAN\"][i]\n",
    "u1 = np.concatenate((utarg,utarg))\n",
    "utrace = [u1,u1]\n",
    "utrace = np.array(utrace).T\n",
    "snap_ss(f\"case3_{cname}_target\",clim=[0,max(utarg)],cmap=plt.cm.YlOrBr)\n",
    "max(utarg)"
   ]
  },
  {
   "cell_type": "code",
   "execution_count": null,
   "metadata": {
    "collapsed": false,
    "jupyter": {
     "outputs_hidden": false
    }
   },
   "outputs": [],
   "source": [
    "utarg /= np.sum(utarg)\n",
    "\n",
    "# Run simulation\n",
    "initTime=time.time()\n",
    "A = get_sys_matrix(utarg,F=0,Ctau=2e-4,dv=1e-9)\n",
    "utrace = run_sim(A)\n",
    "FinalTime=time.time()-initTime\n",
    "\n",
    "# snapshot of steady-state\n",
    "snap_ss(f\"case3_{cname}\")\n",
    "\n",
    "# animation\n",
    "#animate_sim()\n",
    "print(FinalTime)"
   ]
  },
  {
   "cell_type": "markdown",
   "metadata": {},
   "source": [
    "Day 0 18 month\n",
    "----"
   ]
  },
  {
   "cell_type": "code",
   "execution_count": null,
   "metadata": {},
   "outputs": [],
   "source": [
    "cname='D0M18'\n",
    "utarg = np.ones(len(seg_list))\n",
    "for i in range(expD.shape[0]):\n",
    "    abb = expD['Abbreviation'][i]\n",
    "    sidx= segIdx[abb]\n",
    "    utarg[sidx] *= expD[f\"{cname}_MEAN\"][i]\n",
    "u1 = np.concatenate((utarg,utarg))\n",
    "utrace = [u1,u1]\n",
    "utrace = np.array(utrace).T\n",
    "snap_ss(f\"case3_{cname}_target\",clim=[0,max(utarg)],cmap=plt.cm.YlOrBr)\n",
    "max(utarg)"
   ]
  },
  {
   "cell_type": "code",
   "execution_count": null,
   "metadata": {
    "collapsed": false,
    "jupyter": {
     "outputs_hidden": false
    }
   },
   "outputs": [],
   "source": [
    "utarg /= np.sum(utarg)\n",
    "\n",
    "# Run simulation\n",
    "initTime=time.time()\n",
    "A = get_sys_matrix(utarg,F=0,Ctau=2e-4,dv=1e-9)\n",
    "utrace = run_sim(A)\n",
    "FinalTime=time.time()-initTime\n",
    "\n",
    "# snapshot of steady-state\n",
    "snap_ss(f\"case3_{cname}\")\n",
    "\n",
    "# animation\n",
    "#animate_sim()\n",
    "print(FinalTime)"
   ]
  },
  {
   "cell_type": "markdown",
   "metadata": {},
   "source": [
    "Day 7 18 month\n",
    "----"
   ]
  },
  {
   "cell_type": "code",
   "execution_count": null,
   "metadata": {},
   "outputs": [],
   "source": [
    "cname='D7M18'\n",
    "utarg = np.ones(len(seg_list))\n",
    "for i in range(expD.shape[0]):\n",
    "    abb = expD['Abbreviation'][i]\n",
    "    sidx= segIdx[abb]\n",
    "    utarg[sidx] *= expD[f\"{cname}_MEAN\"][i]\n",
    "u1 = np.concatenate((utarg,utarg))\n",
    "utrace = [u1,u1]\n",
    "utrace = np.array(utrace).T\n",
    "snap_ss(f\"case3_{cname}_target\",clim=[0,max(utarg)],cmap=plt.cm.YlOrBr)\n",
    "max(utarg)"
   ]
  },
  {
   "cell_type": "code",
   "execution_count": null,
   "metadata": {
    "collapsed": false,
    "jupyter": {
     "outputs_hidden": false
    }
   },
   "outputs": [],
   "source": [
    "utarg /= np.sum(utarg)\n",
    "\n",
    "# Run simulation\n",
    "initTime=time.time()\n",
    "A = get_sys_matrix(utarg,F=0,Ctau=2e-4,dv=1e-9)\n",
    "utrace = run_sim(A)\n",
    "FinalTime=time.time()-initTime\n",
    "\n",
    "# snapshot of steady-state\n",
    "snap_ss(f\"case3_{cname}\")\n",
    "\n",
    "# animation\n",
    "#animate_sim()\n",
    "print(FinalTime)"
   ]
  },
  {
   "cell_type": "code",
   "execution_count": null,
   "metadata": {},
   "outputs": [],
   "source": [
    "utrace[743:753,10]"
   ]
  },
  {
   "cell_type": "markdown",
   "metadata": {},
   "source": [
    "Third Case: protein + RNA\n",
    "----"
   ]
  },
  {
   "cell_type": "code",
   "execution_count": null,
   "metadata": {},
   "outputs": [],
   "source": [
    "initTime=time.time()\n",
    "A,u,t,excess,err = sushibelt.run_uniform_reattachment(h, 0.1, 5, 50.0, 1e-5,1e-6)\n",
    "FinalTime=time.time()-initTime\n",
    "print(FinalTime)\n",
    "#sushibelt.snapshots(h,u,t,'plots/with_reattach',cellname,view,u_cmap,us_cmap)\n",
    "#print 'excess cargo = %2.1f percent'%(excess[-1])"
   ]
  },
  {
   "cell_type": "code",
   "execution_count": null,
   "metadata": {},
   "outputs": [],
   "source": [
    "N\n",
    "utrace=u[:,:2*N]\n",
    "utrace=utrace.T"
   ]
  },
  {
   "cell_type": "code",
   "execution_count": null,
   "metadata": {},
   "outputs": [],
   "source": [
    "A.shape"
   ]
  },
  {
   "cell_type": "code",
   "execution_count": null,
   "metadata": {},
   "outputs": [],
   "source": [
    "t.shape"
   ]
  },
  {
   "cell_type": "code",
   "execution_count": null,
   "metadata": {},
   "outputs": [],
   "source": [
    "u.shape"
   ]
  },
  {
   "cell_type": "code",
   "execution_count": null,
   "metadata": {},
   "outputs": [],
   "source": [
    "nframes=50\n",
    "t = np.logspace(-0.5,8.5,nframes)\n",
    "t.shape"
   ]
  },
  {
   "cell_type": "code",
   "execution_count": null,
   "metadata": {},
   "outputs": [],
   "source": [
    "u0 = np.zeros(4*n)\n",
    "u0[0] = 1.0  # compartment 0 is the soma\n",
    "initTime=time.time()\n",
    "utrace = [u0]\n",
    "w,V = scipy.linalg.eig(A)\n",
    "Vinv = np.linalg.inv(V)\n",
    "t = np.logspace(-0.5,8.5,nframes)\n",
    "for t_ in t: utrace.append(solve_u(w,V,Vinv,t_))\n",
    "\n",
    "FinalTime=time.time()-initTime\n",
    "print(FinalTime)\n"
   ]
  },
  {
   "cell_type": "markdown",
   "metadata": {},
   "source": [
    "cvals=utrace[:,-1]\n",
    "cvals.shape"
   ]
  },
  {
   "cell_type": "code",
   "execution_count": null,
   "metadata": {},
   "outputs": [],
   "source": [
    "(1484/len(seg_list),len(seg_list))"
   ]
  },
  {
   "cell_type": "code",
   "execution_count": null,
   "metadata": {},
   "outputs": [],
   "source": [
    "t.shape"
   ]
  },
  {
   "cell_type": "code",
   "execution_count": null,
   "metadata": {},
   "outputs": [],
   "source": [
    "[d/4 for d in A.shape]"
   ]
  },
  {
   "cell_type": "code",
   "execution_count": null,
   "metadata": {},
   "outputs": [],
   "source": [
    "(1484*2,A.shape)"
   ]
  },
  {
   "cell_type": "code",
   "execution_count": null,
   "metadata": {},
   "outputs": [],
   "source": [
    "max(dts)"
   ]
  },
  {
   "cell_type": "code",
   "execution_count": null,
   "metadata": {},
   "outputs": [],
   "source": [
    "from PyNeuronToolbox.morphology import shapeplot, allsec_preorder, root_indices, shapeplot_animate\n",
    "roots = root_indices(allsec_preorder(h))\n",
    "roots"
   ]
  },
  {
   "cell_type": "code",
   "execution_count": null,
   "metadata": {},
   "outputs": [],
   "source": [
    "import pandas as pd\n",
    "fitdt = pd.read_csv('data/Distr.csv')"
   ]
  },
  {
   "cell_type": "code",
   "execution_count": null,
   "metadata": {},
   "outputs": [],
   "source": [
    "idx = []\n",
    "for i in range(n):\n",
    "    if abs(dts[i]-100)<1 :\n",
    "        idx.append(1)\n",
    "    else:\n",
    "        idx.append(0)\n",
    "sum(idx)"
   ]
  },
  {
   "cell_type": "code",
   "execution_count": null,
   "metadata": {},
   "outputs": [],
   "source": [
    "[ (i,j) for i in range(fitdt.shape[0]) for j in range(n) if abs(dts[j]-fitdt['X'][i])<1 ]"
   ]
  },
  {
   "cell_type": "code",
   "execution_count": null,
   "metadata": {},
   "outputs": [],
   "source": [
    "type(fitdt)"
   ]
  },
  {
   "cell_type": "code",
   "execution_count": null,
   "metadata": {},
   "outputs": [],
   "source": [
    "seg_idx = [(i, j) for i in range(fitdt.shape[0]) for j in range(n) if abs(dts[j] - fitdt['X'][i]) < 1]\n",
    "len(seg_idx)"
   ]
  },
  {
   "cell_type": "code",
   "execution_count": null,
   "metadata": {},
   "outputs": [],
   "source": [
    "inum=3\n",
    "ix=[ i for i in range(3*inum)]\n",
    "(ix[:inum],ix[inum:2*inum],ix[2*inum:])"
   ]
  },
  {
   "cell_type": "code",
   "execution_count": null,
   "metadata": {},
   "outputs": [],
   "source": [
    "[ max(u[:,r]) for r in range(u.shape[0])]"
   ]
  },
  {
   "cell_type": "code",
   "execution_count": null,
   "metadata": {},
   "outputs": [],
   "source": [
    "range(u.shape[1])"
   ]
  },
  {
   "cell_type": "code",
   "execution_count": null,
   "metadata": {},
   "outputs": [],
   "source": [
    "    clim=[0,0.00022]\n",
    "    uplt = u[:,n:2*n]\n",
    "    uplt = uplt.T\n",
    "    fig = plt.figure(figsize=(8,8))\n",
    "    shapeax = plt.subplot(111, projection='3d')\n",
    "    lines = shapeplot(h,shapeax,cvals=uplt[:,1],clim=clim,\\\n",
    "                      cmap=plt.cm.cool,order='pre',lw=2)\n",
    "    shapeax.view_init(elev=80,azim=-90)\n",
    "    plt.title('free RNA 1',fontweight='bold',fontsize=14)\n",
    "\n",
    "    # colorbar\n",
    "    sm = cm.ScalarMappable(cmap=plt.cm.cool, norm=plt.Normalize(clim[0],clim[1])) \n",
    "    #sm = plt.cm.ScalarMappable(cmap=plt.cm.cool, norm=plt.Normalize(clim[0],clim[1])) \n",
    "    #sm._A = []\n",
    "    #plt.colorbar(sm, shrink=0.5)\n",
    "    #plt.colorbar(sm,cax=shapeax)\n",
    "    #plt.colorbar()\n",
    "    plt.tight_layout()\n",
    "    plt.axis('off')\n"
   ]
  },
  {
   "cell_type": "code",
   "execution_count": null,
   "metadata": {},
   "outputs": [],
   "source": [
    "    clim=[0,0.00022]\n",
    "    uplt = u[:,:n]\n",
    "    uplt = uplt.T\n",
    "    fig = plt.figure(figsize=(8,8))\n",
    "    shapeax = plt.subplot(111, projection='3d')\n",
    "    lines = shapeplot(h,shapeax,cvals=uplt[:,-1],clim=clim,\\\n",
    "                      cmap=plt.cm.cool,order='pre',lw=2)\n",
    "    shapeax.view_init(elev=80,azim=-90)\n",
    "    plt.title('bounded RNA -1',fontweight='bold',fontsize=14)\n",
    "\n",
    "    # colorbar\n",
    "    sm = cm.ScalarMappable(cmap=plt.cm.cool, norm=plt.Normalize(clim[0],clim[1])) \n",
    "    #sm = plt.cm.ScalarMappable(cmap=plt.cm.cool, norm=plt.Normalize(clim[0],clim[1])) \n",
    "    #sm._A = []\n",
    "    #plt.colorbar(sm, shrink=0.5)\n",
    "    #plt.colorbar(sm,cax=shapeax)\n",
    "    #plt.colorbar()\n",
    "    plt.tight_layout()\n",
    "    plt.axis('off')\n"
   ]
  },
  {
   "cell_type": "code",
   "execution_count": null,
   "metadata": {},
   "outputs": [],
   "source": [
    "    clim=[0,0.00022]\n",
    "    uplt = u[:,2*n:3*n]\n",
    "    uplt = uplt.T\n",
    "    fig = plt.figure(figsize=(8,8))\n",
    "    shapeax = plt.subplot(111, projection='3d')\n",
    "    lines = shapeplot(h,shapeax,cvals=uplt[:,-1],clim=clim,\\\n",
    "                      cmap=plt.cm.cool,order='pre',lw=2)\n",
    "    shapeax.view_init(elev=80,azim=-90)\n",
    "    plt.title('bound protein -1',fontweight='bold',fontsize=14)\n",
    "\n",
    "    # colorbar\n",
    "    sm = cm.ScalarMappable(cmap=plt.cm.cool, norm=plt.Normalize(clim[0],clim[1])) \n",
    "    #sm = plt.cm.ScalarMappable(cmap=plt.cm.cool, norm=plt.Normalize(clim[0],clim[1])) \n",
    "    #sm._A = []\n",
    "    #plt.colorbar(sm, shrink=0.5)\n",
    "    #plt.colorbar(sm,cax=shapeax)\n",
    "    #plt.colorbar()\n",
    "    plt.tight_layout()\n",
    "    plt.axis('off')\n"
   ]
  },
  {
   "cell_type": "code",
   "execution_count": null,
   "metadata": {},
   "outputs": [],
   "source": [
    "    clim=[0,0.00022]\n",
    "    uplt = u[:,3*n:]\n",
    "    uplt = uplt.T\n",
    "    fig = plt.figure(figsize=(8,8))\n",
    "    shapeax = plt.subplot(111, projection='3d')\n",
    "    lines = shapeplot(h,shapeax,cvals=uplt[:,-1],clim=clim,\\\n",
    "                      cmap=plt.cm.cool,order='pre',lw=2)\n",
    "    shapeax.view_init(elev=80,azim=-90)\n",
    "    plt.title('free protein -1',fontweight='bold',fontsize=14)\n",
    "\n",
    "    # colorbar\n",
    "    sm = cm.ScalarMappable(cmap=plt.cm.cool, norm=plt.Normalize(clim[0],clim[1])) \n",
    "    #sm = plt.cm.ScalarMappable(cmap=plt.cm.cool, norm=plt.Normalize(clim[0],clim[1])) \n",
    "    #sm._A = []\n",
    "    #plt.colorbar(sm, shrink=0.5)\n",
    "    #plt.colorbar(sm,cax=shapeax)\n",
    "    #plt.colorbar()\n",
    "    plt.tight_layout()\n",
    "    plt.axis('off')\n"
   ]
  },
  {
   "cell_type": "code",
   "execution_count": null,
   "metadata": {},
   "outputs": [],
   "source": []
  },
  {
   "cell_type": "code",
   "execution_count": null,
   "metadata": {},
   "outputs": [],
   "source": [
    "(ss.volume(),ss.x)"
   ]
  },
  {
   "cell_type": "code",
   "execution_count": null,
   "metadata": {},
   "outputs": [],
   "source": [
    "seg_list[419].volume()"
   ]
  },
  {
   "cell_type": "code",
   "execution_count": null,
   "metadata": {},
   "outputs": [],
   "source": [
    "seg_idx = [(i, j,seg_list[j].volume()) for i in range(fitdt.shape[0]) for j in range(n) if abs(dts[j] - fitdt['X'][i]) < 1]\n",
    "seg_idx = np.array(seg_idx)\n",
    "seg_idx"
   ]
  },
  {
   "cell_type": "code",
   "execution_count": null,
   "metadata": {},
   "outputs": [],
   "source": [
    "u.shape"
   ]
  },
  {
   "cell_type": "code",
   "execution_count": null,
   "metadata": {},
   "outputs": [],
   "source": [
    "resp = np.zeros((fitdt.shape[0],u.shape[0]))\n",
    "resp.shape"
   ]
  },
  {
   "cell_type": "code",
   "execution_count": null,
   "metadata": {},
   "outputs": [],
   "source": [
    "resp = np.zeros((fitdt.shape[0],u.shape[0]))\n",
    "for i in range(seg_idx.shape[0]):\n",
    "    ii = int(seg_idx[i,0])\n",
    "    ij = int(seg_idx[i,1])\n",
    "    resp[ii] += u[:,ij].T\n",
    "resp"
   ]
  },
  {
   "cell_type": "code",
   "execution_count": null,
   "metadata": {},
   "outputs": [],
   "source": [
    "dist = (resp-fitdt['V']) ** 2\n",
    "dist"
   ]
  },
  {
   "cell_type": "code",
   "execution_count": null,
   "metadata": {},
   "outputs": [],
   "source": [
    "fitdt['V']"
   ]
  },
  {
   "cell_type": "code",
   "execution_count": null,
   "metadata": {},
   "outputs": [],
   "source": [
    "[ sum((resp[:,i] - fitdt['V']) ** 2) for i in range(resp.shape[1])]"
   ]
  },
  {
   "cell_type": "code",
   "execution_count": null,
   "metadata": {},
   "outputs": [],
   "source": [
    "500 * 14 * 7 /3600"
   ]
  },
  {
   "cell_type": "code",
   "execution_count": null,
   "metadata": {},
   "outputs": [],
   "source": [
    "x=np.random.randint(0,2,size=(80,20))\n",
    "x.shape"
   ]
  },
  {
   "cell_type": "code",
   "execution_count": null,
   "metadata": {},
   "outputs": [],
   "source": [
    "x"
   ]
  },
  {
   "cell_type": "code",
   "execution_count": null,
   "metadata": {},
   "outputs": [],
   "source": [
    "initDF=pd.read_csv('Edita_best.csv')"
   ]
  },
  {
   "cell_type": "code",
   "execution_count": null,
   "metadata": {},
   "outputs": [],
   "source": [
    "best_x=initDF.loc[:,['F','Ctau','dv','mProp','demand_CA1so','demand_CA1sr','demand_CA1slm']]\n",
    "best_y=initDF['Cost']\n",
    "(best_x,best_y)"
   ]
  },
  {
   "cell_type": "code",
   "execution_count": null,
   "metadata": {},
   "outputs": [],
   "source": [
    "b_x=np.array(best_x[:3])\n",
    "np.concatenate([b_x,np.random.rand(3,7)])"
   ]
  },
  {
   "cell_type": "code",
   "execution_count": null,
   "metadata": {},
   "outputs": [],
   "source": [
    "?np.random.rand"
   ]
  },
  {
   "cell_type": "code",
   "execution_count": null,
   "metadata": {},
   "outputs": [],
   "source": [
    "carr=pd.DataFrame(np.array(best_x))\n",
    "carr['Cost']=np.array(best_y)\n",
    "carr"
   ]
  },
  {
   "cell_type": "code",
   "execution_count": null,
   "metadata": {},
   "outputs": [],
   "source": [
    "?np.argsort"
   ]
  },
  {
   "cell_type": "code",
   "execution_count": null,
   "metadata": {},
   "outputs": [],
   "source": [
    "initDF.loc[np.argsort(best_y),:]"
   ]
  },
  {
   "cell_type": "code",
   "execution_count": null,
   "metadata": {},
   "outputs": [],
   "source": [
    "from scipy.optimize import minimize\n",
    "?minimize"
   ]
  },
  {
   "cell_type": "code",
   "execution_count": null,
   "metadata": {},
   "outputs": [],
   "source": [
    "from sko.PSO import PSO\n",
    "?PSO"
   ]
  },
  {
   "cell_type": "code",
   "execution_count": null,
   "metadata": {},
   "outputs": [],
   "source": []
  }
 ],
 "metadata": {
  "kernelspec": {
   "display_name": "Python 3 (ipykernel)",
   "language": "python",
   "name": "python3"
  },
  "language_info": {
   "codemirror_mode": {
    "name": "ipython",
    "version": 3
   },
   "file_extension": ".py",
   "mimetype": "text/x-python",
   "name": "python",
   "nbconvert_exporter": "python",
   "pygments_lexer": "ipython3",
   "version": "3.10.12"
  }
 },
 "nbformat": 4,
 "nbformat_minor": 4
}
