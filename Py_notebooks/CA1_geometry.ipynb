{
 "cells": [
  {
   "cell_type": "code",
   "execution_count": 1,
   "metadata": {
    "ExecuteTime": {
     "end_time": "2024-02-01T04:36:14.473505Z",
     "start_time": "2024-02-01T04:36:13.685666Z"
    },
    "collapsed": false,
    "jupyter": {
     "outputs_hidden": false
    }
   },
   "outputs": [
    {
     "name": "stdout",
     "output_type": "stream",
     "text": [
      "/usr/bin/xcrun\n",
      "/Users/anatolii-sorokin/Documents/Projects/neuro-trafic\n",
      "Mod files: \"./h.mod\" \"./kadist.mod\" \"./kaprox.mod\" \"./kdrca1.mod\" \"./km.mod\" \"./na3n.mod\" \"./naxn.mod\"\n",
      "\n",
      " -> \u001b[32mCompiling\u001b[0m mod_func.cpp\n",
      " => \u001b[32mLINKING\u001b[0m shared library ./libnrnmech.dylib\n",
      "Successfully created arm64/special\n"
     ]
    }
   ],
   "source": [
    "%%bash\n",
    "nrnivmodl"
   ]
  },
  {
   "cell_type": "code",
   "execution_count": 2,
   "metadata": {
    "ExecuteTime": {
     "end_time": "2024-02-01T04:36:17.107428Z",
     "start_time": "2024-02-01T04:36:17.087940Z"
    },
    "collapsed": false,
    "jupyter": {
     "outputs_hidden": false
    }
   },
   "outputs": [
    {
     "name": "stdout",
     "output_type": "stream",
     "text": [
      "\t0 \n",
      "total # of segments (50Hz): 742   max path distance: 853.32493 \n",
      "apical 0  dend_5[0]\n",
      "apical 1  dend_5[15]\n",
      "apical 2  dend_5[14]\n",
      "apical 3  dend_5[13]\n",
      "apical 4  dend_5[12]\n",
      "apical 5  dend_5[12]\n",
      "apical 6  dend_5[12]\n",
      "apical 7  dend_5[12]\n",
      "apical 8  dend_5[12]\n",
      "apical 9  dend_5[12]\n",
      "apical 10  dend_5[12]\n",
      "apical 11  dend_5[11]\n",
      "apical 12  dend_5[11]\n",
      "apical 13  dend_5[11]\n",
      "apical 14  dend_5[10]\n",
      "apical 15  dend_5[9]\n",
      "apical 16  dend_5[8]\n",
      "apical 17  dend_5[8]\n",
      "apical 18  dend_5[8]\n",
      "apical 19  dend_5[7]\n",
      "apical 20  dend_5[6]\n",
      "apical 21  dend_5[5]\n",
      "apical 22  dend_5[5]\n",
      "apical 23  dend_5[5]\n",
      "apical 24  dend_5[5]\n",
      "apical 25  dend_5[5]\n",
      "apical 26  dend_5[5]\n",
      "apical 27  dend_5[5]\n",
      "apical 28  dend_5[4]\n",
      "apical 29  dend_5[4]\n",
      "apical 30  dend_5[4]\n",
      "apical 31  dend_5[3]\n",
      "apical 32  dend_5[2]\n",
      "apical 33  dend_5[2]\n",
      "apical 34  dend_5[2]\n",
      "apical 35  dend_5[2]\n",
      "apical 36  dend_5[2]\n",
      "apical 37  dend_5[2]\n",
      "apical 38  dend_5[2]\n",
      "apical 39  dend_5[1]\n",
      "apical 40  dend_5[1]\n",
      "apical 41  dend_5[1]\n",
      "#1\n"
     ]
    }
   ],
   "source": [
    "# Download NEURON: http://www.neuron.yale.edu/neuron/download\n",
    "# Download PyNeuronToolbox: https://github.com/ahwillia/PyNeuron-Toolbox\n",
    "\n",
    "from neuron import h\n",
    "import numpy as np\n",
    "import pylab as plt\n",
    "import scipy.linalg\n",
    "from PyNeuronToolbox.record import ez_record,ez_convert\n",
    "from PyNeuronToolbox.morphology import shapeplot,shapeplot_animate\n",
    "from mpl_toolkits.mplot3d import Axes3D\n",
    "from JSAnimation import IPython_display\n",
    "from matplotlib import animation\n",
    "from matplotlib.pyplot import cm\n",
    "%matplotlib inline\n",
    "np.random.seed(123456789)\n",
    "\n",
    "# Load morphology and other stuff\n",
    "# --> SegLists: soma[2], dend[74], dend_5[37], apic[42], axon[1]\n",
    "# --> Files from Migliore & Migliore (2012)\n",
    "# --> CA1 pyramidal neuron\n",
    "h.load_file('stdrun.hoc')\n",
    "h.xopen('ri06.hoc')\n",
    "h.xopen('fixnseg.hoc')\n",
    "h.xopen('5a_nogui.hoc')\n",
    "h.tstop = 700.0"
   ]
  },
  {
   "cell_type": "code",
   "execution_count": 3,
   "metadata": {
    "collapsed": false,
    "jupyter": {
     "outputs_hidden": false
    }
   },
   "outputs": [],
   "source": [
    "from PyNeuronToolbox.morphology import dist_between,allsec_preorder\n",
    "\n",
    "def dist_to_soma(segment):\n",
    "    return dist_between(h,h.soma[0](0.5),segment)\n",
    "\n",
    "#seglist in pre-order\n",
    "sec_list = allsec_preorder(h)\n",
    "seg_list = []\n",
    "for sec in sec_list:\n",
    "    locs = np.linspace(0,1,sec.nseg+2)[1:-1]\n",
    "    for loc in locs:\n",
    "        seg_list.append(sec(loc))\n",
    "n = len(seg_list)"
   ]
  },
  {
   "cell_type": "code",
   "execution_count": 4,
   "metadata": {},
   "outputs": [
    {
     "name": "stdout",
     "output_type": "stream",
     "text": [
      "0: soma[0], nseg=1, L=15.166100084781647, D=8.62367892888686, l=15.166100084781647, or=0.0, hname=soma[0]\n",
      "1: soma[1], nseg=1, L=10.883900105953217, D=11.361924139195267, l=10.883900105953217, or=0.0, hname=soma[1]\n",
      "2: dend_5[0], nseg=1, L=27.29313676464808, D=3.83238905561517, l=27.29313676464808, or=0.0, hname=dend_5[0]\n",
      "3: apic[0], nseg=9, L=147.93433051396065, D=0.4742140263236419, l=16.437147834884517, or=0.0, hname=apic[0]\n",
      "4: dend_5[1], nseg=3, L=57.45149110486393, D=3.7999999523162846, l=19.150497034954643, or=0.0, hname=dend_5[1]\n",
      "5: apic[39], nseg=1, L=23.29171407802628, D=1.0911011688569283, l=23.29171407802628, or=0.0, hname=apic[39]\n",
      "6: apic[41], nseg=3, L=34.922839435595144, D=0.479999989271164, l=11.640946478531715, or=0.0, hname=apic[41]\n",
      "7: apic[40], nseg=5, L=52.39168693889804, D=0.47999998927116383, l=10.478337387779607, or=0.0, hname=apic[40]\n",
      "8: dend_5[2], nseg=1, L=21.183727600433784, D=3.67421469495641, l=21.183727600433784, or=0.0, hname=dend_5[2]\n",
      "9: apic[32], nseg=1, L=12.617619533060896, D=1.7924317387414144, l=12.617619533060896, or=0.0, hname=apic[32]\n",
      "10: apic[38], nseg=13, L=208.40219120020532, D=0.5400000214576727, l=16.030937784631178, or=0.0, hname=apic[38]\n",
      "11: apic[33], nseg=1, L=9.679981164937955, D=0.8566306042926967, l=9.679981164937955, or=0.0, hname=apic[33]\n",
      "12: apic[37], nseg=3, L=32.69642802210867, D=0.4300000071525574, l=10.89880934070289, or=0.0, hname=apic[37]\n",
      "13: apic[34], nseg=1, L=6.683028121429655, D=0.6339424492486335, l=6.683028121429655, or=0.0, hname=apic[34]\n",
      "14: apic[36], nseg=5, L=58.600785345533666, D=0.4300000071525574, l=11.720157069106733, or=0.0, hname=apic[36]\n",
      "15: apic[35], nseg=7, L=91.55723104292407, D=0.43000000715255743, l=13.07960443470344, or=0.0, hname=apic[35]\n",
      "16: dend_5[3], nseg=1, L=7.409253797024032, D=3.525187534057677, l=7.409253797024032, or=0.0, hname=dend_5[3]\n",
      "17: apic[31], nseg=3, L=23.44734463094565, D=0.537256087841366, l=7.8157815436485505, or=0.0, hname=apic[31]\n",
      "18: dend_5[4], nseg=1, L=31.145746534414798, D=2.9519768320098185, l=31.145746534414798, or=0.0, hname=dend_5[4]\n",
      "19: apic[28], nseg=3, L=43.45638436191993, D=0.7200000286102295, l=14.48546145397331, or=0.0, hname=apic[28]\n",
      "20: apic[30], nseg=9, L=118.62025939267723, D=0.4300000071525576, l=13.18002882140858, or=0.0, hname=apic[30]\n",
      "21: apic[29], nseg=5, L=66.36675099056444, D=0.4300000071525574, l=13.273350198112889, or=0.0, hname=apic[29]\n",
      "22: dend_5[5], nseg=1, L=11.652114839139228, D=3.0979429392704163, l=11.652114839139228, or=0.0, hname=dend_5[5]\n",
      "23: apic[21], nseg=3, L=22.837574079766163, D=0.7200000286102296, l=7.612524693255388, or=0.0, hname=apic[21]\n",
      "24: apic[27], nseg=11, L=131.54348095334652, D=0.3899999856948855, l=11.958498268486046, or=0.0, hname=apic[27]\n",
      "25: apic[22], nseg=1, L=14.169996011936517, D=0.5690141172840445, l=14.169996011936517, or=0.0, hname=apic[22]\n",
      "26: apic[26], nseg=7, L=118.47475910468485, D=0.5400000214576721, l=16.92496558638355, or=0.0, hname=apic[26]\n",
      "27: apic[23], nseg=3, L=27.54280947186621, D=0.47999998927116394, l=9.18093649062207, or=0.0, hname=apic[23]\n",
      "28: apic[25], nseg=7, L=84.11618353627499, D=0.43000000715255754, l=12.016597648039284, or=0.0, hname=apic[25]\n",
      "29: apic[24], nseg=5, L=61.62917290309925, D=0.43000000715255754, l=12.325834580619851, or=0.0, hname=apic[24]\n",
      "30: dend_5[6], nseg=1, L=33.768945032157355, D=2.7148848533870424, l=33.768945032157355, or=0.0, hname=dend_5[6]\n",
      "31: apic[20], nseg=5, L=57.789293597939405, D=0.5829777755868835, l=11.55785871958788, or=0.0, hname=apic[20]\n",
      "32: dend_5[7], nseg=1, L=7.6079051456122855, D=3.082554405234903, l=7.6079051456122855, or=0.0, hname=dend_5[7]\n",
      "33: apic[19], nseg=3, L=29.69604155423376, D=0.479999989271164, l=9.898680518077919, or=0.0, hname=apic[19]\n",
      "34: dend_5[8], nseg=1, L=5.238552717127133, D=3.5, l=5.238552717127133, or=0.0, hname=dend_5[8]\n",
      "35: apic[16], nseg=1, L=21.905931024896606, D=1.49999601720843, l=21.905931024896606, or=0.0, hname=apic[16]\n",
      "36: apic[18], nseg=11, L=156.23455822733092, D=0.5400000214576718, l=14.203141657030084, or=0.0, hname=apic[18]\n",
      "37: apic[17], nseg=15, L=232.25475940198416, D=0.4300000071525574, l=15.483650626798944, or=0.0, hname=apic[17]\n",
      "38: dend_5[9], nseg=1, L=20.55380901132045, D=3.5, l=20.55380901132045, or=0.0, hname=dend_5[9]\n",
      "39: apic[15], nseg=11, L=194.55235954381325, D=0.7699999809265134, l=17.686578140346658, or=0.0, hname=apic[15]\n",
      "40: dend_5[10], nseg=1, L=8.482690476479583, D=3.2577944046964946, l=8.482690476479583, or=0.0, hname=dend_5[10]\n",
      "41: apic[14], nseg=13, L=200.50001290515107, D=0.6491293853051668, l=15.423077915780851, or=0.0, hname=apic[14]\n",
      "42: dend_5[11], nseg=1, L=15.562772672118317, D=3.1493398657085003, l=15.562772672118317, or=0.0, hname=dend_5[11]\n",
      "43: apic[11], nseg=5, L=90.21383820670987, D=0.7699999809265139, l=18.042767641341975, or=0.0, hname=apic[11]\n",
      "44: apic[13], nseg=7, L=102.19603309764999, D=0.5400000214576721, l=14.599433299664284, or=0.0, hname=apic[13]\n",
      "45: apic[12], nseg=7, L=104.14845852040462, D=0.5153052136973976, l=14.87835121720066, or=0.0, hname=apic[12]\n",
      "46: dend_5[12], nseg=1, L=33.703248961620396, D=3.0009150564045024, l=33.703248961620396, or=0.0, hname=dend_5[12]\n",
      "47: apic[4], nseg=3, L=27.711439560492558, D=0.5740193843736676, l=9.237146520164186, or=0.0, hname=apic[4]\n",
      "48: apic[10], nseg=11, L=140.4134357262732, D=0.43000000715255715, l=12.764857793297564, or=0.0, hname=apic[10]\n",
      "49: apic[5], nseg=1, L=12.327154110901793, D=0.5400000214576721, l=12.327154110901793, or=0.0, hname=apic[5]\n",
      "50: apic[7], nseg=3, L=49.2025487660538, D=0.47999998927116394, l=16.4008495886846, or=0.0, hname=apic[7]\n",
      "51: apic[9], nseg=3, L=20.986206256278034, D=0.38999998569488525, l=6.9954020854260115, or=0.0, hname=apic[9]\n",
      "52: apic[8], nseg=7, L=96.65809340699869, D=0.3899999856948854, l=13.80829905814267, or=0.0, hname=apic[8]\n",
      "53: apic[6], nseg=5, L=55.82002502731508, D=0.3899999856948852, l=11.164005005463016, or=0.0, hname=apic[6]\n",
      "54: dend_5[13], nseg=3, L=48.02552137233155, D=2.7085539344396334, l=16.00850712411052, or=0.0, hname=dend_5[13]\n",
      "55: apic[3], nseg=11, L=174.29288618617815, D=0.6151971753498459, l=15.844807835107105, or=0.0, hname=apic[3]\n",
      "56: dend_5[14], nseg=1, L=9.321102991076433, D=2.749803212892971, l=9.321102991076433, or=0.0, hname=dend_5[14]\n",
      "57: apic[2], nseg=11, L=173.41665848651886, D=0.4799999892711638, l=15.765150771501714, or=0.0, hname=apic[2]\n",
      "58: dend_5[15], nseg=3, L=78.32750179521591, D=2.7000000476837163, l=26.10916726507197, or=0.0, hname=dend_5[15]\n",
      "59: apic[1], nseg=3, L=43.80901797277119, D=0.4799999892711639, l=14.603005990923728, or=0.0, hname=apic[1]\n",
      "60: dend_5[16], nseg=1, L=9.15226856552163, D=3.4034486361602707, l=9.15226856552163, or=0.0, hname=dend_5[16]\n",
      "61: dend_5[30], nseg=5, L=105.16119641348777, D=1.1410131127735035, l=21.032239282697553, or=0.0, hname=dend_5[30]\n",
      "62: dend_5[36], nseg=15, L=247.91382442716147, D=0.5400000214576726, l=16.5275882951441, or=0.0, hname=dend_5[36]\n",
      "63: dend_5[31], nseg=5, L=86.71375342057928, D=0.9707590229661487, l=17.342750684115856, or=0.0, hname=dend_5[31]\n",
      "64: dend_5[35], nseg=15, L=224.6862932763169, D=0.43000000715255715, l=14.979086218421125, or=0.0, hname=dend_5[35]\n",
      "65: dend_5[32], nseg=5, L=74.3029305710867, D=0.7200000286102295, l=14.860586114217341, or=0.0, hname=dend_5[32]\n",
      "66: dend_5[34], nseg=7, L=107.50731387855376, D=0.4303479231599776, l=15.358187696936252, or=0.0, hname=dend_5[34]\n",
      "67: dend_5[33], nseg=9, L=108.62702476439665, D=0.421519091914947, l=12.069669418266294, or=0.0, hname=dend_5[33]\n",
      "68: dend_5[17], nseg=1, L=30.114842491457217, D=2.664237336645953, l=30.114842491457217, or=0.0, hname=dend_5[17]\n",
      "69: dend_5[29], nseg=3, L=38.12971987066261, D=0.47999998927116394, l=12.709906623554204, or=0.0, hname=dend_5[29]\n",
      "70: dend_5[18], nseg=5, L=103.36786504125361, D=1.7000000476837154, l=20.67357300825072, or=0.0, hname=dend_5[18]\n",
      "71: dend_5[24], nseg=3, L=68.18845503075642, D=1.100022225740491, l=22.729485010252137, or=0.0, hname=dend_5[24]\n",
      "72: dend_5[28], nseg=11, L=159.22354979719293, D=0.43000000715255776, l=14.474868163381176, or=0.0, hname=dend_5[28]\n",
      "73: dend_5[25], nseg=3, L=24.614489436857074, D=0.6100000143051147, l=8.204829812285691, or=0.0, hname=dend_5[25]\n",
      "74: dend_5[27], nseg=9, L=136.70922762029178, D=0.540000021457672, l=15.18991418003242, or=0.0, hname=dend_5[27]\n",
      "75: dend_5[26], nseg=7, L=101.9045981872074, D=0.4300000071525573, l=14.557799741029628, or=0.0, hname=dend_5[26]\n",
      "76: dend_5[19], nseg=1, L=22.882873861364203, D=0.9162920398333645, l=22.882873861364203, or=0.0, hname=dend_5[19]\n",
      "77: dend_5[23], nseg=3, L=40.87334016726543, D=0.43000000715255743, l=13.62444672242181, or=0.0, hname=dend_5[23]\n",
      "78: dend_5[20], nseg=5, L=91.39579907726066, D=0.7200000286102295, l=18.279159815452132, or=0.0, hname=dend_5[20]\n",
      "79: dend_5[22], nseg=7, L=90.47765047438548, D=0.4300000071525573, l=12.925378639197927, or=0.0, hname=dend_5[22]\n",
      "80: dend_5[21], nseg=7, L=91.69848479121391, D=0.43000000715255754, l=13.099783541601989, or=0.0, hname=dend_5[21]\n",
      "81: dend[59], nseg=1, L=18.528096361511285, D=1.940000057220459, l=18.528096361511285, or=0.0, hname=dend[59]\n",
      "82: dend[67], nseg=1, L=19.147491011752138, D=1.0005763775166443, l=19.147491011752138, or=0.0, hname=dend[67]\n",
      "83: dend[71], nseg=1, L=6.669798333193796, D=0.5849891550020148, l=6.669798333193796, or=0.0, hname=dend[71]\n",
      "84: dend[73], nseg=9, L=122.02439701258135, D=0.4300000071525572, l=13.558266334731261, or=0.0, hname=dend[73]\n",
      "85: dend[72], nseg=11, L=135.40768509577978, D=0.3899999856948854, l=12.309789554161798, or=0.0, hname=dend[72]\n",
      "86: dend[68], nseg=1, L=13.90670906735862, D=0.6116147272595961, l=13.90670906735862, or=0.0, hname=dend[68]\n",
      "87: dend[70], nseg=9, L=108.15805918136186, D=0.4300000071525572, l=12.01756213126243, or=0.0, hname=dend[70]\n",
      "88: dend[69], nseg=7, L=75.1176256439565, D=0.38999998569488536, l=10.731089377708072, or=0.0, hname=dend[69]\n",
      "89: dend[60], nseg=1, L=13.897322149584113, D=0.8762465496147268, l=13.897322149584113, or=0.0, hname=dend[60]\n",
      "90: dend[66], nseg=7, L=105.52767403647849, D=0.47907830296350834, l=15.075382005211212, or=0.0, hname=dend[66]\n",
      "91: dend[61], nseg=1, L=16.394722929390998, D=0.5947050463891401, l=16.394722929390998, or=0.0, hname=dend[61]\n",
      "92: dend[65], nseg=9, L=134.65334965278237, D=0.4300000071525577, l=14.961483294753597, or=0.0, hname=dend[65]\n",
      "93: dend[62], nseg=1, L=11.988107201023208, D=0.5400000214576721, l=11.988107201023208, or=0.0, hname=dend[62]\n",
      "94: dend[64], nseg=7, L=81.56352801977728, D=0.43000000715255715, l=11.651932574253896, or=0.0, hname=dend[64]\n",
      "95: dend[63], nseg=7, L=95.37629931902124, D=0.43000000715255754, l=13.625185617003035, or=0.0, hname=dend[63]\n",
      "96: dend[28], nseg=1, L=22.09387856318411, D=1.1855480061479422, l=22.09387856318411, or=0.0, hname=dend[28]\n",
      "97: dend[30], nseg=1, L=5.101919101126361, D=1.1233933780196639, l=5.101919101126361, or=0.0, hname=dend[30]\n",
      "98: dend[42], nseg=1, L=9.925000823594603, D=0.8788782032224395, l=9.925000823594603, or=0.0, hname=dend[42]\n",
      "99: dend[56], nseg=1, L=18.076286807306296, D=0.5615620678018891, l=18.076286807306296, or=0.0, hname=dend[56]\n",
      "100: dend[58], nseg=7, L=99.94493297910212, D=0.43000000715255715, l=14.27784756844316, or=0.0, hname=dend[58]\n",
      "101: dend[57], nseg=11, L=151.87834095530886, D=0.403036620426737, l=13.807121905028078, or=0.0, hname=dend[57]\n",
      "102: dend[43], nseg=1, L=13.394122319248424, D=0.594470343701589, l=13.394122319248424, or=0.0, hname=dend[43]\n",
      "103: dend[49], nseg=1, L=13.785144652582613, D=0.4973599330949736, l=13.785144652582613, or=0.0, hname=dend[49]\n",
      "104: dend[55], nseg=9, L=126.50735150205475, D=0.43000000715255754, l=14.056372389117193, or=0.0, hname=dend[55]\n",
      "105: dend[50], nseg=3, L=27.712433647335942, D=0.47999998927116394, l=9.237477882445313, or=0.0, hname=dend[50]\n",
      "106: dend[52], nseg=1, L=10.332579478111287, D=0.479999989271164, l=10.332579478111287, or=0.0, hname=dend[52]\n",
      "107: dend[54], nseg=7, L=87.73792380030416, D=0.38999998569488514, l=12.533989114329165, or=0.0, hname=dend[54]\n",
      "108: dend[53], nseg=7, L=99.70514700504546, D=0.38999998569488514, l=14.243592429292208, or=0.0, hname=dend[53]\n",
      "109: dend[51], nseg=9, L=122.86202448228845, D=0.43000000715255754, l=13.651336053587606, or=0.0, hname=dend[51]\n",
      "110: dend[44], nseg=3, L=24.468613435207224, D=0.7699999809265137, l=8.156204478402408, or=0.0, hname=dend[44]\n",
      "111: dend[48], nseg=3, L=23.976745568033714, D=0.4300000071525574, l=7.9922485226779045, or=0.0, hname=dend[48]\n",
      "112: dend[45], nseg=5, L=76.22931112206746, D=0.43000000715255726, l=15.245862224413491, or=0.0, hname=dend[45]\n",
      "113: dend[47], nseg=5, L=64.82253806727671, D=0.38999998569488514, l=12.964507613455343, or=0.0, hname=dend[47]\n",
      "114: dend[46], nseg=7, L=78.41178918031612, D=0.3899999856948855, l=11.20168416861659, or=0.0, hname=dend[46]\n",
      "115: dend[31], nseg=3, L=35.96689357843055, D=0.6100000143051147, l=11.988964526143517, or=0.0, hname=dend[31]\n",
      "116: dend[39], nseg=5, L=60.76873765387418, D=0.5400000214576721, l=12.153747530774837, or=0.0, hname=dend[39]\n",
      "117: dend[41], nseg=7, L=98.28418977077575, D=0.43000000715255754, l=14.04059853868225, or=0.0, hname=dend[41]\n",
      "118: dend[40], nseg=7, L=74.42262714214158, D=0.3899999856948856, l=10.631803877448798, or=0.0, hname=dend[40]\n",
      "119: dend[32], nseg=1, L=9.931609554517506, D=0.5610227238839002, l=9.931609554517506, or=0.0, hname=dend[32]\n",
      "120: dend[38], nseg=9, L=133.93091281323566, D=0.43000000715255726, l=14.881212534803963, or=0.0, hname=dend[38]\n",
      "121: dend[33], nseg=3, L=21.333873679846864, D=0.5400000214576721, l=7.111291226615621, or=0.0, hname=dend[33]\n",
      "122: dend[37], nseg=5, L=50.86253326304314, D=0.3899999856948854, l=10.172506652608629, or=0.0, hname=dend[37]\n",
      "123: dend[34], nseg=3, L=24.42249904096417, D=0.479999989271164, l=8.140833013654722, or=0.0, hname=dend[34]\n",
      "124: dend[36], nseg=5, L=56.68638241769371, D=0.38999998569488536, l=11.33727648353874, or=0.0, hname=dend[36]\n",
      "125: dend[35], nseg=5, L=66.0134343671509, D=0.3899999856948854, l=13.202686873430178, or=0.0, hname=dend[35]\n",
      "126: dend[29], nseg=3, L=52.160192283058564, D=0.7200000286102294, l=17.38673076101952, or=0.0, hname=dend[29]\n",
      "127: dend[15], nseg=3, L=44.7396985012134, D=1.940000057220459, l=14.9132328337378, or=0.0, hname=dend[15]\n",
      "128: dend[27], nseg=3, L=23.968256959832893, D=0.4799999892711639, l=7.989418986610964, or=0.0, hname=dend[27]\n",
      "129: dend[16], nseg=3, L=45.59581120353547, D=0.6100000143051147, l=15.198603734511822, or=0.0, hname=dend[16]\n",
      "130: dend[26], nseg=7, L=101.40271786636552, D=0.4300000071525572, l=14.48610255233793, or=0.0, hname=dend[26]\n",
      "131: dend[17], nseg=1, L=15.736502966541796, D=0.554674242743851, l=15.736502966541796, or=0.0, hname=dend[17]\n",
      "132: dend[23], nseg=7, L=81.48871668587641, D=0.47999998927116383, l=11.641245240839487, or=0.0, hname=dend[23]\n",
      "133: dend[25], nseg=3, L=34.782014393740916, D=0.3899999856948853, l=11.59400479791364, or=0.0, hname=dend[25]\n",
      "134: dend[24], nseg=3, L=37.73567420421446, D=0.3899999856948852, l=12.578558068071487, or=0.0, hname=dend[24]\n",
      "135: dend[18], nseg=3, L=23.53491534839579, D=0.479999989271164, l=7.844971782798596, or=0.0, hname=dend[18]\n",
      "136: dend[20], nseg=1, L=13.904115593000771, D=0.43955811136030365, l=13.904115593000771, or=0.0, hname=dend[20]\n",
      "137: dend[22], nseg=5, L=67.28144715871233, D=0.3899999856948852, l=13.456289431742466, or=0.0, hname=dend[22]\n",
      "138: dend[21], nseg=9, L=117.46093240586502, D=0.3899999856948851, l=13.05121471176278, or=0.0, hname=dend[21]\n",
      "139: dend[19], nseg=9, L=116.65857768777781, D=0.38999998569488536, l=12.962064187530867, or=0.0, hname=dend[19]\n",
      "140: dend[0], nseg=1, L=34.51966821983582, D=2.3361582238987046, l=34.51966821983582, or=0.0, hname=dend[0]\n",
      "141: dend[14], nseg=13, L=192.4897419235111, D=0.6100000143051143, l=14.80690322488547, or=0.0, hname=dend[14]\n",
      "142: dend[1], nseg=1, L=25.908706511325285, D=1.7572337671609084, l=25.908706511325285, or=0.0, hname=dend[1]\n",
      "143: dend[7], nseg=1, L=16.37591788680364, D=1.7127504768367225, l=16.37591788680364, or=0.0, hname=dend[7]\n",
      "144: dend[11], nseg=3, L=23.25659842322332, D=0.7200000286102295, l=7.752199474407774, or=0.0, hname=dend[11]\n",
      "145: dend[13], nseg=9, L=118.59766351874077, D=0.4300000071525573, l=13.177518168748975, or=0.0, hname=dend[13]\n",
      "146: dend[12], nseg=7, L=89.24157506999843, D=0.4300000071525573, l=12.748796438571205, or=0.0, hname=dend[12]\n",
      "147: dend[8], nseg=7, L=102.02702238869485, D=0.6100000143051145, l=14.575288912670691, or=0.0, hname=dend[8]\n",
      "148: dend[10], nseg=9, L=120.97604266392503, D=0.4300000071525576, l=13.441782518213891, or=0.0, hname=dend[10]\n",
      "149: dend[9], nseg=5, L=62.692428296308954, D=0.43000000715255754, l=12.538485659261791, or=0.0, hname=dend[9]\n",
      "150: dend[2], nseg=3, L=41.76552812675746, D=0.47999998927116394, l=13.921842708919153, or=0.0, hname=dend[2]\n",
      "151: dend[4], nseg=3, L=48.10361158228876, D=0.4799999892711639, l=16.034537194096252, or=0.0, hname=dend[4]\n",
      "152: dend[6], nseg=5, L=47.03910829258013, D=0.4300000071525575, l=9.407821658516026, or=0.0, hname=dend[6]\n",
      "153: dend[5], nseg=5, L=75.2194048284857, D=0.4300000071525575, l=15.043880965697138, or=0.0, hname=dend[5]\n",
      "154: dend[3], nseg=3, L=43.53402380243615, D=0.4300000071525574, l=14.511341267478718, or=0.0, hname=dend[3]\n",
      "155: axon[0], nseg=5, L=97.09121768178117, D=1.0000000000000004, l=19.418243536356236, or=0.0, hname=axon[0]\n"
     ]
    }
   ],
   "source": [
    "secL=np.zeros(len(sec_list))\n",
    "secD=np.zeros(len(sec_list))\n",
    "segL=np.zeros(len(sec_list))\n",
    "for i in range(len(sec_list)):\n",
    "    sec = sec_list[i]\n",
    "    secL[i]=sec.L\n",
    "    secD[i]=sec.diam\n",
    "    segL[i]=sec.L/sec.nseg\n",
    "    print(f\"{i}: {sec.name()}, nseg={sec.nseg}, L={sec.L}, D={sec.diam}, l={sec.L/sec.nseg}, or={sec.orientation()}, hname={sec.hname()}\")\n",
    "segA=h.PI*secD*segL\n",
    "segV=h.PI*secD**2*segL/4\n"
   ]
  },
  {
   "cell_type": "code",
   "execution_count": 6,
   "metadata": {},
   "outputs": [
    {
     "data": {
      "text/plain": [
       "(5.101919101126361, 34.51966821983582, 0.3899999856948851, 11.361924139195267)"
      ]
     },
     "execution_count": 6,
     "metadata": {},
     "output_type": "execute_result"
    }
   ],
   "source": [
    "(min(segL),max(segL),min(secD),max(secD))"
   ]
  },
  {
   "cell_type": "code",
   "execution_count": 7,
   "metadata": {},
   "outputs": [
    {
     "data": {
      "image/png": "[encoded data removed]",
      "text/plain": [
       "<Figure size 640x480 with 1 Axes>"
      ]
     },
     "metadata": {},
     "output_type": "display_data"
    }
   ],
   "source": [
    "x=np.array(range(len(sec_list)),dtype=int)\n",
    "plt.plot(x,segL,label='length')\n",
    "plt.plot(x,secD,label='diameter')\n",
    "#plt.plot(x,segA,label='area')\n",
    "#plt.plot(x,segV,label='volume')\n",
    "plt.ylabel('Value')\n",
    "plt.xlabel('Section number')\n",
    "# show a legend on the plot\n",
    "plt.legend()\n",
    "plt.show()"
   ]
  },
  {
   "cell_type": "code",
   "execution_count": 8,
   "metadata": {},
   "outputs": [
    {
     "data": {
      "image/png": "[encoded data removed]",
      "text/plain": [
       "<Figure size 640x480 with 1 Axes>"
      ]
     },
     "metadata": {},
     "output_type": "display_data"
    }
   ],
   "source": [
    "plt.scatter(segL,secD)\n",
    "plt.xlabel('Length')\n",
    "plt.ylabel('Diameter')\n",
    "plt.show()"
   ]
  },
  {
   "cell_type": "code",
   "execution_count": 9,
   "metadata": {},
   "outputs": [
    {
     "data": {
      "image/png": "[encoded data removed]",
      "text/plain": [
       "<Figure size 640x480 with 1 Axes>"
      ]
     },
     "metadata": {},
     "output_type": "display_data"
    }
   ],
   "source": [
    "plt.scatter(segL,segA)\n",
    "plt.xlabel('Length')\n",
    "plt.ylabel('Area')\n",
    "plt.show()"
   ]
  },
  {
   "cell_type": "code",
   "execution_count": 10,
   "metadata": {},
   "outputs": [
    {
     "data": {
      "image/png": "[encoded data removed]",
      "text/plain": [
       "<Figure size 640x480 with 1 Axes>"
      ]
     },
     "metadata": {},
     "output_type": "display_data"
    }
   ],
   "source": [
    "plt.scatter(segA,segV)\n",
    "plt.xlabel('Area')\n",
    "plt.ylabel('Volume')\n",
    "plt.show()"
   ]
  },
  {
   "cell_type": "code",
   "execution_count": null,
   "metadata": {},
   "outputs": [],
   "source": [
    "(dist_to_soma(sec(0)),dist_to_soma(sec(1)),sec.L,np.linspace(0,1,sec.nseg+2),np.linspace(0,1,sec.nseg+2)[1:-1])"
   ]
  },
  {
   "cell_type": "code",
   "execution_count": null,
   "metadata": {},
   "outputs": [],
   "source": [
    "dts = [dist_to_soma(s) for s in seg_list]\n",
    "dts[:11]"
   ]
  },
  {
   "cell_type": "code",
   "execution_count": null,
   "metadata": {},
   "outputs": [],
   "source": [
    "import re\n",
    "import pandas as pd\n",
    "p = re.compile(\"^([^\\\\[]+)\\\\[.+\")\n",
    "tps = [p.sub(\"\\\\1\",seg.sec.name()) for seg in seg_list]\n",
    "pd.Series(tps).drop_duplicates().tolist()"
   ]
  },
  {
   "cell_type": "code",
   "execution_count": null,
   "metadata": {},
   "outputs": [],
   "source": [
    "seg = seg_list[0]\n",
    "(seg.node_index(),seg.x,seg.sec)"
   ]
  },
  {
   "cell_type": "code",
   "execution_count": null,
   "metadata": {},
   "outputs": [],
   "source": [
    "(n,min(dts),max(dts))"
   ]
  },
  {
   "cell_type": "code",
   "execution_count": null,
   "metadata": {
    "collapsed": false,
    "jupyter": {
     "outputs_hidden": false
    }
   },
   "outputs": [],
   "source": [
    "def sushi_system(a,b,c,d):\n",
    "    \"\"\"\n",
    "    Returns a matrix A, such that dx/dt = A*x\n",
    "    \n",
    "    N = # of compartments\n",
    "    A is (2N x 2N) matrix\n",
    "    x is (2N x 1) vector.\n",
    "      The first N elements correspond to concentrations of u (molecules in transit)\n",
    "      The second half correspond to concentrations of u-star (active molecules)\n",
    "    The trafficking rate constants along the microtubules are given by the vectors \"a\" and \"b\"\n",
    "    The rate constants for u turning into u* is given by the vector \"c\"\n",
    "    The rate constants for the degradation of u* is given by the vector \"d\"\n",
    "    \"\"\"\n",
    "    # number of compartments\n",
    "    N = len(d)\n",
    "    \n",
    "    ## State-space equations\n",
    "    #  dx/dt = Ax + Bu\n",
    "    A = np.zeros((2*N,2*N))\n",
    "\n",
    "    # Trafficking along belt\n",
    "    # Iterative traversal of dendritic tree in pre-order\n",
    "    i = 0\n",
    "    section = None\n",
    "    parentStack = [(None,h.soma[0])]\n",
    "    while len(parentStack)>0:\n",
    "        # Get next section to traverse\n",
    "        #  --> p is parent index, section is h.Section object\n",
    "        (p,section) = parentStack.pop()\n",
    "        \n",
    "        # Trafficking to/from parent\n",
    "        if p is not None:\n",
    "            # Out of parent, into child\n",
    "            ai = a.pop()\n",
    "            A[p,p] += -ai\n",
    "            A[i,p] += ai\n",
    "            # Into parent, out of child\n",
    "            bi = b.pop()\n",
    "            A[p,i] += bi\n",
    "            A[i,i] += -bi\n",
    "        \n",
    "        # visit all segments in compartment\n",
    "        for (j,seg) in enumerate(section):\n",
    "            # Deal with out/into rates within compartment, just tridiag matrix\n",
    "            if j>0:\n",
    "                # Out of parent, into child\n",
    "                ai = a.pop()\n",
    "                A[i-1,i-1] += -ai\n",
    "                A[i,i-1] += ai\n",
    "                # Into parent, out of child\n",
    "                bi = b.pop()\n",
    "                A[i-1,i] += bi\n",
    "                A[i,i] += -bi\n",
    "            # move onto next compartment\n",
    "            i += 1\n",
    "        \n",
    "        # now visit children in pre-order\n",
    "        child_list = list(h.SectionRef(sec=section).child)\n",
    "        if child_list is not None:\n",
    "            child_list.reverse()\n",
    "        for c_sec in child_list:\n",
    "            parentStack.append([i-1,c_sec]) # append parent index and child\n",
    "    \n",
    "    # Trafficking off the belt\n",
    "    for i in range(N):\n",
    "        A[i,i] += -c[i]\n",
    "        A[i+N,i] += c[i]\n",
    "\n",
    "    # Degradation after being taken off the belt\n",
    "    for i in range(N):\n",
    "        A[i+N,i+N] = -d[i]\n",
    "    \n",
    "    return A"
   ]
  },
  {
   "cell_type": "code",
   "execution_count": null,
   "metadata": {
    "collapsed": false,
    "jupyter": {
     "outputs_hidden": false
    }
   },
   "outputs": [],
   "source": [
    "def trafficking_solution(utarg):\n",
    "    \"\"\" Solve the problem by tuning trafficking rates, like Figs 1 and 2. \"\"\"\n",
    "    x = []\n",
    "    \n",
    "    # Iterative traversal of dendritic tree in pre-order\n",
    "    i = 0\n",
    "    section = None\n",
    "    parentStack = [(None,h.soma[0])]\n",
    "    while len(parentStack)>0:\n",
    "        # Get next section to traverse\n",
    "        #  --> p is parent index, section is h.Section object\n",
    "        (p,section) = parentStack.pop()\n",
    "        \n",
    "        # Trafficking to/from parent\n",
    "        if p is not None:\n",
    "            mp = utarg[p] # concentration in parent\n",
    "            mc = utarg[i] # concentration in child\n",
    "            x.insert(0,mp/mc)\n",
    "        \n",
    "        # visit all segments in compartment\n",
    "        for (j,seg) in enumerate(section):\n",
    "            # Deal with out/into rates within compartment, just tridiag matrix\n",
    "            if j>0:\n",
    "                mp = utarg[i-1]\n",
    "                mc = utarg[i]\n",
    "                x.insert(0,mp/mc)\n",
    "                \n",
    "            # move onto next compartment\n",
    "            i += 1\n",
    "        \n",
    "        # now visit children in pre-order\n",
    "        child_list = list(h.SectionRef(sec=section).child)\n",
    "        if child_list is not None:\n",
    "            child_list.reverse()\n",
    "        for c_sec in child_list:\n",
    "            parentStack.append([i-1,c_sec]) # append parent index and child\n",
    "    \n",
    "    # return calculated guesses (flip, up/down since get_deriv pops from start)\n",
    "    return np.array(x)\n",
    "\n",
    "def get_sys_matrix(utarg,F=0.5,Ctau=1e-3,dv=1e-7):\n",
    "    # F is a mixing factor between 0 and 1\n",
    "    K = np.sum(utarg)/n\n",
    "    x = trafficking_solution(F*utarg + (1-F)*K)\n",
    "    a = (1/(1+x))\n",
    "    a = list(a)\n",
    "    b = list((1/(1+x**-1)))\n",
    "    d = list(np.ones(n)*dv)\n",
    "    c = list(Ctau*utarg/(F*utarg + (1-F)*K))\n",
    "    A = sushi_system(a,b,c,d)\n",
    "    return A"
   ]
  },
  {
   "cell_type": "code",
   "execution_count": null,
   "metadata": {
    "collapsed": false,
    "jupyter": {
     "outputs_hidden": false
    }
   },
   "outputs": [],
   "source": [
    "# matrix exponential used to solve linear system\n",
    "from scipy.linalg import expm\n",
    "\n",
    "# initial condition, u starts only in soma and is trafficked out to dendrites\n",
    "u0 = np.zeros(2*n)\n",
    "u0[0] = 1.0  # compartment 0 is the soma"
   ]
  },
  {
   "cell_type": "code",
   "execution_count": null,
   "metadata": {},
   "outputs": [],
   "source": [
    "utarg = np.ones(len(seg_list))\n",
    "utarg[260:393] *= 10\n",
    "utarg[393:] *= 0.1 # no trafficking to basal dend\n",
    "utarg /= np.sum(utarg)\n",
    "F=0.5\n",
    "Ctau=1e-3\n",
    "dv=1e-7\n",
    "K = np.sum(utarg)/n\n",
    "x = trafficking_solution(F*utarg + (1-F)*K)\n",
    "a = (1/(1+x))\n",
    "a = list(a)\n",
    "b = list((1/(1+x**-1)))\n",
    "d = list(np.ones(n)*dv)\n",
    "c = list(Ctau*utarg/(F*utarg + (1-F)*K))\n",
    "A = sushi_system(a,b,c,d)\n",
    "(x.shape, A.shape[0]/2)"
   ]
  },
  {
   "cell_type": "code",
   "execution_count": null,
   "metadata": {},
   "outputs": [],
   "source": [
    "N = len(d)\n",
    "An = np.zeros((2*N,2*N))\n",
    "(N, len(a),len(b),len(c),An.shape,x.shape, (1/(1+x)).shape)"
   ]
  },
  {
   "cell_type": "code",
   "execution_count": null,
   "metadata": {},
   "outputs": [],
   "source": [
    "a = (1/(1+x))\n",
    "a = list(a)\n",
    "aZ = []\n",
    "(len(a),a.pop(),len(a),a.pop())"
   ]
  },
  {
   "cell_type": "code",
   "execution_count": null,
   "metadata": {
    "collapsed": false,
    "jupyter": {
     "outputs_hidden": false
    }
   },
   "outputs": [],
   "source": [
    "def solve_u(w,V,Vinv,t):\n",
    "    D = np.diag(np.exp(w*t))          # diagonal matrix exponential\n",
    "    PHI = np.real(V.dot(D.dot(Vinv))) # state transition matrix\n",
    "    return PHI.dot(u0)                # calculate u(t)\n",
    "\n",
    "def run_sim(A,nframes=10):\n",
    "    # Run a simulation (log time)\n",
    "    # --> this is a linear system; thus, matrix exponential provides exact solution\n",
    "    utrace = [u0]\n",
    "    t = np.logspace(-0.5,8.5,nframes)\n",
    "    w,V = scipy.linalg.eig(A)\n",
    "    Vinv = np.linalg.inv(V)\n",
    "    t = np.logspace(-0.5,8.5,nframes)\n",
    "    for t_ in t: utrace.append(solve_u(w,V,Vinv,t_))\n",
    "    return np.array(utrace).T\n",
    "\n",
    "def animate_sim(climits=[0,0.0035]):\n",
    "    u = utrace[n:,:]\n",
    "    fig = plt.figure(figsize=(8,8))\n",
    "    shapeax = plt.subplot(111, projection='3d')\n",
    "    lines = shapeplot(h,shapeax,order='pre',lw=2)\n",
    "    shapeax.view_init(elev=80,azim=-90)\n",
    "    plt.title('distribution of active/detached cargo',fontweight='bold',fontsize=14)\n",
    "    plt.axis('off')\n",
    "\n",
    "    # Hack to get a colorbar\n",
    "    # http://stackoverflow.com/questions/8342549/matplotlib-add-colorbar-to-a-sequence-of-line-plots\n",
    "    sm = plt.cm.ScalarMappable(cmap=plt.cm.cool, norm=plt.Normalize(climits[0],climits[1])) \n",
    "    #sm._A = []\n",
    "    #plt.colorbar(sm, shrink=0.5)\n",
    "    #plt.colorbar(sm)\n",
    "    plt.tight_layout()\n",
    "\n",
    "    anim_func = shapeplot_animate(u.T,lines,u.shape[1],clim=climits,cmap=cm.cool)\n",
    "    return animation.FuncAnimation(fig, anim_func, frames=u.shape[1], interval=5e2, blit=True)\n",
    "\n",
    "def snap_ss(name,clim=[0,0.0035],cmap=plt.cm.cool):\n",
    "    u = utrace[n:,:]\n",
    "    fig = plt.figure(figsize=(8,8))\n",
    "    shapeax = plt.subplot(111, projection='3d')\n",
    "    lines = shapeplot(h,shapeax,cvals=u[:,-1],clim=clim,\\\n",
    "                      cmap=cmap,order='pre',lw=2)\n",
    "    shapeax.view_init(elev=80,azim=-90)\n",
    "    plt.title('steady-state',fontweight='bold',fontsize=14)\n",
    "\n",
    "    # colorbar\n",
    "    sm = cm.ScalarMappable(cmap=cmap, norm=plt.Normalize(clim[0],clim[1])) \n",
    "    #sm = plt.cm.ScalarMappable(cmap=plt.cm.cool, norm=plt.Normalize(clim[0],clim[1])) \n",
    "    #sm._A = []\n",
    "    #plt.colorbar(sm, shrink=0.5)\n",
    "    #plt.colorbar(sm,cax=shapeax)\n",
    "    #plt.colorbar()\n",
    "    plt.tight_layout()\n",
    "    plt.axis('off')\n",
    "    plt.savefig(name+'.svg')"
   ]
  },
  {
   "cell_type": "code",
   "execution_count": null,
   "metadata": {},
   "outputs": [],
   "source": [
    "u0"
   ]
  },
  {
   "cell_type": "code",
   "execution_count": null,
   "metadata": {},
   "outputs": [],
   "source": [
    "utrace = [u0]\n",
    "clr = [int(i / 37) for i in range(n)]\n",
    "utrace.append(np.array(clr+clr))\n",
    "utrace = np.array(utrace).T\n",
    "utrace.shape"
   ]
  },
  {
   "cell_type": "code",
   "execution_count": null,
   "metadata": {},
   "outputs": [],
   "source": [
    "fig, ax = plt.subplots()\n",
    "ax.scatter(dts,clr)\n",
    "ax.set_xlabel('Distance to soma')\n",
    "ax.set_ylabel('Segment group')"
   ]
  },
  {
   "cell_type": "code",
   "execution_count": null,
   "metadata": {},
   "outputs": [],
   "source": [
    "from PyNeuronToolbox.morphology import get_section_path, interpolate_jagged\n",
    "x=[]\n",
    "y=[]\n",
    "z=[]\n",
    "i=0\n",
    "for sec in sec_list:\n",
    "    xyz = get_section_path(h,sec)\n",
    "    seg_paths = interpolate_jagged(xyz,sec.nseg)\n",
    "    for (j,path) in enumerate(seg_paths):\n",
    "        x.append(path[0,0])\n",
    "        y.append(path[0,1])\n",
    "        z.append(path[0,2])\n",
    "        i += 1\n",
    "    \n",
    "(i,(min(x),max(x)),(min(y),max(y)),(min(z),max(z)))"
   ]
  },
  {
   "cell_type": "code",
   "execution_count": null,
   "metadata": {},
   "outputs": [],
   "source": [
    "#bins=np.array([-165,-127.5,-90,-52.5,-15,10,52.14285714,94.28571429,136.4285714,178.5714286,220.7142857,262.8571429,305,347.1428571,389.2857143,431.4285714,473.5714286,515.7142857,557.8571429,600])\n",
    "bins=np.array([-127.5,-90,-52.5,-10,5,52.14285714,94.28571429,136.4285714,178.5714286,220.7142857,262.8571429,305,347.1428571,389.2857143,431.4285714,473.5714286,515.7142857,557.8571429])\n",
    "result = np.digitize(np.array(y), bins)\n",
    "(len(result),len(bins),result)"
   ]
  },
  {
   "cell_type": "code",
   "execution_count": null,
   "metadata": {},
   "outputs": [],
   "source": [
    "(min(result),max(result),len(np.concatenate([result,result])))"
   ]
  },
  {
   "cell_type": "code",
   "execution_count": null,
   "metadata": {},
   "outputs": [],
   "source": [
    "utrace = [u0]\n",
    "utrace.append(np.concatenate([result,result]))\n",
    "utrace = np.array(utrace).T\n",
    "utrace.shape"
   ]
  },
  {
   "cell_type": "code",
   "execution_count": null,
   "metadata": {},
   "outputs": [],
   "source": [
    "result[:11]"
   ]
  },
  {
   "cell_type": "code",
   "execution_count": null,
   "metadata": {},
   "outputs": [],
   "source": [
    "# snapshot of steady-state\n",
    "snap_ss('geom',clim=[0,20],cmap=plt.cm.YlOrBr_r)\n",
    "plt.axis('on')"
   ]
  },
  {
   "cell_type": "code",
   "execution_count": null,
   "metadata": {},
   "outputs": [],
   "source": [
    "sm = plt.cm.ScalarMappable(cmap=plt.cm.YlOrBr_r, norm=plt.Normalize(0,20)) \n",
    "#plt.colorbar(sm)\n",
    "fig, ax = plt.subplots(figsize=(1, 4))\n",
    "# vmin, vmax =  np.nanmin(A), np.nanmax(A)\n",
    "cbar = fig.colorbar(sm, ax)\n",
    "plt.tight_layout()\n",
    "plt.show()"
   ]
  },
  {
   "cell_type": "code",
   "execution_count": null,
   "metadata": {},
   "outputs": [],
   "source": [
    "(seg_list[:3],x[:3],y[:3],z[:3])"
   ]
  },
  {
   "cell_type": "code",
   "execution_count": null,
   "metadata": {},
   "outputs": [],
   "source": [
    "sec=sec_list[0]\n",
    "xyz0 = get_section_path(h,sec)\n",
    "seg_paths0 = interpolate_jagged(xyz0,sec.nseg)\n",
    "sec=sec_list[1]\n",
    "xyz1 = get_section_path(h,sec)\n",
    "seg_paths1 = interpolate_jagged(xyz1,sec.nseg)\n",
    "(sec_list[:2],(xyz0,xyz1),(seg_paths0,seg_paths1))"
   ]
  },
  {
   "cell_type": "code",
   "execution_count": null,
   "metadata": {},
   "outputs": [],
   "source": [
    "import math\n",
    "xS=[-5.68000019e-01, -1.00000000e+00, -2.30000000e-02] \n",
    "xE=[-8.50000000e+00,  6.05000000e+01,  4.45000000e+01]\n",
    "sqd=[(xS[i]-xE[i]) ** 2 for i in range(len(xS))]\n",
    "(sqd, sum(sqd), math.sqrt(sum(sqd)))"
   ]
  },
  {
   "cell_type": "code",
   "execution_count": null,
   "metadata": {},
   "outputs": [],
   "source": [
    "(sec,sec.nseg,sec.L)"
   ]
  },
  {
   "cell_type": "code",
   "execution_count": null,
   "metadata": {},
   "outputs": [],
   "source": [
    "# snapshot of steady-state\n",
    "snap_ss('1b',clim=[0,20],cmap=plt.cm.YlOrBr_r)\n",
    "plt.axis('on')"
   ]
  },
  {
   "cell_type": "code",
   "execution_count": null,
   "metadata": {},
   "outputs": [],
   "source": [
    "sm = plt.cm.ScalarMappable(cmap=plt.cm.YlOrBr, norm=plt.Normalize(0,20)) \n",
    "#plt.colorbar(sm)\n",
    "fig, ax = plt.subplots(figsize=(1, 4))\n",
    "# vmin, vmax =  np.nanmin(A), np.nanmax(A)\n",
    "cbar = fig.colorbar(sm, ax)\n",
    "plt.tight_layout()\n",
    "plt.show()"
   ]
  },
  {
   "cell_type": "code",
   "execution_count": null,
   "metadata": {},
   "outputs": [],
   "source": [
    "#['soma', 'dend_5', 'apic', 'dend', 'axon']\n",
    "u1=np.zeros(2*n)\n",
    "for i in range(n):\n",
    "    if result[i] == 4:\n",
    "        u1[i+n] = 2\n",
    "        u1[i]=1\n",
    "\n",
    "utrace = [u1,u1]\n",
    "utrace = np.array(utrace).T\n",
    "snap_ss('geom_bin_4',clim=[0,2],cmap=plt.cm.YlOrBr)\n",
    "plt.axis('on')"
   ]
  },
  {
   "cell_type": "code",
   "execution_count": null,
   "metadata": {},
   "outputs": [],
   "source": [
    "#['soma', 'dend_5', 'apic', 'dend', 'axon']\n",
    "u1=np.zeros(2*n)\n",
    "for i in range(n):\n",
    "    if 'soma' == tps[i]:\n",
    "        u1[i+n] = 2\n",
    "        u1[i]=1\n",
    "\n",
    "utrace = [u1,u1]\n",
    "utrace = np.array(utrace).T\n",
    "snap_ss('soma',clim=[0,2],cmap=plt.cm.YlOrBr)"
   ]
  },
  {
   "cell_type": "code",
   "execution_count": null,
   "metadata": {},
   "outputs": [],
   "source": [
    "(len(result),min(result),max(result),min(dts),max(dts))"
   ]
  },
  {
   "cell_type": "code",
   "execution_count": null,
   "metadata": {},
   "outputs": [],
   "source": [
    "#['soma', 'dend_5', 'apic', 'dend', 'axon']\n",
    "u1=-1*np.ones(2*n)\n",
    "for i in range(n):\n",
    "    if 'dend_5' == tps[i]:\n",
    "        u1[i+n] = 2\n",
    "        u1[i]= 1\n",
    "\n",
    "utrace = [u1,u1]\n",
    "utrace = np.array(utrace).T\n",
    "snap_ss('dend_5',clim=[0,2],cmap=plt.cm.YlOrBr)"
   ]
  },
  {
   "cell_type": "code",
   "execution_count": null,
   "metadata": {},
   "outputs": [],
   "source": [
    "(min(u1),max(u1))"
   ]
  },
  {
   "cell_type": "code",
   "execution_count": null,
   "metadata": {},
   "outputs": [],
   "source": [
    "#['soma', 'dend_5', 'apic', 'dend', 'axon']\n",
    "u1=np.zeros(2*n)\n",
    "for i in range(n):\n",
    "    if 'apic' == tps[i]:\n",
    "        u1[i+n] = 2\n",
    "        u1[i]= 1\n",
    "\n",
    "utrace = [u1,u1]\n",
    "utrace = np.array(utrace).T\n",
    "snap_ss('apic',clim=[0,2],cmap=plt.cm.YlOrBr)"
   ]
  },
  {
   "cell_type": "code",
   "execution_count": null,
   "metadata": {},
   "outputs": [],
   "source": [
    "(min(u1),max(u1))"
   ]
  },
  {
   "cell_type": "code",
   "execution_count": null,
   "metadata": {},
   "outputs": [],
   "source": [
    "#['soma', 'dend_5', 'apic', 'dend', 'axon']\n",
    "ddd=[]\n",
    "u1=np.zeros(2*n)\n",
    "for i in range(n):\n",
    "    if 'dend' == tps[i]:\n",
    "        u1[i+n] = 2\n",
    "        u1[i]= 1\n",
    "        ddd.append(dts[i])\n",
    "\n",
    "utrace = [u1,u1]\n",
    "utrace = np.array(utrace).T\n",
    "snap_ss('dend',clim=[0,2],cmap=plt.cm.YlOrBr)"
   ]
  },
  {
   "cell_type": "code",
   "execution_count": null,
   "metadata": {},
   "outputs": [],
   "source": [
    "(min(u1),max(u1),min(ddd),max(ddd))"
   ]
  },
  {
   "cell_type": "code",
   "execution_count": null,
   "metadata": {},
   "outputs": [],
   "source": [
    "#['soma', 'dend_5', 'apic', 'dend', 'axon']\n",
    "u1=np.zeros(2*n)\n",
    "for i in range(n):\n",
    "    if 'axon' == tps[i]:\n",
    "        u1[i+n] = 2\n",
    "        u1[i]=1\n",
    "\n",
    "utrace = [u1,u1]\n",
    "utrace = np.array(utrace).T\n",
    "snap_ss('axon',clim=[0,2],cmap=plt.cm.YlOrBr)"
   ]
  },
  {
   "cell_type": "code",
   "execution_count": null,
   "metadata": {},
   "outputs": [],
   "source": [
    "for sec in sec_list:\n",
    "    print(f\"{sec.name()}: {sec.nseg}\")"
   ]
  },
  {
   "cell_type": "code",
   "execution_count": null,
   "metadata": {},
   "outputs": [],
   "source": [
    "import sushibelt\n",
    "import time"
   ]
  },
  {
   "cell_type": "markdown",
   "metadata": {},
   "source": [
    "First Case: timescales separated ($c_i$ small), little interference/competition\n",
    "-----"
   ]
  },
  {
   "cell_type": "code",
   "execution_count": null,
   "metadata": {},
   "outputs": [],
   "source": [
    "# Distal inputs alone\n",
    "utarg = np.ones(len(seg_list))\n",
    "utarg[260:393] *= 10\n",
    "utarg[393:] *= 0.1 # no trafficking to basal dend\n",
    "u1 = np.concatenate((utarg,utarg))\n",
    "utrace = [u1,u1]\n",
    "utrace = np.array(utrace).T\n",
    "snap_ss('1a_target',clim=[0,10],cmap=plt.cm.YlOrBr)\n"
   ]
  },
  {
   "cell_type": "code",
   "execution_count": null,
   "metadata": {},
   "outputs": [],
   "source": [
    "(utrace.shape,[(np.sum(utrace[:n,i]),np.sum(utrace[n:,i]),np.sum(utrace[:,i])) for i in range(utrace.shape[1])])"
   ]
  },
  {
   "cell_type": "code",
   "execution_count": null,
   "metadata": {
    "collapsed": false,
    "jupyter": {
     "outputs_hidden": false
    }
   },
   "outputs": [],
   "source": [
    "# Run simulation\n",
    "utarg /= np.sum(utarg)\n",
    "initTime=time.time()\n",
    "A = get_sys_matrix(utarg,F=0,Ctau=1e-5,dv=0)\n",
    "utrace = run_sim(A)\n",
    "FinalTime=time.time()-initTime\n",
    "\n",
    "# snapshot of steady-state\n",
    "snap_ss('1a')\n",
    "\n",
    "# animation\n",
    "#animate_sim()\n",
    "print(FinalTime)"
   ]
  },
  {
   "cell_type": "code",
   "execution_count": null,
   "metadata": {},
   "outputs": [],
   "source": [
    "(utrace.shape,[(np.sum(utrace[:n,i]),np.sum(utrace[n:,i]),np.sum(utrace[:,i])) for i in range(utrace.shape[1])])"
   ]
  },
  {
   "cell_type": "code",
   "execution_count": null,
   "metadata": {},
   "outputs": [],
   "source": [
    "initTime=time.time()\n",
    "utrace0 = sushibelt.run_sim(h,A)\n",
    "FinalTime=time.time()-initTime\n",
    "print(FinalTime)"
   ]
  },
  {
   "cell_type": "code",
   "execution_count": null,
   "metadata": {},
   "outputs": [],
   "source": [
    "(utrace.shape,utrace0[0].shape,utrace0[1].shape)"
   ]
  },
  {
   "cell_type": "code",
   "execution_count": null,
   "metadata": {},
   "outputs": [],
   "source": [
    "from PyNeuronToolbox.morphology import shapeplot, allsec_preorder, root_indices, dist_between, shapeplot_animate\n",
    "roots = root_indices(allsec_preorder(h))\n",
    "roots"
   ]
  },
  {
   "cell_type": "code",
   "execution_count": null,
   "metadata": {},
   "outputs": [],
   "source": [
    "# Distal and Proximal together\n",
    "utarg = np.ones(len(seg_list))\n",
    "utarg[:393] *= 10\n",
    "utarg[393:] *= 0.1 # no trafficking to basal dend\n",
    "u1 = np.concatenate((utarg,utarg))\n",
    "utrace = [u1,u1]\n",
    "utrace = np.array(utrace).T\n",
    "snap_ss('1b_target',clim=[0,10],cmap=plt.cm.YlOrBr)"
   ]
  },
  {
   "cell_type": "code",
   "execution_count": null,
   "metadata": {
    "collapsed": false,
    "jupyter": {
     "outputs_hidden": false
    }
   },
   "outputs": [],
   "source": [
    "utarg /= np.sum(utarg)\n",
    "\n",
    "# Run simulation\n",
    "initTime=time.time()\n",
    "A = get_sys_matrix(utarg,F=0,Ctau=1e-5,dv=1e-9)\n",
    "utrace = run_sim(A)\n",
    "FinalTime=time.time()-initTime\n",
    "\n",
    "# snapshot of steady-state\n",
    "snap_ss('1b')\n",
    "\n",
    "# animation\n",
    "#animate_sim()\n",
    "print(FinalTime)"
   ]
  },
  {
   "cell_type": "code",
   "execution_count": null,
   "metadata": {},
   "outputs": [],
   "source": [
    "(utrace.shape,[(np.sum(utrace[:n,i]),np.sum(utrace[n:,i]),np.sum(utrace[:,i])) for i in range(utrace.shape[1])])"
   ]
  },
  {
   "cell_type": "markdown",
   "metadata": {},
   "source": [
    "Second Case: timescales not separated, proximal inputs are *greedy* and prevent distal transport\n",
    "----"
   ]
  },
  {
   "cell_type": "code",
   "execution_count": null,
   "metadata": {},
   "outputs": [],
   "source": [
    "# Distal inputs alone\n",
    "utarg = np.ones(len(seg_list))\n",
    "utarg[260:393] *= 10\n",
    "utarg[393:] *= 0.1 # no proximal trafficking\n",
    "u1 = np.concatenate((utarg,utarg))\n",
    "utrace = [u1,u1]\n",
    "utrace = np.array(utrace).T\n",
    "snap_ss('2a_target',clim=[0,10],cmap=plt.cm.YlOrBr)"
   ]
  },
  {
   "cell_type": "code",
   "execution_count": null,
   "metadata": {
    "collapsed": false,
    "jupyter": {
     "outputs_hidden": false
    }
   },
   "outputs": [],
   "source": [
    "utarg /= np.sum(utarg)\n",
    "\n",
    "# Run simulation\n",
    "initTime=time.time()\n",
    "A = get_sys_matrix(utarg,F=1,Ctau=1e-4,dv=1e-9)\n",
    "utrace = run_sim(A)\n",
    "FinalTime=time.time()-initTime\n",
    "\n",
    "# snapshot of steady-state\n",
    "snap_ss('2a')\n",
    "\n",
    "# animation\n",
    "#animate_sim()\n",
    "print(FinalTime)"
   ]
  },
  {
   "cell_type": "code",
   "execution_count": null,
   "metadata": {},
   "outputs": [],
   "source": [
    "(utrace.shape,[(np.sum(utrace[:n,i]),np.sum(utrace[n:,i]),np.sum(utrace[:,i])) for i in range(utrace.shape[1])])"
   ]
  },
  {
   "cell_type": "code",
   "execution_count": null,
   "metadata": {
    "collapsed": false,
    "jupyter": {
     "outputs_hidden": false
    }
   },
   "outputs": [],
   "source": [
    "# Distal and Proximal together\n",
    "utarg = np.ones(len(seg_list))\n",
    "utarg[:393] *= 10\n",
    "utarg[393:] *= 0.1 # no proximal trafficking\n",
    "utarg /= np.sum(utarg)\n",
    "\n",
    "# Run simulation\n",
    "initTime=time.time()\n",
    "A = get_sys_matrix(utarg,F=1,Ctau=1e-4,dv=1e-9)\n",
    "utrace = run_sim(A)\n",
    "FinalTime=time.time()-initTime\n",
    "\n",
    "# snapshot of steady-state\n",
    "snap_ss('2b')\n",
    "\n",
    "# animation\n",
    "#animate_sim()\n",
    "print(FinalTime)"
   ]
  },
  {
   "cell_type": "code",
   "execution_count": null,
   "metadata": {},
   "outputs": [],
   "source": [
    "(utrace.shape,[(np.sum(utrace[:n,i]),np.sum(utrace[n:,i]),np.sum(utrace[:,i])) for i in range(utrace.shape[1])])"
   ]
  },
  {
   "cell_type": "markdown",
   "metadata": {},
   "source": [
    "Third Case: Time scales separated, different trafficking strategy\n",
    "------"
   ]
  },
  {
   "cell_type": "code",
   "execution_count": null,
   "metadata": {
    "collapsed": false,
    "jupyter": {
     "outputs_hidden": false
    }
   },
   "outputs": [],
   "source": [
    "# Distal inputs alone\n",
    "utarg = np.ones(len(seg_list))\n",
    "utarg[260:393] *= 10\n",
    "utarg[393:] *= 0.1 # no proximal trafficking\n",
    "utarg /= np.sum(utarg)\n",
    "\n",
    "# Run simulation\n",
    "initTime=time.time()\n",
    "A = get_sys_matrix(utarg,F=0,Ctau=2e-4,dv=1e-9)\n",
    "utrace = run_sim(A)\n",
    "FinalTime=time.time()-initTime\n",
    "\n",
    "# snapshot of steady-state\n",
    "snap_ss('3a')\n",
    "\n",
    "# animation\n",
    "#animate_sim()\n",
    "print(FinalTime)"
   ]
  },
  {
   "cell_type": "code",
   "execution_count": null,
   "metadata": {},
   "outputs": [],
   "source": [
    "(utrace.shape,[(np.sum(utrace[:n,i]),np.sum(utrace[n:,i]),np.sum(utrace[:,i])) for i in range(utrace.shape[1])])"
   ]
  },
  {
   "cell_type": "code",
   "execution_count": null,
   "metadata": {
    "collapsed": false,
    "jupyter": {
     "outputs_hidden": false
    }
   },
   "outputs": [],
   "source": [
    "# Distal and Proximal together\n",
    "utarg = np.ones(len(seg_list))\n",
    "utarg[:393] *= 10\n",
    "utarg[393:] *= 0.1 # no proximal trafficking\n",
    "utarg /= np.sum(utarg)\n",
    "\n",
    "# Run simulation\n",
    "initTime=time.time()\n",
    "A = get_sys_matrix(utarg,F=0,Ctau=5e-4)\n",
    "utrace = run_sim(A)\n",
    "FinalTime=time.time()-initTime\n",
    "\n",
    "# snapshot of steady-state\n",
    "snap_ss('3b')\n",
    "\n",
    "# animation\n",
    "#animate_sim()\n",
    "print(FinalTime)"
   ]
  },
  {
   "cell_type": "code",
   "execution_count": null,
   "metadata": {},
   "outputs": [],
   "source": [
    "(utrace.shape,[(np.sum(utrace[:n,i]),np.sum(utrace[n:,i]),np.sum(utrace[:,i])) for i in range(utrace.shape[1])])"
   ]
  },
  {
   "cell_type": "code",
   "execution_count": null,
   "metadata": {},
   "outputs": [],
   "source": [
    "(utrace.shape,utarg.shape)"
   ]
  },
  {
   "cell_type": "code",
   "execution_count": null,
   "metadata": {},
   "outputs": [],
   "source": [
    "utrace[743:753,10]"
   ]
  },
  {
   "cell_type": "markdown",
   "metadata": {},
   "source": [
    "Third Case: protein + RNA\n",
    "----"
   ]
  },
  {
   "cell_type": "code",
   "execution_count": null,
   "metadata": {},
   "outputs": [],
   "source": [
    "initTime=time.time()\n",
    "A,u,t,excess,err = sushibelt.run_uniform_reattachment(h, 0.1,0.1, 5, 50.0, 1e-5,1e-5,1e-6,1e-6)\n",
    "FinalTime=time.time()-initTime\n",
    "print(FinalTime)\n",
    "#sushibelt.snapshots(h,u,t,'plots/with_reattach',cellname,view,u_cmap,us_cmap)\n",
    "#print 'excess cargo = %2.1f percent'%(excess[-1])"
   ]
  },
  {
   "cell_type": "code",
   "execution_count": null,
   "metadata": {},
   "outputs": [],
   "source": [
    "u0 = np.zeros(4*n+1)\n",
    "u0[-1] = 1.0  # the last compartment defining translation constant\n",
    "initTime=time.time()\n",
    "utrace = [u0]\n",
    "w,V = scipy.linalg.eig(A)\n",
    "Vinv = np.linalg.inv(V)\n",
    "#t = np.logspace(-0.5,8.5,nframes)\n",
    "for t_ in t[1:]: utrace.append(solve_u(w,V,Vinv,t_))\n",
    "\n",
    "FinalTime=time.time()-initTime\n",
    "print(FinalTime)\n"
   ]
  },
  {
   "cell_type": "code",
   "execution_count": null,
   "metadata": {},
   "outputs": [],
   "source": [
    "A.shape"
   ]
  },
  {
   "cell_type": "code",
   "execution_count": null,
   "metadata": {},
   "outputs": [],
   "source": [
    "t.shape"
   ]
  },
  {
   "cell_type": "code",
   "execution_count": null,
   "metadata": {},
   "outputs": [],
   "source": [
    "u.shape"
   ]
  },
  {
   "cell_type": "code",
   "execution_count": null,
   "metadata": {},
   "outputs": [],
   "source": [
    "utrc = np.array(utrace)"
   ]
  },
  {
   "cell_type": "code",
   "execution_count": null,
   "metadata": {},
   "outputs": [],
   "source": [
    "t"
   ]
  },
  {
   "cell_type": "code",
   "execution_count": null,
   "metadata": {},
   "outputs": [],
   "source": [
    "?math.log"
   ]
  },
  {
   "cell_type": "code",
   "execution_count": null,
   "metadata": {},
   "outputs": [],
   "source": [
    "1e5/(60*24)"
   ]
  },
  {
   "cell_type": "code",
   "execution_count": null,
   "metadata": {},
   "outputs": [],
   "source": [
    "solve_u(w,V,Vinv,0)"
   ]
  },
  {
   "cell_type": "code",
   "execution_count": null,
   "metadata": {},
   "outputs": [],
   "source": [
    "nframes=50\n",
    "t = np.logspace(-0.5,8.5,nframes)\n",
    "t.shape"
   ]
  },
  {
   "cell_type": "markdown",
   "metadata": {},
   "source": [
    "cvals=utrace[:,-1]\n",
    "cvals.shape"
   ]
  },
  {
   "cell_type": "code",
   "execution_count": null,
   "metadata": {},
   "outputs": [],
   "source": [
    "(1484/len(seg_list),len(seg_list))"
   ]
  },
  {
   "cell_type": "code",
   "execution_count": null,
   "metadata": {},
   "outputs": [],
   "source": [
    "t.shape"
   ]
  },
  {
   "cell_type": "code",
   "execution_count": null,
   "metadata": {},
   "outputs": [],
   "source": [
    "[d/4 for d in A.shape]"
   ]
  },
  {
   "cell_type": "code",
   "execution_count": null,
   "metadata": {},
   "outputs": [],
   "source": [
    "(1484*2,A.shape)"
   ]
  },
  {
   "cell_type": "code",
   "execution_count": null,
   "metadata": {},
   "outputs": [],
   "source": [
    "max(dts)"
   ]
  },
  {
   "cell_type": "code",
   "execution_count": null,
   "metadata": {},
   "outputs": [],
   "source": [
    "from PyNeuronToolbox.morphology import shapeplot, allsec_preorder, root_indices, shapeplot_animate\n",
    "roots = root_indices(allsec_preorder(h))\n",
    "roots"
   ]
  },
  {
   "cell_type": "code",
   "execution_count": null,
   "metadata": {},
   "outputs": [],
   "source": [
    "import pandas as pd\n",
    "fitdt = pd.read_csv('data/Distr.csv')"
   ]
  },
  {
   "cell_type": "code",
   "execution_count": null,
   "metadata": {},
   "outputs": [],
   "source": [
    "idx = []\n",
    "for i in range(n):\n",
    "    if abs(dts[i]-100)<1 :\n",
    "        idx.append(1)\n",
    "    else:\n",
    "        idx.append(0)\n",
    "sum(idx)"
   ]
  },
  {
   "cell_type": "code",
   "execution_count": null,
   "metadata": {},
   "outputs": [],
   "source": [
    "[ (i,j) for i in range(fitdt.shape[0]) for j in range(n) if abs(dts[j]-fitdt['X'][i])<1 ]"
   ]
  },
  {
   "cell_type": "code",
   "execution_count": null,
   "metadata": {},
   "outputs": [],
   "source": [
    "type(fitdt)"
   ]
  },
  {
   "cell_type": "code",
   "execution_count": null,
   "metadata": {},
   "outputs": [],
   "source": [
    "seg_idx = [(i, j) for i in range(fitdt.shape[0]) for j in range(n) if abs(dts[j] - fitdt['X'][i]) < 1]\n",
    "len(seg_idx)"
   ]
  },
  {
   "cell_type": "code",
   "execution_count": null,
   "metadata": {},
   "outputs": [],
   "source": [
    "inum=3\n",
    "ix=[ i for i in range(3*inum)]\n",
    "(ix[:inum],ix[inum:2*inum],ix[2*inum:])"
   ]
  },
  {
   "cell_type": "code",
   "execution_count": null,
   "metadata": {},
   "outputs": [],
   "source": [
    "[ max(u[:,r]) for r in range(u.shape[0])]"
   ]
  },
  {
   "cell_type": "code",
   "execution_count": null,
   "metadata": {},
   "outputs": [],
   "source": [
    "range(u.shape[1])"
   ]
  },
  {
   "cell_type": "code",
   "execution_count": null,
   "metadata": {},
   "outputs": [],
   "source": [
    "    clim=[0,0.00022]\n",
    "    uplt = u[:,n:2*n]\n",
    "    uplt = uplt.T\n",
    "    fig = plt.figure(figsize=(8,8))\n",
    "    shapeax = plt.subplot(111, projection='3d')\n",
    "    lines = shapeplot(h,shapeax,cvals=uplt[:,1],clim=clim,\\\n",
    "                      cmap=plt.cm.cool,order='pre',lw=2)\n",
    "    shapeax.view_init(elev=80,azim=-90)\n",
    "    plt.title('free RNA 1',fontweight='bold',fontsize=14)\n",
    "\n",
    "    # colorbar\n",
    "    sm = cm.ScalarMappable(cmap=plt.cm.cool, norm=plt.Normalize(clim[0],clim[1])) \n",
    "    #sm = plt.cm.ScalarMappable(cmap=plt.cm.cool, norm=plt.Normalize(clim[0],clim[1])) \n",
    "    #sm._A = []\n",
    "    #plt.colorbar(sm, shrink=0.5)\n",
    "    #plt.colorbar(sm,cax=shapeax)\n",
    "    #plt.colorbar()\n",
    "    plt.tight_layout()\n",
    "    plt.axis('off')\n"
   ]
  },
  {
   "cell_type": "code",
   "execution_count": null,
   "metadata": {},
   "outputs": [],
   "source": [
    "    clim=[0,0.00022]\n",
    "    uplt = u[:,:n]\n",
    "    uplt = uplt.T\n",
    "    fig = plt.figure(figsize=(8,8))\n",
    "    shapeax = plt.subplot(111, projection='3d')\n",
    "    lines = shapeplot(h,shapeax,cvals=uplt[:,-1],clim=clim,\\\n",
    "                      cmap=plt.cm.cool,order='pre',lw=2)\n",
    "    shapeax.view_init(elev=80,azim=-90)\n",
    "    plt.title('bounded RNA -1',fontweight='bold',fontsize=14)\n",
    "\n",
    "    # colorbar\n",
    "    sm = cm.ScalarMappable(cmap=plt.cm.cool, norm=plt.Normalize(clim[0],clim[1])) \n",
    "    #sm = plt.cm.ScalarMappable(cmap=plt.cm.cool, norm=plt.Normalize(clim[0],clim[1])) \n",
    "    #sm._A = []\n",
    "    #plt.colorbar(sm, shrink=0.5)\n",
    "    #plt.colorbar(sm,cax=shapeax)\n",
    "    #plt.colorbar()\n",
    "    plt.tight_layout()\n",
    "    plt.axis('off')\n"
   ]
  },
  {
   "cell_type": "code",
   "execution_count": null,
   "metadata": {},
   "outputs": [],
   "source": [
    "    clim=[0,0.00022]\n",
    "    uplt = u[:,2*n:3*n]\n",
    "    uplt = uplt.T\n",
    "    fig = plt.figure(figsize=(8,8))\n",
    "    shapeax = plt.subplot(111, projection='3d')\n",
    "    lines = shapeplot(h,shapeax,cvals=uplt[:,-1],clim=clim,\\\n",
    "                      cmap=plt.cm.cool,order='pre',lw=2)\n",
    "    shapeax.view_init(elev=80,azim=-90)\n",
    "    plt.title('bound protein -1',fontweight='bold',fontsize=14)\n",
    "\n",
    "    # colorbar\n",
    "    sm = cm.ScalarMappable(cmap=plt.cm.cool, norm=plt.Normalize(clim[0],clim[1])) \n",
    "    #sm = plt.cm.ScalarMappable(cmap=plt.cm.cool, norm=plt.Normalize(clim[0],clim[1])) \n",
    "    #sm._A = []\n",
    "    #plt.colorbar(sm, shrink=0.5)\n",
    "    #plt.colorbar(sm,cax=shapeax)\n",
    "    #plt.colorbar()\n",
    "    plt.tight_layout()\n",
    "    plt.axis('off')\n"
   ]
  },
  {
   "cell_type": "code",
   "execution_count": null,
   "metadata": {},
   "outputs": [],
   "source": [
    "    clim=[0,0.00022]\n",
    "    uplt = u[:,3*n:]\n",
    "    uplt = uplt.T\n",
    "    fig = plt.figure(figsize=(8,8))\n",
    "    shapeax = plt.subplot(111, projection='3d')\n",
    "    lines = shapeplot(h,shapeax,cvals=uplt[:,-1],clim=clim,\\\n",
    "                      cmap=plt.cm.cool,order='pre',lw=2)\n",
    "    shapeax.view_init(elev=80,azim=-90)\n",
    "    plt.title('free protein -1',fontweight='bold',fontsize=14)\n",
    "\n",
    "    # colorbar\n",
    "    sm = cm.ScalarMappable(cmap=plt.cm.cool, norm=plt.Normalize(clim[0],clim[1])) \n",
    "    #sm = plt.cm.ScalarMappable(cmap=plt.cm.cool, norm=plt.Normalize(clim[0],clim[1])) \n",
    "    #sm._A = []\n",
    "    #plt.colorbar(sm, shrink=0.5)\n",
    "    #plt.colorbar(sm,cax=shapeax)\n",
    "    #plt.colorbar()\n",
    "    plt.tight_layout()\n",
    "    plt.axis('off')\n"
   ]
  },
  {
   "cell_type": "markdown",
   "metadata": {},
   "source": [
    "Read Experimental Data\n",
    "----"
   ]
  },
  {
   "cell_type": "code",
   "execution_count": null,
   "metadata": {},
   "outputs": [],
   "source": [
    "tdf=pd.read_csv('seg_mapping.csv')\n",
    "abbCA1=tdf['abb']\n",
    "abbT={}\n",
    "segIdx={}\n",
    "for i in range(n):\n",
    "    abbT[abbCA1[i]] = 1+ abbT.get(abbCA1[i],0)\n",
    "    ll=segIdx.get(abbCA1[i],[])\n",
    "    ll.append(i)\n",
    "    segIdx[abbCA1[i]] = ll\n",
    "\n",
    "(abbCA1,abbT,segIdx.keys(),{k:len(segIdx.get(k)) for k in segIdx.keys()})"
   ]
  },
  {
   "cell_type": "code",
   "execution_count": null,
   "metadata": {},
   "outputs": [],
   "source": [
    "expD=pd.read_csv('data/CA1_gradient.csv')\n",
    "expD"
   ]
  },
  {
   "cell_type": "code",
   "execution_count": null,
   "metadata": {},
   "outputs": [],
   "source": []
  },
  {
   "cell_type": "code",
   "execution_count": null,
   "metadata": {},
   "outputs": [],
   "source": [
    "(ss.volume(),ss.x)"
   ]
  },
  {
   "cell_type": "code",
   "execution_count": null,
   "metadata": {},
   "outputs": [],
   "source": [
    "seg_list[419].volume()"
   ]
  },
  {
   "cell_type": "code",
   "execution_count": null,
   "metadata": {},
   "outputs": [],
   "source": [
    "seg_idx = [(i, j,seg_list[j].volume()) for i in range(fitdt.shape[0]) for j in range(n) if abs(dts[j] - fitdt['X'][i]) < 1]\n",
    "seg_idx = np.array(seg_idx)\n",
    "seg_idx"
   ]
  },
  {
   "cell_type": "code",
   "execution_count": null,
   "metadata": {},
   "outputs": [],
   "source": [
    "u.shape"
   ]
  },
  {
   "cell_type": "code",
   "execution_count": null,
   "metadata": {},
   "outputs": [],
   "source": [
    "resp = np.zeros((fitdt.shape[0],u.shape[0]))\n",
    "resp.shape"
   ]
  },
  {
   "cell_type": "code",
   "execution_count": null,
   "metadata": {},
   "outputs": [],
   "source": [
    "resp = np.zeros((fitdt.shape[0],u.shape[0]))\n",
    "for i in range(seg_idx.shape[0]):\n",
    "    ii = int(seg_idx[i,0])\n",
    "    ij = int(seg_idx[i,1])\n",
    "    resp[ii] += u[:,ij].T\n",
    "resp"
   ]
  },
  {
   "cell_type": "code",
   "execution_count": null,
   "metadata": {},
   "outputs": [],
   "source": [
    "dist = (resp-fitdt['V']) ** 2\n",
    "dist"
   ]
  },
  {
   "cell_type": "code",
   "execution_count": null,
   "metadata": {},
   "outputs": [],
   "source": [
    "fitdt['V']"
   ]
  },
  {
   "cell_type": "code",
   "execution_count": null,
   "metadata": {},
   "outputs": [],
   "source": [
    "[ sum((resp[:,i] - fitdt['V']) ** 2) for i in range(resp.shape[1])]"
   ]
  },
  {
   "cell_type": "code",
   "execution_count": null,
   "metadata": {},
   "outputs": [],
   "source": [
    "df=pd.DataFrame(utrace)\n",
    "?df.to_csv"
   ]
  },
  {
   "cell_type": "code",
   "execution_count": null,
   "metadata": {},
   "outputs": [],
   "source": []
  }
 ],
 "metadata": {
  "kernelspec": {
   "display_name": "Python 3 (ipykernel)",
   "language": "python",
   "name": "python3"
  },
  "language_info": {
   "codemirror_mode": {
    "name": "ipython",
    "version": 3
   },
   "file_extension": ".py",
   "mimetype": "text/x-python",
   "name": "python",
   "nbconvert_exporter": "python",
   "pygments_lexer": "ipython3",
   "version": "3.10.12"
  }
 },
 "nbformat": 4,
 "nbformat_minor": 4
}
