{
 "cells": [
  {
   "cell_type": "code",
   "execution_count": null,
   "metadata": {
    "ExecuteTime": {
     "end_time": "2024-02-01T04:36:14.473505Z",
     "start_time": "2024-02-01T04:36:13.685666Z"
    },
    "collapsed": false,
    "jupyter": {
     "outputs_hidden": false
    }
   },
   "outputs": [],
   "source": [
    "%%bash\n",
    "nrnivmodl"
   ]
  },
  {
   "cell_type": "code",
   "execution_count": null,
   "metadata": {
    "ExecuteTime": {
     "end_time": "2024-02-01T04:36:17.107428Z",
     "start_time": "2024-02-01T04:36:17.087940Z"
    },
    "collapsed": false,
    "jupyter": {
     "outputs_hidden": false
    }
   },
   "outputs": [],
   "source": [
    "# Download NEURON: http://www.neuron.yale.edu/neuron/download\n",
    "# Download PyNeuronToolbox: https://github.com/ahwillia/PyNeuron-Toolbox\n",
    "\n",
    "from neuron import h\n",
    "import numpy as np\n",
    "import math\n",
    "import pylab as plt\n",
    "import scipy.linalg\n",
    "from PyNeuronToolbox.record import ez_record,ez_convert\n",
    "from PyNeuronToolbox.morphology import shapeplot,shapeplot_animate\n",
    "from mpl_toolkits.mplot3d import Axes3D\n",
    "from JSAnimation import IPython_display\n",
    "from matplotlib import animation\n",
    "from matplotlib.pyplot import cm\n",
    "import warnings\n",
    "warnings.filterwarnings('ignore', category=SyntaxWarning)\n",
    "%matplotlib inline\n",
    "np.random.seed(123456789)\n",
    "\n",
    "DC = 10 # diffusion coeff [microns^2 s^-1]\n",
    "\n",
    "# Load morphology and other stuff\n",
    "# --> SegLists: soma[2], dend[74], dend_5[37], apic[42], axon[1]\n",
    "# --> Files from Migliore & Migliore (2012)\n",
    "# --> CA1 pyramidal neuron\n",
    "h.load_file('stdrun.hoc')\n",
    "h.xopen('ri06.hoc')\n",
    "h.xopen('fixnseg.hoc')\n",
    "h.xopen('5a_nogui.hoc')\n",
    "h.tstop = 700.0"
   ]
  },
  {
   "cell_type": "code",
   "execution_count": null,
   "metadata": {
    "collapsed": false,
    "jupyter": {
     "outputs_hidden": false
    }
   },
   "outputs": [],
   "source": [
    "from PyNeuronToolbox.morphology import dist_between,allsec_preorder\n",
    "\n",
    "def dist_to_soma(segment):\n",
    "    return dist_between(h,h.soma[0](0.5),segment)\n",
    "\n",
    "#seglist in pre-order\n",
    "sec_list = allsec_preorder(h)\n",
    "seg_list = []\n",
    "for sec in sec_list:\n",
    "    locs = np.linspace(0,1,sec.nseg+2)[1:-1]\n",
    "    for loc in locs:\n",
    "        seg_list.append(sec(loc))\n",
    "n = len(seg_list)"
   ]
  },
  {
   "cell_type": "code",
   "execution_count": null,
   "metadata": {},
   "outputs": [],
   "source": [
    "for i in range(len(sec_list)):\n",
    "    sec = sec_list[i]\n",
    "    print(f\"{i}: {sec.name()}, nseg={sec.nseg}, L={sec.L}, or={sec.orientation()}, hname={sec.hname()}\")"
   ]
  },
  {
   "cell_type": "code",
   "execution_count": null,
   "metadata": {},
   "outputs": [],
   "source": [
    "(dist_to_soma(sec(0)),dist_to_soma(sec(1)),sec.L,np.linspace(0,1,sec.nseg+2),np.linspace(0,1,sec.nseg+2)[1:-1])"
   ]
  },
  {
   "cell_type": "code",
   "execution_count": null,
   "metadata": {},
   "outputs": [],
   "source": [
    "dts = [dist_to_soma(s) for s in seg_list]\n",
    "dts[:11]"
   ]
  },
  {
   "cell_type": "code",
   "execution_count": null,
   "metadata": {},
   "outputs": [],
   "source": [
    "import re\n",
    "import pandas as pd\n",
    "p = re.compile(\"^([^\\\\[]+)\\\\[.+\")\n",
    "tps = [p.sub(\"\\\\1\",seg.sec.name()) for seg in seg_list]\n",
    "pd.Series(tps).drop_duplicates().tolist()"
   ]
  },
  {
   "cell_type": "code",
   "execution_count": null,
   "metadata": {
    "collapsed": false,
    "jupyter": {
     "outputs_hidden": false
    }
   },
   "outputs": [],
   "source": [
    "def sushi_system(a,b,c,d,l):\n",
    "    \"\"\"\n",
    "    Returns a matrix A, such that dx/dt = A*x\n",
    "    \n",
    "    N = # of compartments\n",
    "    A is (2N x 2N) matrix\n",
    "    x is (2N x 1) vector.\n",
    "      The first N elements correspond to concentrations of u (molecules in transit)\n",
    "      The second half correspond to concentrations of u-star (active molecules)\n",
    "    The trafficking rate constants along the microtubules are given by the vectors \"a\" and \"b\"\n",
    "    The rate constants for u turning into u* is given by the vector \"c\"\n",
    "    The rate constants for u* turning into u is given by the vector \"d\"\n",
    "    The rate constants for the degradation of u* is given by the vector \"l\"\n",
    "    \"\"\"\n",
    "    # number of compartments\n",
    "    N = len(l)\n",
    "    \n",
    "    ## State-space equations\n",
    "    #  dx/dt = Ax + Bu\n",
    "    A = np.zeros((2*N,2*N))\n",
    "\n",
    "    # Trafficking along belt\n",
    "    # Iterative traversal of dendritic tree in pre-order\n",
    "    i = 0\n",
    "    section = None\n",
    "    parentStack = [(None,h.soma[0])]\n",
    "    while len(parentStack)>0:\n",
    "        # Get next section to traverse\n",
    "        #  --> p is parent index, section is h.Section object\n",
    "        (p,section) = parentStack.pop()\n",
    "        \n",
    "        # Trafficking to/from parent\n",
    "        if p is not None:\n",
    "            # Out of parent, into child\n",
    "            ai = a.pop()\n",
    "            A[p,p] += -ai\n",
    "            A[i,p] += ai\n",
    "            # Into parent, out of child\n",
    "            bi = b.pop()\n",
    "            A[p,i] += bi\n",
    "            A[i,i] += -bi\n",
    "        \n",
    "        # visit all segments in compartment\n",
    "        for (j,seg) in enumerate(section):\n",
    "            # Deal with out/into rates within compartment, just tridiag matrix\n",
    "            if j>0:\n",
    "                # Out of parent, into child\n",
    "                ai = a.pop()\n",
    "                A[i-1,i-1] += -ai\n",
    "                A[i,i-1] += ai\n",
    "                # Into parent, out of child\n",
    "                bi = b.pop()\n",
    "                A[i-1,i] += bi\n",
    "                A[i,i] += -bi\n",
    "            # move onto next compartment\n",
    "            i += 1\n",
    "        \n",
    "        # now visit children in pre-order\n",
    "        child_list = list(h.SectionRef(sec=section).child)\n",
    "        if child_list is not None:\n",
    "            child_list.reverse()\n",
    "        for c_sec in child_list:\n",
    "            parentStack.append([i-1,c_sec]) # append parent index and child\n",
    "    \n",
    "    # Trafficking off the belt\n",
    "    for i in range(N):\n",
    "        A[i,i] += -c[i]\n",
    "        A[i+N,i] += c[i]\n",
    "    \n",
    "    # Reattachment to belt\n",
    "    #for i in range(N):\n",
    "    #    # reattachment\n",
    "    #    A[i, i + N] += d[i]\n",
    "    #    A[i + N, i + N] += -d[i]\n",
    "\n",
    "    # Degradation after being taken off the belt\n",
    "    for i in range(N):\n",
    "        A[i+N,i+N] = -l[i]\n",
    "    \n",
    "    return A"
   ]
  },
  {
   "cell_type": "code",
   "execution_count": null,
   "metadata": {
    "collapsed": false,
    "jupyter": {
     "outputs_hidden": false
    }
   },
   "outputs": [],
   "source": [
    "def trafficking_solution(utarg):\n",
    "    \"\"\" Solve the problem by tuning trafficking rates, like Figs 1 and 2. \"\"\"\n",
    "    x = []\n",
    "    \n",
    "    # Iterative traversal of dendritic tree in pre-order\n",
    "    i = 0\n",
    "    section = None\n",
    "    parentStack = [(None,h.soma[0])]\n",
    "    while len(parentStack)>0:\n",
    "        # Get next section to traverse\n",
    "        #  --> p is parent index, section is h.Section object\n",
    "        (p,section) = parentStack.pop()\n",
    "        \n",
    "        # Trafficking to/from parent\n",
    "        if p is not None:\n",
    "            mp = utarg[p] # concentration in parent\n",
    "            mc = utarg[i] # concentration in child\n",
    "            x.insert(0,mp/mc)\n",
    "        \n",
    "        # visit all segments in compartment\n",
    "        for (j,seg) in enumerate(section):\n",
    "            # Deal with out/into rates within compartment, just tridiag matrix\n",
    "            if j>0:\n",
    "                mp = utarg[i-1]\n",
    "                mc = utarg[i]\n",
    "                x.insert(0,mp/mc)\n",
    "                \n",
    "            # move onto next compartment\n",
    "            i += 1\n",
    "        \n",
    "        # now visit children in pre-order\n",
    "        child_list = list(h.SectionRef(sec=section).child)\n",
    "        if child_list is not None:\n",
    "            child_list.reverse()\n",
    "        for c_sec in child_list:\n",
    "            parentStack.append([i-1,c_sec]) # append parent index and child\n",
    "    \n",
    "    # return calculated guesses (flip, up/down since get_deriv pops from start)\n",
    "    return np.array(x)\n",
    "\n",
    "def get_sys_matrix(utarg,F=0.5,Ctau=1e-3,dscale=0.1,dv=1e-7):\n",
    "    # F is a mixing factor between 0 and 1\n",
    "    K = np.sum(utarg)/n\n",
    "    x = trafficking_solution(F*utarg + (1-F)*K)\n",
    "    a = (1/(1+x))\n",
    "    a = list(a)\n",
    "    b = list((1/(1+x**-1)))\n",
    "    l = list(np.ones(n)*dv)\n",
    "    c = list(Ctau*utarg/(F*utarg + (1-F)*K))\n",
    "    d = list([ci * dscale for ci in c])\n",
    "    A = sushi_system(a,b,c,d,l)\n",
    "    return A"
   ]
  },
  {
   "cell_type": "code",
   "execution_count": null,
   "metadata": {
    "collapsed": false,
    "jupyter": {
     "outputs_hidden": false
    }
   },
   "outputs": [],
   "source": [
    "# matrix exponential used to solve linear system\n",
    "from scipy.linalg import expm\n",
    "\n",
    "# initial condition, u starts only in soma and is trafficked out to dendrites\n",
    "u0 = np.zeros(2*n)\n",
    "u0[0] = 1.0  # compartment 0 is the soma"
   ]
  },
  {
   "cell_type": "code",
   "execution_count": null,
   "metadata": {
    "collapsed": false,
    "jupyter": {
     "outputs_hidden": false
    }
   },
   "outputs": [],
   "source": [
    "def solve_u(u0,w,V,Vinv,t):\n",
    "    D = np.diag(np.exp(w*t))          # diagonal matrix exponential\n",
    "    PHI = np.real(V.dot(D.dot(Vinv))) # state transition matrix\n",
    "    return PHI.dot(u0)                # calculate u(t)\n",
    "\n",
    "def sim_time(A,u0,time,nframes=10):\n",
    "    # Run a simulation (log time)\n",
    "    # --> this is a linear system; thus, matrix exponential provides exact solution\n",
    "    utrace = [u0]\n",
    "    w,V = scipy.linalg.eig(A)\n",
    "    Vinv = np.linalg.inv(V)\n",
    "    t = np.logspace(-0.5,math.log10(time),nframes)\n",
    "    for t_ in t: utrace.append(solve_u(u0,w,V,Vinv,t_))\n",
    "    return np.array(utrace).T\n",
    "\n",
    "\n",
    "def run_sim(A,nframes=10):\n",
    "    # Run a simulation (log time)\n",
    "    # --> this is a linear system; thus, matrix exponential provides exact solution\n",
    "    utrace = [u0]\n",
    "    t = np.logspace(-0.5,8.5,nframes)\n",
    "    w,V = scipy.linalg.eig(A)\n",
    "    Vinv = np.linalg.inv(V)\n",
    "    t = np.logspace(-0.5,8.5,nframes)\n",
    "    for t_ in t: utrace.append(solve_u(w,V,Vinv,t_))\n",
    "    return np.array(utrace).T\n",
    "\n",
    "def animate_sim(climits=[0,0.0035]):\n",
    "    u = utrace[n:,:]\n",
    "    fig = plt.figure(figsize=(8,8))\n",
    "    shapeax = plt.subplot(111, projection='3d')\n",
    "    lines = shapeplot(h,shapeax,order='pre',lw=2)\n",
    "    shapeax.view_init(elev=80,azim=-90)\n",
    "    plt.title('distribution of active/detached cargo',fontweight='bold',fontsize=14)\n",
    "    plt.axis('off')\n",
    "\n",
    "    # Hack to get a colorbar\n",
    "    # http://stackoverflow.com/questions/8342549/matplotlib-add-colorbar-to-a-sequence-of-line-plots\n",
    "    sm = plt.cm.ScalarMappable(cmap=plt.cm.cool, norm=plt.Normalize(climits[0],climits[1])) \n",
    "    #sm._A = []\n",
    "    #plt.colorbar(sm, shrink=0.5)\n",
    "    #plt.colorbar(sm)\n",
    "    plt.tight_layout()\n",
    "\n",
    "    anim_func = shapeplot_animate(u.T,lines,u.shape[1],clim=climits,cmap=cm.cool)\n",
    "    return animation.FuncAnimation(fig, anim_func, frames=u.shape[1], interval=5e2, blit=True)\n",
    "\n",
    "def snap_ss(name,clim=[0,0.0035],cmap=plt.cm.cool):\n",
    "    u = utrace[n:,:]\n",
    "    fig = plt.figure(figsize=(8,8))\n",
    "    shapeax = plt.subplot(111, projection='3d')\n",
    "    lines = shapeplot(h,shapeax,cvals=u[:,-1],clim=clim,\\\n",
    "                      cmap=cmap,order='pre',lw=2)\n",
    "    shapeax.view_init(elev=80,azim=-90)\n",
    "    plt.title('steady-state',fontweight='bold',fontsize=14)\n",
    "\n",
    "    # colorbar\n",
    "    sm = cm.ScalarMappable(cmap=cmap, norm=plt.Normalize(clim[0],clim[1])) \n",
    "    #sm = plt.cm.ScalarMappable(cmap=plt.cm.cool, norm=plt.Normalize(clim[0],clim[1])) \n",
    "    #sm._A = []\n",
    "    #plt.colorbar(sm, shrink=0.5)\n",
    "    #plt.colorbar(sm,cax=shapeax)\n",
    "    #plt.colorbar()\n",
    "    plt.tight_layout()\n",
    "    plt.axis('off')\n",
    "    #plt.savefig(name+'.svg')"
   ]
  },
  {
   "cell_type": "markdown",
   "metadata": {},
   "source": [
    "Read Experimental Data\n",
    "----"
   ]
  },
  {
   "cell_type": "code",
   "execution_count": null,
   "metadata": {},
   "outputs": [],
   "source": [
    "tdf=pd.read_csv('../data/seg_mapping.csv')\n",
    "abbCA1=tdf['abb']\n",
    "abbT={}\n",
    "segIdx={}\n",
    "for i in range(n):\n",
    "    abbT[abbCA1[i]] = 1+ abbT.get(abbCA1[i],0)\n",
    "    ll=segIdx.get(abbCA1[i],[])\n",
    "    ll.append(i)\n",
    "    segIdx[abbCA1[i]] = ll\n",
    "\n",
    "(abbCA1,abbT,segIdx.keys(),{k:len(segIdx.get(k)) for k in segIdx.keys()})"
   ]
  },
  {
   "cell_type": "code",
   "execution_count": null,
   "metadata": {},
   "outputs": [],
   "source": [
    "expD=pd.read_csv('../data/CA1_gradient.csv')\n",
    "subreg = ['CA1so', 'CA1sr', 'CA1slm']\n",
    "expD"
   ]
  },
  {
   "cell_type": "code",
   "execution_count": null,
   "metadata": {},
   "outputs": [],
   "source": [
    "import sys\n",
    "sys.path.append('../')\n",
    "import sushibelt\n",
    "import time"
   ]
  },
  {
   "cell_type": "code",
   "execution_count": null,
   "metadata": {},
   "outputs": [],
   "source": [
    "utarg = np.ones(len(seg_list))\n",
    "for i in range(expD.shape[0]):\n",
    "    abb = expD['Abbreviation'][i]\n",
    "    sidx= segIdx[abb]\n",
    "    utarg[sidx] *= i\n",
    "u1 = np.concatenate((utarg,utarg))\n",
    "utrace = [u1,u1]\n",
    "utrace = np.array(utrace).T\n",
    "snap_ss(f\"segment_distribution\",clim=[0,max(utarg)],cmap=plt.cm.YlOrBr)\n",
    "max(utarg)"
   ]
  },
  {
   "cell_type": "code",
   "execution_count": null,
   "metadata": {},
   "outputs": [],
   "source": [
    "utarg = np.ones(len(seg_list))\n",
    "for i in range(expD.shape[0]):\n",
    "    abb = expD['Abbreviation'][i]\n",
    "    \n",
    "    sidx= segIdx[abb]\n",
    "    utarg[sidx] *= [j for j in range(len(subreg)) if subreg[j]== expD['Subregion'][i]][0]\n",
    "u1 = np.concatenate((utarg,utarg))\n",
    "utrace = [u1,u1]\n",
    "utrace = np.array(utrace).T\n",
    "snap_ss(f\"subregion_distribution\",clim=[0,max(utarg)],cmap=plt.cm.YlOrBr)\n",
    "max(utarg)"
   ]
  },
  {
   "cell_type": "markdown",
   "metadata": {},
   "source": [
    "Day 0 3 weeks\n",
    "------"
   ]
  },
  {
   "cell_type": "code",
   "execution_count": null,
   "metadata": {},
   "outputs": [],
   "source": [
    "cname='D0W3'\n",
    "utarg = np.ones(len(seg_list))\n",
    "for i in range(expD.shape[0]):\n",
    "    abb = expD['Abbreviation'][i]\n",
    "    sidx= segIdx[abb]\n",
    "    utarg[sidx] *= expD[f\"{cname}_MEAN\"][i]/len(sidx)\n",
    "u1 = np.concatenate((utarg,utarg))\n",
    "utrace = [u1,u1]\n",
    "utrace = np.array(utrace).T\n",
    "max(utarg)"
   ]
  },
  {
   "cell_type": "code",
   "execution_count": null,
   "metadata": {},
   "outputs": [],
   "source": [
    "x=np.array(range(expD.shape[0]),dtype=int)\n",
    "nobsD0 = np.array(expD[f\"{cname}_MEAN\"])#/np.sum(expD[f\"{cname}_MEAN\"])\n",
    "plt.plot(x,nobsD0,label=cname)\n",
    "plt.show()"
   ]
  },
  {
   "cell_type": "code",
   "execution_count": null,
   "metadata": {},
   "outputs": [],
   "source": [
    "cname='D7W3'\n",
    "obsD = np.ones(len(seg_list))\n",
    "for i in range(expD.shape[0]):\n",
    "    abb = expD['Abbreviation'][i]\n",
    "    sidx= segIdx[abb]\n",
    "    obsD[sidx] *= expD[f\"{cname}_MEAN\"][i]/len(sidx)\n",
    "nobsD = np.array(expD[f\"{cname}_MEAN\"])#/np.sum(expD[f\"{cname}_MEAN\"])\n",
    "uD = np.concatenate((obsD,obsD))\n",
    "utrace = [uD,uD]\n",
    "utrace = np.array(utrace).T\n",
    "max(obsD)"
   ]
  },
  {
   "cell_type": "code",
   "execution_count": null,
   "metadata": {},
   "outputs": [],
   "source": [
    "x=np.array(range(expD.shape[0]),dtype=int)\n",
    "\n",
    "plt.plot(x,nobsD0,label=cname)\n",
    "plt.plot(x,nobsD,label='detached DC')\n",
    "plt.show()"
   ]
  },
  {
   "cell_type": "code",
   "execution_count": null,
   "metadata": {},
   "outputs": [],
   "source": [
    "diF=abs(uD-u1)\n",
    "utrace = [diF,diF]\n",
    "utrace = np.array(utrace).T\n",
    "(min(diF),max(diF))"
   ]
  },
  {
   "cell_type": "code",
   "execution_count": null,
   "metadata": {},
   "outputs": [],
   "source": [
    "cname='D7M3'\n",
    "obsD = np.ones(len(seg_list))\n",
    "resMo = np.zeros(expD.shape[0])\n",
    "resFo = np.zeros(expD.shape[0])\n",
    "for i in range(expD.shape[0]):\n",
    "    abb = expD['Abbreviation'][i]\n",
    "    sidx= segIdx[abb]\n",
    "    obsD[sidx] *= expD[f\"{cname}_MEAN\"][i]\n",
    "    resMo[i] = np.sum(utrace[sidx,-1])\n",
    "    resFo[i] = np.sum(utrace[[j+n for j in sidx],-1])\n",
    "nobsD = np.array(expD[f\"{cname}_MEAN\"])/np.sum(expD[f\"{cname}_MEAN\"])\n",
    "nobsDnn = np.array(expD[f\"{cname}_MEAN\"])/np.sum(expD[\"D0M3_MEAN\"])\n",
    "nobsDsd = np.array(expD[f\"{cname}_SD\"])/np.sum(expD[\"D0M3_MEAN\"])\n",
    "nresM = resMo/np.sum(resMo)\n",
    "nresF = resFo/np.sum(resFo)\n",
    "(nobsD,nresM,nresF,nobsDnn,nobsDsd)"
   ]
  },
  {
   "cell_type": "code",
   "execution_count": null,
   "metadata": {},
   "outputs": [],
   "source": [
    "itarg = np.ones(len(seg_list), dtype=int)\n",
    "par = [1000,0,0,0,1,2,3,4]\n",
    "for i in range(expD.shape[0]):\n",
    "    abb = expD['Abbreviation'][i]\n",
    "    sidx = segIdx[abb]\n",
    "    itarg[sidx] *= [j + 3 for j in range(len(subreg)) if subreg[j] == expD['Subregion'][i]][0]\n",
    "utarg = [par[j] for j in itarg]\n"
   ]
  },
  {
   "cell_type": "code",
   "execution_count": null,
   "metadata": {},
   "outputs": [],
   "source": [
    "bgSignal = 1e-5\n",
    "day7 = 7 * 24 * 3600 # final time point\n",
    "\n",
    "def calcUtrace(par,delta=bgSignal):\n",
    "    F = par[0]\n",
    "    Ctau = 10 ** par[1]\n",
    "    mProp = par[2]\n",
    "    dv = np.zeros(n)\n",
    "    utarg = delta*np.ones(n)\n",
    "    for k in range(n):\n",
    "        if itarg[k] > 2:\n",
    "            dv[k] = 10 ** par[itarg[k]]\n",
    "            utarg[k] = par[itarg[k]+3]\n",
    "    utarg /= np.sum(utarg)\n",
    "    K = np.sum(utarg) / n\n",
    "    x = trafficking_solution(F * utarg + (1 - F) * K)\n",
    "    a = (1 / (1 + x))\n",
    "    a = list(a)\n",
    "    b = list((1 / (1 + x ** -1)))\n",
    "    l = list(dv)\n",
    "    c = list(Ctau * utarg / (F * utarg + (1 - F) * K))\n",
    "    d = list(np.zeros(n))\n",
    "    A = sushi_system(a, b, c, d, l)\n",
    "    u0 = np.concatenate((mProp * dinit, (1 - mProp) * dinit))\n",
    "    utrace = sim_time(A, u0, day7)\n",
    "    return utrace\n",
    "\n",
    "cname='D0M3'\n",
    "d0w = np.ones(n)\n",
    "for i in range(expD.shape[0]):\n",
    "    abb = expD['Abbreviation'][i]\n",
    "    sidx= segIdx[abb]\n",
    "    d0w[sidx] *= expD[f\"{cname}_MEAN\"][i]/len(sidx)\n",
    "dinit = d0w/np.sum(d0w)\n",
    "#par = [0.29465728385098655,-2.46803964145224,0.586395975556826,-5.286521134624552,-5.408070983691747,-5.779005887950339,0.9999999999999953,0.427256332241015,0.001]\n",
    "#par = [0.29465728385098655,-2.46803964145224,0.5863959753760672,-5.286521134642408,-5.408070983925882,-5.7790058879511825,0.9999999999999928,0.4272563322410141,0.001]\n",
    "#cost=0.03871\n",
    "#par = [0.0,-2.847372550934951,0.20430623530833164,-5.754630055624563,-5.8321723784857635,-6.0649088262203215,0.9999999999999993,0.9550522528085269,0.001]\n",
    "#cost = 0.00010140231658948862\n",
    "#par = [0.0,-2.847372550934951,0.20430623530833114,-5.754630053000959,-5.832172379474677,-6.064908828218014,1.0,0.955052252808502,0.001]\n",
    "#cost = 0.00010140231658946115\n",
    "par = [0.999012635491613,-9.361703560541367,0.9976298142299469,-5.748708930176829,-5.897369376187479,-6.065761766702373,0.9999999999999993,0.9999999999999993,0.0010000000038804917]\n",
    "cost = 0.00015575301605738785\n",
    "mProp = par[2]\n",
    "utrace = calcUtrace(par)\n",
    "resM, resF = sushibelt.aggregate_segments(utrace[:, -1], segIdx, expD['Abbreviation'], fun=np.sum)\n"
   ]
  },
  {
   "cell_type": "code",
   "execution_count": null,
   "metadata": {},
   "outputs": [],
   "source": [
    "{'F' : par[0],\n",
    "'Ctau' : 10 ** par[1],\n",
    "'mProp' : par[2],\n",
    "'dv_CA1so': 10 ** par[3],\n",
    "'dv_CA1sr': 10 ** par[4],\n",
    "'dv_CA1slm': 10 ** par[5],\n",
    "'demand_CA1so': par[6],\n",
    "'demand_CA1sr': par[7],\n",
    "'demand_CA1slm': par[8],\n",
    "'sum_nobsDnn' : np.sum(nobsDnn),\n",
    "'sum_nobsDnn^2' : np.sum(nobsDnn ** 2),\n",
    "'sum_resM' : np.sum(resM),\n",
    "'sum_resF' : np.sum(resF),\n",
    "'sum_tot' : np.sum(resF)+np.sum(resM),\n",
    "'err' : np.sum((resF/(1-mProp) - nobsDnn) ** 2),\n",
    "'err_norm' : np.sum((resF/(1-mProp) - nobsDnn) ** 2)/np.sum(nobsDnn ** 2),\n",
    "'chi2' : np.sum(((resF/(1-mProp) - nobsDnn)/nobsDsd) ** 2),\n",
    "'cost' : cost\n",
    "}"
   ]
  },
  {
   "cell_type": "code",
   "execution_count": null,
   "metadata": {},
   "outputs": [],
   "source": [
    "Nvals=10\n",
    "([1.0 * i/Nvals for i in range(Nvals+1)],(resF/(1-mProp) - nobsDnn),(resF/(1-mProp) - nobsDnn)/nobsDsd)"
   ]
  },
  {
   "cell_type": "code",
   "execution_count": null,
   "metadata": {},
   "outputs": [],
   "source": [
    "parnames=['F','Ctau','dv','mProp','demand_CA1so','demand_CA1sr','demand_CA1slm']\n",
    "Nvals = 4\n",
    "parvals = [1.0 * i/Nvals for i in range(Nvals+1)]\n",
    "numPar=len(parnames)\n",
    "lowb=np.array([0, -18, -18, 1e-3, 1e-3, 1e-3, 1e-3])\n",
    "upbga=np.array([1, -1, -1, 1, 1, 1, 1])\n",
    "\n",
    "def prepPar(cpar,pn,pval,pidx,bidx):\n",
    "    lpar = np.zeros(numPar)\n",
    "    lpar[pidx] = pval\n",
    "    for j in range(numPar - 1):\n",
    "        lpar[bidx[j]] = cpar[j]\n",
    "    return lpar\n",
    "\n",
    "i = 0\n",
    "j = 0\n",
    "pn, pv = (parnames[i],parvals[j])\n",
    "pidx=[i for i in range(numPar) if parnames[i]==pn][0]\n",
    "pval=lowb[pidx]+(upbga[pidx]-lowb[pidx])*pv\n",
    "bidx= [i for i in range(numPar) if i != pidx]\n",
    "clowb=lowb[bidx]\n",
    "cupbga=upbga[bidx]\n",
    "cpar = [i+0.1 for i in range(numPar-1)]\n",
    "lpar = prepPar(cpar,pn,pval,pidx,bidx)\n",
    "{'numPar' : numPar,\n",
    " 'Nvals' : Nvals,\n",
    " 'parvals' : parvals,\n",
    " 'pn' : pn,\n",
    " 'pv' : pv,\n",
    " 'pidx' : pidx,\n",
    " 'pval' : pval,\n",
    " 'bidx' : bidx,\n",
    " 'cpar' : cpar,\n",
    " 'lpar' : lpar\n",
    "}"
   ]
  },
  {
   "cell_type": "code",
   "execution_count": null,
   "metadata": {},
   "outputs": [],
   "source": [
    "pDF = pd.DataFrame(lpar).T\n",
    "pDF.index = [55]\n",
    "pDF"
   ]
  },
  {
   "cell_type": "code",
   "execution_count": null,
   "metadata": {},
   "outputs": [],
   "source": [
    "x=np.array(range(expD.shape[0]),dtype=int)\n",
    "\n",
    "plt.plot(x,nobsDnn,label='Target')\n",
    "#plt.plot(x,nresM,label='mobile O')\n",
    "#plt.plot(x,nresF,label='detached O')\n",
    "plt.plot(x,resM,label='mobile DC')\n",
    "plt.plot(x,resF,label='detached DC')\n",
    "plt.ylabel('Value')\n",
    "plt.xlabel('Region number')\n",
    "plt.yscale(\"log\")\n",
    "# show a legend on the plot\n",
    "plt.legend()\n",
    "plt.title(f\"Cost = {cost}\") \n",
    "# function to show the plot\n",
    "plt.show()\n",
    "#plt.savefig('bestFitCA1_3dv_20240603.png')\n",
    "#plt.savefig('bestFitCA1_3dv_20240603.pdf')\n",
    "#plt.savefig('bestFitCA1_3dv_20240603.svg')\n"
   ]
  },
  {
   "cell_type": "code",
   "execution_count": null,
   "metadata": {},
   "outputs": [],
   "source": [
    "fig, ax = plt.subplots()\n",
    "ax.plot(x,nobsDnn,'o-',label='D7M3')\n",
    "#plt.plot(x,nresM,label='mobile O')\n",
    "#plt.plot(x,nresF,label='detached O')\n",
    "ax.plot(x,resF/(1-mProp),label='detached norm DC')\n",
    "ax.set_xlabel('Region number')\n",
    "ax.set_ylabel('Value')\n",
    "ax.set_xticks(x,expD['Abbreviation'],rotation=90)\n",
    "# show a legend on the plot\n",
    "ax.legend()\n",
    "pos = ax.get_position()\n",
    "ax.set_position([pos.x0, pos.y0 + pos.height*0.15, pos.width , pos.height* 0.85])\n",
    "#plt.title(f\"Cost = {cost}\") \n",
    "plt.title(f\"Cost = {format(cost,'.4g')}, $\\chi^2$ = {format(np.sum(((resF/(1-mProp) - nobsDnn)/nobsDsd) ** 2),'.4g')}\") \n",
    "# function to show the plot\n",
    "plt.show()\n",
    "#plt.savefig('bestFitCA1_3dv_20240603.fit.png')\n",
    "#plt.savefig('bestFitCA1_3dv_20240603.fit.pdf')\n",
    "#plt.savefig('bestFitCA1_3dv_20240603.fit.svg')\n"
   ]
  },
  {
   "cell_type": "code",
   "execution_count": null,
   "metadata": {},
   "outputs": [],
   "source": [
    "fig, ax = plt.subplots()\n",
    "ax.plot(x,resM,label='mobile DC')\n",
    "ax.plot(x,resF,label='detached DC')\n",
    "ax.set_yscale(\"log\")\n",
    "ax.set_xlabel('Region number')\n",
    "ax.set_ylabel('Value')\n",
    "ax.set_xticks(x,expD['Abbreviation'],rotation=90)\n",
    "# show a legend on the plot\n",
    "ax.legend()\n",
    "pos = ax.get_position()\n",
    "ax.set_position([pos.x0, pos.y0 + pos.height*0.15, pos.width , pos.height* 0.85])\n",
    "#plt.title(f\"Cost = {cost}\") \n",
    "plt.title(f\"Cost = {format(cost,'.4g')}, $\\chi^2$ = {format(np.sum(((resF/(1-mProp) - nobsDnn)/nobsDsd) ** 2),'.4g')}\") \n",
    "# function to show the plot\n",
    "plt.show()"
   ]
  },
  {
   "cell_type": "code",
   "execution_count": null,
   "metadata": {},
   "outputs": [],
   "source": [
    "F = par[0]\n",
    "Ctau = 10 ** par[1]\n",
    "mProp = par[2]\n",
    "dv = np.zeros(n)\n",
    "utarg = bgSignal*np.ones(n)\n",
    "for k in range(n):\n",
    "    if itarg[k] > 2:\n",
    "        dv[k] = 10 ** par[itarg[k]]\n",
    "        utarg[k] = par[itarg[k]+3]\n",
    "    else:\n",
    "        dv[k] = np.nan\n",
    "        utarg[k] = np.nan\n",
    "#utarg /= np.sum(utarg)\n",
    "bfit, afit = np.polyfit(par[6:], 10 ** np.array(par[3:6]), deg=1)\n",
    "xseq = np.linspace(min(par[6:]), max(par[6:]), num=100)\n",
    "#plt.scatter(utarg,dv)\n",
    "fig, ax = plt.subplots(figsize = (9, 9))\n",
    "ax.scatter(par[6:], 10 ** np.array(par[3:6]))\n",
    "ax.plot(xseq, afit + bfit * xseq, color=\"k\", lw=2.5)\n",
    "pos = ax.get_position()\n",
    "#ax.text(pos.x0, pos.y0 + pos.height, f'LR equation: $Y = {round(afit*1e6,3)}'+'\\\\ 10^{-6}'+f' + {round(bfit*1e6,3)}'+'\\\\ 10^{-6}\\\\ X$', fontsize=10)\n",
    "ax.text(0.2,1.85e-6, f'LR equation: $Y = {round(afit*1e6,3)}'+'\\\\ 10^{-6}'+f' + {round(bfit*1e6,3)}'+'\\\\ 10^{-6}\\\\ X$', fontsize=10)\n",
    "plt.xlabel('Demand value')\n",
    "plt.ylabel('Degradation rate')\n",
    "plt.show()\n",
    "#plt.savefig('bestFitCA1_3dv_scatter_20240601.png')\n",
    "#plt.savefig('bestFitCA1_3dv_scatter_20240601.pdf')\n",
    "#plt.savefig('bestFitCA1_3dv_scatter_20240601.svg')\n"
   ]
  },
  {
   "cell_type": "code",
   "execution_count": null,
   "metadata": {},
   "outputs": [],
   "source": [
    "(xseq, afit + bfit * xseq,pos)"
   ]
  },
  {
   "cell_type": "code",
   "execution_count": null,
   "metadata": {},
   "outputs": [],
   "source": [
    "bfit, afit = np.polyfit(par[6:], 10 ** np.array(par[3:6]), deg=1)\n",
    "plt.plot(xseq, afit + bfit * xseq, color=\"k\", lw=2.5)\n",
    "(bfit, afit,f'LR equation: $Y = {round(afit*1e6,3)}'+'\\\\ 10^{-6}'+f' + {round(bfit*1e6,3)}'+'\\\\ 10^{-6}\\\\ X$')"
   ]
  },
  {
   "cell_type": "markdown",
   "metadata": {},
   "source": [
    "Day 7 3 weeks\n",
    "----"
   ]
  },
  {
   "cell_type": "code",
   "execution_count": null,
   "metadata": {},
   "outputs": [],
   "source": [
    "cname='D7W3'\n",
    "utarg = np.ones(len(seg_list))\n",
    "for i in range(expD.shape[0]):\n",
    "    abb = expD['Abbreviation'][i]\n",
    "    sidx= segIdx[abb]\n",
    "    utarg[sidx] *= expD[f\"{cname}_MEAN\"][i]\n",
    "u1 = np.concatenate((utarg,utarg))\n",
    "utrace = [u1,u1]\n",
    "utrace = np.array(utrace).T\n",
    "snap_ss(f\"case1_{cname}_target\",clim=[0,max(utarg)],cmap=plt.cm.YlOrBr)\n",
    "max(utarg)"
   ]
  }
 ],
 "metadata": {
  "kernelspec": {
   "display_name": "Python 3 (ipykernel)",
   "language": "python",
   "name": "python3"
  },
  "language_info": {
   "codemirror_mode": {
    "name": "ipython",
    "version": 3
   },
   "file_extension": ".py",
   "mimetype": "text/x-python",
   "name": "python",
   "nbconvert_exporter": "python",
   "pygments_lexer": "ipython3",
   "version": "3.13.5"
  }
 },
 "nbformat": 4,
 "nbformat_minor": 4
}
