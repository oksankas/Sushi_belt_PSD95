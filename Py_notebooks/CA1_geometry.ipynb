{
 "cells": [
  {
   "cell_type": "code",
   "execution_count": null,
   "metadata": {
    "ExecuteTime": {
     "end_time": "2024-02-01T04:36:14.473505Z",
     "start_time": "2024-02-01T04:36:13.685666Z"
    },
    "collapsed": false,
    "jupyter": {
     "outputs_hidden": false
    }
   },
   "outputs": [],
   "source": [
    "%%bash\n",
    "nrnivmodl"
   ]
  },
  {
   "cell_type": "code",
   "execution_count": null,
   "metadata": {
    "ExecuteTime": {
     "end_time": "2024-02-01T04:36:17.107428Z",
     "start_time": "2024-02-01T04:36:17.087940Z"
    },
    "collapsed": false,
    "jupyter": {
     "outputs_hidden": false
    }
   },
   "outputs": [],
   "source": [
    "# Download NEURON: http://www.neuron.yale.edu/neuron/download\n",
    "# Download PyNeuronToolbox: https://github.com/ahwillia/PyNeuron-Toolbox\n",
    "\n",
    "from neuron import h\n",
    "import numpy as np\n",
    "import pylab as plt\n",
    "import scipy.linalg\n",
    "from PyNeuronToolbox.record import ez_record,ez_convert\n",
    "from PyNeuronToolbox.morphology import shapeplot,shapeplot_animate\n",
    "from mpl_toolkits.mplot3d import Axes3D\n",
    "from JSAnimation import IPython_display\n",
    "from matplotlib import animation\n",
    "from matplotlib.pyplot import cm\n",
    "import warnings\n",
    "warnings.filterwarnings('ignore', category=SyntaxWarning)\n",
    "%matplotlib inline\n",
    "np.random.seed(123456789)\n",
    "\n",
    "# Load morphology and other stuff\n",
    "# --> SegLists: soma[2], dend[74], dend_5[37], apic[42], axon[1]\n",
    "# --> Files from Migliore & Migliore (2012)\n",
    "# --> CA1 pyramidal neuron\n",
    "h.load_file('stdrun.hoc')\n",
    "h.xopen('ri06.hoc')\n",
    "h.xopen('fixnseg.hoc')\n",
    "h.xopen('5a_nogui.hoc')\n",
    "h.tstop = 700.0"
   ]
  },
  {
   "cell_type": "code",
   "execution_count": null,
   "metadata": {
    "collapsed": false,
    "jupyter": {
     "outputs_hidden": false
    }
   },
   "outputs": [],
   "source": [
    "from PyNeuronToolbox.morphology import dist_between,allsec_preorder\n",
    "\n",
    "def dist_to_soma(segment):\n",
    "    return dist_between(h,h.soma[0](0.5),segment)\n",
    "\n",
    "#seglist in pre-order\n",
    "sec_list = allsec_preorder(h)\n",
    "seg_list = []\n",
    "for sec in sec_list:\n",
    "    locs = np.linspace(0,1,sec.nseg+2)[1:-1]\n",
    "    for loc in locs:\n",
    "        seg_list.append(sec(loc))\n",
    "n = len(seg_list)"
   ]
  },
  {
   "cell_type": "code",
   "execution_count": null,
   "metadata": {},
   "outputs": [],
   "source": [
    "secL=np.zeros(len(sec_list))\n",
    "secD=np.zeros(len(sec_list))\n",
    "segL=np.zeros(len(sec_list))\n",
    "for i in range(len(sec_list)):\n",
    "    sec = sec_list[i]\n",
    "    secL[i]=sec.L\n",
    "    secD[i]=sec.diam\n",
    "    segL[i]=sec.L/sec.nseg\n",
    "    print(f\"{i}: {sec.name()}, nseg={sec.nseg}, L={sec.L}, D={sec.diam}, l={sec.L/sec.nseg}, or={sec.orientation()}, hname={sec.hname()}\")\n",
    "segA=h.PI*secD*segL\n",
    "segV=h.PI*secD**2*segL/4\n"
   ]
  },
  {
   "cell_type": "code",
   "execution_count": null,
   "metadata": {},
   "outputs": [],
   "source": [
    "(min(segL),max(segL),min(secD),max(secD))"
   ]
  },
  {
   "cell_type": "code",
   "execution_count": null,
   "metadata": {},
   "outputs": [],
   "source": [
    "x=np.array(range(len(sec_list)),dtype=int)\n",
    "plt.plot(x,segL,label='length')\n",
    "plt.plot(x,secD,label='diameter')\n",
    "#plt.plot(x,segA,label='area')\n",
    "#plt.plot(x,segV,label='volume')\n",
    "plt.ylabel('Value')\n",
    "plt.xlabel('Section number')\n",
    "# show a legend on the plot\n",
    "plt.legend()\n",
    "plt.show()"
   ]
  },
  {
   "cell_type": "code",
   "execution_count": null,
   "metadata": {},
   "outputs": [],
   "source": [
    "plt.scatter(segL,secD)\n",
    "plt.xlabel('Length')\n",
    "plt.ylabel('Diameter')\n",
    "plt.show()"
   ]
  },
  {
   "cell_type": "code",
   "execution_count": null,
   "metadata": {},
   "outputs": [],
   "source": [
    "plt.scatter(segL,segA)\n",
    "plt.xlabel('Length')\n",
    "plt.ylabel('Area')\n",
    "plt.show()"
   ]
  },
  {
   "cell_type": "code",
   "execution_count": null,
   "metadata": {},
   "outputs": [],
   "source": [
    "plt.scatter(segA,segV)\n",
    "plt.xlabel('Area')\n",
    "plt.ylabel('Volume')\n",
    "plt.show()"
   ]
  },
  {
   "cell_type": "code",
   "execution_count": null,
   "metadata": {},
   "outputs": [],
   "source": [
    "(dist_to_soma(sec(0)),dist_to_soma(sec(1)),sec.L,np.linspace(0,1,sec.nseg+2),np.linspace(0,1,sec.nseg+2)[1:-1])"
   ]
  },
  {
   "cell_type": "code",
   "execution_count": null,
   "metadata": {},
   "outputs": [],
   "source": [
    "dts = [dist_to_soma(s) for s in seg_list]\n",
    "dts[:11]"
   ]
  },
  {
   "cell_type": "code",
   "execution_count": null,
   "metadata": {},
   "outputs": [],
   "source": [
    "import re\n",
    "import pandas as pd\n",
    "p = re.compile(\"^([^\\\\[]+)\\\\[.+\")\n",
    "tps = [p.sub(\"\\\\1\",seg.sec.name()) for seg in seg_list]\n",
    "pd.Series(tps).drop_duplicates().tolist()"
   ]
  },
  {
   "cell_type": "code",
   "execution_count": null,
   "metadata": {},
   "outputs": [],
   "source": [
    "seg = seg_list[0]\n",
    "(seg.node_index(),seg.x,seg.sec)"
   ]
  },
  {
   "cell_type": "code",
   "execution_count": null,
   "metadata": {},
   "outputs": [],
   "source": [
    "(n,min(dts),max(dts))"
   ]
  },
  {
   "cell_type": "code",
   "execution_count": null,
   "metadata": {
    "collapsed": false,
    "jupyter": {
     "outputs_hidden": false
    }
   },
   "outputs": [],
   "source": [
    "# matrix exponential used to solve linear system\n",
    "from scipy.linalg import expm\n",
    "\n",
    "# initial condition, u starts only in soma and is trafficked out to dendrites\n",
    "u0 = np.zeros(2*n)\n",
    "u0[0] = 1.0  # compartment 0 is the soma"
   ]
  },
  {
   "cell_type": "code",
   "execution_count": null,
   "metadata": {
    "collapsed": false,
    "jupyter": {
     "outputs_hidden": false
    }
   },
   "outputs": [],
   "source": [
    "def snap_ss(name,clim=[0,0.0035],cmap=plt.cm.cool,title='steady-state',clabel=\"Color Mapping\",bg='w',fs=(8,8),ext='png',show=True):\n",
    "    u = utrace[n:,:]\n",
    "    view = (-90,90)\n",
    "    fig = plt.figure(figsize=fs,facecolor=bg)\n",
    "    shapeax = plt.subplot(111, projection='3d')\n",
    "    lines = shapeplot(h,shapeax,#sections=model.cell.dend,\n",
    "                      cvals=u[:,-1],clim=clim,\n",
    "                      cmap=cmap,order='pre',lw=2)\n",
    "    #mark_locations(h,model.cell.soma[0], 0.45, color='k', ms=10)\n",
    "    shapeax.view_init(*view)\n",
    "    if bg=='black':\n",
    "        ct = 'w'\n",
    "    else:\n",
    "        ct = 'black'\n",
    "    plt.title(title,fontweight='bold',fontsize=14,color=ct)\n",
    "\n",
    "    # colorbar\n",
    "    sm = cm.ScalarMappable(cmap=cmap, norm=plt.Normalize(clim[0],clim[1])) \n",
    "    plt.colorbar(sm, ax=shapeax, shrink=0.75, ticks=np.linspace(clim[0],clim[1], 7), label=clabel)\n",
    "    plt.tight_layout()\n",
    "    shapeax.set_facecolor(bg)\n",
    "    plt.axis('off')\n",
    "    #plt.savefig(name+'.'+ext)\n",
    "    if not(show):\n",
    "        plt.close()"
   ]
  },
  {
   "cell_type": "code",
   "execution_count": null,
   "metadata": {},
   "outputs": [],
   "source": [
    "u0"
   ]
  },
  {
   "cell_type": "code",
   "execution_count": null,
   "metadata": {},
   "outputs": [],
   "source": [
    "utrace = [u0]\n",
    "clr = [int(i / 37) for i in range(n)]\n",
    "utrace.append(np.array(clr+clr))\n",
    "utrace = np.array(utrace).T\n",
    "utrace.shape"
   ]
  },
  {
   "cell_type": "code",
   "execution_count": null,
   "metadata": {},
   "outputs": [],
   "source": [
    "fig, ax = plt.subplots()\n",
    "ax.scatter(dts,clr)\n",
    "ax.set_xlabel('Distance to soma')\n",
    "ax.set_ylabel('Segment group')"
   ]
  },
  {
   "cell_type": "code",
   "execution_count": null,
   "metadata": {},
   "outputs": [],
   "source": [
    "from PyNeuronToolbox.morphology import get_section_path, interpolate_jagged\n",
    "x=[]\n",
    "y=[]\n",
    "z=[]\n",
    "i=0\n",
    "for sec in sec_list:\n",
    "    xyz = get_section_path(h,sec)\n",
    "    seg_paths = interpolate_jagged(xyz,sec.nseg)\n",
    "    for (j,path) in enumerate(seg_paths):\n",
    "        x.append(path[0,0])\n",
    "        y.append(path[0,1])\n",
    "        z.append(path[0,2])\n",
    "        i += 1\n",
    "    \n",
    "(i,(min(x),max(x)),(min(y),max(y)),(min(z),max(z)))"
   ]
  },
  {
   "cell_type": "code",
   "execution_count": null,
   "metadata": {},
   "outputs": [],
   "source": [
    "#bins=np.array([-165,-127.5,-90,-52.5,-15,10,52.14285714,94.28571429,136.4285714,178.5714286,220.7142857,262.8571429,305,347.1428571,389.2857143,431.4285714,473.5714286,515.7142857,557.8571429,600])\n",
    "bins=np.array([-127.5,-90,-52.5,-10,5,52.14285714,94.28571429,136.4285714,178.5714286,220.7142857,262.8571429,305,347.1428571,389.2857143,431.4285714,473.5714286,515.7142857,557.8571429])\n",
    "result = np.digitize(np.array(y), bins)\n",
    "(len(result),len(bins),result)"
   ]
  },
  {
   "cell_type": "code",
   "execution_count": null,
   "metadata": {},
   "outputs": [],
   "source": [
    "(min(result),max(result),len(np.concatenate([result,result])))"
   ]
  },
  {
   "cell_type": "code",
   "execution_count": null,
   "metadata": {},
   "outputs": [],
   "source": [
    "utrace = [u0]\n",
    "utrace.append(np.concatenate([result,result]))\n",
    "utrace = np.array(utrace).T\n",
    "utrace.shape"
   ]
  },
  {
   "cell_type": "code",
   "execution_count": null,
   "metadata": {},
   "outputs": [],
   "source": [
    "[result[:11],y[:11]]\n"
   ]
  },
  {
   "cell_type": "code",
   "execution_count": null,
   "metadata": {},
   "outputs": [],
   "source": [
    "# snapshot of steady-state\n",
    "#snap_ss('geom',clim=[0,20],cmap=plt.cm.YlOrBr_r)\n",
    "snap_ss(f\"CA1_segment_distribution88_075\",clim=[0,max(result)],cmap=plt.cm.YlOrBr,bg='lightgray',\n",
    "        title='Segment distribution',clabel='Segment number')\n",
    "#plt.axis('on')"
   ]
  },
  {
   "cell_type": "code",
   "execution_count": null,
   "metadata": {},
   "outputs": [],
   "source": [
    "#['soma', 'dend_5', 'apic', 'dend', 'axon']\n",
    "u1=np.zeros(2*n)\n",
    "for i in range(n):\n",
    "    if 'soma' == tps[i]:\n",
    "        u1[i+n] = 2\n",
    "        u1[i]=1\n",
    "\n",
    "utrace = [u1,u1]\n",
    "utrace = np.array(utrace).T\n",
    "snap_ss(f\"CA1_soma_segments_88_075\",clim=[0,max(u1)],cmap=plt.cm.YlOrBr,bg='lightgray',\n",
    "        title='Soma segments',clabel='Soma')\n",
    "#snap_ss('soma',clim=[0,2],cmap=plt.cm.YlOrBr)"
   ]
  },
  {
   "cell_type": "code",
   "execution_count": null,
   "metadata": {},
   "outputs": [],
   "source": [
    "#['soma', 'dend_5', 'apic', 'dend', 'axon']\n",
    "u1=-1*np.ones(2*n)\n",
    "for i in range(n):\n",
    "    if 'dend_5' == tps[i]:\n",
    "        u1[i+n] = 2\n",
    "        u1[i]= 1\n",
    "\n",
    "utrace = [u1,u1]\n",
    "utrace = np.array(utrace).T\n",
    "snap_ss(f\"CA1_dend_5_segments_88_075\",clim=[0,max(u1)],cmap=plt.cm.YlOrBr,bg='lightgray',\n",
    "        title='dend_5 segments',clabel='dend_5')\n",
    "#snap_ss('dend_5',clim=[0,2],cmap=plt.cm.YlOrBr)"
   ]
  },
  {
   "cell_type": "code",
   "execution_count": null,
   "metadata": {},
   "outputs": [],
   "source": [
    "#['soma', 'dend_5', 'apic', 'dend', 'axon']\n",
    "u1=np.zeros(2*n)\n",
    "for i in range(n):\n",
    "    if 'apic' == tps[i]:\n",
    "        u1[i+n] = 2\n",
    "        u1[i]= 1\n",
    "\n",
    "utrace = [u1,u1]\n",
    "utrace = np.array(utrace).T\n",
    "snap_ss(f\"CA1_apic_segments_88_075\",clim=[0,max(u1)],cmap=plt.cm.YlOrBr,bg='lightgray',\n",
    "        title='Apic segments',clabel='Apic')\n",
    "#snap_ss('apic',clim=[0,2],cmap=plt.cm.YlOrBr)"
   ]
  },
  {
   "cell_type": "code",
   "execution_count": null,
   "metadata": {},
   "outputs": [],
   "source": [
    "#['soma', 'dend_5', 'apic', 'dend', 'axon']\n",
    "ddd=[]\n",
    "u1=np.zeros(2*n)\n",
    "for i in range(n):\n",
    "    if 'dend' == tps[i]:\n",
    "        u1[i+n] = 2\n",
    "        u1[i]= 1\n",
    "        ddd.append(dts[i])\n",
    "\n",
    "utrace = [u1,u1]\n",
    "utrace = np.array(utrace).T\n",
    "snap_ss(f\"CA1_dend_segments_88_075\",clim=[0,max(u1)],cmap=plt.cm.YlOrBr,bg='lightgray',\n",
    "        title='Dend segments',clabel='Dend')\n",
    "#snap_ss('dend',clim=[0,2],cmap=plt.cm.YlOrBr)"
   ]
  },
  {
   "cell_type": "code",
   "execution_count": null,
   "metadata": {},
   "outputs": [],
   "source": [
    "(min(u1),max(u1),min(ddd),max(ddd))"
   ]
  },
  {
   "cell_type": "code",
   "execution_count": null,
   "metadata": {},
   "outputs": [],
   "source": [
    "#['soma', 'dend_5', 'apic', 'dend', 'axon']\n",
    "u1=np.zeros(2*n)\n",
    "for i in range(n):\n",
    "    if 'axon' == tps[i]:\n",
    "        u1[i+n] = 2\n",
    "        u1[i]=1\n",
    "\n",
    "utrace = [u1,u1]\n",
    "utrace = np.array(utrace).T\n",
    "snap_ss(f\"CA1_Axon_segments_86_075\",clim=[0,max(u1)],cmap=plt.cm.YlOrBr,bg='lightgray',fs=(8,6),\n",
    "        title='Axon segments',clabel='Axon')\n",
    "#snap_ss('axon',clim=[0,2],cmap=plt.cm.YlOrBr)"
   ]
  },
  {
   "cell_type": "code",
   "execution_count": null,
   "metadata": {},
   "outputs": [],
   "source": [
    "for sec in sec_list:\n",
    "    print(f\"{sec.name()}: {sec.nseg}\")"
   ]
  },
  {
   "cell_type": "markdown",
   "metadata": {},
   "source": [
    "Read Experimental Data\n",
    "----"
   ]
  },
  {
   "cell_type": "code",
   "execution_count": null,
   "metadata": {},
   "outputs": [],
   "source": [
    "tdf=pd.read_csv('../data/seg_mapping.csv')\n",
    "abbCA1=tdf['abb']\n",
    "abbT={}\n",
    "segIdx={}\n",
    "for i in range(n):\n",
    "    abbT[abbCA1[i]] = 1+ abbT.get(abbCA1[i],0)\n",
    "    ll=segIdx.get(abbCA1[i],[])\n",
    "    ll.append(i)\n",
    "    segIdx[abbCA1[i]] = ll\n",
    "\n",
    "(abbCA1,abbT,segIdx.keys(),{k:len(segIdx.get(k)) for k in segIdx.keys()})"
   ]
  },
  {
   "cell_type": "code",
   "execution_count": null,
   "metadata": {},
   "outputs": [],
   "source": [
    "expD=pd.read_csv('../data/CA1_gradient.csv')\n",
    "expD"
   ]
  },
  {
   "cell_type": "code",
   "execution_count": null,
   "metadata": {},
   "outputs": [],
   "source": [
    "utarg = np.ones(len(seg_list))\n",
    "for i in range(expD.shape[0]):\n",
    "    abb = expD['Abbreviation'][i]\n",
    "    sidx= segIdx[abb]\n",
    "    utarg[sidx] *= i\n",
    "u1 = np.concatenate((utarg,utarg))\n",
    "utrace = [u1,u1]\n",
    "utrace = np.array(utrace).T\n",
    "snap_ss(f\"DG_section_distribution88_075\",clim=[0,max(utarg)],cmap=plt.cm.YlOrBr,fs=(8,6),\n",
    "        bg='lightgray',title='Section distribution',clabel='Section number')"
   ]
  },
  {
   "cell_type": "code",
   "execution_count": null,
   "metadata": {},
   "outputs": [],
   "source": []
  }
 ],
 "metadata": {
  "kernelspec": {
   "display_name": "Python 3 (ipykernel)",
   "language": "python",
   "name": "python3"
  },
  "language_info": {
   "codemirror_mode": {
    "name": "ipython",
    "version": 3
   },
   "file_extension": ".py",
   "mimetype": "text/x-python",
   "name": "python",
   "nbconvert_exporter": "python",
   "pygments_lexer": "ipython3",
   "version": "3.13.5"
  }
 },
 "nbformat": 4,
 "nbformat_minor": 4
}
